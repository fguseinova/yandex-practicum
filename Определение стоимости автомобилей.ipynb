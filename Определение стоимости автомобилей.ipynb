{
 "cells": [
  {
   "cell_type": "markdown",
   "metadata": {},
   "source": [
    "# Определение стоимости автомобилей"
   ]
  },
  {
   "cell_type": "markdown",
   "metadata": {},
   "source": [
    "## Описание проекта"
   ]
  },
  {
   "cell_type": "markdown",
   "metadata": {},
   "source": [
    "Сервис по продаже автомобилей с пробегом «Не бит, не крашен» разрабатывает приложение для привлечения новых клиентов. В нём можно быстро узнать рыночную стоимость своего автомобиля. В вашем распоряжении исторические данные: технические характеристики, комплектации и цены автомобилей. Вам нужно построить модель для определения стоимости. \n",
    "\n",
    "Заказчику важны:\n",
    "\n",
    "- качество предсказания;\n",
    "- скорость предсказания;\n",
    "- время обучения."
   ]
  },
  {
   "cell_type": "markdown",
   "metadata": {},
   "source": [
    "**Описание признаков**\n",
    "\n",
    "Признаки:\n",
    "- `DateCrawled` — дата скачивания анкеты из базы\n",
    "- `VehicleType` — тип автомобильного кузова\n",
    "- `RegistrationYear` — год регистрации автомобиля\n",
    "- `Gearbox` — тип коробки передач\n",
    "- `Power` — мощность (л. с.)\n",
    "- `Model` — модель автомобиля\n",
    "- `Kilometer` — пробег (км)\n",
    "- `RegistrationMonth` — месяц регистрации автомобиля\n",
    "- `FuelType` — тип топлива\n",
    "- `Brand` — марка автомобиля\n",
    "- `Repaired` — была машина в ремонте или нет\n",
    "- `DateCreated` — дата создания анкеты\n",
    "- `NumberOfPictures` — количество фотографий автомобиля\n",
    "- `PostalCode` — почтовый индекс владельца анкеты (пользователя)\n",
    "- `LastSeen` — дата последней активности пользователя\n",
    "\n",
    "Целевой признак:\n",
    "- `Price` — цена (евро)"
   ]
  },
  {
   "cell_type": "markdown",
   "metadata": {},
   "source": [
    "**План работы**:\n",
    "\n",
    "1. Подготовка данных:\n",
    "    1. Загрузить исходные данные.\n",
    "    1. Проверить корректность типов столбцов исходных данных.\n",
    "    1. Удалить нерелевантные для оценки рыночной стоимости авто данные.\n",
    "    1. Посмотреть на распределение данных и выявить аномалии.\n",
    "1. Подготовка выборок для обучения моделей.\n",
    "1. Обучение и анализ разных моделей:\n",
    "    1. Дерево решений\n",
    "    1. Случайный лес\n",
    "    1. Градиентный бустинг\n",
    "1. Выбор наилучшей модели на основе RMSE и скоростей обучения и предсказания."
   ]
  },
  {
   "cell_type": "markdown",
   "metadata": {},
   "source": [
    "## Подготовка данных"
   ]
  },
  {
   "cell_type": "markdown",
   "metadata": {},
   "source": [
    "### Импорт данных и библиотек"
   ]
  },
  {
   "cell_type": "code",
   "execution_count": 1,
   "metadata": {},
   "outputs": [],
   "source": [
    "# импорт библиотек для работы\n",
    "import pandas as pd\n",
    "import matplotlib.pyplot as plt\n",
    "import itertools\n",
    "from time import time\n",
    "\n",
    "from sklearn.model_selection import train_test_split\n",
    "from sklearn.preprocessing import StandardScaler, OrdinalEncoder\n",
    "from sklearn.metrics import mean_squared_error\n",
    "\n",
    "from sklearn.dummy import DummyRegressor\n",
    "from sklearn.linear_model import LinearRegression\n",
    "from sklearn.tree import DecisionTreeRegressor\n",
    "from sklearn.ensemble import RandomForestRegressor\n",
    "import lightgbm as lgb\n",
    "\n",
    "import warnings\n",
    "warnings.filterwarnings('ignore')"
   ]
  },
  {
   "cell_type": "code",
   "execution_count": 2,
   "metadata": {},
   "outputs": [],
   "source": [
    "RANDOM_STATE = 12345"
   ]
  },
  {
   "cell_type": "code",
   "execution_count": 3,
   "metadata": {},
   "outputs": [],
   "source": [
    "# загрузим файл с данными\n",
    "try:\n",
    "    data = pd.read_csv('/datasets/autos.csv')\n",
    "except:\n",
    "    # здесь была загрузка данных с Яндекса"
   ]
  },
  {
   "cell_type": "markdown",
   "metadata": {},
   "source": [
    "### Изучение данных"
   ]
  },
  {
   "cell_type": "code",
   "execution_count": 4,
   "metadata": {},
   "outputs": [
    {
     "data": {
      "text/plain": [
       "(354369, 16)"
      ]
     },
     "execution_count": 4,
     "metadata": {},
     "output_type": "execute_result"
    }
   ],
   "source": [
    "data.shape"
   ]
  },
  {
   "cell_type": "code",
   "execution_count": 5,
   "metadata": {},
   "outputs": [
    {
     "data": {
      "text/html": [
       "<div>\n",
       "<style scoped>\n",
       "    .dataframe tbody tr th:only-of-type {\n",
       "        vertical-align: middle;\n",
       "    }\n",
       "\n",
       "    .dataframe tbody tr th {\n",
       "        vertical-align: top;\n",
       "    }\n",
       "\n",
       "    .dataframe thead th {\n",
       "        text-align: right;\n",
       "    }\n",
       "</style>\n",
       "<table border=\"1\" class=\"dataframe\">\n",
       "  <thead>\n",
       "    <tr style=\"text-align: right;\">\n",
       "      <th></th>\n",
       "      <th>DateCrawled</th>\n",
       "      <th>Price</th>\n",
       "      <th>VehicleType</th>\n",
       "      <th>RegistrationYear</th>\n",
       "      <th>Gearbox</th>\n",
       "      <th>Power</th>\n",
       "      <th>Model</th>\n",
       "      <th>Kilometer</th>\n",
       "      <th>RegistrationMonth</th>\n",
       "      <th>FuelType</th>\n",
       "      <th>Brand</th>\n",
       "      <th>Repaired</th>\n",
       "      <th>DateCreated</th>\n",
       "      <th>NumberOfPictures</th>\n",
       "      <th>PostalCode</th>\n",
       "      <th>LastSeen</th>\n",
       "    </tr>\n",
       "  </thead>\n",
       "  <tbody>\n",
       "    <tr>\n",
       "      <th>0</th>\n",
       "      <td>2016-03-24 11:52:17</td>\n",
       "      <td>480</td>\n",
       "      <td>NaN</td>\n",
       "      <td>1993</td>\n",
       "      <td>manual</td>\n",
       "      <td>0</td>\n",
       "      <td>golf</td>\n",
       "      <td>150000</td>\n",
       "      <td>0</td>\n",
       "      <td>petrol</td>\n",
       "      <td>volkswagen</td>\n",
       "      <td>NaN</td>\n",
       "      <td>2016-03-24 00:00:00</td>\n",
       "      <td>0</td>\n",
       "      <td>70435</td>\n",
       "      <td>2016-04-07 03:16:57</td>\n",
       "    </tr>\n",
       "    <tr>\n",
       "      <th>1</th>\n",
       "      <td>2016-03-24 10:58:45</td>\n",
       "      <td>18300</td>\n",
       "      <td>coupe</td>\n",
       "      <td>2011</td>\n",
       "      <td>manual</td>\n",
       "      <td>190</td>\n",
       "      <td>NaN</td>\n",
       "      <td>125000</td>\n",
       "      <td>5</td>\n",
       "      <td>gasoline</td>\n",
       "      <td>audi</td>\n",
       "      <td>yes</td>\n",
       "      <td>2016-03-24 00:00:00</td>\n",
       "      <td>0</td>\n",
       "      <td>66954</td>\n",
       "      <td>2016-04-07 01:46:50</td>\n",
       "    </tr>\n",
       "    <tr>\n",
       "      <th>2</th>\n",
       "      <td>2016-03-14 12:52:21</td>\n",
       "      <td>9800</td>\n",
       "      <td>suv</td>\n",
       "      <td>2004</td>\n",
       "      <td>auto</td>\n",
       "      <td>163</td>\n",
       "      <td>grand</td>\n",
       "      <td>125000</td>\n",
       "      <td>8</td>\n",
       "      <td>gasoline</td>\n",
       "      <td>jeep</td>\n",
       "      <td>NaN</td>\n",
       "      <td>2016-03-14 00:00:00</td>\n",
       "      <td>0</td>\n",
       "      <td>90480</td>\n",
       "      <td>2016-04-05 12:47:46</td>\n",
       "    </tr>\n",
       "    <tr>\n",
       "      <th>3</th>\n",
       "      <td>2016-03-17 16:54:04</td>\n",
       "      <td>1500</td>\n",
       "      <td>small</td>\n",
       "      <td>2001</td>\n",
       "      <td>manual</td>\n",
       "      <td>75</td>\n",
       "      <td>golf</td>\n",
       "      <td>150000</td>\n",
       "      <td>6</td>\n",
       "      <td>petrol</td>\n",
       "      <td>volkswagen</td>\n",
       "      <td>no</td>\n",
       "      <td>2016-03-17 00:00:00</td>\n",
       "      <td>0</td>\n",
       "      <td>91074</td>\n",
       "      <td>2016-03-17 17:40:17</td>\n",
       "    </tr>\n",
       "    <tr>\n",
       "      <th>4</th>\n",
       "      <td>2016-03-31 17:25:20</td>\n",
       "      <td>3600</td>\n",
       "      <td>small</td>\n",
       "      <td>2008</td>\n",
       "      <td>manual</td>\n",
       "      <td>69</td>\n",
       "      <td>fabia</td>\n",
       "      <td>90000</td>\n",
       "      <td>7</td>\n",
       "      <td>gasoline</td>\n",
       "      <td>skoda</td>\n",
       "      <td>no</td>\n",
       "      <td>2016-03-31 00:00:00</td>\n",
       "      <td>0</td>\n",
       "      <td>60437</td>\n",
       "      <td>2016-04-06 10:17:21</td>\n",
       "    </tr>\n",
       "  </tbody>\n",
       "</table>\n",
       "</div>"
      ],
      "text/plain": [
       "           DateCrawled  Price VehicleType  RegistrationYear Gearbox  Power  \\\n",
       "0  2016-03-24 11:52:17    480         NaN              1993  manual      0   \n",
       "1  2016-03-24 10:58:45  18300       coupe              2011  manual    190   \n",
       "2  2016-03-14 12:52:21   9800         suv              2004    auto    163   \n",
       "3  2016-03-17 16:54:04   1500       small              2001  manual     75   \n",
       "4  2016-03-31 17:25:20   3600       small              2008  manual     69   \n",
       "\n",
       "   Model  Kilometer  RegistrationMonth  FuelType       Brand Repaired  \\\n",
       "0   golf     150000                  0    petrol  volkswagen      NaN   \n",
       "1    NaN     125000                  5  gasoline        audi      yes   \n",
       "2  grand     125000                  8  gasoline        jeep      NaN   \n",
       "3   golf     150000                  6    petrol  volkswagen       no   \n",
       "4  fabia      90000                  7  gasoline       skoda       no   \n",
       "\n",
       "           DateCreated  NumberOfPictures  PostalCode             LastSeen  \n",
       "0  2016-03-24 00:00:00                 0       70435  2016-04-07 03:16:57  \n",
       "1  2016-03-24 00:00:00                 0       66954  2016-04-07 01:46:50  \n",
       "2  2016-03-14 00:00:00                 0       90480  2016-04-05 12:47:46  \n",
       "3  2016-03-17 00:00:00                 0       91074  2016-03-17 17:40:17  \n",
       "4  2016-03-31 00:00:00                 0       60437  2016-04-06 10:17:21  "
      ]
     },
     "execution_count": 5,
     "metadata": {},
     "output_type": "execute_result"
    }
   ],
   "source": [
    "data.head()"
   ]
  },
  {
   "cell_type": "code",
   "execution_count": 6,
   "metadata": {},
   "outputs": [
    {
     "name": "stdout",
     "output_type": "stream",
     "text": [
      "<class 'pandas.core.frame.DataFrame'>\n",
      "RangeIndex: 354369 entries, 0 to 354368\n",
      "Data columns (total 16 columns):\n",
      " #   Column             Non-Null Count   Dtype \n",
      "---  ------             --------------   ----- \n",
      " 0   DateCrawled        354369 non-null  object\n",
      " 1   Price              354369 non-null  int64 \n",
      " 2   VehicleType        316879 non-null  object\n",
      " 3   RegistrationYear   354369 non-null  int64 \n",
      " 4   Gearbox            334536 non-null  object\n",
      " 5   Power              354369 non-null  int64 \n",
      " 6   Model              334664 non-null  object\n",
      " 7   Kilometer          354369 non-null  int64 \n",
      " 8   RegistrationMonth  354369 non-null  int64 \n",
      " 9   FuelType           321474 non-null  object\n",
      " 10  Brand              354369 non-null  object\n",
      " 11  Repaired           283215 non-null  object\n",
      " 12  DateCreated        354369 non-null  object\n",
      " 13  NumberOfPictures   354369 non-null  int64 \n",
      " 14  PostalCode         354369 non-null  int64 \n",
      " 15  LastSeen           354369 non-null  object\n",
      "dtypes: int64(7), object(9)\n",
      "memory usage: 43.3+ MB\n"
     ]
    }
   ],
   "source": [
    "data.info()"
   ]
  },
  {
   "cell_type": "code",
   "execution_count": 7,
   "metadata": {},
   "outputs": [],
   "source": [
    "data['DateCrawled'] = pd.to_datetime(data['DateCrawled'], format='%Y-%m-%d %H:%M:%S')\n",
    "data['DateCreated'] = pd.to_datetime(data['DateCreated'], format='%Y-%m-%d %H:%M:%S')\n",
    "data['LastSeen'] = pd.to_datetime(data['LastSeen'], format='%Y-%m-%d %H:%M:%S')"
   ]
  },
  {
   "cell_type": "code",
   "execution_count": 8,
   "metadata": {},
   "outputs": [
    {
     "name": "stdout",
     "output_type": "stream",
     "text": [
      "<class 'pandas.core.frame.DataFrame'>\n",
      "RangeIndex: 354369 entries, 0 to 354368\n",
      "Data columns (total 16 columns):\n",
      " #   Column             Non-Null Count   Dtype         \n",
      "---  ------             --------------   -----         \n",
      " 0   DateCrawled        354369 non-null  datetime64[ns]\n",
      " 1   Price              354369 non-null  int64         \n",
      " 2   VehicleType        316879 non-null  object        \n",
      " 3   RegistrationYear   354369 non-null  int64         \n",
      " 4   Gearbox            334536 non-null  object        \n",
      " 5   Power              354369 non-null  int64         \n",
      " 6   Model              334664 non-null  object        \n",
      " 7   Kilometer          354369 non-null  int64         \n",
      " 8   RegistrationMonth  354369 non-null  int64         \n",
      " 9   FuelType           321474 non-null  object        \n",
      " 10  Brand              354369 non-null  object        \n",
      " 11  Repaired           283215 non-null  object        \n",
      " 12  DateCreated        354369 non-null  datetime64[ns]\n",
      " 13  NumberOfPictures   354369 non-null  int64         \n",
      " 14  PostalCode         354369 non-null  int64         \n",
      " 15  LastSeen           354369 non-null  datetime64[ns]\n",
      "dtypes: datetime64[ns](3), int64(7), object(6)\n",
      "memory usage: 43.3+ MB\n"
     ]
    }
   ],
   "source": [
    "data.info()"
   ]
  },
  {
   "cell_type": "markdown",
   "metadata": {},
   "source": [
    "### Обработка дубликатов"
   ]
  },
  {
   "cell_type": "code",
   "execution_count": 9,
   "metadata": {},
   "outputs": [
    {
     "data": {
      "text/plain": [
       "4"
      ]
     },
     "execution_count": 9,
     "metadata": {},
     "output_type": "execute_result"
    }
   ],
   "source": [
    "# проверим наличие полных дубликатов в таблице\n",
    "data.duplicated().sum()"
   ]
  },
  {
   "cell_type": "code",
   "execution_count": 10,
   "metadata": {},
   "outputs": [
    {
     "data": {
      "text/plain": [
       "0"
      ]
     },
     "execution_count": 10,
     "metadata": {},
     "output_type": "execute_result"
    }
   ],
   "source": [
    "# удалим дубликаты из датасета, сбросив индексы\n",
    "data = data.drop_duplicates().reset_index(drop=True)\n",
    "\n",
    "data.duplicated().sum()"
   ]
  },
  {
   "cell_type": "markdown",
   "metadata": {},
   "source": [
    "### Удаление неинформативных столбцов"
   ]
  },
  {
   "cell_type": "markdown",
   "metadata": {},
   "source": [
    "Вероятнее всего, столбцы `DateCrawled`, `DateCreated`, `DateCreated` можно удалить, т.к. они касаются сбора данных, а не самих машин. Посмотрим на гистограммы и убедимся в том, что данные несильно разбросаны и действительно касаются сбора информации."
   ]
  },
  {
   "cell_type": "code",
   "execution_count": 11,
   "metadata": {},
   "outputs": [
    {
     "data": {
      "image/png": "[encoded data removed]",
      "text/plain": [
       "<Figure size 500x300 with 1 Axes>"
      ]
     },
     "metadata": {},
     "output_type": "display_data"
    }
   ],
   "source": [
    "data['DateCrawled'].hist(xrot=45, figsize=(5,3))\n",
    "plt.title('Гистограмма столбца DateCrawled')\n",
    "plt.xlabel('Год')\n",
    "plt.ylabel('Число появлений')\n",
    "plt.show()"
   ]
  },
  {
   "cell_type": "code",
   "execution_count": 12,
   "metadata": {},
   "outputs": [
    {
     "data": {
      "image/png": "[encoded data removed]",
      "text/plain": [
       "<Figure size 500x300 with 1 Axes>"
      ]
     },
     "metadata": {},
     "output_type": "display_data"
    }
   ],
   "source": [
    "data['DateCreated'].hist(xrot=45, figsize=(5,3))\n",
    "plt.title('Гистограмма столбца DateCreated')\n",
    "plt.xlabel('Год')\n",
    "plt.ylabel('Число появлений')\n",
    "plt.show()"
   ]
  },
  {
   "cell_type": "code",
   "execution_count": 13,
   "metadata": {},
   "outputs": [
    {
     "data": {
      "image/png": "[encoded data removed]",
      "text/plain": [
       "<Figure size 500x300 with 1 Axes>"
      ]
     },
     "metadata": {},
     "output_type": "display_data"
    }
   ],
   "source": [
    "data['LastSeen'].hist(xrot=45, figsize=(5,3))\n",
    "plt.title('Гистограмма столбца LastSeen')\n",
    "plt.xlabel('Год')\n",
    "plt.ylabel('Число появлений')\n",
    "plt.show()"
   ]
  },
  {
   "cell_type": "markdown",
   "metadata": {},
   "source": [
    "Удалим эти столбцы."
   ]
  },
  {
   "cell_type": "code",
   "execution_count": 14,
   "metadata": {},
   "outputs": [],
   "source": [
    "data = data.drop(columns=['DateCrawled', 'DateCreated', 'LastSeen'])"
   ]
  },
  {
   "cell_type": "code",
   "execution_count": 15,
   "metadata": {},
   "outputs": [
    {
     "data": {
      "text/html": [
       "<div>\n",
       "<style scoped>\n",
       "    .dataframe tbody tr th:only-of-type {\n",
       "        vertical-align: middle;\n",
       "    }\n",
       "\n",
       "    .dataframe tbody tr th {\n",
       "        vertical-align: top;\n",
       "    }\n",
       "\n",
       "    .dataframe thead th {\n",
       "        text-align: right;\n",
       "    }\n",
       "</style>\n",
       "<table border=\"1\" class=\"dataframe\">\n",
       "  <thead>\n",
       "    <tr style=\"text-align: right;\">\n",
       "      <th></th>\n",
       "      <th>Price</th>\n",
       "      <th>VehicleType</th>\n",
       "      <th>RegistrationYear</th>\n",
       "      <th>Gearbox</th>\n",
       "      <th>Power</th>\n",
       "      <th>Model</th>\n",
       "      <th>Kilometer</th>\n",
       "      <th>RegistrationMonth</th>\n",
       "      <th>FuelType</th>\n",
       "      <th>Brand</th>\n",
       "      <th>Repaired</th>\n",
       "      <th>NumberOfPictures</th>\n",
       "      <th>PostalCode</th>\n",
       "    </tr>\n",
       "  </thead>\n",
       "  <tbody>\n",
       "    <tr>\n",
       "      <th>0</th>\n",
       "      <td>480</td>\n",
       "      <td>NaN</td>\n",
       "      <td>1993</td>\n",
       "      <td>manual</td>\n",
       "      <td>0</td>\n",
       "      <td>golf</td>\n",
       "      <td>150000</td>\n",
       "      <td>0</td>\n",
       "      <td>petrol</td>\n",
       "      <td>volkswagen</td>\n",
       "      <td>NaN</td>\n",
       "      <td>0</td>\n",
       "      <td>70435</td>\n",
       "    </tr>\n",
       "    <tr>\n",
       "      <th>1</th>\n",
       "      <td>18300</td>\n",
       "      <td>coupe</td>\n",
       "      <td>2011</td>\n",
       "      <td>manual</td>\n",
       "      <td>190</td>\n",
       "      <td>NaN</td>\n",
       "      <td>125000</td>\n",
       "      <td>5</td>\n",
       "      <td>gasoline</td>\n",
       "      <td>audi</td>\n",
       "      <td>yes</td>\n",
       "      <td>0</td>\n",
       "      <td>66954</td>\n",
       "    </tr>\n",
       "    <tr>\n",
       "      <th>2</th>\n",
       "      <td>9800</td>\n",
       "      <td>suv</td>\n",
       "      <td>2004</td>\n",
       "      <td>auto</td>\n",
       "      <td>163</td>\n",
       "      <td>grand</td>\n",
       "      <td>125000</td>\n",
       "      <td>8</td>\n",
       "      <td>gasoline</td>\n",
       "      <td>jeep</td>\n",
       "      <td>NaN</td>\n",
       "      <td>0</td>\n",
       "      <td>90480</td>\n",
       "    </tr>\n",
       "    <tr>\n",
       "      <th>3</th>\n",
       "      <td>1500</td>\n",
       "      <td>small</td>\n",
       "      <td>2001</td>\n",
       "      <td>manual</td>\n",
       "      <td>75</td>\n",
       "      <td>golf</td>\n",
       "      <td>150000</td>\n",
       "      <td>6</td>\n",
       "      <td>petrol</td>\n",
       "      <td>volkswagen</td>\n",
       "      <td>no</td>\n",
       "      <td>0</td>\n",
       "      <td>91074</td>\n",
       "    </tr>\n",
       "    <tr>\n",
       "      <th>4</th>\n",
       "      <td>3600</td>\n",
       "      <td>small</td>\n",
       "      <td>2008</td>\n",
       "      <td>manual</td>\n",
       "      <td>69</td>\n",
       "      <td>fabia</td>\n",
       "      <td>90000</td>\n",
       "      <td>7</td>\n",
       "      <td>gasoline</td>\n",
       "      <td>skoda</td>\n",
       "      <td>no</td>\n",
       "      <td>0</td>\n",
       "      <td>60437</td>\n",
       "    </tr>\n",
       "  </tbody>\n",
       "</table>\n",
       "</div>"
      ],
      "text/plain": [
       "   Price VehicleType  RegistrationYear Gearbox  Power  Model  Kilometer  \\\n",
       "0    480         NaN              1993  manual      0   golf     150000   \n",
       "1  18300       coupe              2011  manual    190    NaN     125000   \n",
       "2   9800         suv              2004    auto    163  grand     125000   \n",
       "3   1500       small              2001  manual     75   golf     150000   \n",
       "4   3600       small              2008  manual     69  fabia      90000   \n",
       "\n",
       "   RegistrationMonth  FuelType       Brand Repaired  NumberOfPictures  \\\n",
       "0                  0    petrol  volkswagen      NaN                 0   \n",
       "1                  5  gasoline        audi      yes                 0   \n",
       "2                  8  gasoline        jeep      NaN                 0   \n",
       "3                  6    petrol  volkswagen       no                 0   \n",
       "4                  7  gasoline       skoda       no                 0   \n",
       "\n",
       "   PostalCode  \n",
       "0       70435  \n",
       "1       66954  \n",
       "2       90480  \n",
       "3       91074  \n",
       "4       60437  "
      ]
     },
     "execution_count": 15,
     "metadata": {},
     "output_type": "execute_result"
    }
   ],
   "source": [
    "data.head()"
   ]
  },
  {
   "cell_type": "markdown",
   "metadata": {},
   "source": [
    "Столбец `PostalCode` не поможет в определении стоимости автомобиля - вероятнее всего он попал в базу как характеристика продавца, следовательно, можем удалить этот столбец."
   ]
  },
  {
   "cell_type": "code",
   "execution_count": 16,
   "metadata": {},
   "outputs": [],
   "source": [
    "data = data.drop(columns=['PostalCode'])"
   ]
  },
  {
   "cell_type": "markdown",
   "metadata": {},
   "source": [
    "Посмотрим на распределение числа изображений (столбец `NumberOfPictures`):"
   ]
  },
  {
   "cell_type": "code",
   "execution_count": 17,
   "metadata": {},
   "outputs": [
    {
     "data": {
      "image/png": "[encoded data removed]",
      "text/plain": [
       "<Figure size 500x300 with 1 Axes>"
      ]
     },
     "metadata": {},
     "output_type": "display_data"
    }
   ],
   "source": [
    "data['NumberOfPictures'].hist(bins=5, figsize=(5,3))\n",
    "plt.title('Гистограмма распределения числа изображений LasNumberOfPicturetSeen')\n",
    "plt.xlabel('Количество')\n",
    "plt.ylabel('Число появлений')\n",
    "plt.show()"
   ]
  },
  {
   "cell_type": "code",
   "execution_count": 18,
   "metadata": {},
   "outputs": [
    {
     "data": {
      "text/plain": [
       "array([0])"
      ]
     },
     "execution_count": 18,
     "metadata": {},
     "output_type": "execute_result"
    }
   ],
   "source": [
    "data['NumberOfPictures'].unique()"
   ]
  },
  {
   "cell_type": "markdown",
   "metadata": {},
   "source": [
    "Данный столбец тоже можно удалить из модели, т.к. все автомобили продаются без фото."
   ]
  },
  {
   "cell_type": "code",
   "execution_count": 19,
   "metadata": {},
   "outputs": [],
   "source": [
    "data = data.drop(columns=['NumberOfPictures'])"
   ]
  },
  {
   "cell_type": "markdown",
   "metadata": {},
   "source": [
    "Месяц регистрации автомобиля является неинформативным признаком, который также можно удалить. Он не характеризует сам автомобиль."
   ]
  },
  {
   "cell_type": "code",
   "execution_count": 20,
   "metadata": {},
   "outputs": [],
   "source": [
    "data = data.drop(columns=['RegistrationMonth'])"
   ]
  },
  {
   "cell_type": "code",
   "execution_count": 21,
   "metadata": {},
   "outputs": [
    {
     "data": {
      "text/html": [
       "<div>\n",
       "<style scoped>\n",
       "    .dataframe tbody tr th:only-of-type {\n",
       "        vertical-align: middle;\n",
       "    }\n",
       "\n",
       "    .dataframe tbody tr th {\n",
       "        vertical-align: top;\n",
       "    }\n",
       "\n",
       "    .dataframe thead th {\n",
       "        text-align: right;\n",
       "    }\n",
       "</style>\n",
       "<table border=\"1\" class=\"dataframe\">\n",
       "  <thead>\n",
       "    <tr style=\"text-align: right;\">\n",
       "      <th></th>\n",
       "      <th>Price</th>\n",
       "      <th>VehicleType</th>\n",
       "      <th>RegistrationYear</th>\n",
       "      <th>Gearbox</th>\n",
       "      <th>Power</th>\n",
       "      <th>Model</th>\n",
       "      <th>Kilometer</th>\n",
       "      <th>FuelType</th>\n",
       "      <th>Brand</th>\n",
       "      <th>Repaired</th>\n",
       "    </tr>\n",
       "  </thead>\n",
       "  <tbody>\n",
       "    <tr>\n",
       "      <th>0</th>\n",
       "      <td>480</td>\n",
       "      <td>NaN</td>\n",
       "      <td>1993</td>\n",
       "      <td>manual</td>\n",
       "      <td>0</td>\n",
       "      <td>golf</td>\n",
       "      <td>150000</td>\n",
       "      <td>petrol</td>\n",
       "      <td>volkswagen</td>\n",
       "      <td>NaN</td>\n",
       "    </tr>\n",
       "    <tr>\n",
       "      <th>1</th>\n",
       "      <td>18300</td>\n",
       "      <td>coupe</td>\n",
       "      <td>2011</td>\n",
       "      <td>manual</td>\n",
       "      <td>190</td>\n",
       "      <td>NaN</td>\n",
       "      <td>125000</td>\n",
       "      <td>gasoline</td>\n",
       "      <td>audi</td>\n",
       "      <td>yes</td>\n",
       "    </tr>\n",
       "    <tr>\n",
       "      <th>2</th>\n",
       "      <td>9800</td>\n",
       "      <td>suv</td>\n",
       "      <td>2004</td>\n",
       "      <td>auto</td>\n",
       "      <td>163</td>\n",
       "      <td>grand</td>\n",
       "      <td>125000</td>\n",
       "      <td>gasoline</td>\n",
       "      <td>jeep</td>\n",
       "      <td>NaN</td>\n",
       "    </tr>\n",
       "    <tr>\n",
       "      <th>3</th>\n",
       "      <td>1500</td>\n",
       "      <td>small</td>\n",
       "      <td>2001</td>\n",
       "      <td>manual</td>\n",
       "      <td>75</td>\n",
       "      <td>golf</td>\n",
       "      <td>150000</td>\n",
       "      <td>petrol</td>\n",
       "      <td>volkswagen</td>\n",
       "      <td>no</td>\n",
       "    </tr>\n",
       "    <tr>\n",
       "      <th>4</th>\n",
       "      <td>3600</td>\n",
       "      <td>small</td>\n",
       "      <td>2008</td>\n",
       "      <td>manual</td>\n",
       "      <td>69</td>\n",
       "      <td>fabia</td>\n",
       "      <td>90000</td>\n",
       "      <td>gasoline</td>\n",
       "      <td>skoda</td>\n",
       "      <td>no</td>\n",
       "    </tr>\n",
       "  </tbody>\n",
       "</table>\n",
       "</div>"
      ],
      "text/plain": [
       "   Price VehicleType  RegistrationYear Gearbox  Power  Model  Kilometer  \\\n",
       "0    480         NaN              1993  manual      0   golf     150000   \n",
       "1  18300       coupe              2011  manual    190    NaN     125000   \n",
       "2   9800         suv              2004    auto    163  grand     125000   \n",
       "3   1500       small              2001  manual     75   golf     150000   \n",
       "4   3600       small              2008  manual     69  fabia      90000   \n",
       "\n",
       "   FuelType       Brand Repaired  \n",
       "0    petrol  volkswagen      NaN  \n",
       "1  gasoline        audi      yes  \n",
       "2  gasoline        jeep      NaN  \n",
       "3    petrol  volkswagen       no  \n",
       "4  gasoline       skoda       no  "
      ]
     },
     "execution_count": 21,
     "metadata": {},
     "output_type": "execute_result"
    }
   ],
   "source": [
    "data.head()"
   ]
  },
  {
   "cell_type": "markdown",
   "metadata": {},
   "source": [
    "### Обработка заголовков столбцов"
   ]
  },
  {
   "cell_type": "markdown",
   "metadata": {},
   "source": [
    "Приведем, наконец, названия столбцов к змеиному регистру:"
   ]
  },
  {
   "cell_type": "code",
   "execution_count": 22,
   "metadata": {},
   "outputs": [],
   "source": [
    "data.columns = data.columns.str.lower()"
   ]
  },
  {
   "cell_type": "code",
   "execution_count": 23,
   "metadata": {},
   "outputs": [
    {
     "data": {
      "text/plain": [
       "Index(['price', 'vehicletype', 'registrationyear', 'gearbox', 'power', 'model',\n",
       "       'kilometer', 'fueltype', 'brand', 'repaired'],\n",
       "      dtype='object')"
      ]
     },
     "execution_count": 23,
     "metadata": {},
     "output_type": "execute_result"
    }
   ],
   "source": [
    "data.columns"
   ]
  },
  {
   "cell_type": "code",
   "execution_count": 24,
   "metadata": {},
   "outputs": [],
   "source": [
    "# переименуем оставшиеся столбцы\n",
    "data = data.rename({'vehicletype': 'vehicle_type', \n",
    "                    'registrationyear': 'registration_year', \n",
    "                    'registrationmonth': 'registration_month',\n",
    "                    'fueltype': 'fuel_type'}, axis=1)"
   ]
  },
  {
   "cell_type": "code",
   "execution_count": 25,
   "metadata": {},
   "outputs": [
    {
     "data": {
      "text/html": [
       "<div>\n",
       "<style scoped>\n",
       "    .dataframe tbody tr th:only-of-type {\n",
       "        vertical-align: middle;\n",
       "    }\n",
       "\n",
       "    .dataframe tbody tr th {\n",
       "        vertical-align: top;\n",
       "    }\n",
       "\n",
       "    .dataframe thead th {\n",
       "        text-align: right;\n",
       "    }\n",
       "</style>\n",
       "<table border=\"1\" class=\"dataframe\">\n",
       "  <thead>\n",
       "    <tr style=\"text-align: right;\">\n",
       "      <th></th>\n",
       "      <th>price</th>\n",
       "      <th>vehicle_type</th>\n",
       "      <th>registration_year</th>\n",
       "      <th>gearbox</th>\n",
       "      <th>power</th>\n",
       "      <th>model</th>\n",
       "      <th>kilometer</th>\n",
       "      <th>fuel_type</th>\n",
       "      <th>brand</th>\n",
       "      <th>repaired</th>\n",
       "    </tr>\n",
       "  </thead>\n",
       "  <tbody>\n",
       "    <tr>\n",
       "      <th>0</th>\n",
       "      <td>480</td>\n",
       "      <td>NaN</td>\n",
       "      <td>1993</td>\n",
       "      <td>manual</td>\n",
       "      <td>0</td>\n",
       "      <td>golf</td>\n",
       "      <td>150000</td>\n",
       "      <td>petrol</td>\n",
       "      <td>volkswagen</td>\n",
       "      <td>NaN</td>\n",
       "    </tr>\n",
       "    <tr>\n",
       "      <th>1</th>\n",
       "      <td>18300</td>\n",
       "      <td>coupe</td>\n",
       "      <td>2011</td>\n",
       "      <td>manual</td>\n",
       "      <td>190</td>\n",
       "      <td>NaN</td>\n",
       "      <td>125000</td>\n",
       "      <td>gasoline</td>\n",
       "      <td>audi</td>\n",
       "      <td>yes</td>\n",
       "    </tr>\n",
       "    <tr>\n",
       "      <th>2</th>\n",
       "      <td>9800</td>\n",
       "      <td>suv</td>\n",
       "      <td>2004</td>\n",
       "      <td>auto</td>\n",
       "      <td>163</td>\n",
       "      <td>grand</td>\n",
       "      <td>125000</td>\n",
       "      <td>gasoline</td>\n",
       "      <td>jeep</td>\n",
       "      <td>NaN</td>\n",
       "    </tr>\n",
       "    <tr>\n",
       "      <th>3</th>\n",
       "      <td>1500</td>\n",
       "      <td>small</td>\n",
       "      <td>2001</td>\n",
       "      <td>manual</td>\n",
       "      <td>75</td>\n",
       "      <td>golf</td>\n",
       "      <td>150000</td>\n",
       "      <td>petrol</td>\n",
       "      <td>volkswagen</td>\n",
       "      <td>no</td>\n",
       "    </tr>\n",
       "    <tr>\n",
       "      <th>4</th>\n",
       "      <td>3600</td>\n",
       "      <td>small</td>\n",
       "      <td>2008</td>\n",
       "      <td>manual</td>\n",
       "      <td>69</td>\n",
       "      <td>fabia</td>\n",
       "      <td>90000</td>\n",
       "      <td>gasoline</td>\n",
       "      <td>skoda</td>\n",
       "      <td>no</td>\n",
       "    </tr>\n",
       "  </tbody>\n",
       "</table>\n",
       "</div>"
      ],
      "text/plain": [
       "   price vehicle_type  registration_year gearbox  power  model  kilometer  \\\n",
       "0    480          NaN               1993  manual      0   golf     150000   \n",
       "1  18300        coupe               2011  manual    190    NaN     125000   \n",
       "2   9800          suv               2004    auto    163  grand     125000   \n",
       "3   1500        small               2001  manual     75   golf     150000   \n",
       "4   3600        small               2008  manual     69  fabia      90000   \n",
       "\n",
       "  fuel_type       brand repaired  \n",
       "0    petrol  volkswagen      NaN  \n",
       "1  gasoline        audi      yes  \n",
       "2  gasoline        jeep      NaN  \n",
       "3    petrol  volkswagen       no  \n",
       "4  gasoline       skoda       no  "
      ]
     },
     "execution_count": 25,
     "metadata": {},
     "output_type": "execute_result"
    }
   ],
   "source": [
    "# посмотрим, что получилось\n",
    "data.head()"
   ]
  },
  {
   "cell_type": "markdown",
   "metadata": {},
   "source": [
    "Такой вид заголовков является более читабельным и с ним удобнее работать."
   ]
  },
  {
   "cell_type": "markdown",
   "metadata": {},
   "source": [
    "### Обработка пропусков"
   ]
  },
  {
   "cell_type": "code",
   "execution_count": 26,
   "metadata": {},
   "outputs": [
    {
     "data": {
      "text/html": [
       "<style  type=\"text/css\" >\n",
       "#T_f4ef5_row0_col0,#T_f4ef5_row2_col0,#T_f4ef5_row4_col0,#T_f4ef5_row6_col0,#T_f4ef5_row8_col0{\n",
       "            background-color:  #3b4cc0;\n",
       "            color:  #f1f1f1;\n",
       "        }#T_f4ef5_row1_col0{\n",
       "            background-color:  #e9d5cb;\n",
       "            color:  #000000;\n",
       "        }#T_f4ef5_row3_col0,#T_f4ef5_row5_col0{\n",
       "            background-color:  #9ebeff;\n",
       "            color:  #000000;\n",
       "        }#T_f4ef5_row7_col0{\n",
       "            background-color:  #cfdaea;\n",
       "            color:  #000000;\n",
       "        }#T_f4ef5_row9_col0{\n",
       "            background-color:  #b40426;\n",
       "            color:  #f1f1f1;\n",
       "        }</style><table id=\"T_f4ef5_\" ><thead>    <tr>        <th class=\"blank level0\" ></th>        <th class=\"col_heading level0 col0\" >0</th>    </tr></thead><tbody>\n",
       "                <tr>\n",
       "                        <th id=\"T_f4ef5_level0_row0\" class=\"row_heading level0 row0\" >price</th>\n",
       "                        <td id=\"T_f4ef5_row0_col0\" class=\"data row0 col0\" >0.000000</td>\n",
       "            </tr>\n",
       "            <tr>\n",
       "                        <th id=\"T_f4ef5_level0_row1\" class=\"row_heading level0 row1\" >vehicle_type</th>\n",
       "                        <td id=\"T_f4ef5_row1_col0\" class=\"data row1 col0\" >11.000000</td>\n",
       "            </tr>\n",
       "            <tr>\n",
       "                        <th id=\"T_f4ef5_level0_row2\" class=\"row_heading level0 row2\" >registration_year</th>\n",
       "                        <td id=\"T_f4ef5_row2_col0\" class=\"data row2 col0\" >0.000000</td>\n",
       "            </tr>\n",
       "            <tr>\n",
       "                        <th id=\"T_f4ef5_level0_row3\" class=\"row_heading level0 row3\" >gearbox</th>\n",
       "                        <td id=\"T_f4ef5_row3_col0\" class=\"data row3 col0\" >6.000000</td>\n",
       "            </tr>\n",
       "            <tr>\n",
       "                        <th id=\"T_f4ef5_level0_row4\" class=\"row_heading level0 row4\" >power</th>\n",
       "                        <td id=\"T_f4ef5_row4_col0\" class=\"data row4 col0\" >0.000000</td>\n",
       "            </tr>\n",
       "            <tr>\n",
       "                        <th id=\"T_f4ef5_level0_row5\" class=\"row_heading level0 row5\" >model</th>\n",
       "                        <td id=\"T_f4ef5_row5_col0\" class=\"data row5 col0\" >6.000000</td>\n",
       "            </tr>\n",
       "            <tr>\n",
       "                        <th id=\"T_f4ef5_level0_row6\" class=\"row_heading level0 row6\" >kilometer</th>\n",
       "                        <td id=\"T_f4ef5_row6_col0\" class=\"data row6 col0\" >0.000000</td>\n",
       "            </tr>\n",
       "            <tr>\n",
       "                        <th id=\"T_f4ef5_level0_row7\" class=\"row_heading level0 row7\" >fuel_type</th>\n",
       "                        <td id=\"T_f4ef5_row7_col0\" class=\"data row7 col0\" >9.000000</td>\n",
       "            </tr>\n",
       "            <tr>\n",
       "                        <th id=\"T_f4ef5_level0_row8\" class=\"row_heading level0 row8\" >brand</th>\n",
       "                        <td id=\"T_f4ef5_row8_col0\" class=\"data row8 col0\" >0.000000</td>\n",
       "            </tr>\n",
       "            <tr>\n",
       "                        <th id=\"T_f4ef5_level0_row9\" class=\"row_heading level0 row9\" >repaired</th>\n",
       "                        <td id=\"T_f4ef5_row9_col0\" class=\"data row9 col0\" >20.000000</td>\n",
       "            </tr>\n",
       "    </tbody></table>"
      ],
      "text/plain": [
       "<pandas.io.formats.style.Styler at 0x12dc7eeb0>"
      ]
     },
     "execution_count": 26,
     "metadata": {},
     "output_type": "execute_result"
    }
   ],
   "source": [
    "# проверим количество пропусков в процентах\n",
    "pd.DataFrame(round(data.isna().mean() * 100,)).style.background_gradient('coolwarm')"
   ]
  },
  {
   "cell_type": "markdown",
   "metadata": {},
   "source": [
    "Начнем с признака `repaired`: поскольку машина либо восстановлена, либо нет, при отсутствии данной информации ее невозможно восстановить, в связи с чем лучше всего заменить пропуски на заглушку `unknown`."
   ]
  },
  {
   "cell_type": "code",
   "execution_count": 27,
   "metadata": {},
   "outputs": [],
   "source": [
    "# добавим заглушку unknown в repaired\n",
    "data.loc[data['repaired'].isna(), 'repaired'] = 'unknown'"
   ]
  },
  {
   "cell_type": "code",
   "execution_count": 28,
   "metadata": {},
   "outputs": [
    {
     "data": {
      "text/html": [
       "<style  type=\"text/css\" >\n",
       "#T_096a5_row0_col0,#T_096a5_row2_col0,#T_096a5_row4_col0,#T_096a5_row6_col0,#T_096a5_row8_col0,#T_096a5_row9_col0{\n",
       "            background-color:  #3b4cc0;\n",
       "            color:  #f1f1f1;\n",
       "        }#T_096a5_row1_col0{\n",
       "            background-color:  #b40426;\n",
       "            color:  #f1f1f1;\n",
       "        }#T_096a5_row3_col0,#T_096a5_row5_col0{\n",
       "            background-color:  #e8d6cc;\n",
       "            color:  #000000;\n",
       "        }#T_096a5_row7_col0{\n",
       "            background-color:  #ea7b60;\n",
       "            color:  #000000;\n",
       "        }</style><table id=\"T_096a5_\" ><thead>    <tr>        <th class=\"blank level0\" ></th>        <th class=\"col_heading level0 col0\" >0</th>    </tr></thead><tbody>\n",
       "                <tr>\n",
       "                        <th id=\"T_096a5_level0_row0\" class=\"row_heading level0 row0\" >price</th>\n",
       "                        <td id=\"T_096a5_row0_col0\" class=\"data row0 col0\" >0.000000</td>\n",
       "            </tr>\n",
       "            <tr>\n",
       "                        <th id=\"T_096a5_level0_row1\" class=\"row_heading level0 row1\" >vehicle_type</th>\n",
       "                        <td id=\"T_096a5_row1_col0\" class=\"data row1 col0\" >11.000000</td>\n",
       "            </tr>\n",
       "            <tr>\n",
       "                        <th id=\"T_096a5_level0_row2\" class=\"row_heading level0 row2\" >registration_year</th>\n",
       "                        <td id=\"T_096a5_row2_col0\" class=\"data row2 col0\" >0.000000</td>\n",
       "            </tr>\n",
       "            <tr>\n",
       "                        <th id=\"T_096a5_level0_row3\" class=\"row_heading level0 row3\" >gearbox</th>\n",
       "                        <td id=\"T_096a5_row3_col0\" class=\"data row3 col0\" >6.000000</td>\n",
       "            </tr>\n",
       "            <tr>\n",
       "                        <th id=\"T_096a5_level0_row4\" class=\"row_heading level0 row4\" >power</th>\n",
       "                        <td id=\"T_096a5_row4_col0\" class=\"data row4 col0\" >0.000000</td>\n",
       "            </tr>\n",
       "            <tr>\n",
       "                        <th id=\"T_096a5_level0_row5\" class=\"row_heading level0 row5\" >model</th>\n",
       "                        <td id=\"T_096a5_row5_col0\" class=\"data row5 col0\" >6.000000</td>\n",
       "            </tr>\n",
       "            <tr>\n",
       "                        <th id=\"T_096a5_level0_row6\" class=\"row_heading level0 row6\" >kilometer</th>\n",
       "                        <td id=\"T_096a5_row6_col0\" class=\"data row6 col0\" >0.000000</td>\n",
       "            </tr>\n",
       "            <tr>\n",
       "                        <th id=\"T_096a5_level0_row7\" class=\"row_heading level0 row7\" >fuel_type</th>\n",
       "                        <td id=\"T_096a5_row7_col0\" class=\"data row7 col0\" >9.000000</td>\n",
       "            </tr>\n",
       "            <tr>\n",
       "                        <th id=\"T_096a5_level0_row8\" class=\"row_heading level0 row8\" >brand</th>\n",
       "                        <td id=\"T_096a5_row8_col0\" class=\"data row8 col0\" >0.000000</td>\n",
       "            </tr>\n",
       "            <tr>\n",
       "                        <th id=\"T_096a5_level0_row9\" class=\"row_heading level0 row9\" >repaired</th>\n",
       "                        <td id=\"T_096a5_row9_col0\" class=\"data row9 col0\" >0.000000</td>\n",
       "            </tr>\n",
       "    </tbody></table>"
      ],
      "text/plain": [
       "<pandas.io.formats.style.Styler at 0x12d9cc9d0>"
      ]
     },
     "execution_count": 28,
     "metadata": {},
     "output_type": "execute_result"
    }
   ],
   "source": [
    "# проверим количество пропусков в процентах\n",
    "pd.DataFrame(round(data.isna().mean() * 100,)).style.background_gradient('coolwarm')"
   ]
  },
  {
   "cell_type": "markdown",
   "metadata": {},
   "source": [
    "В таблице остались пропуски по столбцам `vehicle_type`, `gearbox`, `model`, `fuel_type`. Это достаточно важные признаки, влияющие на формирование стоимости автомобиля, поэтому обойтись без них сложно, однако выкидывать такое количество данных не хочется, т.к. мы уже отбросили некоторый объем данных из-за аномалий, поэтому заполним пропуски в категориальных признаках после разбиения данных на обучающую, валидационную и тестовую выборки наиболее часто встречающимся при помощи метода `.mode()`.\n",
    "\n",
    "Во избежание утечки данных дальнейшую обработку пропусков, а также обработку аномалий мы будем производить только на обучающей выборке."
   ]
  },
  {
   "cell_type": "markdown",
   "metadata": {},
   "source": [
    "**Разбиение данных на обучающую, валидационную и тестовую выборки**"
   ]
  },
  {
   "cell_type": "code",
   "execution_count": 29,
   "metadata": {},
   "outputs": [],
   "source": [
    "# разобьем данные на обучающую, валидационную и тестовую выборки в пропорции 3:1:1\n",
    "\n",
    "# поделим данные на обучающую (80%) и тестовую выборки (20%)\n",
    "data_train, data_test = train_test_split(data, test_size=0.2, random_state=RANDOM_STATE)\n",
    "\n",
    "# поделим обучающую выборку на обучающую и валидационную выборки в соотношении 3:1\n",
    "data_train, data_valid = train_test_split(data_train, test_size=0.25, random_state=RANDOM_STATE)"
   ]
  },
  {
   "cell_type": "code",
   "execution_count": 30,
   "metadata": {},
   "outputs": [
    {
     "name": "stdout",
     "output_type": "stream",
     "text": [
      "(212619, 10)\n",
      "(70873, 10)\n",
      "(70873, 10)\n"
     ]
    }
   ],
   "source": [
    "# посмотрим размеры полученных выборок\n",
    "print(data_train.shape, data_test.shape, data_valid.shape, sep='\\n')"
   ]
  },
  {
   "cell_type": "markdown",
   "metadata": {},
   "source": [
    "Разбиение было произведено корректно."
   ]
  },
  {
   "cell_type": "markdown",
   "metadata": {},
   "source": [
    "Добавим пользовательскую функцию, которая будет по моде заменять пропуски в столбце по наиболее популярному значению в другом столбце:"
   ]
  },
  {
   "cell_type": "code",
   "execution_count": 31,
   "metadata": {},
   "outputs": [],
   "source": [
    "def fillna_with_mode(dataframe, find_here, change_here):\n",
    "    \n",
    "    for i in dataframe[find_here].unique():\n",
    "        \n",
    "        # если есть хоть одно соответствующее значение, меняем на моду\n",
    "        if len(dataframe.loc[dataframe[find_here] == i, change_here].mode()) > 0: \n",
    "            dataframe.loc[\n",
    "                (dataframe[find_here] == i) & (dataframe[change_here].isna()), \n",
    "                change_here\n",
    "            ] = dataframe.loc[dataframe[find_here] == i, change_here].mode()[0]\n",
    "            \n",
    "        # если менять не на что, пишем 'other'\n",
    "        else:\n",
    "            dataframe.loc[\n",
    "                (dataframe[find_here] == i) & (dataframe[change_here].isna()), \n",
    "                change_here\n",
    "            ] = 'other'"
   ]
  },
  {
   "cell_type": "code",
   "execution_count": 32,
   "metadata": {},
   "outputs": [],
   "source": [
    "# заменим пропуски в моделях по наиболее популярной модели каждого бренда\n",
    "fillna_with_mode(data_train, 'brand', 'model')"
   ]
  },
  {
   "cell_type": "code",
   "execution_count": 33,
   "metadata": {},
   "outputs": [],
   "source": [
    "# заменим пропуски в коробке передач по наиболее популярной коробке передач каждой модели\n",
    "fillna_with_mode(data_train, 'model', 'gearbox')"
   ]
  },
  {
   "cell_type": "code",
   "execution_count": 34,
   "metadata": {},
   "outputs": [],
   "source": [
    "# заменим пропуски в типе топлива по наиболее популярному типу топлива каждой модели\n",
    "fillna_with_mode(data_train, 'model', 'fuel_type')"
   ]
  },
  {
   "cell_type": "code",
   "execution_count": 35,
   "metadata": {},
   "outputs": [],
   "source": [
    "# заменим пропуски в кузовах по наиболее популярному кузову каждой модели\n",
    "fillna_with_mode(data_train, 'model', 'vehicle_type')"
   ]
  },
  {
   "cell_type": "markdown",
   "metadata": {},
   "source": [
    "Посмотрим теперь на число пропусков в данных:"
   ]
  },
  {
   "cell_type": "code",
   "execution_count": 36,
   "metadata": {},
   "outputs": [
    {
     "data": {
      "text/html": [
       "<style  type=\"text/css\" >\n",
       "#T_562ad_row0_col0,#T_562ad_row1_col0,#T_562ad_row2_col0,#T_562ad_row3_col0,#T_562ad_row4_col0,#T_562ad_row5_col0,#T_562ad_row6_col0,#T_562ad_row7_col0,#T_562ad_row8_col0,#T_562ad_row9_col0{\n",
       "            background-color:  #3b4cc0;\n",
       "            color:  #f1f1f1;\n",
       "        }</style><table id=\"T_562ad_\" ><thead>    <tr>        <th class=\"blank level0\" ></th>        <th class=\"col_heading level0 col0\" >0</th>    </tr></thead><tbody>\n",
       "                <tr>\n",
       "                        <th id=\"T_562ad_level0_row0\" class=\"row_heading level0 row0\" >price</th>\n",
       "                        <td id=\"T_562ad_row0_col0\" class=\"data row0 col0\" >0.000000</td>\n",
       "            </tr>\n",
       "            <tr>\n",
       "                        <th id=\"T_562ad_level0_row1\" class=\"row_heading level0 row1\" >vehicle_type</th>\n",
       "                        <td id=\"T_562ad_row1_col0\" class=\"data row1 col0\" >0.000000</td>\n",
       "            </tr>\n",
       "            <tr>\n",
       "                        <th id=\"T_562ad_level0_row2\" class=\"row_heading level0 row2\" >registration_year</th>\n",
       "                        <td id=\"T_562ad_row2_col0\" class=\"data row2 col0\" >0.000000</td>\n",
       "            </tr>\n",
       "            <tr>\n",
       "                        <th id=\"T_562ad_level0_row3\" class=\"row_heading level0 row3\" >gearbox</th>\n",
       "                        <td id=\"T_562ad_row3_col0\" class=\"data row3 col0\" >0.000000</td>\n",
       "            </tr>\n",
       "            <tr>\n",
       "                        <th id=\"T_562ad_level0_row4\" class=\"row_heading level0 row4\" >power</th>\n",
       "                        <td id=\"T_562ad_row4_col0\" class=\"data row4 col0\" >0.000000</td>\n",
       "            </tr>\n",
       "            <tr>\n",
       "                        <th id=\"T_562ad_level0_row5\" class=\"row_heading level0 row5\" >model</th>\n",
       "                        <td id=\"T_562ad_row5_col0\" class=\"data row5 col0\" >0.000000</td>\n",
       "            </tr>\n",
       "            <tr>\n",
       "                        <th id=\"T_562ad_level0_row6\" class=\"row_heading level0 row6\" >kilometer</th>\n",
       "                        <td id=\"T_562ad_row6_col0\" class=\"data row6 col0\" >0.000000</td>\n",
       "            </tr>\n",
       "            <tr>\n",
       "                        <th id=\"T_562ad_level0_row7\" class=\"row_heading level0 row7\" >fuel_type</th>\n",
       "                        <td id=\"T_562ad_row7_col0\" class=\"data row7 col0\" >0.000000</td>\n",
       "            </tr>\n",
       "            <tr>\n",
       "                        <th id=\"T_562ad_level0_row8\" class=\"row_heading level0 row8\" >brand</th>\n",
       "                        <td id=\"T_562ad_row8_col0\" class=\"data row8 col0\" >0.000000</td>\n",
       "            </tr>\n",
       "            <tr>\n",
       "                        <th id=\"T_562ad_level0_row9\" class=\"row_heading level0 row9\" >repaired</th>\n",
       "                        <td id=\"T_562ad_row9_col0\" class=\"data row9 col0\" >0.000000</td>\n",
       "            </tr>\n",
       "    </tbody></table>"
      ],
      "text/plain": [
       "<pandas.io.formats.style.Styler at 0x12ddd3f10>"
      ]
     },
     "execution_count": 36,
     "metadata": {},
     "output_type": "execute_result"
    }
   ],
   "source": [
    "# проверим количество пропусков в процентах в обучающей выборке\n",
    "pd.DataFrame(round(data_train.isna().mean() * 100,)).style.background_gradient('coolwarm')"
   ]
  },
  {
   "cell_type": "markdown",
   "metadata": {},
   "source": [
    "Применим ту же самую функцию к валидационной и тестовой выборке."
   ]
  },
  {
   "cell_type": "code",
   "execution_count": 37,
   "metadata": {},
   "outputs": [],
   "source": [
    "# валидационная выборка\n",
    "\n",
    "# заменим пропуски в моделях по наиболее популярной модели каждого бренда\n",
    "fillna_with_mode(data_valid, 'brand', 'model')\n",
    "# заменим пропуски в коробке передач по наиболее популярной коробке передач каждой модели\n",
    "fillna_with_mode(data_valid, 'model', 'gearbox')\n",
    "# заменим пропуски в типе топлива по наиболее популярному типу топлива каждой модели\n",
    "fillna_with_mode(data_valid, 'model', 'fuel_type')\n",
    "# заменим пропуски в кузовах по наиболее популярному кузову каждой модели\n",
    "fillna_with_mode(data_valid, 'model', 'vehicle_type')"
   ]
  },
  {
   "cell_type": "code",
   "execution_count": 38,
   "metadata": {},
   "outputs": [
    {
     "data": {
      "text/html": [
       "<style  type=\"text/css\" >\n",
       "#T_67681_row0_col0,#T_67681_row1_col0,#T_67681_row2_col0,#T_67681_row3_col0,#T_67681_row4_col0,#T_67681_row5_col0,#T_67681_row6_col0,#T_67681_row7_col0,#T_67681_row8_col0,#T_67681_row9_col0{\n",
       "            background-color:  #3b4cc0;\n",
       "            color:  #f1f1f1;\n",
       "        }</style><table id=\"T_67681_\" ><thead>    <tr>        <th class=\"blank level0\" ></th>        <th class=\"col_heading level0 col0\" >0</th>    </tr></thead><tbody>\n",
       "                <tr>\n",
       "                        <th id=\"T_67681_level0_row0\" class=\"row_heading level0 row0\" >price</th>\n",
       "                        <td id=\"T_67681_row0_col0\" class=\"data row0 col0\" >0.000000</td>\n",
       "            </tr>\n",
       "            <tr>\n",
       "                        <th id=\"T_67681_level0_row1\" class=\"row_heading level0 row1\" >vehicle_type</th>\n",
       "                        <td id=\"T_67681_row1_col0\" class=\"data row1 col0\" >0.000000</td>\n",
       "            </tr>\n",
       "            <tr>\n",
       "                        <th id=\"T_67681_level0_row2\" class=\"row_heading level0 row2\" >registration_year</th>\n",
       "                        <td id=\"T_67681_row2_col0\" class=\"data row2 col0\" >0.000000</td>\n",
       "            </tr>\n",
       "            <tr>\n",
       "                        <th id=\"T_67681_level0_row3\" class=\"row_heading level0 row3\" >gearbox</th>\n",
       "                        <td id=\"T_67681_row3_col0\" class=\"data row3 col0\" >0.000000</td>\n",
       "            </tr>\n",
       "            <tr>\n",
       "                        <th id=\"T_67681_level0_row4\" class=\"row_heading level0 row4\" >power</th>\n",
       "                        <td id=\"T_67681_row4_col0\" class=\"data row4 col0\" >0.000000</td>\n",
       "            </tr>\n",
       "            <tr>\n",
       "                        <th id=\"T_67681_level0_row5\" class=\"row_heading level0 row5\" >model</th>\n",
       "                        <td id=\"T_67681_row5_col0\" class=\"data row5 col0\" >0.000000</td>\n",
       "            </tr>\n",
       "            <tr>\n",
       "                        <th id=\"T_67681_level0_row6\" class=\"row_heading level0 row6\" >kilometer</th>\n",
       "                        <td id=\"T_67681_row6_col0\" class=\"data row6 col0\" >0.000000</td>\n",
       "            </tr>\n",
       "            <tr>\n",
       "                        <th id=\"T_67681_level0_row7\" class=\"row_heading level0 row7\" >fuel_type</th>\n",
       "                        <td id=\"T_67681_row7_col0\" class=\"data row7 col0\" >0.000000</td>\n",
       "            </tr>\n",
       "            <tr>\n",
       "                        <th id=\"T_67681_level0_row8\" class=\"row_heading level0 row8\" >brand</th>\n",
       "                        <td id=\"T_67681_row8_col0\" class=\"data row8 col0\" >0.000000</td>\n",
       "            </tr>\n",
       "            <tr>\n",
       "                        <th id=\"T_67681_level0_row9\" class=\"row_heading level0 row9\" >repaired</th>\n",
       "                        <td id=\"T_67681_row9_col0\" class=\"data row9 col0\" >0.000000</td>\n",
       "            </tr>\n",
       "    </tbody></table>"
      ],
      "text/plain": [
       "<pandas.io.formats.style.Styler at 0x12de11850>"
      ]
     },
     "execution_count": 38,
     "metadata": {},
     "output_type": "execute_result"
    }
   ],
   "source": [
    "# проверим количество пропусков в процентах в валидационной выборке\n",
    "pd.DataFrame(round(data_valid.isna().mean() * 100,)).style.background_gradient('coolwarm')"
   ]
  },
  {
   "cell_type": "code",
   "execution_count": 39,
   "metadata": {},
   "outputs": [],
   "source": [
    "# тестовая выборка\n",
    "\n",
    "# заменим пропуски в моделях по наиболее популярной модели каждого бренда\n",
    "fillna_with_mode(data_test, 'brand', 'model')\n",
    "# заменим пропуски в коробке передач по наиболее популярной коробке передач каждой модели\n",
    "fillna_with_mode(data_test, 'model', 'gearbox')\n",
    "# заменим пропуски в типе топлива по наиболее популярному типу топлива каждой модели\n",
    "fillna_with_mode(data_test, 'model', 'fuel_type')\n",
    "# заменим пропуски в кузовах по наиболее популярному кузову каждой модели\n",
    "fillna_with_mode(data_test, 'model', 'vehicle_type')"
   ]
  },
  {
   "cell_type": "code",
   "execution_count": 40,
   "metadata": {},
   "outputs": [
    {
     "data": {
      "text/html": [
       "<style  type=\"text/css\" >\n",
       "#T_c5c95_row0_col0,#T_c5c95_row1_col0,#T_c5c95_row2_col0,#T_c5c95_row3_col0,#T_c5c95_row4_col0,#T_c5c95_row5_col0,#T_c5c95_row6_col0,#T_c5c95_row7_col0,#T_c5c95_row8_col0,#T_c5c95_row9_col0{\n",
       "            background-color:  #3b4cc0;\n",
       "            color:  #f1f1f1;\n",
       "        }</style><table id=\"T_c5c95_\" ><thead>    <tr>        <th class=\"blank level0\" ></th>        <th class=\"col_heading level0 col0\" >0</th>    </tr></thead><tbody>\n",
       "                <tr>\n",
       "                        <th id=\"T_c5c95_level0_row0\" class=\"row_heading level0 row0\" >price</th>\n",
       "                        <td id=\"T_c5c95_row0_col0\" class=\"data row0 col0\" >0.000000</td>\n",
       "            </tr>\n",
       "            <tr>\n",
       "                        <th id=\"T_c5c95_level0_row1\" class=\"row_heading level0 row1\" >vehicle_type</th>\n",
       "                        <td id=\"T_c5c95_row1_col0\" class=\"data row1 col0\" >0.000000</td>\n",
       "            </tr>\n",
       "            <tr>\n",
       "                        <th id=\"T_c5c95_level0_row2\" class=\"row_heading level0 row2\" >registration_year</th>\n",
       "                        <td id=\"T_c5c95_row2_col0\" class=\"data row2 col0\" >0.000000</td>\n",
       "            </tr>\n",
       "            <tr>\n",
       "                        <th id=\"T_c5c95_level0_row3\" class=\"row_heading level0 row3\" >gearbox</th>\n",
       "                        <td id=\"T_c5c95_row3_col0\" class=\"data row3 col0\" >0.000000</td>\n",
       "            </tr>\n",
       "            <tr>\n",
       "                        <th id=\"T_c5c95_level0_row4\" class=\"row_heading level0 row4\" >power</th>\n",
       "                        <td id=\"T_c5c95_row4_col0\" class=\"data row4 col0\" >0.000000</td>\n",
       "            </tr>\n",
       "            <tr>\n",
       "                        <th id=\"T_c5c95_level0_row5\" class=\"row_heading level0 row5\" >model</th>\n",
       "                        <td id=\"T_c5c95_row5_col0\" class=\"data row5 col0\" >0.000000</td>\n",
       "            </tr>\n",
       "            <tr>\n",
       "                        <th id=\"T_c5c95_level0_row6\" class=\"row_heading level0 row6\" >kilometer</th>\n",
       "                        <td id=\"T_c5c95_row6_col0\" class=\"data row6 col0\" >0.000000</td>\n",
       "            </tr>\n",
       "            <tr>\n",
       "                        <th id=\"T_c5c95_level0_row7\" class=\"row_heading level0 row7\" >fuel_type</th>\n",
       "                        <td id=\"T_c5c95_row7_col0\" class=\"data row7 col0\" >0.000000</td>\n",
       "            </tr>\n",
       "            <tr>\n",
       "                        <th id=\"T_c5c95_level0_row8\" class=\"row_heading level0 row8\" >brand</th>\n",
       "                        <td id=\"T_c5c95_row8_col0\" class=\"data row8 col0\" >0.000000</td>\n",
       "            </tr>\n",
       "            <tr>\n",
       "                        <th id=\"T_c5c95_level0_row9\" class=\"row_heading level0 row9\" >repaired</th>\n",
       "                        <td id=\"T_c5c95_row9_col0\" class=\"data row9 col0\" >0.000000</td>\n",
       "            </tr>\n",
       "    </tbody></table>"
      ],
      "text/plain": [
       "<pandas.io.formats.style.Styler at 0x12de11700>"
      ]
     },
     "execution_count": 40,
     "metadata": {},
     "output_type": "execute_result"
    }
   ],
   "source": [
    "# проверим количество пропусков в процентах в валидационной выборке\n",
    "pd.DataFrame(round(data_test.isna().mean() * 100,)).style.background_gradient('coolwarm')"
   ]
  },
  {
   "cell_type": "markdown",
   "metadata": {},
   "source": [
    "Таким образом, мы заполнили все пропуски в исходных данных."
   ]
  },
  {
   "cell_type": "markdown",
   "metadata": {},
   "source": [
    "### Анализ распределения данных и аномалий"
   ]
  },
  {
   "cell_type": "code",
   "execution_count": 41,
   "metadata": {
    "scrolled": true
   },
   "outputs": [
    {
     "data": {
      "image/png": "[encoded data removed]",
      "text/plain": [
       "<Figure size 1600x200 with 1 Axes>"
      ]
     },
     "metadata": {},
     "output_type": "display_data"
    }
   ],
   "source": [
    "fig, ax = plt.subplots(figsize=(16, 2))\n",
    "ax = data_train.boxplot(column='price', vert=False)\n",
    "ax.set_title('Диаграмма размаха для цены автомобилей', size=18)\n",
    "ax.set_xlabel('Цена', size=14)\n",
    "plt.show()"
   ]
  },
  {
   "cell_type": "markdown",
   "metadata": {},
   "source": [
    "Несмотря на то, что цены некоторых авто находятся вне \"усов\", их сложно считать аномалиями с т.з. логики, поэтому не будет удалять.\n",
    "А вот цены авто, равные нулю, надо будет удалить."
   ]
  },
  {
   "cell_type": "code",
   "execution_count": 42,
   "metadata": {},
   "outputs": [
    {
     "data": {
      "image/png": "[encoded data removed]",
      "text/plain": [
       "<Figure size 1600x200 with 1 Axes>"
      ]
     },
     "metadata": {},
     "output_type": "display_data"
    }
   ],
   "source": [
    "fig, ax = plt.subplots(figsize=(16, 2))\n",
    "ax = data_train.boxplot(column='registration_year', vert=False)\n",
    "ax.set_title('Диаграмма размаха для года регистрации автомобилей', size=18)\n",
    "ax.set_xlabel('Год', size=14)\n",
    "plt.xlim(1900, 2200)\n",
    "plt.show()"
   ]
  },
  {
   "cell_type": "markdown",
   "metadata": {},
   "source": [
    "По годам очевидно наличие аномалий. Чуть ниже мы отбросим значения."
   ]
  },
  {
   "cell_type": "code",
   "execution_count": 43,
   "metadata": {},
   "outputs": [
    {
     "data": {
      "image/png": "[encoded data removed]",
      "text/plain": [
       "<Figure size 1600x200 with 1 Axes>"
      ]
     },
     "metadata": {},
     "output_type": "display_data"
    }
   ],
   "source": [
    "fig, ax = plt.subplots(figsize=(16, 2))\n",
    "ax = data_train.boxplot(column='kilometer', vert=False)\n",
    "ax.set_title('Диаграмма размаха для пробега автомобилей', size=18)\n",
    "ax.set_xlabel('Пробег в км', size=14)\n",
    "plt.show()"
   ]
  },
  {
   "cell_type": "markdown",
   "metadata": {},
   "source": [
    "Здесь отбрасывать автомобили находящиеся вне межквартильного размаха и \"усов\" нелогично, т.к. их пробег меньше 90 тыс.км, что вполне адекватно и встречается на рынке - это не является аномалией."
   ]
  },
  {
   "cell_type": "code",
   "execution_count": 44,
   "metadata": {},
   "outputs": [
    {
     "data": {
      "image/png": "[encoded data removed]",
      "text/plain": [
       "<Figure size 1600x200 with 1 Axes>"
      ]
     },
     "metadata": {},
     "output_type": "display_data"
    }
   ],
   "source": [
    "fig, ax = plt.subplots(figsize=(16, 2))\n",
    "ax = data_train.boxplot(column='power', vert=False)\n",
    "ax.set_title('Диаграмма размаха для мощности автомобилей', size=18)\n",
    "ax.set_xlabel('Мощность в л.с.', size=14)\n",
    "plt.show()"
   ]
  },
  {
   "cell_type": "code",
   "execution_count": 45,
   "metadata": {},
   "outputs": [
    {
     "data": {
      "image/png": "[encoded data removed]",
      "text/plain": [
       "<Figure size 1600x200 with 1 Axes>"
      ]
     },
     "metadata": {},
     "output_type": "display_data"
    }
   ],
   "source": [
    "fig, ax = plt.subplots(figsize=(16, 2))\n",
    "ax = data_train.boxplot(column='power', vert=False)\n",
    "ax.set_title('Диаграмма размаха для мощности автомобилей', size=18)\n",
    "ax.set_xlabel('Мощность в л.с.', size=14)\n",
    "plt.xlim(0, 2000)\n",
    "plt.show()"
   ]
  },
  {
   "cell_type": "markdown",
   "metadata": {},
   "source": [
    "На сегодняшний день в среднем мощности автомобилей доходят до 700-800 л.с. Следовательно, значения больше 800 точно являются аномалиями в данном датасете. \n",
    "Также мощности авто в 0 л.с. являются аномалиями, от которых следует избавиться. В целом мощность современных автомобилей начинается от 20 л.с., следовательно эту цифру можно использовать в качестве нижнего порога.\n",
    "\n",
    "В среднем автомобили имеют мощность до 250 л.с., т.к. свыше 250 л.с. уже облагаются по более высокой ставке, отсюда из диаграммы размаха и видно, что \"усы\" заканчиваются на 250 л.с. При этом мне кажется целесообразным отбросить автомобили с мощностью ниже 800 л.с., а не 250, т.к. иначе мы потеряем автомобили высокой мощности из выборки."
   ]
  },
  {
   "cell_type": "markdown",
   "metadata": {},
   "source": [
    "Посмотрим внимательнее на диаграмму размаха для года регистрации автомобилей."
   ]
  },
  {
   "cell_type": "code",
   "execution_count": 46,
   "metadata": {},
   "outputs": [
    {
     "data": {
      "image/png": "[encoded data removed]",
      "text/plain": [
       "<Figure size 1600x200 with 1 Axes>"
      ]
     },
     "metadata": {},
     "output_type": "display_data"
    }
   ],
   "source": [
    "fig, ax = plt.subplots(figsize=(16, 2))\n",
    "ax = data_train.boxplot(column='registration_year', vert=False)\n",
    "ax.set_title('Диаграмма размаха для года регистрации автомобилей', size=18)\n",
    "ax.set_xlabel('Год', size=14)\n",
    "plt.xlim(1980, 2020)\n",
    "plt.show()"
   ]
  },
  {
   "cell_type": "markdown",
   "metadata": {},
   "source": [
    "В целом здесь все адекватно. Будем отбрасывать авто после 2016 года, поскольку данные были выгружены в 2016 году и наличие авто с регистрацией позже является очевидным техническим сбоем:"
   ]
  },
  {
   "cell_type": "code",
   "execution_count": 47,
   "metadata": {},
   "outputs": [],
   "source": [
    "data_train = data_train.query('registration_year <= 2016')"
   ]
  },
  {
   "cell_type": "markdown",
   "metadata": {},
   "source": [
    "Отбросим автомобили стоимости 0:"
   ]
  },
  {
   "cell_type": "code",
   "execution_count": 48,
   "metadata": {},
   "outputs": [],
   "source": [
    "data_train = data_train[data_train['price'] > 0]"
   ]
  },
  {
   "cell_type": "markdown",
   "metadata": {},
   "source": [
    "Отбросим автомобили с мощностью двигателя меньше 20 л.с. и выше 800 л.с.:"
   ]
  },
  {
   "cell_type": "code",
   "execution_count": 49,
   "metadata": {},
   "outputs": [],
   "source": [
    "data_train = data_train.query('power > 20 and power < 800')"
   ]
  },
  {
   "cell_type": "markdown",
   "metadata": {},
   "source": [
    "Скорректируем аномалии на валидационной и тестовой выборках:"
   ]
  },
  {
   "cell_type": "code",
   "execution_count": 50,
   "metadata": {},
   "outputs": [],
   "source": [
    "data_valid = data_valid.query('registration_year <= 2016')\n",
    "data_valid = data_valid[data_valid['price'] > 0]\n",
    "data_valid = data_valid.query('power > 20 and power < 800')\n",
    "\n",
    "data_test = data_test.query('registration_year <= 2016')\n",
    "data_test = data_test[data_test['price'] > 0]\n",
    "data_test = data_test.query('power > 20 and power < 800')"
   ]
  },
  {
   "cell_type": "code",
   "execution_count": 51,
   "metadata": {},
   "outputs": [],
   "source": [
    "data_train = data_train.reset_index(drop=True)\n",
    "data_valid = data_valid.reset_index(drop=True)\n",
    "data_test = data_test.reset_index(drop=True)"
   ]
  },
  {
   "cell_type": "markdown",
   "metadata": {},
   "source": [
    "**Вывод:**<br/>\n",
    "Таким образом, в данном разделе мы импортировали исходные данные, удалили явные дубликаты, привели заголовки к змеиному регистру, избавились от неинформативных столбцов, обработали аномалии и пропуски в данных. Теперь можно переходить к обучению моделей."
   ]
  },
  {
   "cell_type": "markdown",
   "metadata": {},
   "source": [
    "## Обучение моделей"
   ]
  },
  {
   "cell_type": "markdown",
   "metadata": {},
   "source": [
    "### Подготовка данных к обучению"
   ]
  },
  {
   "cell_type": "markdown",
   "metadata": {},
   "source": [
    "#### Разбиение данных на признаки и таргет по выборкам"
   ]
  },
  {
   "cell_type": "code",
   "execution_count": 52,
   "metadata": {},
   "outputs": [],
   "source": [
    "# разобьем обучающую выборку на признаки и таргет\n",
    "train_target = data_train['price']\n",
    "train_features = data_train.drop('price', axis=1)\n",
    "\n",
    "# разобьем валидационную выборку на признаки и таргет\n",
    "valid_target = data_valid['price']\n",
    "valid_features = data_valid.drop('price', axis=1)\n",
    "\n",
    "# разобьем тестовую выборку на признаки и таргет\n",
    "test_target = data_test['price']\n",
    "test_features = data_test.drop('price', axis=1)"
   ]
  },
  {
   "cell_type": "markdown",
   "metadata": {},
   "source": [
    "#### Кодирование категориальных переменных"
   ]
  },
  {
   "cell_type": "code",
   "execution_count": 53,
   "metadata": {},
   "outputs": [],
   "source": [
    "# выделим категориальные признаки\n",
    "cat_columns = ['vehicle_type', 'gearbox', 'model', 'fuel_type', 'brand', 'repaired']\n",
    "\n",
    "# применим порядковое кодирование\n",
    "encoder = OrdinalEncoder(handle_unknown='use_encoded_value', unknown_value=1000)\n",
    "\n",
    "encoder.fit(train_features[cat_columns])\n",
    "\n",
    "train_features[cat_columns] = encoder.transform(train_features[cat_columns])\n",
    "valid_features[cat_columns] = encoder.transform(valid_features[cat_columns])\n",
    "test_features[cat_columns] = encoder.transform(test_features[cat_columns])"
   ]
  },
  {
   "cell_type": "markdown",
   "metadata": {},
   "source": [
    "#### Масштабирование данных"
   ]
  },
  {
   "cell_type": "code",
   "execution_count": 54,
   "metadata": {},
   "outputs": [],
   "source": [
    "# выделим числовые признаки\n",
    "num_columns = ['registration_year', 'power', 'kilometer']\n",
    "\n",
    "# отмасштабируем числовые признаки\n",
    "scaler = StandardScaler()\n",
    "scaler.fit(train_features[num_columns])\n",
    "\n",
    "train_features[num_columns] = scaler.transform(train_features[num_columns])\n",
    "valid_features[num_columns] = scaler.transform(valid_features[num_columns])\n",
    "test_features[num_columns] = scaler.transform(test_features[num_columns])"
   ]
  },
  {
   "cell_type": "markdown",
   "metadata": {},
   "source": [
    "#### Добавление метрики качества"
   ]
  },
  {
   "cell_type": "markdown",
   "metadata": {},
   "source": [
    "Поскольку в качестве метрики качества необходимо использовать RMSE, добавим следующую пользовательскую функцию для удобства:"
   ]
  },
  {
   "cell_type": "code",
   "execution_count": 56,
   "metadata": {},
   "outputs": [],
   "source": [
    "def rmse(target, predictions):\n",
    "    return mean_squared_error(target, predictions) ** 0.5"
   ]
  },
  {
   "cell_type": "markdown",
   "metadata": {},
   "source": [
    "### Dummy model"
   ]
  },
  {
   "cell_type": "markdown",
   "metadata": {},
   "source": [
    "Построим дамми модель по среднему значению, с которой будем сравнивать финальную модель на адекватность."
   ]
  },
  {
   "cell_type": "code",
   "execution_count": 57,
   "metadata": {
    "scrolled": true
   },
   "outputs": [
    {
     "data": {
      "text/plain": [
       "4608.239345991493"
      ]
     },
     "execution_count": 57,
     "metadata": {},
     "output_type": "execute_result"
    }
   ],
   "source": [
    "model = DummyRegressor(strategy='mean')\n",
    "model.fit(train_features, train_target)\n",
    "predictions = model.predict(test_features)\n",
    "dummy_rmse = rmse(test_target, predictions)\n",
    "dummy_rmse"
   ]
  },
  {
   "cell_type": "markdown",
   "metadata": {},
   "source": [
    "### Decision Tree Regression"
   ]
  },
  {
   "cell_type": "code",
   "execution_count": 58,
   "metadata": {},
   "outputs": [
    {
     "name": "stdout",
     "output_type": "stream",
     "text": [
      "Лучшая модель достигается при max_depth = 9. \n",
      "RMSE модели =  2036.847771531426.\n"
     ]
    }
   ],
   "source": [
    "# через цикл будем выбирать модель с наименьшим rmse, меняя max_depth\n",
    "\n",
    "best_rmse = 1e10\n",
    "best_max_depth = 1\n",
    "\n",
    "for depth in range(1, 10):\n",
    "    model = DecisionTreeRegressor(random_state=RANDOM_STATE, max_depth=depth)\n",
    "    model.fit(train_features, train_target)\n",
    "    predictions = model.predict(valid_features)\n",
    "\n",
    "    if rmse(valid_target, predictions) < best_rmse:\n",
    "        best_rmse = rmse(valid_target, predictions)\n",
    "        best_max_depth = depth\n",
    "\n",
    "print(f'Лучшая модель достигается при max_depth = {best_max_depth}. \\nRMSE модели =  {best_rmse}.')"
   ]
  },
  {
   "cell_type": "markdown",
   "metadata": {},
   "source": [
    "RMSE 2037 меньше 2500, что говорит о том, что эту модель можно рассматривать в дальнейшем."
   ]
  },
  {
   "cell_type": "markdown",
   "metadata": {},
   "source": [
    "### Random Forest Regression"
   ]
  },
  {
   "cell_type": "code",
   "execution_count": 59,
   "metadata": {
    "scrolled": true
   },
   "outputs": [
    {
     "name": "stdout",
     "output_type": "stream",
     "text": [
      "Лучшая модель достигается при n_estimators = 91.\n",
      "RMSE модели =  1954.4339376273133.\n",
      "CPU times: user 1min 58s, sys: 515 ms, total: 1min 59s\n",
      "Wall time: 2min\n"
     ]
    }
   ],
   "source": [
    "%%time\n",
    "\n",
    "best_rmse = 1e10\n",
    "best_n_est = 1\n",
    "\n",
    "for n_est in range(1, 101, 10):\n",
    "    model = RandomForestRegressor(random_state=RANDOM_STATE, \n",
    "                                  max_depth=9, \n",
    "                                  n_estimators=n_est)\n",
    "    model.fit(train_features, train_target)\n",
    "    predictions = model.predict(valid_features)\n",
    "\n",
    "    if rmse(valid_target, predictions) < best_rmse:\n",
    "        best_rmse = rmse(valid_target, predictions)\n",
    "        best_n_est = n_est\n",
    "\n",
    "print(f'Лучшая модель достигается при n_estimators = {best_n_est}.')\n",
    "print(f'RMSE модели =  {best_rmse}.')"
   ]
  },
  {
   "cell_type": "markdown",
   "metadata": {},
   "source": [
    "### LightGBM"
   ]
  },
  {
   "cell_type": "code",
   "execution_count": 60,
   "metadata": {},
   "outputs": [
    {
     "name": "stdout",
     "output_type": "stream",
     "text": [
      "Лучшая модель достигается при num_leaves = 120 и max_depth = 9.\n",
      "RMSE модели = 1611.8537902406156.\n",
      "CPU times: user 8min 12s, sys: 15.7 s, total: 8min 28s\n",
      "Wall time: 1min 11s\n"
     ]
    }
   ],
   "source": [
    "%%time\n",
    "\n",
    "best_rmse = 1e10\n",
    "best_leaf = 0\n",
    "best_max_depth = 1\n",
    "\n",
    "for leaf, depth in itertools.product(range(10, 121, 10), range(1,10)):\n",
    "    model = lgb.LGBMRegressor(random_state=RANDOM_STATE, \n",
    "                              max_depth=depth, \n",
    "                              num_leaves=leaf)\n",
    "    model.fit(train_features, train_target)\n",
    "    predictions = model.predict(valid_features)\n",
    "    \n",
    "    if rmse(valid_target, predictions) < best_rmse:\n",
    "        best_rmse = rmse(valid_target, predictions)\n",
    "        best_leaf = leaf\n",
    "        best_max_depth = depth\n",
    "        \n",
    "print(f'Лучшая модель достигается при num_leaves = {best_leaf} и max_depth = {best_max_depth}.')\n",
    "print(f'RMSE модели = {best_rmse}.')"
   ]
  },
  {
   "cell_type": "markdown",
   "metadata": {},
   "source": [
    "**Вывод:**<br/>\n",
    "В данном разделе мы построили несколько моделей для прогноза цены автомобилей по признакам. \n",
    "Далее мы проанализируем модели на скорость работы и выдаваемый RMSE, выберем наилучшую и проведем финальный тест."
   ]
  },
  {
   "cell_type": "markdown",
   "metadata": {},
   "source": [
    "## Анализ моделей"
   ]
  },
  {
   "cell_type": "markdown",
   "metadata": {},
   "source": [
    "Результаты исследования моделей будем заносить в таблицу `result`."
   ]
  },
  {
   "cell_type": "code",
   "execution_count": 61,
   "metadata": {},
   "outputs": [],
   "source": [
    "results = pd.DataFrame(columns=['fit_time', 'predict_time', 'rmse'], \n",
    "                       index=['decision_tree', 'random_forest', 'lgb'])"
   ]
  },
  {
   "cell_type": "markdown",
   "metadata": {},
   "source": [
    "### Decision Tree Regression"
   ]
  },
  {
   "cell_type": "code",
   "execution_count": 62,
   "metadata": {},
   "outputs": [],
   "source": [
    "model = DecisionTreeRegressor(random_state=RANDOM_STATE, max_depth=9)"
   ]
  },
  {
   "cell_type": "code",
   "execution_count": 63,
   "metadata": {},
   "outputs": [],
   "source": [
    "start = time()\n",
    "model.fit(train_features, train_target)\n",
    "end = time()\n",
    "fit_time = (end - start) / 60"
   ]
  },
  {
   "cell_type": "code",
   "execution_count": 64,
   "metadata": {},
   "outputs": [],
   "source": [
    "start = time()\n",
    "predictions = model.predict(valid_features)\n",
    "end = time()\n",
    "predict_time = (end - start) / 60 "
   ]
  },
  {
   "cell_type": "code",
   "execution_count": 65,
   "metadata": {},
   "outputs": [],
   "source": [
    "results.loc['decision_tree', 'fit_time'] = fit_time\n",
    "results.loc['decision_tree', 'predict_time'] = predict_time\n",
    "results.loc['decision_tree', 'rmse'] = rmse(valid_target, predictions)"
   ]
  },
  {
   "cell_type": "markdown",
   "metadata": {},
   "source": [
    "### Random Forest"
   ]
  },
  {
   "cell_type": "code",
   "execution_count": 66,
   "metadata": {},
   "outputs": [],
   "source": [
    "model = RandomForestRegressor(random_state=RANDOM_STATE, max_depth=9, n_estimators=91)"
   ]
  },
  {
   "cell_type": "code",
   "execution_count": 67,
   "metadata": {},
   "outputs": [],
   "source": [
    "start = time()\n",
    "model.fit(train_features, train_target)\n",
    "end = time()\n",
    "fit_time = (end - start) / 60"
   ]
  },
  {
   "cell_type": "code",
   "execution_count": 68,
   "metadata": {},
   "outputs": [],
   "source": [
    "start = time()\n",
    "predictions = model.predict(valid_features)\n",
    "end = time()\n",
    "predict_time = (end - start) / 60 "
   ]
  },
  {
   "cell_type": "code",
   "execution_count": 69,
   "metadata": {},
   "outputs": [],
   "source": [
    "results.loc['random_forest', 'fit_time'] = fit_time\n",
    "results.loc['random_forest', 'predict_time'] = predict_time\n",
    "results.loc['random_forest', 'rmse'] = rmse(valid_target, predictions)"
   ]
  },
  {
   "cell_type": "markdown",
   "metadata": {},
   "source": [
    "### Gradient Boosting"
   ]
  },
  {
   "cell_type": "code",
   "execution_count": 70,
   "metadata": {},
   "outputs": [],
   "source": [
    "model = lgb.LGBMRegressor(random_state=RANDOM_STATE, max_depth=9, num_leaves=120)"
   ]
  },
  {
   "cell_type": "code",
   "execution_count": 71,
   "metadata": {},
   "outputs": [],
   "source": [
    "start = time()\n",
    "model.fit(train_features, train_target)\n",
    "end = time()\n",
    "fit_time = (end - start) / 60"
   ]
  },
  {
   "cell_type": "code",
   "execution_count": 72,
   "metadata": {},
   "outputs": [],
   "source": [
    "start = time()\n",
    "predictions = model.predict(valid_features)\n",
    "end = time()\n",
    "predict_time = (end - start) / 60 "
   ]
  },
  {
   "cell_type": "code",
   "execution_count": 73,
   "metadata": {},
   "outputs": [],
   "source": [
    "results.loc['lgb', 'fit_time'] = fit_time\n",
    "results.loc['lgb', 'predict_time'] = predict_time\n",
    "results.loc['lgb', 'rmse'] = rmse(valid_target, predictions)"
   ]
  },
  {
   "cell_type": "markdown",
   "metadata": {},
   "source": [
    "### Выбор наилучшей модели"
   ]
  },
  {
   "cell_type": "markdown",
   "metadata": {},
   "source": [
    "Посмотрим на получившиеся результаты"
   ]
  },
  {
   "cell_type": "code",
   "execution_count": 74,
   "metadata": {
    "scrolled": true
   },
   "outputs": [
    {
     "data": {
      "text/html": [
       "<div>\n",
       "<style scoped>\n",
       "    .dataframe tbody tr th:only-of-type {\n",
       "        vertical-align: middle;\n",
       "    }\n",
       "\n",
       "    .dataframe tbody tr th {\n",
       "        vertical-align: top;\n",
       "    }\n",
       "\n",
       "    .dataframe thead th {\n",
       "        text-align: right;\n",
       "    }\n",
       "</style>\n",
       "<table border=\"1\" class=\"dataframe\">\n",
       "  <thead>\n",
       "    <tr style=\"text-align: right;\">\n",
       "      <th></th>\n",
       "      <th>fit_time</th>\n",
       "      <th>predict_time</th>\n",
       "      <th>rmse</th>\n",
       "    </tr>\n",
       "  </thead>\n",
       "  <tbody>\n",
       "    <tr>\n",
       "      <th>lgb</th>\n",
       "      <td>0.013328</td>\n",
       "      <td>0.003105</td>\n",
       "      <td>1611.85379</td>\n",
       "    </tr>\n",
       "    <tr>\n",
       "      <th>random_forest</th>\n",
       "      <td>0.396102</td>\n",
       "      <td>0.007782</td>\n",
       "      <td>1954.433938</td>\n",
       "    </tr>\n",
       "    <tr>\n",
       "      <th>decision_tree</th>\n",
       "      <td>0.006969</td>\n",
       "      <td>0.000177</td>\n",
       "      <td>2036.847772</td>\n",
       "    </tr>\n",
       "  </tbody>\n",
       "</table>\n",
       "</div>"
      ],
      "text/plain": [
       "               fit_time predict_time         rmse\n",
       "lgb            0.013328     0.003105   1611.85379\n",
       "random_forest  0.396102     0.007782  1954.433938\n",
       "decision_tree  0.006969     0.000177  2036.847772"
      ]
     },
     "execution_count": 74,
     "metadata": {},
     "output_type": "execute_result"
    }
   ],
   "source": [
    "results.sort_values(by='rmse')"
   ]
  },
  {
   "cell_type": "markdown",
   "metadata": {},
   "source": [
    "**Вывод:** <br/>\n",
    "\n",
    "Все модели показали RMSE ниже 2500.\n",
    "\n",
    "Наилучшей моделью с точки зрения RMSE оказалась модель LightGBM - она дала RMSE 1611. По скорости обучения она оказалась медленнее дерева решений, но быстрее случайного леса. Таким образом, рекомендуется использовать модель LGBMRegressor с параметрами `max_depth=9` и `num_leaves=120` для прогнозирования стоимости авто."
   ]
  },
  {
   "cell_type": "markdown",
   "metadata": {},
   "source": [
    "## Финальное тестирование"
   ]
  },
  {
   "cell_type": "markdown",
   "metadata": {},
   "source": [
    "Проведем финальное тестирование выбранной модели: обучим LGBM на обучающей выборке и оценим точность предсказания для тестовой выборки."
   ]
  },
  {
   "cell_type": "code",
   "execution_count": 75,
   "metadata": {
    "scrolled": false
   },
   "outputs": [
    {
     "name": "stdout",
     "output_type": "stream",
     "text": [
      "RMSE итоговой модели: 1605.0508748468383\n",
      "Модель лучше дамми модели\n",
      "CPU times: user 7.86 s, sys: 253 ms, total: 8.11 s\n",
      "Wall time: 1.14 s\n"
     ]
    }
   ],
   "source": [
    "%%time\n",
    "model = lgb.LGBMRegressor(random_state=RANDOM_STATE, max_depth=9, num_leaves=120)\n",
    "model.fit(train_features, train_target)\n",
    "predictions = model.predict(test_features)\n",
    "print(f'RMSE итоговой модели: {rmse(test_target, predictions)}')\n",
    "\n",
    "# сравним с rmse dummy модели:\n",
    "if rmse(test_target, predictions) >= dummy_rmse:\n",
    "    print('Модель хуже дамми модели')\n",
    "else:\n",
    "    print('Модель лучше дамми модели')"
   ]
  },
  {
   "cell_type": "markdown",
   "metadata": {},
   "source": [
    "**Вывод:** <br/>\n",
    "Полученный RMSE оказался ниже порога в 2500, следовательно, задача выполнена, модель действительно подходит для целей данного проекта. Также полученная модель оказалась лучше dummy модели, что говорит о ее адекватности."
   ]
  },
  {
   "cell_type": "markdown",
   "metadata": {},
   "source": [
    "## Общий вывод"
   ]
  },
  {
   "cell_type": "markdown",
   "metadata": {},
   "source": [
    "В рамках данного проекта перед нами стояла задача построить модель прогнозирования рыночной стоимости автомобиля, которая будет работать быстро и наиболее точно предсказывать стоимость.\n",
    "\n",
    "На первом этапе работы мы импортировали исходные данные, удалили явные дубликаты, привели заголовки к змеиному регистру и избавились от неинформативных столбцов.\n",
    "Далее мы разбили данные на обучающую, валидационную и тестовую выборки в пропорции `3:1:1` и затем уже обработали аномалии и пропуски в данных. \n",
    "\n",
    "Затем мы подготовили данные к обучению, закодировав категориальные переменные и отмасштабировав данные.\n",
    "\n",
    "В ходе обучения были построены следующие модели:\n",
    "1. Дерево решений.\n",
    "1. Случайный лес.\n",
    "1. Градиентный бустинг.\n",
    "\n",
    "Все модели показали RMSE ниже 2500.\n",
    "\n",
    "Наилучшей моделью с точки зрения RMSE оказалась модель градиентного бустинга - она дала RMSE `1611` на валидационной выборке. По скорости обучения она оказалась быстрее моделей с RMSE ниже 2500. При финальном тестировании на тестовой выборке модель показала RMSE `1605`, что также свидетельствует о хорошей предсказательной точности модели. \n",
    "\n",
    "Таким образом, рекомендуется использовать модель LGBMRegressor с параметрами `max_depth=9` и `num_leaves=120` для прогнозирования стоимости авто."
   ]
  }
 ],
 "metadata": {
  "kernelspec": {
   "display_name": "Python 3 (ipykernel)",
   "language": "python",
   "name": "python3"
  },
  "language_info": {
   "codemirror_mode": {
    "name": "ipython",
    "version": 3
   },
   "file_extension": ".py",
   "mimetype": "text/x-python",
   "name": "python",
   "nbconvert_exporter": "python",
   "pygments_lexer": "ipython3",
   "version": "3.9.5"
  },
  "toc": {
   "base_numbering": 1,
   "nav_menu": {},
   "number_sections": true,
   "sideBar": true,
   "skip_h1_title": true,
   "title_cell": "Table of Contents",
   "title_sidebar": "Contents",
   "toc_cell": false,
   "toc_position": {
    "height": "calc(100% - 180px)",
    "left": "10px",
    "top": "150px",
    "width": "288px"
   },
   "toc_section_display": true,
   "toc_window_display": true
  }
 },
 "nbformat": 4,
 "nbformat_minor": 2
}
