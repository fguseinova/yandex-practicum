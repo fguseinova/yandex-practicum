{
 "cells": [
  {
   "cell_type": "markdown",
   "id": "f8c9d450",
   "metadata": {
    "toc": true
   },
   "source": [
    "<h1>Содержание<span class=\"tocSkip\"></span></h1>\n",
    "<div class=\"toc\"><ul class=\"toc-item\"><li><span><a href=\"#Описание-проекта-и-первоначальный-обзор-датасета\" data-toc-modified-id=\"Описание-проекта-и-первоначальный-обзор-датасета-1\"><span class=\"toc-item-num\">1&nbsp;&nbsp;</span>Описание проекта и первоначальный обзор датасета</a></span><ul class=\"toc-item\"><li><span><a href=\"#Описание-проекта\" data-toc-modified-id=\"Описание-проекта-1.1\"><span class=\"toc-item-num\">1.1&nbsp;&nbsp;</span>Описание проекта</a></span></li><li><span><a href=\"#Описание-данных\" data-toc-modified-id=\"Описание-данных-1.2\"><span class=\"toc-item-num\">1.2&nbsp;&nbsp;</span>Описание данных</a></span></li><li><span><a href=\"#План-работы\" data-toc-modified-id=\"План-работы-1.3\"><span class=\"toc-item-num\">1.3&nbsp;&nbsp;</span>План работы</a></span></li><li><span><a href=\"#Импорт-библиотек,-датасета-и-ознакомление-с-данными\" data-toc-modified-id=\"Импорт-библиотек,-датасета-и-ознакомление-с-данными-1.4\"><span class=\"toc-item-num\">1.4&nbsp;&nbsp;</span>Импорт библиотек, датасета и ознакомление с данными</a></span></li></ul></li><li><span><a href=\"#Разбиение-данных-на-выборки\" data-toc-modified-id=\"Разбиение-данных-на-выборки-2\"><span class=\"toc-item-num\">2&nbsp;&nbsp;</span>Разбиение данных на выборки</a></span></li><li><span><a href=\"#Исследование-моделей\" data-toc-modified-id=\"Исследование-моделей-3\"><span class=\"toc-item-num\">3&nbsp;&nbsp;</span>Исследование моделей</a></span><ul class=\"toc-item\"><li><span><a href=\"#Логистическая-регрессия\" data-toc-modified-id=\"Логистическая-регрессия-3.1\"><span class=\"toc-item-num\">3.1&nbsp;&nbsp;</span>Логистическая регрессия</a></span></li><li><span><a href=\"#Дерево-решений\" data-toc-modified-id=\"Дерево-решений-3.2\"><span class=\"toc-item-num\">3.2&nbsp;&nbsp;</span>Дерево решений</a></span></li><li><span><a href=\"#Случайный-лес\" data-toc-modified-id=\"Случайный-лес-3.3\"><span class=\"toc-item-num\">3.3&nbsp;&nbsp;</span>Случайный лес</a></span></li></ul></li><li><span><a href=\"#Проверка-моделей-на-тестовой-выборке\" data-toc-modified-id=\"Проверка-моделей-на-тестовой-выборке-4\"><span class=\"toc-item-num\">4&nbsp;&nbsp;</span>Проверка моделей на тестовой выборке</a></span><ul class=\"toc-item\"><li><span><a href=\"#Логистическая-регрессия\" data-toc-modified-id=\"Логистическая-регрессия-4.1\"><span class=\"toc-item-num\">4.1&nbsp;&nbsp;</span>Логистическая регрессия</a></span></li><li><span><a href=\"#Дерево-решений\" data-toc-modified-id=\"Дерево-решений-4.2\"><span class=\"toc-item-num\">4.2&nbsp;&nbsp;</span>Дерево решений</a></span></li><li><span><a href=\"#Случайный-лес\" data-toc-modified-id=\"Случайный-лес-4.3\"><span class=\"toc-item-num\">4.3&nbsp;&nbsp;</span>Случайный лес</a></span></li></ul></li><li><span><a href=\"#(бонус)-Проверка-моделей-на-адекватность\" data-toc-modified-id=\"(бонус)-Проверка-моделей-на-адекватность-5\"><span class=\"toc-item-num\">5&nbsp;&nbsp;</span>(бонус) Проверка моделей на адекватность</a></span><ul class=\"toc-item\"><li><span><a href=\"#Dummy-модель\" data-toc-modified-id=\"Dummy-модель-5.1\"><span class=\"toc-item-num\">5.1&nbsp;&nbsp;</span>Dummy модель</a></span></li><li><span><a href=\"#Логистическая-регрессия\" data-toc-modified-id=\"Логистическая-регрессия-5.2\"><span class=\"toc-item-num\">5.2&nbsp;&nbsp;</span>Логистическая регрессия</a></span></li><li><span><a href=\"#Дерево-решений\" data-toc-modified-id=\"Дерево-решений-5.3\"><span class=\"toc-item-num\">5.3&nbsp;&nbsp;</span>Дерево решений</a></span></li><li><span><a href=\"#Случайный-лес\" data-toc-modified-id=\"Случайный-лес-5.4\"><span class=\"toc-item-num\">5.4&nbsp;&nbsp;</span>Случайный лес</a></span></li></ul></li><li><span><a href=\"#Вывод\" data-toc-modified-id=\"Вывод-6\"><span class=\"toc-item-num\">6&nbsp;&nbsp;</span>Вывод</a></span></li><li><span><a href=\"#Чек-лист-готовности-проекта\" data-toc-modified-id=\"Чек-лист-готовности-проекта-7\"><span class=\"toc-item-num\">7&nbsp;&nbsp;</span>Чек-лист готовности проекта</a></span></li></ul></div>"
   ]
  },
  {
   "cell_type": "markdown",
   "id": "99d398a0",
   "metadata": {},
   "source": [
    "# Рекомендация тарифов"
   ]
  },
  {
   "cell_type": "markdown",
   "id": "5efa0811",
   "metadata": {},
   "source": [
    "## Описание проекта и первоначальный обзор датасета"
   ]
  },
  {
   "cell_type": "markdown",
   "id": "9eba0fb9",
   "metadata": {},
   "source": [
    "### Описание проекта"
   ]
  },
  {
   "cell_type": "markdown",
   "id": "17e2dcac",
   "metadata": {},
   "source": [
    "Оператор мобильной связи «Мегалайн» выяснил: многие клиенты пользуются архивными тарифами. Они хотят построить систему, способную проанализировать поведение клиентов и предложить пользователям новый тариф: «Смарт» или «Ультра».\n",
    "В нашем распоряжении данные о поведении клиентов, которые уже перешли на эти тарифы (из проекта курса «Статистический анализ данных»). Нужно построить модель для задачи классификации, которая выберет подходящий тариф.\n",
    "Необходимо построить модель с максимально большим значением accuracy: нужно довести долю правильных ответов по крайней мере до 0.75. "
   ]
  },
  {
   "cell_type": "markdown",
   "id": "2ee74a9c",
   "metadata": {},
   "source": [
    "### Описание данных"
   ]
  },
  {
   "cell_type": "markdown",
   "id": "870d338f",
   "metadata": {},
   "source": [
    "Каждый объект в наборе данных — это информация о поведении одного пользователя за месяц. Известно:\n",
    "* `сalls` — количество звонков,\n",
    "* `minutes` — суммарная длительность звонков в минутах,\n",
    "* `messages` — количество sms-сообщений,\n",
    "* `mb_used` — израсходованный интернет-трафик в Мб,\n",
    "* `is_ultra` — каким тарифом пользовался в течение месяца («Ультра» — 1, «Смарт» — 0)."
   ]
  },
  {
   "cell_type": "markdown",
   "id": "5d0da0a4",
   "metadata": {},
   "source": [
    "### План работы"
   ]
  },
  {
   "cell_type": "markdown",
   "id": "5db1fdd2",
   "metadata": {},
   "source": [
    "1. Открыть файл с данными и изучить его. \n",
    "1. Разделить исходные данные на обучающую, валидационную и тестовую выборки.\n",
    "1. Исследовать качество разных моделей, меняя гиперпараметры. \n",
    "1. Проверить качество модели на тестовой выборке.\n",
    "1. Дополнительно проверить модели на вменяемость по возможности. "
   ]
  },
  {
   "cell_type": "markdown",
   "id": "0ace1b10",
   "metadata": {},
   "source": [
    "### Импорт библиотек, датасета и ознакомление с данными"
   ]
  },
  {
   "cell_type": "code",
   "execution_count": 1,
   "id": "4677280f",
   "metadata": {},
   "outputs": [],
   "source": [
    "# импортируем библиотеки, которые понадобятся в ходе работы над проектом\n",
    "\n",
    "import pandas as pd\n",
    "\n",
    "import warnings\n",
    "warnings.filterwarnings('ignore')\n",
    "\n",
    "from sklearn.model_selection import train_test_split\n",
    "from sklearn.linear_model import LogisticRegression\n",
    "from sklearn.tree import DecisionTreeClassifier\n",
    "from sklearn.ensemble import RandomForestClassifier\n",
    "from sklearn.metrics import accuracy_score\n",
    "from sklearn.dummy import DummyClassifier"
   ]
  },
  {
   "cell_type": "code",
   "execution_count": 2,
   "id": "85edccf5",
   "metadata": {},
   "outputs": [],
   "source": [
    "# импортируем файл с исходными данными в переменную data\n",
    "try:\n",
    "    data = pd.read_csv('/datasets/users_behavior.csv')\n",
    "except:\n",
    "    # здесь была ссылка на загрузку данных с сервера Яндекса"
   ]
  },
  {
   "cell_type": "code",
   "execution_count": 3,
   "id": "379ab56f",
   "metadata": {},
   "outputs": [
    {
     "data": {
      "text/html": [
       "<div>\n",
       "<style scoped>\n",
       "    .dataframe tbody tr th:only-of-type {\n",
       "        vertical-align: middle;\n",
       "    }\n",
       "\n",
       "    .dataframe tbody tr th {\n",
       "        vertical-align: top;\n",
       "    }\n",
       "\n",
       "    .dataframe thead th {\n",
       "        text-align: right;\n",
       "    }\n",
       "</style>\n",
       "<table border=\"1\" class=\"dataframe\">\n",
       "  <thead>\n",
       "    <tr style=\"text-align: right;\">\n",
       "      <th></th>\n",
       "      <th>calls</th>\n",
       "      <th>minutes</th>\n",
       "      <th>messages</th>\n",
       "      <th>mb_used</th>\n",
       "      <th>is_ultra</th>\n",
       "    </tr>\n",
       "  </thead>\n",
       "  <tbody>\n",
       "    <tr>\n",
       "      <th>0</th>\n",
       "      <td>40.0</td>\n",
       "      <td>311.90</td>\n",
       "      <td>83.0</td>\n",
       "      <td>19915.42</td>\n",
       "      <td>0</td>\n",
       "    </tr>\n",
       "    <tr>\n",
       "      <th>1</th>\n",
       "      <td>85.0</td>\n",
       "      <td>516.75</td>\n",
       "      <td>56.0</td>\n",
       "      <td>22696.96</td>\n",
       "      <td>0</td>\n",
       "    </tr>\n",
       "    <tr>\n",
       "      <th>2</th>\n",
       "      <td>77.0</td>\n",
       "      <td>467.66</td>\n",
       "      <td>86.0</td>\n",
       "      <td>21060.45</td>\n",
       "      <td>0</td>\n",
       "    </tr>\n",
       "    <tr>\n",
       "      <th>3</th>\n",
       "      <td>106.0</td>\n",
       "      <td>745.53</td>\n",
       "      <td>81.0</td>\n",
       "      <td>8437.39</td>\n",
       "      <td>1</td>\n",
       "    </tr>\n",
       "    <tr>\n",
       "      <th>4</th>\n",
       "      <td>66.0</td>\n",
       "      <td>418.74</td>\n",
       "      <td>1.0</td>\n",
       "      <td>14502.75</td>\n",
       "      <td>0</td>\n",
       "    </tr>\n",
       "  </tbody>\n",
       "</table>\n",
       "</div>"
      ],
      "text/plain": [
       "   calls  minutes  messages   mb_used  is_ultra\n",
       "0   40.0   311.90      83.0  19915.42         0\n",
       "1   85.0   516.75      56.0  22696.96         0\n",
       "2   77.0   467.66      86.0  21060.45         0\n",
       "3  106.0   745.53      81.0   8437.39         1\n",
       "4   66.0   418.74       1.0  14502.75         0"
      ]
     },
     "execution_count": 3,
     "metadata": {},
     "output_type": "execute_result"
    }
   ],
   "source": [
    "# посмотрим на шапку исходной таблицы\n",
    "data.head()"
   ]
  },
  {
   "cell_type": "code",
   "execution_count": 4,
   "id": "152c3a68",
   "metadata": {},
   "outputs": [
    {
     "name": "stdout",
     "output_type": "stream",
     "text": [
      "<class 'pandas.core.frame.DataFrame'>\n",
      "RangeIndex: 3214 entries, 0 to 3213\n",
      "Data columns (total 5 columns):\n",
      " #   Column    Non-Null Count  Dtype  \n",
      "---  ------    --------------  -----  \n",
      " 0   calls     3214 non-null   float64\n",
      " 1   minutes   3214 non-null   float64\n",
      " 2   messages  3214 non-null   float64\n",
      " 3   mb_used   3214 non-null   float64\n",
      " 4   is_ultra  3214 non-null   int64  \n",
      "dtypes: float64(4), int64(1)\n",
      "memory usage: 125.7 KB\n"
     ]
    }
   ],
   "source": [
    "# посмотрим на данные о таблице\n",
    "data.info()"
   ]
  },
  {
   "cell_type": "code",
   "execution_count": 5,
   "id": "6caaabb2",
   "metadata": {},
   "outputs": [
    {
     "data": {
      "text/plain": [
       "calls       0\n",
       "minutes     0\n",
       "messages    0\n",
       "mb_used     0\n",
       "is_ultra    0\n",
       "dtype: int64"
      ]
     },
     "execution_count": 5,
     "metadata": {},
     "output_type": "execute_result"
    }
   ],
   "source": [
    "# на всякий случай проверим отсутствие пропусков в данных\n",
    "data.isnull().sum()"
   ]
  },
  {
   "cell_type": "code",
   "execution_count": 6,
   "id": "9231c865",
   "metadata": {},
   "outputs": [
    {
     "data": {
      "image/png": "[encoded data removed]",
      "text/plain": [
       "<Figure size 1080x1080 with 6 Axes>"
      ]
     },
     "metadata": {
      "needs_background": "light"
     },
     "output_type": "display_data"
    }
   ],
   "source": [
    "# построим общую гистограмму для всех столбцов таблицы\n",
    "data.hist(figsize=(15, 15));"
   ]
  },
  {
   "cell_type": "markdown",
   "id": "f88c846d",
   "metadata": {},
   "source": [
    "Посмотрим на количество тарифов Ультра и тарифов Смарт в исходном датасете."
   ]
  },
  {
   "cell_type": "code",
   "execution_count": 7,
   "id": "6fd046fa",
   "metadata": {},
   "outputs": [
    {
     "data": {
      "text/plain": [
       "0    0.693528\n",
       "1    0.306472\n",
       "Name: is_ultra, dtype: float64"
      ]
     },
     "execution_count": 7,
     "metadata": {},
     "output_type": "execute_result"
    }
   ],
   "source": [
    "data['is_ultra'].value_counts(True)"
   ]
  },
  {
   "cell_type": "markdown",
   "id": "0bebab5f",
   "metadata": {},
   "source": [
    "Исходя из результатов, мы видим, что количество тарифов Смарт в два раза больше, чем тарифов Ультра. "
   ]
  },
  {
   "cell_type": "markdown",
   "id": "8f3abfe1",
   "metadata": {},
   "source": [
    "**Вывод**:<br/>\n",
    "    Мы импортили исходную таблицу и получили общее первичное представление об исходных данных. В следующем разделе мы перейдем к разбиению данных на выборки. "
   ]
  },
  {
   "cell_type": "markdown",
   "id": "9be9a782",
   "metadata": {},
   "source": [
    "## Разбиение данных на выборки"
   ]
  },
  {
   "cell_type": "markdown",
   "id": "42fcfcfc",
   "metadata": {},
   "source": [
    "В этом разделе мы разобьем данные на выборки для построения моделей."
   ]
  },
  {
   "cell_type": "code",
   "execution_count": 8,
   "id": "022bf72e",
   "metadata": {},
   "outputs": [],
   "source": [
    "features = data.drop(labels=['is_ultra'], axis=1) # признаки\n",
    "target = data['is_ultra'] # целевой признак"
   ]
  },
  {
   "cell_type": "markdown",
   "id": "7ee9d6eb",
   "metadata": {},
   "source": [
    "Мы будем разбивать данные на обучающую, валидационную и тестовую выборку в отношении 3:1:1."
   ]
  },
  {
   "cell_type": "code",
   "execution_count": 9,
   "id": "1ad1756f",
   "metadata": {},
   "outputs": [],
   "source": [
    "# зададим random_state, который будет использоваться во всех моделях\n",
    "random_state = 12345"
   ]
  },
  {
   "cell_type": "code",
   "execution_count": 10,
   "id": "4d55d332",
   "metadata": {},
   "outputs": [],
   "source": [
    "features_train, features_test, target_train, target_test = train_test_split(features, \n",
    "                                                                            target, \n",
    "                                                                            test_size=0.2, \n",
    "                                                                            random_state=random_state)\n",
    "# получили тестовую выборку - 20%\n",
    "\n",
    "features_train, features_val, target_train, target_val = train_test_split(features_train, \n",
    "                                                                          target_train, \n",
    "                                                                          test_size=0.25, \n",
    "                                                                          random_state=random_state) \n",
    "# получили обучающую выборку – 0.75 * 0.8 = 0.6 (60%)\n",
    "# получили валидационную выборку – 0.25 * 0.8 = 0.2 (20%)"
   ]
  },
  {
   "cell_type": "markdown",
   "id": "09a9e740",
   "metadata": {},
   "source": [
    "**Вывод:**\n",
    "\n",
    "Мы разбили исходный датасет на признаки и целевой признак, а затем разделили и то, и другое на обучающую и тестовую выборку. Далее можно переходить к исследованию моделей."
   ]
  },
  {
   "cell_type": "markdown",
   "id": "85148844",
   "metadata": {},
   "source": [
    "## Исследование моделей"
   ]
  },
  {
   "cell_type": "markdown",
   "id": "42ab616b",
   "metadata": {},
   "source": [
    "В этом разделе мы построим три модели классификации: логистическую регрессию, дерево решений и случайный лес. "
   ]
  },
  {
   "cell_type": "code",
   "execution_count": 11,
   "id": "726048d7",
   "metadata": {},
   "outputs": [],
   "source": [
    "# добавим функцию, которая будет определять, подойдет ли нам accuracy конкретной модели\n",
    "\n",
    "accuracy_goal = .75\n",
    "\n",
    "def accuracy_check(accuracy):\n",
    "    if accuracy >= accuracy_goal:\n",
    "        print('Точность полученной модели выше целевой точности, её можно использовать.')\n",
    "    else:\n",
    "        print('Точность полученной модели ниже целевой точности, она не подходит.')"
   ]
  },
  {
   "cell_type": "markdown",
   "id": "9983ce0d",
   "metadata": {},
   "source": [
    "### Логистическая регрессия"
   ]
  },
  {
   "cell_type": "code",
   "execution_count": 12,
   "id": "fb37cb6b",
   "metadata": {},
   "outputs": [
    {
     "name": "stdout",
     "output_type": "stream",
     "text": [
      "Accuracy логистической регрессии = 0.7262830482115086\n",
      "Точность полученной модели ниже целевой точности, она не подходит.\n"
     ]
    }
   ],
   "source": [
    "logistic_regression = LogisticRegression(random_state=random_state, solver='lbfgs')\n",
    "\n",
    "logistic_regression.fit(features_train, target_train)\n",
    "# проверим на валидационной выборке\n",
    "predictions_val = logistic_regression.predict(features_val)\n",
    "accuracy = accuracy_score(target_val, predictions_val)\n",
    "\n",
    "print(f'Accuracy логистической регрессии = {accuracy}')\n",
    "accuracy_check(accuracy)"
   ]
  },
  {
   "cell_type": "markdown",
   "id": "f61354ef",
   "metadata": {},
   "source": [
    "### Дерево решений"
   ]
  },
  {
   "cell_type": "code",
   "execution_count": 13,
   "id": "8d0104d7",
   "metadata": {},
   "outputs": [
    {
     "name": "stdout",
     "output_type": "stream",
     "text": [
      "Лучшая модель дерева решений достигается при max_depth = 7. \n",
      "Accuracy этой модели составляет 0.7744945567651633\n",
      "Точность полученной модели выше целевой точности, её можно использовать.\n"
     ]
    }
   ],
   "source": [
    "# через цикл будем выбирать модель с наибольшим accuracy, меняя max_depth\n",
    "\n",
    "decision_tree = None\n",
    "best_accuracy = 0\n",
    "best_max_depth = 0\n",
    "\n",
    "for depth in range(1,10):\n",
    "    model = DecisionTreeClassifier(random_state=random_state, max_depth=depth)\n",
    "    model.fit(features_train, target_train)\n",
    "    # проверим на валидационной выборке\n",
    "    predicions_val = model.predict(features_val)\n",
    "    accuracy = accuracy_score(target_val, predicions_val)\n",
    "    if accuracy > best_accuracy:\n",
    "        decision_tree = model\n",
    "        best_accuracy = accuracy\n",
    "        best_max_depth = depth\n",
    "\n",
    "print(f'Лучшая модель дерева решений достигается при max_depth = {best_max_depth}. \\nAccuracy этой модели составляет {best_accuracy}')\n",
    "accuracy_check(accuracy)"
   ]
  },
  {
   "cell_type": "markdown",
   "id": "741b6974",
   "metadata": {},
   "source": [
    "### Случайный лес"
   ]
  },
  {
   "cell_type": "code",
   "execution_count": 14,
   "id": "97db436d",
   "metadata": {},
   "outputs": [
    {
     "name": "stdout",
     "output_type": "stream",
     "text": [
      "Лучшая модель случайного леса достигается при max_depth = 9 и n_estimators = 11.\n",
      "Accuracy этой модели составляет 0.7947122861586314\n",
      "Точность полученной модели выше целевой точности, её можно использовать.\n"
     ]
    }
   ],
   "source": [
    "# через цикл будем выбирать модель с наибольшим accuracy, меняя максимальную глубину и число деревьев в лесу\n",
    "\n",
    "random_forest = None\n",
    "best_accuracy = 0\n",
    "best_max_depth = 0\n",
    "best_n_estimators = 0\n",
    "\n",
    "for depth in range(1,10):\n",
    "    for est in range(1, 101, 10):\n",
    "        model = RandomForestClassifier(random_state=random_state, max_depth=depth, n_estimators=est)\n",
    "        model.fit(features_train, target_train)\n",
    "        # проверим на валидационной выборке\n",
    "        predictions_val = model.predict(features_val)\n",
    "        accuracy = accuracy_score(target_val, predictions_val)\n",
    "        if accuracy > best_accuracy:\n",
    "            random_forest = model\n",
    "            best_accuracy = accuracy\n",
    "            best_max_depth = depth\n",
    "            best_n_estimators = est\n",
    "\n",
    "print(f'Лучшая модель случайного леса достигается при max_depth = {best_max_depth} и n_estimators = {best_n_estimators}.\\nAccuracy этой модели составляет {best_accuracy}')\n",
    "accuracy_check(accuracy)"
   ]
  },
  {
   "cell_type": "markdown",
   "id": "59a36fde",
   "metadata": {},
   "source": [
    "**Вывод**:\n",
    "В данном разделе мы получили наилучшую модель – модель случайного леса с максимальной глубиной деревьев 9 и числом деревьев в лесу 11.\n",
    "Accuracy полученной модели составил 0.79, что выше 0.75. В целом точность данной модели достаточно высокая."
   ]
  },
  {
   "cell_type": "markdown",
   "id": "ddc8b907",
   "metadata": {},
   "source": [
    "<div class=\"alert alert-success\">\n",
    "<h2> Комментарий ревьюера <a class=\"tocSkip\"> </h2>\n",
    "\n",
    "<b>Все отлично!👍:</b> \n",
    "    \n",
    "Отличное исследование различных моделей.\n",
    "    \n",
    "В цикле также можно сохранять данные обучения - параметры и качество модели, чтобы можно было подробнее изучить их после перебора параметров. Так ты сможешь отслеживать как меняется качество при изменении того или иного параметра."
   ]
  },
  {
   "cell_type": "markdown",
   "id": "8f9c2804",
   "metadata": {},
   "source": [
    "## Проверка моделей на тестовой выборке"
   ]
  },
  {
   "cell_type": "markdown",
   "id": "49040d95",
   "metadata": {},
   "source": [
    "### Логистическая регрессия"
   ]
  },
  {
   "cell_type": "code",
   "execution_count": 15,
   "id": "cd9a74de",
   "metadata": {},
   "outputs": [
    {
     "name": "stdout",
     "output_type": "stream",
     "text": [
      "Accuracy логистической регрессии на тестовой выборке = 0.7589424572317263\n",
      "Точность полученной модели выше целевой точности, её можно использовать.\n"
     ]
    }
   ],
   "source": [
    "# проверим accuracy ранее построенной модели на тестовой выборке\n",
    "accuracy = logistic_regression.score(features_test, target_test)\n",
    "\n",
    "print(f'Accuracy логистической регрессии на тестовой выборке = {accuracy}')\n",
    "accuracy_check(accuracy)"
   ]
  },
  {
   "cell_type": "markdown",
   "id": "7b818040",
   "metadata": {},
   "source": [
    "На валидационной выборке наша модель не прошла порог, а вот на тестовой уже прошла, правда совсем немного превысив требуемые 0.75."
   ]
  },
  {
   "cell_type": "markdown",
   "id": "a2e400c8",
   "metadata": {},
   "source": [
    "### Дерево решений"
   ]
  },
  {
   "cell_type": "code",
   "execution_count": 16,
   "id": "c5b2551a",
   "metadata": {},
   "outputs": [
    {
     "name": "stdout",
     "output_type": "stream",
     "text": [
      "Accuracy дерева решений на тестовой выборке = 0.7884914463452566\n",
      "Точность полученной модели выше целевой точности, её можно использовать.\n"
     ]
    }
   ],
   "source": [
    "# проверим accuracy ранее построенной модели на тестовой выборке\n",
    "accuracy = decision_tree.score(features_test, target_test)\n",
    "\n",
    "print(f'Accuracy дерева решений на тестовой выборке = {accuracy}')\n",
    "accuracy_check(accuracy)"
   ]
  },
  {
   "cell_type": "markdown",
   "id": "ce3b8e7b",
   "metadata": {},
   "source": [
    "Accuracy на валидационной выборке был 0.774, здесь он составил 0.788 - немного выше."
   ]
  },
  {
   "cell_type": "markdown",
   "id": "57d9bc58",
   "metadata": {},
   "source": [
    "### Случайный лес"
   ]
  },
  {
   "cell_type": "code",
   "execution_count": 17,
   "id": "b691993c",
   "metadata": {},
   "outputs": [
    {
     "name": "stdout",
     "output_type": "stream",
     "text": [
      "Accuracy случайного леса на тестовой выборке = 0.7869362363919129\n",
      "Точность полученной модели выше целевой точности, её можно использовать.\n"
     ]
    }
   ],
   "source": [
    "# проверим accuracy ранее построенной модели на тестовой выборке\n",
    "accuracy = random_forest.score(features_test, target_test)\n",
    "\n",
    "print(f'Accuracy случайного леса на тестовой выборке = {accuracy}')\n",
    "accuracy_check(accuracy)"
   ]
  },
  {
   "cell_type": "markdown",
   "id": "fbc409a7",
   "metadata": {},
   "source": [
    "Точность случайного леса на тестовой выбрке немного снизилась по сравнению с точностью при проверке на валидационной выборке (было 0.794), однако она всё ещё выше целевой."
   ]
  },
  {
   "cell_type": "markdown",
   "id": "43c35807",
   "metadata": {},
   "source": [
    "**Вывод**:\n",
    "\n",
    "При проверке на тестовой выборке наивысшая точность была получена в модели дерева решений - 0.788. Эту модель неоходимо признать лучшей. "
   ]
  },
  {
   "cell_type": "markdown",
   "id": "6cc15a16",
   "metadata": {},
   "source": [
    "## (бонус) Проверка моделей на адекватность"
   ]
  },
  {
   "cell_type": "markdown",
   "id": "f710b084",
   "metadata": {},
   "source": [
    "Попробуем проверить модели на адекватность.\n",
    "Для этого посмотрим, переобучились или недоучились наши модели и насколько сильно. Посмотрим на точность для обучающей, тестовой и валидационной выборок."
   ]
  },
  {
   "cell_type": "markdown",
   "id": "389952fb",
   "metadata": {},
   "source": [
    "### Dummy модель"
   ]
  },
  {
   "cell_type": "markdown",
   "id": "d8d8eba8",
   "metadata": {},
   "source": [
    "Чтобы проверить модели на адекваность, построим дамми модель, которая будет предсказывать значения бинарной зависимой переменной независимо от регрессоров. Чтобы признать наши модели адекватными, мы должны будем показать, что их Accuracy выше Accuracy дамми модели."
   ]
  },
  {
   "cell_type": "code",
   "execution_count": 18,
   "id": "546ef88c",
   "metadata": {},
   "outputs": [
    {
     "name": "stdout",
     "output_type": "stream",
     "text": [
      "Accuracy дамми модели для всей выборки = 0.693528313627878\n"
     ]
    }
   ],
   "source": [
    "dummy_regr = DummyClassifier(strategy=\"constant\", constant=0)\n",
    "\n",
    "dummy_regr.fit(features_train, target_train)\n",
    "# рассчитаем точности\n",
    "accuracy = dummy_regr.score(features, target)\n",
    "\n",
    "print(f'Accuracy дамми модели для всей выборки = {accuracy}')"
   ]
  },
  {
   "cell_type": "markdown",
   "id": "804d1a3e",
   "metadata": {},
   "source": [
    "### Логистическая регрессия"
   ]
  },
  {
   "cell_type": "code",
   "execution_count": 19,
   "id": "6f8161f2",
   "metadata": {},
   "outputs": [
    {
     "name": "stdout",
     "output_type": "stream",
     "text": [
      "Логистическая регрессия:\n",
      "Accuracy обучающей выборки = 0.7510373443983402\n",
      "Accuracy валидационной выборки = 0.7262830482115086\n",
      "Accuracy тестовой выборки = 0.7589424572317263\n"
     ]
    }
   ],
   "source": [
    "# рассчитаем точности\n",
    "accuracy_train = logistic_regression.score(features_train, target_train)\n",
    "accuracy_val = logistic_regression.score(features_val, target_val)\n",
    "accuracy_test = logistic_regression.score(features_test, target_test)\n",
    "\n",
    "print('Логистическая регрессия:')\n",
    "print(f'Accuracy обучающей выборки = {accuracy_train}')\n",
    "print(f'Accuracy валидационной выборки = {accuracy_val}')\n",
    "print(f'Accuracy тестовой выборки = {accuracy_test}')"
   ]
  },
  {
   "cell_type": "markdown",
   "id": "3cb225e3",
   "metadata": {},
   "source": [
    "В целом модель достаточно адекватна: результаты достаточно близки друг к другу. Значения точности выше, чем в дамми модели."
   ]
  },
  {
   "cell_type": "markdown",
   "id": "def085fa",
   "metadata": {},
   "source": [
    "### Дерево решений"
   ]
  },
  {
   "cell_type": "code",
   "execution_count": 20,
   "id": "ad1575c7",
   "metadata": {},
   "outputs": [
    {
     "name": "stdout",
     "output_type": "stream",
     "text": [
      "Дерево решений:\n",
      "Accuracy обучающей выборки = 0.8506224066390041\n",
      "Accuracy валидационной выборки = 0.7744945567651633\n",
      "Accuracy тестовой выборки = 0.7884914463452566\n"
     ]
    }
   ],
   "source": [
    "# рассчитаем точности\n",
    "accuracy_train = decision_tree.score(features_train, target_train)\n",
    "accuracy_val = decision_tree.score(features_val, target_val)\n",
    "accuracy_test = decision_tree.score(features_test, target_test)\n",
    "\n",
    "print('Дерево решений:')\n",
    "print(f'Accuracy обучающей выборки = {accuracy_train}')\n",
    "print(f'Accuracy валидационной выборки = {accuracy_val}')\n",
    "print(f'Accuracy тестовой выборки = {accuracy_test}')"
   ]
  },
  {
   "cell_type": "markdown",
   "id": "d99132ed",
   "metadata": {},
   "source": [
    "Можно заметить, что модель переобучилась, то есть, она недостаточно хорошо поняла зависимости в данных. Значения точности выше, чем в дамми модели."
   ]
  },
  {
   "cell_type": "markdown",
   "id": "28385252",
   "metadata": {},
   "source": [
    "### Случайный лес"
   ]
  },
  {
   "cell_type": "code",
   "execution_count": 21,
   "id": "d72989e2",
   "metadata": {},
   "outputs": [
    {
     "name": "stdout",
     "output_type": "stream",
     "text": [
      "Случайный лес:\n",
      "Accuracy обучающей выборки = 0.8755186721991701\n",
      "Accuracy валидационной выборки = 0.7947122861586314\n",
      "Accuracy тестовой выборки = 0.7869362363919129\n"
     ]
    }
   ],
   "source": [
    "# рассчитаем точности\n",
    "accuracy_train = random_forest.score(features_train, target_train)\n",
    "accuracy_val = random_forest.score(features_val, target_val)\n",
    "accuracy_test = random_forest.score(features_test, target_test)\n",
    "\n",
    "print('Случайный лес:')\n",
    "print(f'Accuracy обучающей выборки = {accuracy_train}')\n",
    "print(f'Accuracy валидационной выборки = {accuracy_val}')\n",
    "print(f'Accuracy тестовой выборки = {accuracy_test}')"
   ]
  },
  {
   "cell_type": "markdown",
   "id": "8dc66dbd",
   "metadata": {},
   "source": [
    "Случайный лес, аналогично дереву решений, переобучился и не очень хорошо понял зависимости в данных. Значения точности выше, чем в дамми модели."
   ]
  },
  {
   "cell_type": "markdown",
   "id": "750ac3f7",
   "metadata": {},
   "source": [
    "**Вывод**:\n",
    "\n",
    "Исходя из полученных результатов, можно сделать вывод о том, что наиболее адекватная модель – логит, поскольку точность предсказаний примерно одинакова что для обучающей, что для валидационной, что для тестовой выборок. Модели дерева решений и случайного леса переобучились, однако их точности выше, чем точности дамми модели, что свидетельствует об их адекватности."
   ]
  },
  {
   "cell_type": "markdown",
   "id": "4f6dd584",
   "metadata": {},
   "source": [
    "## Вывод"
   ]
  },
  {
   "cell_type": "markdown",
   "id": "1360925f",
   "metadata": {},
   "source": [
    "В данном проекте мы на входе получили данные о пользователях, которые перешли на новые тарифы: Ультра и Смарт. Перед нами стояла задача решить задачу классификации - попытаться предсказать, какой тариф бы больше подошел пользователю, исходя из известных нам признаков. Целью стояло достижение точности выше `0.75` и выбор наилучшей модели\n",
    "\n",
    "Для решения данной задачи мы построили три модели:\n",
    "* логистическую регрессию,\n",
    "* дерево решений,\n",
    "* случайный лес. \n",
    "\n",
    "Мы разбили данные на обучающую, валидационную и тестовую в пропорции `3:1:1` и приступили к анализу:\n",
    "1. Логистическая регрессия показала точность ниже `0.75` для валидационной модели и чуть выше для тестовой выборки.\n",
    "2. Дерево решений и на валидациоонной, и на тестовой выборке показало точность выше `0.75`. Максимальная глубина дерева была выбрана равной `7`.\n",
    "3. Случайный лес так же в обоих случаях показал точность выше `0.75`. Максимальная глубина дерева была выбрана равной `9`, при этом количество деревьев в лесу было выбрано `11`.\n",
    "\n",
    "На тестовой выборке наибольшая точность была достигнута при помощи дерева решения – она составила `0.788`.\n",
    "\n",
    "В качестве проверки моделей на адекватность мы решили проверить, переобучились или недоучились модели. Такая проверка показала, что модели дерева решений и случайного леса переобучились: на обучающих выборках accuracy был выше 0.85, в то время как на тестовой и валидационных accuracy колебался около `0.75-0.79`. Точность на обучающей, валидационной и тестовой выборках логистическая регрессия показала примерно похожую: значения около `0.72-0.76`. Однако точности всех моделей превысили точность дамми модели, предсказывающей просто константу, что также говорит об адекватности моделей. \n",
    "\n",
    "Поскольку необходимо выбрать модель с наивысшим accuracy, то **по результатам анализа предлагается использовать модель дерева решений с максимальной глубиной дерева, равной `7`**. "
   ]
  }
 ],
 "metadata": {
  "ExecuteTimeLog": [
   {
    "duration": 94,
    "start_time": "2023-03-19T13:23:21.963Z"
   },
   {
    "duration": 1352,
    "start_time": "2023-03-19T13:23:41.480Z"
   },
   {
    "duration": 34,
    "start_time": "2023-03-19T13:23:42.835Z"
   },
   {
    "duration": 19,
    "start_time": "2023-03-19T13:23:42.875Z"
   },
   {
    "duration": 12,
    "start_time": "2023-03-19T13:23:42.896Z"
   },
   {
    "duration": 6,
    "start_time": "2023-03-19T13:23:42.910Z"
   },
   {
    "duration": 975,
    "start_time": "2023-03-19T13:23:44.343Z"
   },
   {
    "duration": 6,
    "start_time": "2023-03-19T13:23:46.735Z"
   },
   {
    "duration": 1282,
    "start_time": "2023-03-19T13:24:48.021Z"
   },
   {
    "duration": 31,
    "start_time": "2023-03-19T13:24:49.305Z"
   },
   {
    "duration": 21,
    "start_time": "2023-03-19T13:24:49.337Z"
   },
   {
    "duration": 20,
    "start_time": "2023-03-19T13:24:49.360Z"
   },
   {
    "duration": 7,
    "start_time": "2023-03-19T13:24:49.383Z"
   },
   {
    "duration": 991,
    "start_time": "2023-03-19T13:24:49.392Z"
   },
   {
    "duration": 7,
    "start_time": "2023-03-19T13:24:50.384Z"
   },
   {
    "duration": 6,
    "start_time": "2023-03-19T13:24:50.392Z"
   },
   {
    "duration": 6,
    "start_time": "2023-03-19T13:24:50.399Z"
   },
   {
    "duration": 7,
    "start_time": "2023-03-19T13:24:50.408Z"
   },
   {
    "duration": 6,
    "start_time": "2023-03-19T13:24:50.416Z"
   },
   {
    "duration": 70,
    "start_time": "2023-03-19T13:24:50.424Z"
   },
   {
    "duration": 78,
    "start_time": "2023-03-19T13:24:50.495Z"
   },
   {
    "duration": 10892,
    "start_time": "2023-03-19T13:24:50.577Z"
   },
   {
    "duration": 9,
    "start_time": "2023-03-19T13:25:01.481Z"
   },
   {
    "duration": 51,
    "start_time": "2023-03-19T13:25:01.492Z"
   },
   {
    "duration": 62,
    "start_time": "2023-03-19T13:25:01.545Z"
   },
   {
    "duration": 49,
    "start_time": "2023-03-19T13:25:01.609Z"
   },
   {
    "duration": 53,
    "start_time": "2023-03-19T13:25:01.660Z"
   },
   {
    "duration": 48,
    "start_time": "2023-03-19T13:25:01.715Z"
   },
   {
    "duration": 52,
    "start_time": "2023-03-19T13:42:59.676Z"
   },
   {
    "duration": 1239,
    "start_time": "2023-03-19T13:43:13.711Z"
   },
   {
    "duration": 132,
    "start_time": "2023-03-19T13:43:16.160Z"
   },
   {
    "duration": 19,
    "start_time": "2023-03-19T13:43:16.896Z"
   },
   {
    "duration": 12,
    "start_time": "2023-03-19T13:43:17.512Z"
   },
   {
    "duration": 6,
    "start_time": "2023-03-19T13:43:18.142Z"
   },
   {
    "duration": 1156,
    "start_time": "2023-03-19T13:43:18.726Z"
   },
   {
    "duration": 10,
    "start_time": "2023-03-19T13:43:19.928Z"
   },
   {
    "duration": 4,
    "start_time": "2023-03-19T13:43:33.650Z"
   },
   {
    "duration": 3,
    "start_time": "2023-03-19T13:43:34.421Z"
   },
   {
    "duration": 8,
    "start_time": "2023-03-19T13:43:37.487Z"
   },
   {
    "duration": 4,
    "start_time": "2023-03-19T13:44:19.924Z"
   },
   {
    "duration": 49,
    "start_time": "2023-03-19T13:44:21.144Z"
   },
   {
    "duration": 71,
    "start_time": "2023-03-19T13:44:23.079Z"
   },
   {
    "duration": 11480,
    "start_time": "2023-03-19T13:44:23.950Z"
   },
   {
    "duration": 7,
    "start_time": "2023-03-19T13:44:49.646Z"
   },
   {
    "duration": 6,
    "start_time": "2023-03-19T13:44:50.991Z"
   },
   {
    "duration": 12,
    "start_time": "2023-03-19T13:44:54.638Z"
   },
   {
    "duration": 10,
    "start_time": "2023-03-19T13:44:59.819Z"
   },
   {
    "duration": 13,
    "start_time": "2023-03-19T13:45:05.120Z"
   },
   {
    "duration": 13,
    "start_time": "2023-03-19T13:45:08.633Z"
   },
   {
    "duration": 21,
    "start_time": "2023-03-19T13:45:09.734Z"
   },
   {
    "duration": 3,
    "start_time": "2023-03-19T13:46:10.190Z"
   },
   {
    "duration": 17,
    "start_time": "2023-03-19T13:49:24.817Z"
   },
   {
    "duration": 8,
    "start_time": "2023-03-19T13:49:34.140Z"
   },
   {
    "duration": 7,
    "start_time": "2023-03-19T13:49:39.395Z"
   },
   {
    "duration": 11,
    "start_time": "2023-03-19T13:49:54.197Z"
   },
   {
    "duration": 7,
    "start_time": "2023-03-19T13:50:24.409Z"
   },
   {
    "duration": 1244,
    "start_time": "2023-03-19T13:53:45.158Z"
   },
   {
    "duration": 31,
    "start_time": "2023-03-19T13:53:46.404Z"
   },
   {
    "duration": 19,
    "start_time": "2023-03-19T13:53:46.437Z"
   },
   {
    "duration": 17,
    "start_time": "2023-03-19T13:53:46.458Z"
   },
   {
    "duration": 11,
    "start_time": "2023-03-19T13:53:46.482Z"
   },
   {
    "duration": 1029,
    "start_time": "2023-03-19T13:53:46.495Z"
   },
   {
    "duration": 9,
    "start_time": "2023-03-19T13:53:47.525Z"
   },
   {
    "duration": 4,
    "start_time": "2023-03-19T13:53:47.536Z"
   },
   {
    "duration": 5,
    "start_time": "2023-03-19T13:53:47.542Z"
   },
   {
    "duration": 14,
    "start_time": "2023-03-19T13:53:47.566Z"
   },
   {
    "duration": 7,
    "start_time": "2023-03-19T13:53:47.582Z"
   },
   {
    "duration": 55,
    "start_time": "2023-03-19T13:53:47.591Z"
   },
   {
    "duration": 84,
    "start_time": "2023-03-19T13:53:47.648Z"
   },
   {
    "duration": 11853,
    "start_time": "2023-03-19T13:53:47.734Z"
   },
   {
    "duration": 8,
    "start_time": "2023-03-19T13:53:59.589Z"
   },
   {
    "duration": 8,
    "start_time": "2023-03-19T13:53:59.599Z"
   },
   {
    "duration": 17,
    "start_time": "2023-03-19T13:53:59.609Z"
   },
   {
    "duration": 6,
    "start_time": "2023-03-19T13:53:59.629Z"
   },
   {
    "duration": 16,
    "start_time": "2023-03-19T13:53:59.666Z"
   },
   {
    "duration": 15,
    "start_time": "2023-03-19T13:53:59.684Z"
   },
   {
    "duration": 21,
    "start_time": "2023-03-19T13:53:59.700Z"
   }
  ],
  "kernelspec": {
   "display_name": "Python 3 (ipykernel)",
   "language": "python",
   "name": "python3"
  },
  "language_info": {
   "codemirror_mode": {
    "name": "ipython",
    "version": 3
   },
   "file_extension": ".py",
   "mimetype": "text/x-python",
   "name": "python",
   "nbconvert_exporter": "python",
   "pygments_lexer": "ipython3",
   "version": "3.9.5"
  },
  "toc": {
   "base_numbering": 1,
   "nav_menu": {},
   "number_sections": true,
   "sideBar": true,
   "skip_h1_title": true,
   "title_cell": "Содержание",
   "title_sidebar": "Содержание",
   "toc_cell": true,
   "toc_position": {
    "height": "calc(100% - 180px)",
    "left": "10px",
    "top": "150px",
    "width": "288px"
   },
   "toc_section_display": true,
   "toc_window_display": true
  }
 },
 "nbformat": 4,
 "nbformat_minor": 5
}
