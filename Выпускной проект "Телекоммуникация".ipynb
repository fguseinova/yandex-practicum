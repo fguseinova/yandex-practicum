{
 "cells": [
  {
   "cell_type": "markdown",
   "id": "52a5a3c4",
   "metadata": {},
   "source": [
    "# Выпускной проект \"Телекоммуникация\""
   ]
  },
  {
   "cell_type": "markdown",
   "id": "11d6919f",
   "metadata": {
    "toc": true
   },
   "source": [
    "<h1>Содержание<span class=\"tocSkip\"></span></h1>\n",
    "<div class=\"toc\"><ul class=\"toc-item\"><li><span><a href=\"#Описание-проекта,-данных-и-плана-работы\" data-toc-modified-id=\"Описание-проекта,-данных-и-плана-работы-1\"><span class=\"toc-item-num\">1&nbsp;&nbsp;</span>Описание проекта, данных и плана работы</a></span><ul class=\"toc-item\"><li><span><a href=\"#Описание-проекта\" data-toc-modified-id=\"Описание-проекта-1.1\"><span class=\"toc-item-num\">1.1&nbsp;&nbsp;</span>Описание проекта</a></span></li><li><span><a href=\"#Описание-данных\" data-toc-modified-id=\"Описание-данных-1.2\"><span class=\"toc-item-num\">1.2&nbsp;&nbsp;</span>Описание данных</a></span></li><li><span><a href=\"#План-работы\" data-toc-modified-id=\"План-работы-1.3\"><span class=\"toc-item-num\">1.3&nbsp;&nbsp;</span>План работы</a></span></li></ul></li><li><span><a href=\"#Знакомство-с-данными\" data-toc-modified-id=\"Знакомство-с-данными-2\"><span class=\"toc-item-num\">2&nbsp;&nbsp;</span>Знакомство с данными</a></span><ul class=\"toc-item\"><li><span><a href=\"#Предобработка-до-объединения-таблиц\" data-toc-modified-id=\"Предобработка-до-объединения-таблиц-2.1\"><span class=\"toc-item-num\">2.1&nbsp;&nbsp;</span>Предобработка до объединения таблиц</a></span></li><li><span><a href=\"#Предобработка-после-объединения-таблиц\" data-toc-modified-id=\"Предобработка-после-объединения-таблиц-2.2\"><span class=\"toc-item-num\">2.2&nbsp;&nbsp;</span>Предобработка после объединения таблиц</a></span></li></ul></li><li><span><a href=\"#Подготовка-к-моделированию\" data-toc-modified-id=\"Подготовка-к-моделированию-3\"><span class=\"toc-item-num\">3&nbsp;&nbsp;</span>Подготовка к моделированию</a></span><ul class=\"toc-item\"><li><span><a href=\"#Проверка-корреляции-признаков\" data-toc-modified-id=\"Проверка-корреляции-признаков-3.1\"><span class=\"toc-item-num\">3.1&nbsp;&nbsp;</span>Проверка корреляции признаков</a></span></li><li><span><a href=\"#Разбиение-на-тестовую-и-обучающую-выборки\" data-toc-modified-id=\"Разбиение-на-тестовую-и-обучающую-выборки-3.2\"><span class=\"toc-item-num\">3.2&nbsp;&nbsp;</span>Разбиение на тестовую и обучающую выборки</a></span></li><li><span><a href=\"#Масштабирование-данных\" data-toc-modified-id=\"Масштабирование-данных-3.3\"><span class=\"toc-item-num\">3.3&nbsp;&nbsp;</span>Масштабирование данных</a></span></li><li><span><a href=\"#Кодирование-данных\" data-toc-modified-id=\"Кодирование-данных-3.4\"><span class=\"toc-item-num\">3.4&nbsp;&nbsp;</span>Кодирование данных</a></span></li></ul></li><li><span><a href=\"#Моделирование\" data-toc-modified-id=\"Моделирование-4\"><span class=\"toc-item-num\">4&nbsp;&nbsp;</span>Моделирование</a></span><ul class=\"toc-item\"><li><span><a href=\"#Decision-Tree\" data-toc-modified-id=\"Decision-Tree-4.1\"><span class=\"toc-item-num\">4.1&nbsp;&nbsp;</span>Decision Tree</a></span></li><li><span><a href=\"#Random-Forest\" data-toc-modified-id=\"Random-Forest-4.2\"><span class=\"toc-item-num\">4.2&nbsp;&nbsp;</span>Random Forest</a></span></li><li><span><a href=\"#CatboostClassifier\" data-toc-modified-id=\"CatboostClassifier-4.3\"><span class=\"toc-item-num\">4.3&nbsp;&nbsp;</span>CatboostClassifier</a></span></li></ul></li><li><span><a href=\"#Финальное-тестирование\" data-toc-modified-id=\"Финальное-тестирование-5\"><span class=\"toc-item-num\">5&nbsp;&nbsp;</span>Финальное тестирование</a></span><ul class=\"toc-item\"><li><span><a href=\"#ROC-AUC-модели\" data-toc-modified-id=\"ROC-AUC-модели-5.1\"><span class=\"toc-item-num\">5.1&nbsp;&nbsp;</span>ROC-AUC модели</a></span></li><li><span><a href=\"#Accuracy-модели\" data-toc-modified-id=\"Accuracy-модели-5.2\"><span class=\"toc-item-num\">5.2&nbsp;&nbsp;</span>Accuracy модели</a></span></li><li><span><a href=\"#ROC-кривая\" data-toc-modified-id=\"ROC-кривая-5.3\"><span class=\"toc-item-num\">5.3&nbsp;&nbsp;</span>ROC-кривая</a></span></li><li><span><a href=\"#Матрица-ошибок\" data-toc-modified-id=\"Матрица-ошибок-5.4\"><span class=\"toc-item-num\">5.4&nbsp;&nbsp;</span>Матрица ошибок</a></span></li><li><span><a href=\"#Feature-importances\" data-toc-modified-id=\"Feature-importances-5.5\"><span class=\"toc-item-num\">5.5&nbsp;&nbsp;</span>Feature importances</a></span></li></ul></li><li><span><a href=\"#Общий-вывод\" data-toc-modified-id=\"Общий-вывод-6\"><span class=\"toc-item-num\">6&nbsp;&nbsp;</span>Общий вывод</a></span></li><li><span><a href=\"#Отчет\" data-toc-modified-id=\"Отчет-7\"><span class=\"toc-item-num\">7&nbsp;&nbsp;</span>Отчет</a></span></li></ul></div>"
   ]
  },
  {
   "cell_type": "markdown",
   "id": "514662de",
   "metadata": {},
   "source": [
    "## Описание проекта, данных и плана работы"
   ]
  },
  {
   "cell_type": "markdown",
   "id": "74130c73",
   "metadata": {},
   "source": [
    "### Описание проекта"
   ]
  },
  {
   "cell_type": "markdown",
   "id": "2638cfe2",
   "metadata": {},
   "source": [
    "Оператор связи «Ниединогоразрыва.ком» хочет научиться прогнозировать отток клиентов. Если выяснится, что пользователь планирует уйти, ему будут предложены промокоды и специальные условия. Команда оператора собрала персональные данные о некоторых клиентах, информацию об их тарифах и договорах.\n",
    "\n",
    "**Описание услуг** <br/>\n",
    "Оператор предоставляет два основных типа услуг: \n",
    "1. Стационарную телефонную связь. Возможно подключение телефонного аппарата к нескольким линиям одновременно.\n",
    "2. Интернет. Подключение может быть двух типов: через телефонную линию (DSL, от англ. digital subscriber line, «цифровая абонентская линия») или оптоволоконный кабель (Fiber optic). \n",
    "\n",
    "<br/> Также доступны такие услуги:\n",
    "* Интернет-безопасность: антивирус (DeviceProtection) и блокировка небезопасных сайтов (OnlineSecurity);\n",
    "* Выделенная линия технической поддержки (TechSupport);\n",
    "* Облачное хранилище файлов для резервного копирования данных (OnlineBackup);\n",
    "* Стриминговое телевидение (StreamingTV) и каталог фильмов (StreamingMovies).\n",
    "За услуги клиенты могут платить каждый месяц или заключить договор на 1–2 года. Доступны различные способы расчёта и возможность получения электронного чека."
   ]
  },
  {
   "cell_type": "markdown",
   "id": "567acf67",
   "metadata": {},
   "source": [
    "### Описание данных"
   ]
  },
  {
   "cell_type": "markdown",
   "id": "b75d6511",
   "metadata": {},
   "source": [
    "Данные состоят из файлов, полученных из разных источников:\n",
    "- `contract_new.csv` — информация о договоре;\n",
    "- `personal_new.csv` — персональные данные клиента;\n",
    "- `internet_new.csv` — информация об интернет-услугах;\n",
    "- `phone_new.csv` — информация об услугах телефонии.\n",
    "Во всех файлах столбец `customerID` содержит код клиента.\n",
    "Информация о договорах актуальна на 1 февраля 2020.\n",
    "\n",
    "**Описание некоторых столбцов**\n",
    "\n",
    "- `BeginDate` – дата начала пользования услугами,\n",
    "- `EndDate` – дата окончания пользования услугами,\n",
    "- `Type` – тип оплаты: ежемесячный, годовой и тд,\n",
    "- `PaperlessBilling` – электронный платёжный документ,\n",
    "- `PaymentMethod` – способ оплаты,\n",
    "- `MonthlyCharges` – ежемесячные траты на услуги,\n",
    "- `TotalCharges` – всего потрачено денег на услуги\n",
    "- `Dependents` – наличие иждивенцев\n",
    "- `Senior Citizen` – наличие пенсионного статуса по возрасту\n",
    "- `Partner` – наличие супруга(и)\n",
    "- `MultipleLines` – наличие возможности ведения параллельных линий во время звонка"
   ]
  },
  {
   "cell_type": "markdown",
   "id": "05293877",
   "metadata": {},
   "source": [
    "### План работы"
   ]
  },
  {
   "cell_type": "markdown",
   "id": "0f3085e4",
   "metadata": {},
   "source": [
    "Работа будет разбита на следующие задачи:\n",
    "\n",
    "1. Предобработка данных:\n",
    "    1. Загрузить 4 датасета: `contract_new.csv`, `personal_new.csv`, `internet_new.csv` и `phone_new.csv`.\n",
    "    1. Посмотреть на то, как выглядят данные, при помощи `.head()`, `.info()`, `.describe()`.\n",
    "    1. По каждой отдельной таблице:\n",
    "            - Изменить названия столбцов таблиц на змеиный регистр для удоства при необходимости.\n",
    "            - Посмотреть на распределение исходных данных.\n",
    "            - Проверить количество пропусков в процентах.\n",
    "            - Проанализировать причины наличия пропусков, если будут, и в соответствии с этим избавиться от пропусков.\n",
    "            - Преобразовать столбцы с 2 уникальными значениями `Yes`/`No` в столбцы с нулями и единицами.\n",
    "            - Проверить данные на наличие дубликатов - если понадобится, проанализировать и удалить/ не удалить (обосновать).\n",
    "    1. Объединить данные по коду клиента (`customerID`).\n",
    "    1. Проверить данные на наличие аномалий - если понадобится, удалить/ заменить на другие значения (обосновать).\n",
    "    1. Обработать пропуски, вызванные объединением данных.\n",
    "    \n",
    "1. Подготовка данных к моделированию:\n",
    "    1. Определить бинарную целевую переменную на основе имеющихся данных так, чтобы \"1\" означала, что клиент уходит, а \"0\" - что клиент остается.\n",
    "    1. Выбрать признаки, которые будут использоваться в качестве объясняющих переменных и обосновать их выбор (в том числе посмотреть на корреляцию между признаками) \n",
    "    1. Разбить данные на обучающую и тестовую выборки в отношении 3:1.\n",
    "    1. Закодировать категориальные переменные при помощи Ordinal Encoder. (`Fit`-им на обучающей выборке.)\n",
    "    1. Отмасштабировать численные переменные при помощи StandardScaler. (`Fit`-им на обучающей выборке.)\n",
    "    1. Проверить дисбаланс классов (соотношение 0 и 1).\n",
    "\n",
    "1. Моделирование:\n",
    "    1. При помощи кросс-валидации подобрать модель дерева решений (подобрать не менее 2 гиперпараметров). В качестве метрики качества использовать ROC-AUC. \n",
    "    1. При помощи кросс-валидации подобрать модель случайного леса (подобрать не менее 2 гиперпараметров). В качестве метрики качества использовать ROC-AUC. \n",
    "    1. При помощи кросс-валидации подобрать модель градиентного бустинга. В качестве метрики качества использовать ROC-AUC. \n",
    "    1. Выбрать наилучшую модель и обосновать.\n",
    "\n",
    "1. Финальное тестирование.\n",
    "    1. Построить наилучшую модель, подобранную в разделе \"Моделирование\" и проверить её на тестовой выборке. \n",
    "    1. Оценить полученный ROC-AUC для тестовых данных, сравнить с дамми моделью (=проверить на адекватность). Дополнительно посмотреть на Accuracy.\n",
    "    1. Построить ROC-AUC кривую. \n",
    "    1. Построить матрицу ошибок и проанализировать её на false-positive и false-negative ошибки.\n",
    "    1. Визуализировать важность признаков (feature importance). \n",
    "    1. Сформулировать выводы.\n",
    "    \n",
    "1. Отчет о работе:\n",
    "   1. Описать этапы предобработки и что именно делалось, чтобы можно было воспроизвести (не глядя в код).\n",
    "   1. Описать этапы подготовки к моделированию и что именно делалось, чтобы можно было воспроизвести (не глядя в код).\n",
    "   1. Описать лучшую модель: что за модель, какие гиперпараметры.\n",
    "   1. Описать, какие получились результаты для лучшей модели на тестовой выборке: ROC-AUC, Accuracy, матрица ошибок, ROC-кривая, важность пирзнаков. Показать, что ROC-AUC вышел выше требуемых 0.85.\n",
    "\n",
    "Во всей работе будет использоваться `random_state=140823`. "
   ]
  },
  {
   "cell_type": "markdown",
   "id": "67096258",
   "metadata": {},
   "source": [
    "## Знакомство с данными"
   ]
  },
  {
   "cell_type": "raw",
   "id": "c62b67e6",
   "metadata": {},
   "source": [
    "pip install catboost==1.1 # версии выше не поддерживаются почему-то не устанавливаются на мой ноут"
   ]
  },
  {
   "cell_type": "raw",
   "id": "ae1d4f52",
   "metadata": {},
   "source": [
    "pip install phik"
   ]
  },
  {
   "cell_type": "code",
   "execution_count": 1,
   "id": "28211f72",
   "metadata": {},
   "outputs": [],
   "source": [
    "# импортируем нужные библиотеки для работы \n",
    "import pandas as pd\n",
    "import numpy as np\n",
    "import matplotlib.pyplot as plt\n",
    "import seaborn as sns\n",
    "import itertools\n",
    "import phik\n",
    "\n",
    "from sklearn.model_selection import train_test_split, cross_val_score, GridSearchCV\n",
    "from sklearn.preprocessing import StandardScaler, OrdinalEncoder\n",
    "from sklearn.dummy import DummyClassifier\n",
    "from sklearn.tree import DecisionTreeClassifier\n",
    "from sklearn.ensemble import RandomForestClassifier\n",
    "from sklearn.metrics import roc_auc_score, accuracy_score, roc_curve, confusion_matrix\n",
    "\n",
    "from catboost import CatBoostClassifier\n",
    "\n",
    "import warnings\n",
    "warnings.filterwarnings('ignore')\n",
    "\n",
    "# введем константу random_state\n",
    "RS = 140823"
   ]
  },
  {
   "cell_type": "code",
   "execution_count": 2,
   "id": "4516dcf1",
   "metadata": {},
   "outputs": [],
   "source": [
    "# загрузим исходные данные\n",
    "try:\n",
    "    contract = pd.read_csv('/datasets/contract_new.csv')\n",
    "    personal = pd.read_csv('/datasets/personal_new.csv')\n",
    "    internet = pd.read_csv('/datasets/internet_new.csv')\n",
    "    phone = pd.read_csv('/datasets/phone_new.csv')\n",
    "except:\n",
    "    # здесь были ссылки с загрузкой данных с сервера Яндекса"
   ]
  },
  {
   "cell_type": "markdown",
   "id": "7bc3e72e",
   "metadata": {},
   "source": [
    "### Предобработка до объединения таблиц"
   ]
  },
  {
   "cell_type": "markdown",
   "id": "4e400fa1",
   "metadata": {},
   "source": [
    "Посмотрим на таблицы с данными."
   ]
  },
  {
   "cell_type": "code",
   "execution_count": 3,
   "id": "3e181f45",
   "metadata": {},
   "outputs": [],
   "source": [
    "tables = [contract, personal, internet, phone]\n",
    "contract.name = 'contract'\n",
    "personal.name = 'personal'\n",
    "internet.name = 'internet'\n",
    "phone.name = 'phone'"
   ]
  },
  {
   "cell_type": "code",
   "execution_count": 4,
   "id": "bbd5aa42",
   "metadata": {
    "scrolled": false
   },
   "outputs": [
    {
     "name": "stdout",
     "output_type": "stream",
     "text": [
      "Первые строки таблицы contract\n"
     ]
    },
    {
     "data": {
      "text/html": [
       "<div>\n",
       "<style scoped>\n",
       "    .dataframe tbody tr th:only-of-type {\n",
       "        vertical-align: middle;\n",
       "    }\n",
       "\n",
       "    .dataframe tbody tr th {\n",
       "        vertical-align: top;\n",
       "    }\n",
       "\n",
       "    .dataframe thead th {\n",
       "        text-align: right;\n",
       "    }\n",
       "</style>\n",
       "<table border=\"1\" class=\"dataframe\">\n",
       "  <thead>\n",
       "    <tr style=\"text-align: right;\">\n",
       "      <th></th>\n",
       "      <th>customerID</th>\n",
       "      <th>BeginDate</th>\n",
       "      <th>EndDate</th>\n",
       "      <th>Type</th>\n",
       "      <th>PaperlessBilling</th>\n",
       "      <th>PaymentMethod</th>\n",
       "      <th>MonthlyCharges</th>\n",
       "      <th>TotalCharges</th>\n",
       "    </tr>\n",
       "  </thead>\n",
       "  <tbody>\n",
       "    <tr>\n",
       "      <th>0</th>\n",
       "      <td>7590-VHVEG</td>\n",
       "      <td>2020-01-01</td>\n",
       "      <td>No</td>\n",
       "      <td>Month-to-month</td>\n",
       "      <td>Yes</td>\n",
       "      <td>Electronic check</td>\n",
       "      <td>29.85</td>\n",
       "      <td>31.04</td>\n",
       "    </tr>\n",
       "    <tr>\n",
       "      <th>1</th>\n",
       "      <td>5575-GNVDE</td>\n",
       "      <td>2017-04-01</td>\n",
       "      <td>No</td>\n",
       "      <td>One year</td>\n",
       "      <td>No</td>\n",
       "      <td>Mailed check</td>\n",
       "      <td>56.95</td>\n",
       "      <td>2071.84</td>\n",
       "    </tr>\n",
       "    <tr>\n",
       "      <th>2</th>\n",
       "      <td>3668-QPYBK</td>\n",
       "      <td>2019-10-01</td>\n",
       "      <td>No</td>\n",
       "      <td>Month-to-month</td>\n",
       "      <td>Yes</td>\n",
       "      <td>Mailed check</td>\n",
       "      <td>53.85</td>\n",
       "      <td>226.17</td>\n",
       "    </tr>\n",
       "    <tr>\n",
       "      <th>3</th>\n",
       "      <td>7795-CFOCW</td>\n",
       "      <td>2016-05-01</td>\n",
       "      <td>No</td>\n",
       "      <td>One year</td>\n",
       "      <td>No</td>\n",
       "      <td>Bank transfer (automatic)</td>\n",
       "      <td>42.30</td>\n",
       "      <td>1960.6</td>\n",
       "    </tr>\n",
       "    <tr>\n",
       "      <th>4</th>\n",
       "      <td>9237-HQITU</td>\n",
       "      <td>2019-09-01</td>\n",
       "      <td>No</td>\n",
       "      <td>Month-to-month</td>\n",
       "      <td>Yes</td>\n",
       "      <td>Electronic check</td>\n",
       "      <td>70.70</td>\n",
       "      <td>353.5</td>\n",
       "    </tr>\n",
       "  </tbody>\n",
       "</table>\n",
       "</div>"
      ],
      "text/plain": [
       "   customerID   BeginDate EndDate            Type PaperlessBilling  \\\n",
       "0  7590-VHVEG  2020-01-01      No  Month-to-month              Yes   \n",
       "1  5575-GNVDE  2017-04-01      No        One year               No   \n",
       "2  3668-QPYBK  2019-10-01      No  Month-to-month              Yes   \n",
       "3  7795-CFOCW  2016-05-01      No        One year               No   \n",
       "4  9237-HQITU  2019-09-01      No  Month-to-month              Yes   \n",
       "\n",
       "               PaymentMethod  MonthlyCharges TotalCharges  \n",
       "0           Electronic check           29.85        31.04  \n",
       "1               Mailed check           56.95      2071.84  \n",
       "2               Mailed check           53.85       226.17  \n",
       "3  Bank transfer (automatic)           42.30       1960.6  \n",
       "4           Electronic check           70.70        353.5  "
      ]
     },
     "metadata": {},
     "output_type": "display_data"
    },
    {
     "name": "stdout",
     "output_type": "stream",
     "text": [
      "Первые строки таблицы personal\n"
     ]
    },
    {
     "data": {
      "text/html": [
       "<div>\n",
       "<style scoped>\n",
       "    .dataframe tbody tr th:only-of-type {\n",
       "        vertical-align: middle;\n",
       "    }\n",
       "\n",
       "    .dataframe tbody tr th {\n",
       "        vertical-align: top;\n",
       "    }\n",
       "\n",
       "    .dataframe thead th {\n",
       "        text-align: right;\n",
       "    }\n",
       "</style>\n",
       "<table border=\"1\" class=\"dataframe\">\n",
       "  <thead>\n",
       "    <tr style=\"text-align: right;\">\n",
       "      <th></th>\n",
       "      <th>customerID</th>\n",
       "      <th>gender</th>\n",
       "      <th>SeniorCitizen</th>\n",
       "      <th>Partner</th>\n",
       "      <th>Dependents</th>\n",
       "    </tr>\n",
       "  </thead>\n",
       "  <tbody>\n",
       "    <tr>\n",
       "      <th>0</th>\n",
       "      <td>7590-VHVEG</td>\n",
       "      <td>Female</td>\n",
       "      <td>0</td>\n",
       "      <td>Yes</td>\n",
       "      <td>No</td>\n",
       "    </tr>\n",
       "    <tr>\n",
       "      <th>1</th>\n",
       "      <td>5575-GNVDE</td>\n",
       "      <td>Male</td>\n",
       "      <td>0</td>\n",
       "      <td>No</td>\n",
       "      <td>No</td>\n",
       "    </tr>\n",
       "    <tr>\n",
       "      <th>2</th>\n",
       "      <td>3668-QPYBK</td>\n",
       "      <td>Male</td>\n",
       "      <td>0</td>\n",
       "      <td>No</td>\n",
       "      <td>No</td>\n",
       "    </tr>\n",
       "    <tr>\n",
       "      <th>3</th>\n",
       "      <td>7795-CFOCW</td>\n",
       "      <td>Male</td>\n",
       "      <td>0</td>\n",
       "      <td>No</td>\n",
       "      <td>No</td>\n",
       "    </tr>\n",
       "    <tr>\n",
       "      <th>4</th>\n",
       "      <td>9237-HQITU</td>\n",
       "      <td>Female</td>\n",
       "      <td>0</td>\n",
       "      <td>No</td>\n",
       "      <td>No</td>\n",
       "    </tr>\n",
       "  </tbody>\n",
       "</table>\n",
       "</div>"
      ],
      "text/plain": [
       "   customerID  gender  SeniorCitizen Partner Dependents\n",
       "0  7590-VHVEG  Female              0     Yes         No\n",
       "1  5575-GNVDE    Male              0      No         No\n",
       "2  3668-QPYBK    Male              0      No         No\n",
       "3  7795-CFOCW    Male              0      No         No\n",
       "4  9237-HQITU  Female              0      No         No"
      ]
     },
     "metadata": {},
     "output_type": "display_data"
    },
    {
     "name": "stdout",
     "output_type": "stream",
     "text": [
      "Первые строки таблицы internet\n"
     ]
    },
    {
     "data": {
      "text/html": [
       "<div>\n",
       "<style scoped>\n",
       "    .dataframe tbody tr th:only-of-type {\n",
       "        vertical-align: middle;\n",
       "    }\n",
       "\n",
       "    .dataframe tbody tr th {\n",
       "        vertical-align: top;\n",
       "    }\n",
       "\n",
       "    .dataframe thead th {\n",
       "        text-align: right;\n",
       "    }\n",
       "</style>\n",
       "<table border=\"1\" class=\"dataframe\">\n",
       "  <thead>\n",
       "    <tr style=\"text-align: right;\">\n",
       "      <th></th>\n",
       "      <th>customerID</th>\n",
       "      <th>InternetService</th>\n",
       "      <th>OnlineSecurity</th>\n",
       "      <th>OnlineBackup</th>\n",
       "      <th>DeviceProtection</th>\n",
       "      <th>TechSupport</th>\n",
       "      <th>StreamingTV</th>\n",
       "      <th>StreamingMovies</th>\n",
       "    </tr>\n",
       "  </thead>\n",
       "  <tbody>\n",
       "    <tr>\n",
       "      <th>0</th>\n",
       "      <td>7590-VHVEG</td>\n",
       "      <td>DSL</td>\n",
       "      <td>No</td>\n",
       "      <td>Yes</td>\n",
       "      <td>No</td>\n",
       "      <td>No</td>\n",
       "      <td>No</td>\n",
       "      <td>No</td>\n",
       "    </tr>\n",
       "    <tr>\n",
       "      <th>1</th>\n",
       "      <td>5575-GNVDE</td>\n",
       "      <td>DSL</td>\n",
       "      <td>Yes</td>\n",
       "      <td>No</td>\n",
       "      <td>Yes</td>\n",
       "      <td>No</td>\n",
       "      <td>No</td>\n",
       "      <td>No</td>\n",
       "    </tr>\n",
       "    <tr>\n",
       "      <th>2</th>\n",
       "      <td>3668-QPYBK</td>\n",
       "      <td>DSL</td>\n",
       "      <td>Yes</td>\n",
       "      <td>Yes</td>\n",
       "      <td>No</td>\n",
       "      <td>No</td>\n",
       "      <td>No</td>\n",
       "      <td>No</td>\n",
       "    </tr>\n",
       "    <tr>\n",
       "      <th>3</th>\n",
       "      <td>7795-CFOCW</td>\n",
       "      <td>DSL</td>\n",
       "      <td>Yes</td>\n",
       "      <td>No</td>\n",
       "      <td>Yes</td>\n",
       "      <td>Yes</td>\n",
       "      <td>No</td>\n",
       "      <td>No</td>\n",
       "    </tr>\n",
       "    <tr>\n",
       "      <th>4</th>\n",
       "      <td>9237-HQITU</td>\n",
       "      <td>Fiber optic</td>\n",
       "      <td>No</td>\n",
       "      <td>No</td>\n",
       "      <td>No</td>\n",
       "      <td>No</td>\n",
       "      <td>No</td>\n",
       "      <td>No</td>\n",
       "    </tr>\n",
       "  </tbody>\n",
       "</table>\n",
       "</div>"
      ],
      "text/plain": [
       "   customerID InternetService OnlineSecurity OnlineBackup DeviceProtection  \\\n",
       "0  7590-VHVEG             DSL             No          Yes               No   \n",
       "1  5575-GNVDE             DSL            Yes           No              Yes   \n",
       "2  3668-QPYBK             DSL            Yes          Yes               No   \n",
       "3  7795-CFOCW             DSL            Yes           No              Yes   \n",
       "4  9237-HQITU     Fiber optic             No           No               No   \n",
       "\n",
       "  TechSupport StreamingTV StreamingMovies  \n",
       "0          No          No              No  \n",
       "1          No          No              No  \n",
       "2          No          No              No  \n",
       "3         Yes          No              No  \n",
       "4          No          No              No  "
      ]
     },
     "metadata": {},
     "output_type": "display_data"
    },
    {
     "name": "stdout",
     "output_type": "stream",
     "text": [
      "Первые строки таблицы phone\n"
     ]
    },
    {
     "data": {
      "text/html": [
       "<div>\n",
       "<style scoped>\n",
       "    .dataframe tbody tr th:only-of-type {\n",
       "        vertical-align: middle;\n",
       "    }\n",
       "\n",
       "    .dataframe tbody tr th {\n",
       "        vertical-align: top;\n",
       "    }\n",
       "\n",
       "    .dataframe thead th {\n",
       "        text-align: right;\n",
       "    }\n",
       "</style>\n",
       "<table border=\"1\" class=\"dataframe\">\n",
       "  <thead>\n",
       "    <tr style=\"text-align: right;\">\n",
       "      <th></th>\n",
       "      <th>customerID</th>\n",
       "      <th>MultipleLines</th>\n",
       "    </tr>\n",
       "  </thead>\n",
       "  <tbody>\n",
       "    <tr>\n",
       "      <th>0</th>\n",
       "      <td>5575-GNVDE</td>\n",
       "      <td>No</td>\n",
       "    </tr>\n",
       "    <tr>\n",
       "      <th>1</th>\n",
       "      <td>3668-QPYBK</td>\n",
       "      <td>No</td>\n",
       "    </tr>\n",
       "    <tr>\n",
       "      <th>2</th>\n",
       "      <td>9237-HQITU</td>\n",
       "      <td>No</td>\n",
       "    </tr>\n",
       "    <tr>\n",
       "      <th>3</th>\n",
       "      <td>9305-CDSKC</td>\n",
       "      <td>Yes</td>\n",
       "    </tr>\n",
       "    <tr>\n",
       "      <th>4</th>\n",
       "      <td>1452-KIOVK</td>\n",
       "      <td>Yes</td>\n",
       "    </tr>\n",
       "  </tbody>\n",
       "</table>\n",
       "</div>"
      ],
      "text/plain": [
       "   customerID MultipleLines\n",
       "0  5575-GNVDE            No\n",
       "1  3668-QPYBK            No\n",
       "2  9237-HQITU            No\n",
       "3  9305-CDSKC           Yes\n",
       "4  1452-KIOVK           Yes"
      ]
     },
     "metadata": {},
     "output_type": "display_data"
    }
   ],
   "source": [
    "for table in tables:\n",
    "    print(f'Первые строки таблицы {table.name}')\n",
    "    display(table.head())"
   ]
  },
  {
   "cell_type": "markdown",
   "id": "94b352bb",
   "metadata": {},
   "source": [
    "Предположительно, целевую переменную можно будет получить из столбца `EndDate` таблицы `contracts`, потому что если клиент не ушел, будет `No`, а если ушел - `Yes`. Эту переменную надо будет преобразовать в бинарную целевую переменную.\n",
    "\n",
    "Также надо будет преобразовывать названия столбцов к змеиному регистру."
   ]
  },
  {
   "cell_type": "code",
   "execution_count": 5,
   "id": "868874ca",
   "metadata": {},
   "outputs": [
    {
     "data": {
      "text/plain": [
       "['customerID',\n",
       " 'BeginDate',\n",
       " 'EndDate',\n",
       " 'Type',\n",
       " 'PaperlessBilling',\n",
       " 'PaymentMethod',\n",
       " 'MonthlyCharges',\n",
       " 'TotalCharges']"
      ]
     },
     "execution_count": 5,
     "metadata": {},
     "output_type": "execute_result"
    }
   ],
   "source": [
    "# получим названия столбцов таблицы contract\n",
    "list(contract.columns)"
   ]
  },
  {
   "cell_type": "code",
   "execution_count": 6,
   "id": "721cd9cf",
   "metadata": {},
   "outputs": [],
   "source": [
    "# переименуем столбцы таблицы contract\n",
    "contract = contract.rename(columns={'customerID': 'customer_id', \n",
    "                         'BeginDate': 'begin_date',\n",
    "                         'EndDate': 'end_date',\n",
    "                         'Type': 'type',\n",
    "                         'PaperlessBilling': 'paperless_billing',\n",
    "                         'PaymentMethod': 'payment_method',\n",
    "                         'MonthlyCharges': 'monthly_charges',\n",
    "                         'TotalCharges': 'total_charges'\n",
    "                        })"
   ]
  },
  {
   "cell_type": "code",
   "execution_count": 7,
   "id": "ae784a73",
   "metadata": {},
   "outputs": [
    {
     "data": {
      "text/plain": [
       "['customerID', 'gender', 'SeniorCitizen', 'Partner', 'Dependents']"
      ]
     },
     "execution_count": 7,
     "metadata": {},
     "output_type": "execute_result"
    }
   ],
   "source": [
    "# получим названия столбцов таблицы personal\n",
    "list(personal.columns)"
   ]
  },
  {
   "cell_type": "code",
   "execution_count": 8,
   "id": "2a73573e",
   "metadata": {},
   "outputs": [],
   "source": [
    "# переименуем столбцы таблицы personal\n",
    "personal = personal.rename(columns={'customerID': 'customer_id', \n",
    "                         'SeniorCitizen': 'senior_citizen',\n",
    "                         'Partner': 'partner',\n",
    "                         'Dependents': 'dependents'\n",
    "                        })"
   ]
  },
  {
   "cell_type": "code",
   "execution_count": 9,
   "id": "8662204d",
   "metadata": {},
   "outputs": [
    {
     "data": {
      "text/plain": [
       "['customerID', 'MultipleLines']"
      ]
     },
     "execution_count": 9,
     "metadata": {},
     "output_type": "execute_result"
    }
   ],
   "source": [
    "# получим названия столбцов таблицы phone\n",
    "list(phone.columns)"
   ]
  },
  {
   "cell_type": "code",
   "execution_count": 10,
   "id": "a5e6fb85",
   "metadata": {},
   "outputs": [],
   "source": [
    "# переименуем столбцы таблицы phone\n",
    "phone = phone.rename(columns={'customerID': 'customer_id', \n",
    "                         'MultipleLines': 'multiple_lines'\n",
    "                        })"
   ]
  },
  {
   "cell_type": "code",
   "execution_count": 11,
   "id": "44808936",
   "metadata": {},
   "outputs": [
    {
     "data": {
      "text/plain": [
       "['customerID',\n",
       " 'InternetService',\n",
       " 'OnlineSecurity',\n",
       " 'OnlineBackup',\n",
       " 'DeviceProtection',\n",
       " 'TechSupport',\n",
       " 'StreamingTV',\n",
       " 'StreamingMovies']"
      ]
     },
     "execution_count": 11,
     "metadata": {},
     "output_type": "execute_result"
    }
   ],
   "source": [
    "# получим названия столбцов таблицы internet\n",
    "list(internet.columns)"
   ]
  },
  {
   "cell_type": "code",
   "execution_count": 12,
   "id": "257e3228",
   "metadata": {},
   "outputs": [],
   "source": [
    "# переименуем столбцы таблицы internet\n",
    "internet = internet.rename(columns={'customerID': 'customer_id', \n",
    "                         'InternetService': 'internet_service',\n",
    "                         'OnlineSecurity': 'online_security',\n",
    "                         'OnlineBackup': 'online_backup',\n",
    "                         'DeviceProtection': 'device_protection',\n",
    "                         'TechSupport': 'tech_support',\n",
    "                         'StreamingTV': 'streaming_tv',\n",
    "                         'StreamingMovies': 'streaming_movies'\n",
    "                        })"
   ]
  },
  {
   "cell_type": "code",
   "execution_count": 13,
   "id": "24a607b2",
   "metadata": {},
   "outputs": [],
   "source": [
    "# перезапишем в связи с изменением названий столбцов\n",
    "tables = [contract, personal, internet, phone]\n",
    "contract.name = 'contract'\n",
    "personal.name = 'personal'\n",
    "internet.name = 'internet'\n",
    "phone.name = 'phone'"
   ]
  },
  {
   "cell_type": "markdown",
   "id": "a0cb5540",
   "metadata": {},
   "source": [
    "Посмотрим на размеры таблиц:"
   ]
  },
  {
   "cell_type": "code",
   "execution_count": 14,
   "id": "d83ef5db",
   "metadata": {
    "scrolled": true
   },
   "outputs": [
    {
     "name": "stdout",
     "output_type": "stream",
     "text": [
      "Размер таблицы contract\n"
     ]
    },
    {
     "data": {
      "text/plain": [
       "(7043, 8)"
      ]
     },
     "metadata": {},
     "output_type": "display_data"
    },
    {
     "name": "stdout",
     "output_type": "stream",
     "text": [
      "Размер таблицы personal\n"
     ]
    },
    {
     "data": {
      "text/plain": [
       "(7043, 5)"
      ]
     },
     "metadata": {},
     "output_type": "display_data"
    },
    {
     "name": "stdout",
     "output_type": "stream",
     "text": [
      "Размер таблицы internet\n"
     ]
    },
    {
     "data": {
      "text/plain": [
       "(5517, 8)"
      ]
     },
     "metadata": {},
     "output_type": "display_data"
    },
    {
     "name": "stdout",
     "output_type": "stream",
     "text": [
      "Размер таблицы phone\n"
     ]
    },
    {
     "data": {
      "text/plain": [
       "(6361, 2)"
      ]
     },
     "metadata": {},
     "output_type": "display_data"
    }
   ],
   "source": [
    "for table in tables:\n",
    "    print(f'Размер таблицы {table.name}')\n",
    "    display(table.shape)"
   ]
  },
  {
   "cell_type": "markdown",
   "id": "df6bb5c2",
   "metadata": {},
   "source": [
    "В первых двух таблицах одинаковое количество строк (логично: по каждому customerid есть информация), но в таблицах phone и internet уже информация не по всем клиентам, так как не у всех клиентов подключены и телефонная связь, и интернет."
   ]
  },
  {
   "cell_type": "code",
   "execution_count": 15,
   "id": "7dcdfb85",
   "metadata": {},
   "outputs": [
    {
     "name": "stdout",
     "output_type": "stream",
     "text": [
      "Информация о столбцах таблицы contract\n",
      "<class 'pandas.core.frame.DataFrame'>\n",
      "RangeIndex: 7043 entries, 0 to 7042\n",
      "Data columns (total 8 columns):\n",
      " #   Column             Non-Null Count  Dtype  \n",
      "---  ------             --------------  -----  \n",
      " 0   customer_id        7043 non-null   object \n",
      " 1   begin_date         7043 non-null   object \n",
      " 2   end_date           7043 non-null   object \n",
      " 3   type               7043 non-null   object \n",
      " 4   paperless_billing  7043 non-null   object \n",
      " 5   payment_method     7043 non-null   object \n",
      " 6   monthly_charges    7043 non-null   float64\n",
      " 7   total_charges      7043 non-null   object \n",
      "dtypes: float64(1), object(7)\n",
      "memory usage: 440.3+ KB\n"
     ]
    },
    {
     "data": {
      "text/plain": [
       "None"
      ]
     },
     "metadata": {},
     "output_type": "display_data"
    },
    {
     "name": "stdout",
     "output_type": "stream",
     "text": [
      "Информация о столбцах таблицы personal\n",
      "<class 'pandas.core.frame.DataFrame'>\n",
      "RangeIndex: 7043 entries, 0 to 7042\n",
      "Data columns (total 5 columns):\n",
      " #   Column          Non-Null Count  Dtype \n",
      "---  ------          --------------  ----- \n",
      " 0   customer_id     7043 non-null   object\n",
      " 1   gender          7043 non-null   object\n",
      " 2   senior_citizen  7043 non-null   int64 \n",
      " 3   partner         7043 non-null   object\n",
      " 4   dependents      7043 non-null   object\n",
      "dtypes: int64(1), object(4)\n",
      "memory usage: 275.2+ KB\n"
     ]
    },
    {
     "data": {
      "text/plain": [
       "None"
      ]
     },
     "metadata": {},
     "output_type": "display_data"
    },
    {
     "name": "stdout",
     "output_type": "stream",
     "text": [
      "Информация о столбцах таблицы internet\n",
      "<class 'pandas.core.frame.DataFrame'>\n",
      "RangeIndex: 5517 entries, 0 to 5516\n",
      "Data columns (total 8 columns):\n",
      " #   Column             Non-Null Count  Dtype \n",
      "---  ------             --------------  ----- \n",
      " 0   customer_id        5517 non-null   object\n",
      " 1   internet_service   5517 non-null   object\n",
      " 2   online_security    5517 non-null   object\n",
      " 3   online_backup      5517 non-null   object\n",
      " 4   device_protection  5517 non-null   object\n",
      " 5   tech_support       5517 non-null   object\n",
      " 6   streaming_tv       5517 non-null   object\n",
      " 7   streaming_movies   5517 non-null   object\n",
      "dtypes: object(8)\n",
      "memory usage: 344.9+ KB\n"
     ]
    },
    {
     "data": {
      "text/plain": [
       "None"
      ]
     },
     "metadata": {},
     "output_type": "display_data"
    },
    {
     "name": "stdout",
     "output_type": "stream",
     "text": [
      "Информация о столбцах таблицы phone\n",
      "<class 'pandas.core.frame.DataFrame'>\n",
      "RangeIndex: 6361 entries, 0 to 6360\n",
      "Data columns (total 2 columns):\n",
      " #   Column          Non-Null Count  Dtype \n",
      "---  ------          --------------  ----- \n",
      " 0   customer_id     6361 non-null   object\n",
      " 1   multiple_lines  6361 non-null   object\n",
      "dtypes: object(2)\n",
      "memory usage: 99.5+ KB\n"
     ]
    },
    {
     "data": {
      "text/plain": [
       "None"
      ]
     },
     "metadata": {},
     "output_type": "display_data"
    }
   ],
   "source": [
    "for table in tables:\n",
    "    print(f'Информация о столбцах таблицы {table.name}')\n",
    "    display(table.info())"
   ]
  },
  {
   "cell_type": "markdown",
   "id": "0b049c9c",
   "metadata": {},
   "source": [
    "Видимо, в исходных таблицах нет пропусков - от них придется избавляться на этапе объединения данных. Однако проверять на аномалии, дубликаты нужно будет.\n",
    "\n",
    "Из бросающегося в глаза: столбец total_charges имеет тип object, хотя данные числовые - надо будет это править."
   ]
  },
  {
   "cell_type": "code",
   "execution_count": 16,
   "id": "2c6d52c2",
   "metadata": {},
   "outputs": [],
   "source": [
    "contract['total_charges'] = contract['total_charges'].astype('float64', errors='ignore')"
   ]
  },
  {
   "cell_type": "code",
   "execution_count": 17,
   "id": "4582e493",
   "metadata": {},
   "outputs": [
    {
     "data": {
      "text/plain": [
       "3331          \n",
       "4380          \n",
       "6670          \n",
       "488           \n",
       "3826          \n",
       "         ...  \n",
       "2880    997.78\n",
       "3267    998.89\n",
       "6023     999.6\n",
       "1700     999.6\n",
       "1625     999.9\n",
       "Name: total_charges, Length: 7043, dtype: object"
      ]
     },
     "execution_count": 17,
     "metadata": {},
     "output_type": "execute_result"
    }
   ],
   "source": [
    "# посмотрим на то, что пришлось игнорировать\n",
    "contract['total_charges'].sort_values()"
   ]
  },
  {
   "cell_type": "markdown",
   "id": "ff37530b",
   "metadata": {},
   "source": [
    "Мы видим, что есть пропуски: удалим их. У клиентов нет плат, вероятно, потому, что они только присоединились к оператору (=аномалии)."
   ]
  },
  {
   "cell_type": "code",
   "execution_count": 18,
   "id": "01b7ab7b",
   "metadata": {},
   "outputs": [
    {
     "data": {
      "text/html": [
       "<div>\n",
       "<style scoped>\n",
       "    .dataframe tbody tr th:only-of-type {\n",
       "        vertical-align: middle;\n",
       "    }\n",
       "\n",
       "    .dataframe tbody tr th {\n",
       "        vertical-align: top;\n",
       "    }\n",
       "\n",
       "    .dataframe thead th {\n",
       "        text-align: right;\n",
       "    }\n",
       "</style>\n",
       "<table border=\"1\" class=\"dataframe\">\n",
       "  <thead>\n",
       "    <tr style=\"text-align: right;\">\n",
       "      <th></th>\n",
       "      <th>customer_id</th>\n",
       "      <th>begin_date</th>\n",
       "      <th>end_date</th>\n",
       "      <th>type</th>\n",
       "      <th>paperless_billing</th>\n",
       "      <th>payment_method</th>\n",
       "      <th>monthly_charges</th>\n",
       "      <th>total_charges</th>\n",
       "    </tr>\n",
       "  </thead>\n",
       "  <tbody>\n",
       "    <tr>\n",
       "      <th>488</th>\n",
       "      <td>4472-LVYGI</td>\n",
       "      <td>2020-02-01</td>\n",
       "      <td>No</td>\n",
       "      <td>Two year</td>\n",
       "      <td>Yes</td>\n",
       "      <td>Bank transfer (automatic)</td>\n",
       "      <td>52.55</td>\n",
       "      <td></td>\n",
       "    </tr>\n",
       "    <tr>\n",
       "      <th>753</th>\n",
       "      <td>3115-CZMZD</td>\n",
       "      <td>2020-02-01</td>\n",
       "      <td>No</td>\n",
       "      <td>Two year</td>\n",
       "      <td>No</td>\n",
       "      <td>Mailed check</td>\n",
       "      <td>20.25</td>\n",
       "      <td></td>\n",
       "    </tr>\n",
       "    <tr>\n",
       "      <th>936</th>\n",
       "      <td>5709-LVOEQ</td>\n",
       "      <td>2020-02-01</td>\n",
       "      <td>No</td>\n",
       "      <td>Two year</td>\n",
       "      <td>No</td>\n",
       "      <td>Mailed check</td>\n",
       "      <td>80.85</td>\n",
       "      <td></td>\n",
       "    </tr>\n",
       "    <tr>\n",
       "      <th>1082</th>\n",
       "      <td>4367-NUYAO</td>\n",
       "      <td>2020-02-01</td>\n",
       "      <td>No</td>\n",
       "      <td>Two year</td>\n",
       "      <td>No</td>\n",
       "      <td>Mailed check</td>\n",
       "      <td>25.75</td>\n",
       "      <td></td>\n",
       "    </tr>\n",
       "    <tr>\n",
       "      <th>1340</th>\n",
       "      <td>1371-DWPAZ</td>\n",
       "      <td>2020-02-01</td>\n",
       "      <td>No</td>\n",
       "      <td>Two year</td>\n",
       "      <td>No</td>\n",
       "      <td>Credit card (automatic)</td>\n",
       "      <td>56.05</td>\n",
       "      <td></td>\n",
       "    </tr>\n",
       "    <tr>\n",
       "      <th>3331</th>\n",
       "      <td>7644-OMVMY</td>\n",
       "      <td>2020-02-01</td>\n",
       "      <td>No</td>\n",
       "      <td>Two year</td>\n",
       "      <td>No</td>\n",
       "      <td>Mailed check</td>\n",
       "      <td>19.85</td>\n",
       "      <td></td>\n",
       "    </tr>\n",
       "    <tr>\n",
       "      <th>3826</th>\n",
       "      <td>3213-VVOLG</td>\n",
       "      <td>2020-02-01</td>\n",
       "      <td>No</td>\n",
       "      <td>Two year</td>\n",
       "      <td>No</td>\n",
       "      <td>Mailed check</td>\n",
       "      <td>25.35</td>\n",
       "      <td></td>\n",
       "    </tr>\n",
       "    <tr>\n",
       "      <th>4380</th>\n",
       "      <td>2520-SGTTA</td>\n",
       "      <td>2020-02-01</td>\n",
       "      <td>No</td>\n",
       "      <td>Two year</td>\n",
       "      <td>No</td>\n",
       "      <td>Mailed check</td>\n",
       "      <td>20.00</td>\n",
       "      <td></td>\n",
       "    </tr>\n",
       "    <tr>\n",
       "      <th>5218</th>\n",
       "      <td>2923-ARZLG</td>\n",
       "      <td>2020-02-01</td>\n",
       "      <td>No</td>\n",
       "      <td>One year</td>\n",
       "      <td>Yes</td>\n",
       "      <td>Mailed check</td>\n",
       "      <td>19.70</td>\n",
       "      <td></td>\n",
       "    </tr>\n",
       "    <tr>\n",
       "      <th>6670</th>\n",
       "      <td>4075-WKNIU</td>\n",
       "      <td>2020-02-01</td>\n",
       "      <td>No</td>\n",
       "      <td>Two year</td>\n",
       "      <td>No</td>\n",
       "      <td>Mailed check</td>\n",
       "      <td>73.35</td>\n",
       "      <td></td>\n",
       "    </tr>\n",
       "    <tr>\n",
       "      <th>6754</th>\n",
       "      <td>2775-SEFEE</td>\n",
       "      <td>2020-02-01</td>\n",
       "      <td>No</td>\n",
       "      <td>Two year</td>\n",
       "      <td>Yes</td>\n",
       "      <td>Bank transfer (automatic)</td>\n",
       "      <td>61.90</td>\n",
       "      <td></td>\n",
       "    </tr>\n",
       "  </tbody>\n",
       "</table>\n",
       "</div>"
      ],
      "text/plain": [
       "     customer_id  begin_date end_date      type paperless_billing  \\\n",
       "488   4472-LVYGI  2020-02-01       No  Two year               Yes   \n",
       "753   3115-CZMZD  2020-02-01       No  Two year                No   \n",
       "936   5709-LVOEQ  2020-02-01       No  Two year                No   \n",
       "1082  4367-NUYAO  2020-02-01       No  Two year                No   \n",
       "1340  1371-DWPAZ  2020-02-01       No  Two year                No   \n",
       "3331  7644-OMVMY  2020-02-01       No  Two year                No   \n",
       "3826  3213-VVOLG  2020-02-01       No  Two year                No   \n",
       "4380  2520-SGTTA  2020-02-01       No  Two year                No   \n",
       "5218  2923-ARZLG  2020-02-01       No  One year               Yes   \n",
       "6670  4075-WKNIU  2020-02-01       No  Two year                No   \n",
       "6754  2775-SEFEE  2020-02-01       No  Two year               Yes   \n",
       "\n",
       "                 payment_method  monthly_charges total_charges  \n",
       "488   Bank transfer (automatic)            52.55                \n",
       "753                Mailed check            20.25                \n",
       "936                Mailed check            80.85                \n",
       "1082               Mailed check            25.75                \n",
       "1340    Credit card (automatic)            56.05                \n",
       "3331               Mailed check            19.85                \n",
       "3826               Mailed check            25.35                \n",
       "4380               Mailed check            20.00                \n",
       "5218               Mailed check            19.70                \n",
       "6670               Mailed check            73.35                \n",
       "6754  Bank transfer (automatic)            61.90                "
      ]
     },
     "execution_count": 18,
     "metadata": {},
     "output_type": "execute_result"
    }
   ],
   "source": [
    "# проверим догадку\n",
    "contract[contract['total_charges'] == ' ']"
   ]
  },
  {
   "cell_type": "markdown",
   "id": "da219a77",
   "metadata": {},
   "source": [
    "Действительно, мы оказались правы - все клиенты с пустыми total_charges присоединились к оператору в день среза."
   ]
  },
  {
   "cell_type": "code",
   "execution_count": 19,
   "id": "7afb907c",
   "metadata": {},
   "outputs": [],
   "source": [
    "contract = contract[contract['total_charges'] != ' ']\n",
    "contract['total_charges'] = contract['total_charges'].astype('float64')"
   ]
  },
  {
   "cell_type": "code",
   "execution_count": 20,
   "id": "4ce6c83e",
   "metadata": {},
   "outputs": [
    {
     "name": "stdout",
     "output_type": "stream",
     "text": [
      "Информация о столбцах таблицы contract\n"
     ]
    },
    {
     "data": {
      "text/html": [
       "<div>\n",
       "<style scoped>\n",
       "    .dataframe tbody tr th:only-of-type {\n",
       "        vertical-align: middle;\n",
       "    }\n",
       "\n",
       "    .dataframe tbody tr th {\n",
       "        vertical-align: top;\n",
       "    }\n",
       "\n",
       "    .dataframe thead th {\n",
       "        text-align: right;\n",
       "    }\n",
       "</style>\n",
       "<table border=\"1\" class=\"dataframe\">\n",
       "  <thead>\n",
       "    <tr style=\"text-align: right;\">\n",
       "      <th></th>\n",
       "      <th>monthly_charges</th>\n",
       "    </tr>\n",
       "  </thead>\n",
       "  <tbody>\n",
       "    <tr>\n",
       "      <th>count</th>\n",
       "      <td>7043.000000</td>\n",
       "    </tr>\n",
       "    <tr>\n",
       "      <th>mean</th>\n",
       "      <td>64.761692</td>\n",
       "    </tr>\n",
       "    <tr>\n",
       "      <th>std</th>\n",
       "      <td>30.090047</td>\n",
       "    </tr>\n",
       "    <tr>\n",
       "      <th>min</th>\n",
       "      <td>18.250000</td>\n",
       "    </tr>\n",
       "    <tr>\n",
       "      <th>25%</th>\n",
       "      <td>35.500000</td>\n",
       "    </tr>\n",
       "    <tr>\n",
       "      <th>50%</th>\n",
       "      <td>70.350000</td>\n",
       "    </tr>\n",
       "    <tr>\n",
       "      <th>75%</th>\n",
       "      <td>89.850000</td>\n",
       "    </tr>\n",
       "    <tr>\n",
       "      <th>max</th>\n",
       "      <td>118.750000</td>\n",
       "    </tr>\n",
       "  </tbody>\n",
       "</table>\n",
       "</div>"
      ],
      "text/plain": [
       "       monthly_charges\n",
       "count      7043.000000\n",
       "mean         64.761692\n",
       "std          30.090047\n",
       "min          18.250000\n",
       "25%          35.500000\n",
       "50%          70.350000\n",
       "75%          89.850000\n",
       "max         118.750000"
      ]
     },
     "metadata": {},
     "output_type": "display_data"
    },
    {
     "name": "stdout",
     "output_type": "stream",
     "text": [
      "Информация о столбцах таблицы personal\n"
     ]
    },
    {
     "data": {
      "text/html": [
       "<div>\n",
       "<style scoped>\n",
       "    .dataframe tbody tr th:only-of-type {\n",
       "        vertical-align: middle;\n",
       "    }\n",
       "\n",
       "    .dataframe tbody tr th {\n",
       "        vertical-align: top;\n",
       "    }\n",
       "\n",
       "    .dataframe thead th {\n",
       "        text-align: right;\n",
       "    }\n",
       "</style>\n",
       "<table border=\"1\" class=\"dataframe\">\n",
       "  <thead>\n",
       "    <tr style=\"text-align: right;\">\n",
       "      <th></th>\n",
       "      <th>senior_citizen</th>\n",
       "    </tr>\n",
       "  </thead>\n",
       "  <tbody>\n",
       "    <tr>\n",
       "      <th>count</th>\n",
       "      <td>7043.000000</td>\n",
       "    </tr>\n",
       "    <tr>\n",
       "      <th>mean</th>\n",
       "      <td>0.162147</td>\n",
       "    </tr>\n",
       "    <tr>\n",
       "      <th>std</th>\n",
       "      <td>0.368612</td>\n",
       "    </tr>\n",
       "    <tr>\n",
       "      <th>min</th>\n",
       "      <td>0.000000</td>\n",
       "    </tr>\n",
       "    <tr>\n",
       "      <th>25%</th>\n",
       "      <td>0.000000</td>\n",
       "    </tr>\n",
       "    <tr>\n",
       "      <th>50%</th>\n",
       "      <td>0.000000</td>\n",
       "    </tr>\n",
       "    <tr>\n",
       "      <th>75%</th>\n",
       "      <td>0.000000</td>\n",
       "    </tr>\n",
       "    <tr>\n",
       "      <th>max</th>\n",
       "      <td>1.000000</td>\n",
       "    </tr>\n",
       "  </tbody>\n",
       "</table>\n",
       "</div>"
      ],
      "text/plain": [
       "       senior_citizen\n",
       "count     7043.000000\n",
       "mean         0.162147\n",
       "std          0.368612\n",
       "min          0.000000\n",
       "25%          0.000000\n",
       "50%          0.000000\n",
       "75%          0.000000\n",
       "max          1.000000"
      ]
     },
     "metadata": {},
     "output_type": "display_data"
    },
    {
     "name": "stdout",
     "output_type": "stream",
     "text": [
      "Информация о столбцах таблицы internet\n"
     ]
    },
    {
     "data": {
      "text/html": [
       "<div>\n",
       "<style scoped>\n",
       "    .dataframe tbody tr th:only-of-type {\n",
       "        vertical-align: middle;\n",
       "    }\n",
       "\n",
       "    .dataframe tbody tr th {\n",
       "        vertical-align: top;\n",
       "    }\n",
       "\n",
       "    .dataframe thead th {\n",
       "        text-align: right;\n",
       "    }\n",
       "</style>\n",
       "<table border=\"1\" class=\"dataframe\">\n",
       "  <thead>\n",
       "    <tr style=\"text-align: right;\">\n",
       "      <th></th>\n",
       "      <th>customer_id</th>\n",
       "      <th>internet_service</th>\n",
       "      <th>online_security</th>\n",
       "      <th>online_backup</th>\n",
       "      <th>device_protection</th>\n",
       "      <th>tech_support</th>\n",
       "      <th>streaming_tv</th>\n",
       "      <th>streaming_movies</th>\n",
       "    </tr>\n",
       "  </thead>\n",
       "  <tbody>\n",
       "    <tr>\n",
       "      <th>count</th>\n",
       "      <td>5517</td>\n",
       "      <td>5517</td>\n",
       "      <td>5517</td>\n",
       "      <td>5517</td>\n",
       "      <td>5517</td>\n",
       "      <td>5517</td>\n",
       "      <td>5517</td>\n",
       "      <td>5517</td>\n",
       "    </tr>\n",
       "    <tr>\n",
       "      <th>unique</th>\n",
       "      <td>5517</td>\n",
       "      <td>2</td>\n",
       "      <td>2</td>\n",
       "      <td>2</td>\n",
       "      <td>2</td>\n",
       "      <td>2</td>\n",
       "      <td>2</td>\n",
       "      <td>2</td>\n",
       "    </tr>\n",
       "    <tr>\n",
       "      <th>top</th>\n",
       "      <td>4115-BNPJY</td>\n",
       "      <td>Fiber optic</td>\n",
       "      <td>No</td>\n",
       "      <td>No</td>\n",
       "      <td>No</td>\n",
       "      <td>No</td>\n",
       "      <td>No</td>\n",
       "      <td>No</td>\n",
       "    </tr>\n",
       "    <tr>\n",
       "      <th>freq</th>\n",
       "      <td>1</td>\n",
       "      <td>3096</td>\n",
       "      <td>3498</td>\n",
       "      <td>3088</td>\n",
       "      <td>3095</td>\n",
       "      <td>3473</td>\n",
       "      <td>2810</td>\n",
       "      <td>2785</td>\n",
       "    </tr>\n",
       "  </tbody>\n",
       "</table>\n",
       "</div>"
      ],
      "text/plain": [
       "       customer_id internet_service online_security online_backup  \\\n",
       "count         5517             5517            5517          5517   \n",
       "unique        5517                2               2             2   \n",
       "top     4115-BNPJY      Fiber optic              No            No   \n",
       "freq             1             3096            3498          3088   \n",
       "\n",
       "       device_protection tech_support streaming_tv streaming_movies  \n",
       "count               5517         5517         5517             5517  \n",
       "unique                 2            2            2                2  \n",
       "top                   No           No           No               No  \n",
       "freq                3095         3473         2810             2785  "
      ]
     },
     "metadata": {},
     "output_type": "display_data"
    },
    {
     "name": "stdout",
     "output_type": "stream",
     "text": [
      "Информация о столбцах таблицы phone\n"
     ]
    },
    {
     "data": {
      "text/html": [
       "<div>\n",
       "<style scoped>\n",
       "    .dataframe tbody tr th:only-of-type {\n",
       "        vertical-align: middle;\n",
       "    }\n",
       "\n",
       "    .dataframe tbody tr th {\n",
       "        vertical-align: top;\n",
       "    }\n",
       "\n",
       "    .dataframe thead th {\n",
       "        text-align: right;\n",
       "    }\n",
       "</style>\n",
       "<table border=\"1\" class=\"dataframe\">\n",
       "  <thead>\n",
       "    <tr style=\"text-align: right;\">\n",
       "      <th></th>\n",
       "      <th>customer_id</th>\n",
       "      <th>multiple_lines</th>\n",
       "    </tr>\n",
       "  </thead>\n",
       "  <tbody>\n",
       "    <tr>\n",
       "      <th>count</th>\n",
       "      <td>6361</td>\n",
       "      <td>6361</td>\n",
       "    </tr>\n",
       "    <tr>\n",
       "      <th>unique</th>\n",
       "      <td>6361</td>\n",
       "      <td>2</td>\n",
       "    </tr>\n",
       "    <tr>\n",
       "      <th>top</th>\n",
       "      <td>0164-APGRB</td>\n",
       "      <td>No</td>\n",
       "    </tr>\n",
       "    <tr>\n",
       "      <th>freq</th>\n",
       "      <td>1</td>\n",
       "      <td>3390</td>\n",
       "    </tr>\n",
       "  </tbody>\n",
       "</table>\n",
       "</div>"
      ],
      "text/plain": [
       "       customer_id multiple_lines\n",
       "count         6361           6361\n",
       "unique        6361              2\n",
       "top     0164-APGRB             No\n",
       "freq             1           3390"
      ]
     },
     "metadata": {},
     "output_type": "display_data"
    }
   ],
   "source": [
    "for table in tables:\n",
    "    print(f'Информация о столбцах таблицы {table.name}')\n",
    "    display(table.describe())"
   ]
  },
  {
   "cell_type": "markdown",
   "id": "c181aeee",
   "metadata": {},
   "source": [
    "По customer_id очевидно не могло быть freq > 1 в таблицах, данные об этом столбце не особо информативны. В таблицах достаточно много столбцов с бинарной переменной типа Yes/No. Такие столбцы можно преобразовать в 0 и 1 для удобства работы с ними. "
   ]
  },
  {
   "cell_type": "code",
   "execution_count": 21,
   "id": "c4919254",
   "metadata": {},
   "outputs": [],
   "source": [
    "# поменяем yes/no на 1/0 в таблицах\n",
    "contract['paperless_billing'] = contract['paperless_billing'].map(dict(Yes=1, No=0))\n",
    "\n",
    "personal['dependents'] = personal['dependents'].map(dict(Yes=1, No=0))\n",
    "personal['partner'] = personal['partner'].map(dict(Yes=1, No=0))"
   ]
  },
  {
   "cell_type": "markdown",
   "id": "2a5ebf17",
   "metadata": {},
   "source": [
    "В таблицах internet и phone не будем менять на 0 и 1, т.к. при объединении с contracts и personal появятся пропуски, которые надо будет заполнять. Оставим пока данные как Yes/No, при необходимости позже обработаем."
   ]
  },
  {
   "cell_type": "markdown",
   "id": "b965e29c",
   "metadata": {},
   "source": [
    "Посмотрим на распределение данных в таблицах contract и personal, т.к. только в них есть численные столбцы:"
   ]
  },
  {
   "cell_type": "code",
   "execution_count": 22,
   "id": "b46900a7",
   "metadata": {
    "scrolled": false
   },
   "outputs": [
    {
     "data": {
      "image/png": "[encoded data removed]",
      "text/plain": [
       "<Figure size 720x432 with 4 Axes>"
      ]
     },
     "metadata": {
      "needs_background": "light"
     },
     "output_type": "display_data"
    }
   ],
   "source": [
    "contract.hist(figsize=(10,6));"
   ]
  },
  {
   "cell_type": "code",
   "execution_count": 23,
   "id": "8dd0c7b3",
   "metadata": {},
   "outputs": [
    {
     "data": {
      "image/png": "[encoded data removed]",
      "text/plain": [
       "<Figure size 720x432 with 4 Axes>"
      ]
     },
     "metadata": {
      "needs_background": "light"
     },
     "output_type": "display_data"
    }
   ],
   "source": [
    "contract.hist(figsize=(10,6), bins=50);"
   ]
  },
  {
   "cell_type": "markdown",
   "id": "4dfd6416",
   "metadata": {},
   "source": [
    "Чуть больше клиентов используют электронные платежные квитанции.<br/>\n",
    "Большинство ежемесячных платежей составляет около 20 - вероятно, это какой-то стандартный тариф. Дальше уже платежи варьируются в зависимости от количества и вида доп.услуг. Суммарные платы за услуги постепенно убывают - чем больше платежи, тем меньше клиентов, заплативших много денег за услуги связи."
   ]
  },
  {
   "cell_type": "code",
   "execution_count": 24,
   "id": "18d23532",
   "metadata": {
    "scrolled": false
   },
   "outputs": [
    {
     "data": {
      "image/png": "[encoded data removed]",
      "text/plain": [
       "<Figure size 720x432 with 4 Axes>"
      ]
     },
     "metadata": {
      "needs_background": "light"
     },
     "output_type": "display_data"
    }
   ],
   "source": [
    "personal.hist(figsize=(10,6));"
   ]
  },
  {
   "cell_type": "markdown",
   "id": "544d9c78",
   "metadata": {},
   "source": [
    "Из гистограммы видно, что у большинства клиентов нет статуса пенсионера и у большинства нет иждивенцев. Партнеры есть примерно у половины клиентов."
   ]
  },
  {
   "cell_type": "markdown",
   "id": "aada217c",
   "metadata": {},
   "source": [
    "Проверим данные на наличие дубликатов:"
   ]
  },
  {
   "cell_type": "code",
   "execution_count": 25,
   "id": "eaacff9f",
   "metadata": {
    "scrolled": true
   },
   "outputs": [
    {
     "name": "stdout",
     "output_type": "stream",
     "text": [
      "Количество дубликатов в таблице contract\n"
     ]
    },
    {
     "data": {
      "text/plain": [
       "0"
      ]
     },
     "metadata": {},
     "output_type": "display_data"
    },
    {
     "name": "stdout",
     "output_type": "stream",
     "text": [
      "Количество дубликатов в таблице personal\n"
     ]
    },
    {
     "data": {
      "text/plain": [
       "0"
      ]
     },
     "metadata": {},
     "output_type": "display_data"
    },
    {
     "name": "stdout",
     "output_type": "stream",
     "text": [
      "Количество дубликатов в таблице internet\n"
     ]
    },
    {
     "data": {
      "text/plain": [
       "0"
      ]
     },
     "metadata": {},
     "output_type": "display_data"
    },
    {
     "name": "stdout",
     "output_type": "stream",
     "text": [
      "Количество дубликатов в таблице phone\n"
     ]
    },
    {
     "data": {
      "text/plain": [
       "0"
      ]
     },
     "metadata": {},
     "output_type": "display_data"
    }
   ],
   "source": [
    "for table in tables:\n",
    "    print(f'Количество дубликатов в таблице {table.name}')\n",
    "    display(table.duplicated().sum())"
   ]
  },
  {
   "cell_type": "markdown",
   "id": "a36ed05a",
   "metadata": {},
   "source": [
    "В таблицах нет дубликатов."
   ]
  },
  {
   "cell_type": "markdown",
   "id": "489ee8ec",
   "metadata": {},
   "source": [
    "**Вывод:**\n",
    "\n",
    "В целом на данном этапе мы провели общее знакомство с данными: загрузили таблицы, посмотрели на шапку и информацию о столбцах, проверили данные на пропуски (удалили пропуски по total_charges) и дубликаты (не обнаружили таковых). Также мы преобразовали названия столбцов к змеиному регистру, исправили один некорректный тип данных на float и преобразовали некоторые столбцы с 2 уникальными значениями `Yes`/`No` в столбцы с нулями и единицами. После этого мы познакомились с гистограммами и получили применрное представление о данных.\n",
    "\n",
    "Далее можно приступать к объединению данных по коду клиента (`customer_id`)."
   ]
  },
  {
   "cell_type": "markdown",
   "id": "68b67025",
   "metadata": {},
   "source": [
    "### Предобработка после объединения таблиц"
   ]
  },
  {
   "cell_type": "markdown",
   "id": "52554077",
   "metadata": {},
   "source": [
    "Объединим данные по коду клиента `customer_id`. Мы будем присоединять таблицы к `contract` через left join."
   ]
  },
  {
   "cell_type": "code",
   "execution_count": 26,
   "id": "5edd427e",
   "metadata": {},
   "outputs": [],
   "source": [
    "# установим customer_id в качестве индекса всех таблиц, чтобы объединять по индексу\n",
    "contract = contract.set_index('customer_id')\n",
    "personal = personal.set_index('customer_id')\n",
    "internet = internet.set_index('customer_id')\n",
    "phone = phone.set_index('customer_id')"
   ]
  },
  {
   "cell_type": "code",
   "execution_count": 27,
   "id": "e8f0d985",
   "metadata": {},
   "outputs": [],
   "source": [
    "# объединим таблицы\n",
    "data = contract.join(personal).join(internet).join(phone)"
   ]
  },
  {
   "cell_type": "code",
   "execution_count": 28,
   "id": "d9d5a1dd",
   "metadata": {
    "scrolled": true
   },
   "outputs": [
    {
     "data": {
      "text/html": [
       "<div>\n",
       "<style scoped>\n",
       "    .dataframe tbody tr th:only-of-type {\n",
       "        vertical-align: middle;\n",
       "    }\n",
       "\n",
       "    .dataframe tbody tr th {\n",
       "        vertical-align: top;\n",
       "    }\n",
       "\n",
       "    .dataframe thead th {\n",
       "        text-align: right;\n",
       "    }\n",
       "</style>\n",
       "<table border=\"1\" class=\"dataframe\">\n",
       "  <thead>\n",
       "    <tr style=\"text-align: right;\">\n",
       "      <th></th>\n",
       "      <th>begin_date</th>\n",
       "      <th>end_date</th>\n",
       "      <th>type</th>\n",
       "      <th>paperless_billing</th>\n",
       "      <th>payment_method</th>\n",
       "      <th>monthly_charges</th>\n",
       "      <th>total_charges</th>\n",
       "      <th>gender</th>\n",
       "      <th>senior_citizen</th>\n",
       "      <th>partner</th>\n",
       "      <th>dependents</th>\n",
       "      <th>internet_service</th>\n",
       "      <th>online_security</th>\n",
       "      <th>online_backup</th>\n",
       "      <th>device_protection</th>\n",
       "      <th>tech_support</th>\n",
       "      <th>streaming_tv</th>\n",
       "      <th>streaming_movies</th>\n",
       "      <th>multiple_lines</th>\n",
       "    </tr>\n",
       "    <tr>\n",
       "      <th>customer_id</th>\n",
       "      <th></th>\n",
       "      <th></th>\n",
       "      <th></th>\n",
       "      <th></th>\n",
       "      <th></th>\n",
       "      <th></th>\n",
       "      <th></th>\n",
       "      <th></th>\n",
       "      <th></th>\n",
       "      <th></th>\n",
       "      <th></th>\n",
       "      <th></th>\n",
       "      <th></th>\n",
       "      <th></th>\n",
       "      <th></th>\n",
       "      <th></th>\n",
       "      <th></th>\n",
       "      <th></th>\n",
       "      <th></th>\n",
       "    </tr>\n",
       "  </thead>\n",
       "  <tbody>\n",
       "    <tr>\n",
       "      <th>7590-VHVEG</th>\n",
       "      <td>2020-01-01</td>\n",
       "      <td>No</td>\n",
       "      <td>Month-to-month</td>\n",
       "      <td>1</td>\n",
       "      <td>Electronic check</td>\n",
       "      <td>29.85</td>\n",
       "      <td>31.04</td>\n",
       "      <td>Female</td>\n",
       "      <td>0</td>\n",
       "      <td>1</td>\n",
       "      <td>0</td>\n",
       "      <td>DSL</td>\n",
       "      <td>No</td>\n",
       "      <td>Yes</td>\n",
       "      <td>No</td>\n",
       "      <td>No</td>\n",
       "      <td>No</td>\n",
       "      <td>No</td>\n",
       "      <td>NaN</td>\n",
       "    </tr>\n",
       "    <tr>\n",
       "      <th>5575-GNVDE</th>\n",
       "      <td>2017-04-01</td>\n",
       "      <td>No</td>\n",
       "      <td>One year</td>\n",
       "      <td>0</td>\n",
       "      <td>Mailed check</td>\n",
       "      <td>56.95</td>\n",
       "      <td>2071.84</td>\n",
       "      <td>Male</td>\n",
       "      <td>0</td>\n",
       "      <td>0</td>\n",
       "      <td>0</td>\n",
       "      <td>DSL</td>\n",
       "      <td>Yes</td>\n",
       "      <td>No</td>\n",
       "      <td>Yes</td>\n",
       "      <td>No</td>\n",
       "      <td>No</td>\n",
       "      <td>No</td>\n",
       "      <td>No</td>\n",
       "    </tr>\n",
       "    <tr>\n",
       "      <th>3668-QPYBK</th>\n",
       "      <td>2019-10-01</td>\n",
       "      <td>No</td>\n",
       "      <td>Month-to-month</td>\n",
       "      <td>1</td>\n",
       "      <td>Mailed check</td>\n",
       "      <td>53.85</td>\n",
       "      <td>226.17</td>\n",
       "      <td>Male</td>\n",
       "      <td>0</td>\n",
       "      <td>0</td>\n",
       "      <td>0</td>\n",
       "      <td>DSL</td>\n",
       "      <td>Yes</td>\n",
       "      <td>Yes</td>\n",
       "      <td>No</td>\n",
       "      <td>No</td>\n",
       "      <td>No</td>\n",
       "      <td>No</td>\n",
       "      <td>No</td>\n",
       "    </tr>\n",
       "    <tr>\n",
       "      <th>7795-CFOCW</th>\n",
       "      <td>2016-05-01</td>\n",
       "      <td>No</td>\n",
       "      <td>One year</td>\n",
       "      <td>0</td>\n",
       "      <td>Bank transfer (automatic)</td>\n",
       "      <td>42.30</td>\n",
       "      <td>1960.60</td>\n",
       "      <td>Male</td>\n",
       "      <td>0</td>\n",
       "      <td>0</td>\n",
       "      <td>0</td>\n",
       "      <td>DSL</td>\n",
       "      <td>Yes</td>\n",
       "      <td>No</td>\n",
       "      <td>Yes</td>\n",
       "      <td>Yes</td>\n",
       "      <td>No</td>\n",
       "      <td>No</td>\n",
       "      <td>NaN</td>\n",
       "    </tr>\n",
       "    <tr>\n",
       "      <th>9237-HQITU</th>\n",
       "      <td>2019-09-01</td>\n",
       "      <td>No</td>\n",
       "      <td>Month-to-month</td>\n",
       "      <td>1</td>\n",
       "      <td>Electronic check</td>\n",
       "      <td>70.70</td>\n",
       "      <td>353.50</td>\n",
       "      <td>Female</td>\n",
       "      <td>0</td>\n",
       "      <td>0</td>\n",
       "      <td>0</td>\n",
       "      <td>Fiber optic</td>\n",
       "      <td>No</td>\n",
       "      <td>No</td>\n",
       "      <td>No</td>\n",
       "      <td>No</td>\n",
       "      <td>No</td>\n",
       "      <td>No</td>\n",
       "      <td>No</td>\n",
       "    </tr>\n",
       "  </tbody>\n",
       "</table>\n",
       "</div>"
      ],
      "text/plain": [
       "             begin_date end_date            type  paperless_billing  \\\n",
       "customer_id                                                           \n",
       "7590-VHVEG   2020-01-01       No  Month-to-month                  1   \n",
       "5575-GNVDE   2017-04-01       No        One year                  0   \n",
       "3668-QPYBK   2019-10-01       No  Month-to-month                  1   \n",
       "7795-CFOCW   2016-05-01       No        One year                  0   \n",
       "9237-HQITU   2019-09-01       No  Month-to-month                  1   \n",
       "\n",
       "                        payment_method  monthly_charges  total_charges  \\\n",
       "customer_id                                                              \n",
       "7590-VHVEG            Electronic check            29.85          31.04   \n",
       "5575-GNVDE                Mailed check            56.95        2071.84   \n",
       "3668-QPYBK                Mailed check            53.85         226.17   \n",
       "7795-CFOCW   Bank transfer (automatic)            42.30        1960.60   \n",
       "9237-HQITU            Electronic check            70.70         353.50   \n",
       "\n",
       "             gender  senior_citizen  partner  dependents internet_service  \\\n",
       "customer_id                                                                 \n",
       "7590-VHVEG   Female               0        1           0              DSL   \n",
       "5575-GNVDE     Male               0        0           0              DSL   \n",
       "3668-QPYBK     Male               0        0           0              DSL   \n",
       "7795-CFOCW     Male               0        0           0              DSL   \n",
       "9237-HQITU   Female               0        0           0      Fiber optic   \n",
       "\n",
       "            online_security online_backup device_protection tech_support  \\\n",
       "customer_id                                                                \n",
       "7590-VHVEG               No           Yes                No           No   \n",
       "5575-GNVDE              Yes            No               Yes           No   \n",
       "3668-QPYBK              Yes           Yes                No           No   \n",
       "7795-CFOCW              Yes            No               Yes          Yes   \n",
       "9237-HQITU               No            No                No           No   \n",
       "\n",
       "            streaming_tv streaming_movies multiple_lines  \n",
       "customer_id                                               \n",
       "7590-VHVEG            No               No            NaN  \n",
       "5575-GNVDE            No               No             No  \n",
       "3668-QPYBK            No               No             No  \n",
       "7795-CFOCW            No               No            NaN  \n",
       "9237-HQITU            No               No             No  "
      ]
     },
     "execution_count": 28,
     "metadata": {},
     "output_type": "execute_result"
    }
   ],
   "source": [
    "# посмотрим на результат объединения\n",
    "data.head()"
   ]
  },
  {
   "cell_type": "markdown",
   "id": "7a1c0b3c",
   "metadata": {},
   "source": [
    "Посмотрим на получившиеся пропуски в таблицах."
   ]
  },
  {
   "cell_type": "code",
   "execution_count": 29,
   "id": "2391e069",
   "metadata": {},
   "outputs": [
    {
     "data": {
      "text/html": [
       "<style  type=\"text/css\" >\n",
       "#T_bdd92_row0_col0,#T_bdd92_row1_col0,#T_bdd92_row2_col0,#T_bdd92_row3_col0,#T_bdd92_row4_col0,#T_bdd92_row5_col0,#T_bdd92_row6_col0,#T_bdd92_row7_col0,#T_bdd92_row8_col0,#T_bdd92_row9_col0,#T_bdd92_row10_col0{\n",
       "            background-color:  #3b4cc0;\n",
       "            color:  #f1f1f1;\n",
       "        }#T_bdd92_row11_col0,#T_bdd92_row12_col0,#T_bdd92_row13_col0,#T_bdd92_row14_col0,#T_bdd92_row15_col0,#T_bdd92_row16_col0,#T_bdd92_row17_col0{\n",
       "            background-color:  #b40426;\n",
       "            color:  #f1f1f1;\n",
       "        }#T_bdd92_row18_col0{\n",
       "            background-color:  #d1dae9;\n",
       "            color:  #000000;\n",
       "        }</style><table id=\"T_bdd92_\" ><thead>    <tr>        <th class=\"blank level0\" ></th>        <th class=\"col_heading level0 col0\" >0</th>    </tr></thead><tbody>\n",
       "                <tr>\n",
       "                        <th id=\"T_bdd92_level0_row0\" class=\"row_heading level0 row0\" >begin_date</th>\n",
       "                        <td id=\"T_bdd92_row0_col0\" class=\"data row0 col0\" >0.000000</td>\n",
       "            </tr>\n",
       "            <tr>\n",
       "                        <th id=\"T_bdd92_level0_row1\" class=\"row_heading level0 row1\" >end_date</th>\n",
       "                        <td id=\"T_bdd92_row1_col0\" class=\"data row1 col0\" >0.000000</td>\n",
       "            </tr>\n",
       "            <tr>\n",
       "                        <th id=\"T_bdd92_level0_row2\" class=\"row_heading level0 row2\" >type</th>\n",
       "                        <td id=\"T_bdd92_row2_col0\" class=\"data row2 col0\" >0.000000</td>\n",
       "            </tr>\n",
       "            <tr>\n",
       "                        <th id=\"T_bdd92_level0_row3\" class=\"row_heading level0 row3\" >paperless_billing</th>\n",
       "                        <td id=\"T_bdd92_row3_col0\" class=\"data row3 col0\" >0.000000</td>\n",
       "            </tr>\n",
       "            <tr>\n",
       "                        <th id=\"T_bdd92_level0_row4\" class=\"row_heading level0 row4\" >payment_method</th>\n",
       "                        <td id=\"T_bdd92_row4_col0\" class=\"data row4 col0\" >0.000000</td>\n",
       "            </tr>\n",
       "            <tr>\n",
       "                        <th id=\"T_bdd92_level0_row5\" class=\"row_heading level0 row5\" >monthly_charges</th>\n",
       "                        <td id=\"T_bdd92_row5_col0\" class=\"data row5 col0\" >0.000000</td>\n",
       "            </tr>\n",
       "            <tr>\n",
       "                        <th id=\"T_bdd92_level0_row6\" class=\"row_heading level0 row6\" >total_charges</th>\n",
       "                        <td id=\"T_bdd92_row6_col0\" class=\"data row6 col0\" >0.000000</td>\n",
       "            </tr>\n",
       "            <tr>\n",
       "                        <th id=\"T_bdd92_level0_row7\" class=\"row_heading level0 row7\" >gender</th>\n",
       "                        <td id=\"T_bdd92_row7_col0\" class=\"data row7 col0\" >0.000000</td>\n",
       "            </tr>\n",
       "            <tr>\n",
       "                        <th id=\"T_bdd92_level0_row8\" class=\"row_heading level0 row8\" >senior_citizen</th>\n",
       "                        <td id=\"T_bdd92_row8_col0\" class=\"data row8 col0\" >0.000000</td>\n",
       "            </tr>\n",
       "            <tr>\n",
       "                        <th id=\"T_bdd92_level0_row9\" class=\"row_heading level0 row9\" >partner</th>\n",
       "                        <td id=\"T_bdd92_row9_col0\" class=\"data row9 col0\" >0.000000</td>\n",
       "            </tr>\n",
       "            <tr>\n",
       "                        <th id=\"T_bdd92_level0_row10\" class=\"row_heading level0 row10\" >dependents</th>\n",
       "                        <td id=\"T_bdd92_row10_col0\" class=\"data row10 col0\" >0.000000</td>\n",
       "            </tr>\n",
       "            <tr>\n",
       "                        <th id=\"T_bdd92_level0_row11\" class=\"row_heading level0 row11\" >internet_service</th>\n",
       "                        <td id=\"T_bdd92_row11_col0\" class=\"data row11 col0\" >22.000000</td>\n",
       "            </tr>\n",
       "            <tr>\n",
       "                        <th id=\"T_bdd92_level0_row12\" class=\"row_heading level0 row12\" >online_security</th>\n",
       "                        <td id=\"T_bdd92_row12_col0\" class=\"data row12 col0\" >22.000000</td>\n",
       "            </tr>\n",
       "            <tr>\n",
       "                        <th id=\"T_bdd92_level0_row13\" class=\"row_heading level0 row13\" >online_backup</th>\n",
       "                        <td id=\"T_bdd92_row13_col0\" class=\"data row13 col0\" >22.000000</td>\n",
       "            </tr>\n",
       "            <tr>\n",
       "                        <th id=\"T_bdd92_level0_row14\" class=\"row_heading level0 row14\" >device_protection</th>\n",
       "                        <td id=\"T_bdd92_row14_col0\" class=\"data row14 col0\" >22.000000</td>\n",
       "            </tr>\n",
       "            <tr>\n",
       "                        <th id=\"T_bdd92_level0_row15\" class=\"row_heading level0 row15\" >tech_support</th>\n",
       "                        <td id=\"T_bdd92_row15_col0\" class=\"data row15 col0\" >22.000000</td>\n",
       "            </tr>\n",
       "            <tr>\n",
       "                        <th id=\"T_bdd92_level0_row16\" class=\"row_heading level0 row16\" >streaming_tv</th>\n",
       "                        <td id=\"T_bdd92_row16_col0\" class=\"data row16 col0\" >22.000000</td>\n",
       "            </tr>\n",
       "            <tr>\n",
       "                        <th id=\"T_bdd92_level0_row17\" class=\"row_heading level0 row17\" >streaming_movies</th>\n",
       "                        <td id=\"T_bdd92_row17_col0\" class=\"data row17 col0\" >22.000000</td>\n",
       "            </tr>\n",
       "            <tr>\n",
       "                        <th id=\"T_bdd92_level0_row18\" class=\"row_heading level0 row18\" >multiple_lines</th>\n",
       "                        <td id=\"T_bdd92_row18_col0\" class=\"data row18 col0\" >10.000000</td>\n",
       "            </tr>\n",
       "    </tbody></table>"
      ],
      "text/plain": [
       "<pandas.io.formats.style.Styler at 0x7fcbd08d4940>"
      ]
     },
     "execution_count": 29,
     "metadata": {},
     "output_type": "execute_result"
    }
   ],
   "source": [
    "pd.DataFrame(round(data.isna().mean()*100, 0)).style.background_gradient('coolwarm')"
   ]
  },
  {
   "cell_type": "markdown",
   "id": "31a0f1d4",
   "metadata": {},
   "source": [
    "Мы видим, что по столбцам, присоединенным из таблицы `internet` 22% пропусков.\n",
    "По самим этим столбцам значения 0 и 1. Поставим на все эти пропуски заглушку `NA` (от not applicable). \n",
    "Аналогично поступим с пропусками по `multiple_lines`."
   ]
  },
  {
   "cell_type": "code",
   "execution_count": 30,
   "id": "69652329",
   "metadata": {},
   "outputs": [],
   "source": [
    "# заменим пропуски на NA в столбцах из таблицы internet\n",
    "internet_columns = list(internet.columns)\n",
    "\n",
    "for column in internet_columns:\n",
    "    data.loc[data[column].isna(), column] = 'NA'\n",
    "\n",
    "# заменим пропуски на NA в столбец из таблицы phone\n",
    "data.loc[data['multiple_lines'].isna(), 'multiple_lines'] = 'NA'"
   ]
  },
  {
   "cell_type": "code",
   "execution_count": 31,
   "id": "bd454a89",
   "metadata": {},
   "outputs": [
    {
     "data": {
      "text/plain": [
       "0"
      ]
     },
     "execution_count": 31,
     "metadata": {},
     "output_type": "execute_result"
    }
   ],
   "source": [
    "# проверим, что пропусков в таблице не осталось:\n",
    "data.isna().sum().sum()"
   ]
  },
  {
   "cell_type": "markdown",
   "id": "d9e2f3b5",
   "metadata": {},
   "source": [
    "Посмотрим еще раз на таблицу:"
   ]
  },
  {
   "cell_type": "code",
   "execution_count": 32,
   "id": "38bcd6df",
   "metadata": {},
   "outputs": [
    {
     "data": {
      "text/html": [
       "<div>\n",
       "<style scoped>\n",
       "    .dataframe tbody tr th:only-of-type {\n",
       "        vertical-align: middle;\n",
       "    }\n",
       "\n",
       "    .dataframe tbody tr th {\n",
       "        vertical-align: top;\n",
       "    }\n",
       "\n",
       "    .dataframe thead th {\n",
       "        text-align: right;\n",
       "    }\n",
       "</style>\n",
       "<table border=\"1\" class=\"dataframe\">\n",
       "  <thead>\n",
       "    <tr style=\"text-align: right;\">\n",
       "      <th></th>\n",
       "      <th>begin_date</th>\n",
       "      <th>end_date</th>\n",
       "      <th>type</th>\n",
       "      <th>paperless_billing</th>\n",
       "      <th>payment_method</th>\n",
       "      <th>monthly_charges</th>\n",
       "      <th>total_charges</th>\n",
       "      <th>gender</th>\n",
       "      <th>senior_citizen</th>\n",
       "      <th>partner</th>\n",
       "      <th>dependents</th>\n",
       "      <th>internet_service</th>\n",
       "      <th>online_security</th>\n",
       "      <th>online_backup</th>\n",
       "      <th>device_protection</th>\n",
       "      <th>tech_support</th>\n",
       "      <th>streaming_tv</th>\n",
       "      <th>streaming_movies</th>\n",
       "      <th>multiple_lines</th>\n",
       "    </tr>\n",
       "    <tr>\n",
       "      <th>customer_id</th>\n",
       "      <th></th>\n",
       "      <th></th>\n",
       "      <th></th>\n",
       "      <th></th>\n",
       "      <th></th>\n",
       "      <th></th>\n",
       "      <th></th>\n",
       "      <th></th>\n",
       "      <th></th>\n",
       "      <th></th>\n",
       "      <th></th>\n",
       "      <th></th>\n",
       "      <th></th>\n",
       "      <th></th>\n",
       "      <th></th>\n",
       "      <th></th>\n",
       "      <th></th>\n",
       "      <th></th>\n",
       "      <th></th>\n",
       "    </tr>\n",
       "  </thead>\n",
       "  <tbody>\n",
       "    <tr>\n",
       "      <th>7590-VHVEG</th>\n",
       "      <td>2020-01-01</td>\n",
       "      <td>No</td>\n",
       "      <td>Month-to-month</td>\n",
       "      <td>1</td>\n",
       "      <td>Electronic check</td>\n",
       "      <td>29.85</td>\n",
       "      <td>31.04</td>\n",
       "      <td>Female</td>\n",
       "      <td>0</td>\n",
       "      <td>1</td>\n",
       "      <td>0</td>\n",
       "      <td>DSL</td>\n",
       "      <td>No</td>\n",
       "      <td>Yes</td>\n",
       "      <td>No</td>\n",
       "      <td>No</td>\n",
       "      <td>No</td>\n",
       "      <td>No</td>\n",
       "      <td>NA</td>\n",
       "    </tr>\n",
       "    <tr>\n",
       "      <th>5575-GNVDE</th>\n",
       "      <td>2017-04-01</td>\n",
       "      <td>No</td>\n",
       "      <td>One year</td>\n",
       "      <td>0</td>\n",
       "      <td>Mailed check</td>\n",
       "      <td>56.95</td>\n",
       "      <td>2071.84</td>\n",
       "      <td>Male</td>\n",
       "      <td>0</td>\n",
       "      <td>0</td>\n",
       "      <td>0</td>\n",
       "      <td>DSL</td>\n",
       "      <td>Yes</td>\n",
       "      <td>No</td>\n",
       "      <td>Yes</td>\n",
       "      <td>No</td>\n",
       "      <td>No</td>\n",
       "      <td>No</td>\n",
       "      <td>No</td>\n",
       "    </tr>\n",
       "    <tr>\n",
       "      <th>3668-QPYBK</th>\n",
       "      <td>2019-10-01</td>\n",
       "      <td>No</td>\n",
       "      <td>Month-to-month</td>\n",
       "      <td>1</td>\n",
       "      <td>Mailed check</td>\n",
       "      <td>53.85</td>\n",
       "      <td>226.17</td>\n",
       "      <td>Male</td>\n",
       "      <td>0</td>\n",
       "      <td>0</td>\n",
       "      <td>0</td>\n",
       "      <td>DSL</td>\n",
       "      <td>Yes</td>\n",
       "      <td>Yes</td>\n",
       "      <td>No</td>\n",
       "      <td>No</td>\n",
       "      <td>No</td>\n",
       "      <td>No</td>\n",
       "      <td>No</td>\n",
       "    </tr>\n",
       "    <tr>\n",
       "      <th>7795-CFOCW</th>\n",
       "      <td>2016-05-01</td>\n",
       "      <td>No</td>\n",
       "      <td>One year</td>\n",
       "      <td>0</td>\n",
       "      <td>Bank transfer (automatic)</td>\n",
       "      <td>42.30</td>\n",
       "      <td>1960.60</td>\n",
       "      <td>Male</td>\n",
       "      <td>0</td>\n",
       "      <td>0</td>\n",
       "      <td>0</td>\n",
       "      <td>DSL</td>\n",
       "      <td>Yes</td>\n",
       "      <td>No</td>\n",
       "      <td>Yes</td>\n",
       "      <td>Yes</td>\n",
       "      <td>No</td>\n",
       "      <td>No</td>\n",
       "      <td>NA</td>\n",
       "    </tr>\n",
       "    <tr>\n",
       "      <th>9237-HQITU</th>\n",
       "      <td>2019-09-01</td>\n",
       "      <td>No</td>\n",
       "      <td>Month-to-month</td>\n",
       "      <td>1</td>\n",
       "      <td>Electronic check</td>\n",
       "      <td>70.70</td>\n",
       "      <td>353.50</td>\n",
       "      <td>Female</td>\n",
       "      <td>0</td>\n",
       "      <td>0</td>\n",
       "      <td>0</td>\n",
       "      <td>Fiber optic</td>\n",
       "      <td>No</td>\n",
       "      <td>No</td>\n",
       "      <td>No</td>\n",
       "      <td>No</td>\n",
       "      <td>No</td>\n",
       "      <td>No</td>\n",
       "      <td>No</td>\n",
       "    </tr>\n",
       "  </tbody>\n",
       "</table>\n",
       "</div>"
      ],
      "text/plain": [
       "             begin_date end_date            type  paperless_billing  \\\n",
       "customer_id                                                           \n",
       "7590-VHVEG   2020-01-01       No  Month-to-month                  1   \n",
       "5575-GNVDE   2017-04-01       No        One year                  0   \n",
       "3668-QPYBK   2019-10-01       No  Month-to-month                  1   \n",
       "7795-CFOCW   2016-05-01       No        One year                  0   \n",
       "9237-HQITU   2019-09-01       No  Month-to-month                  1   \n",
       "\n",
       "                        payment_method  monthly_charges  total_charges  \\\n",
       "customer_id                                                              \n",
       "7590-VHVEG            Electronic check            29.85          31.04   \n",
       "5575-GNVDE                Mailed check            56.95        2071.84   \n",
       "3668-QPYBK                Mailed check            53.85         226.17   \n",
       "7795-CFOCW   Bank transfer (automatic)            42.30        1960.60   \n",
       "9237-HQITU            Electronic check            70.70         353.50   \n",
       "\n",
       "             gender  senior_citizen  partner  dependents internet_service  \\\n",
       "customer_id                                                                 \n",
       "7590-VHVEG   Female               0        1           0              DSL   \n",
       "5575-GNVDE     Male               0        0           0              DSL   \n",
       "3668-QPYBK     Male               0        0           0              DSL   \n",
       "7795-CFOCW     Male               0        0           0              DSL   \n",
       "9237-HQITU   Female               0        0           0      Fiber optic   \n",
       "\n",
       "            online_security online_backup device_protection tech_support  \\\n",
       "customer_id                                                                \n",
       "7590-VHVEG               No           Yes                No           No   \n",
       "5575-GNVDE              Yes            No               Yes           No   \n",
       "3668-QPYBK              Yes           Yes                No           No   \n",
       "7795-CFOCW              Yes            No               Yes          Yes   \n",
       "9237-HQITU               No            No                No           No   \n",
       "\n",
       "            streaming_tv streaming_movies multiple_lines  \n",
       "customer_id                                               \n",
       "7590-VHVEG            No               No             NA  \n",
       "5575-GNVDE            No               No             No  \n",
       "3668-QPYBK            No               No             No  \n",
       "7795-CFOCW            No               No             NA  \n",
       "9237-HQITU            No               No             No  "
      ]
     },
     "execution_count": 32,
     "metadata": {},
     "output_type": "execute_result"
    }
   ],
   "source": [
    "data.head(5)"
   ]
  },
  {
   "cell_type": "markdown",
   "id": "111242c5",
   "metadata": {},
   "source": [
    "Добавим признак, который будет являться целевым (ЦП). Он будет определяться следующим образом: `если end_date == No`, то ЦП = 0 (клиент не ушел), иначе 1. Назовем цп `target`."
   ]
  },
  {
   "cell_type": "code",
   "execution_count": 33,
   "id": "c7d2accd",
   "metadata": {},
   "outputs": [],
   "source": [
    "def target(date):\n",
    "    if date == 'No': \n",
    "        value = 0\n",
    "    else: \n",
    "        value = 1\n",
    "    return value\n",
    "        \n",
    "data['target'] = data['end_date'].apply(target)"
   ]
  },
  {
   "cell_type": "markdown",
   "id": "0ba2c550",
   "metadata": {},
   "source": [
    "Довольно хорошим признаком для анализа мог бы выступить период, в течение которого клиент обслуживается оператором. Получим этот признак. Для этого необходимо преобразовать begin_date в дату и end_date в дату. Так как выборка на 2020-02-01, заменим в end_date `No` на `2020-02-01`, затем добавим столбец `days` с периодом в днях, в течение которого клиент обслуживается оператором."
   ]
  },
  {
   "cell_type": "code",
   "execution_count": 34,
   "id": "660e1cde",
   "metadata": {},
   "outputs": [],
   "source": [
    "# для начала преобразуем begin_date в дату\n",
    "data['begin_date'] = data['begin_date'].apply(pd.to_datetime)\n",
    "\n",
    "# заменим No на 2020-02-01 в столбце end_date\n",
    "data.loc[data['end_date'] == 'No', 'end_date'] = '2020-02-01'\n",
    "\n",
    "# преобразуем end_date в дату\n",
    "data['end_date'] = data['end_date'].apply(pd.to_datetime)\n",
    "\n",
    "# добавим столбец days с разницей в днях\n",
    "data['days'] = (data['end_date'] - data['begin_date']).dt.days"
   ]
  },
  {
   "cell_type": "code",
   "execution_count": 35,
   "id": "9c07e8db",
   "metadata": {},
   "outputs": [
    {
     "data": {
      "text/html": [
       "<div>\n",
       "<style scoped>\n",
       "    .dataframe tbody tr th:only-of-type {\n",
       "        vertical-align: middle;\n",
       "    }\n",
       "\n",
       "    .dataframe tbody tr th {\n",
       "        vertical-align: top;\n",
       "    }\n",
       "\n",
       "    .dataframe thead th {\n",
       "        text-align: right;\n",
       "    }\n",
       "</style>\n",
       "<table border=\"1\" class=\"dataframe\">\n",
       "  <thead>\n",
       "    <tr style=\"text-align: right;\">\n",
       "      <th></th>\n",
       "      <th>begin_date</th>\n",
       "      <th>end_date</th>\n",
       "      <th>type</th>\n",
       "      <th>paperless_billing</th>\n",
       "      <th>payment_method</th>\n",
       "      <th>monthly_charges</th>\n",
       "      <th>total_charges</th>\n",
       "      <th>gender</th>\n",
       "      <th>senior_citizen</th>\n",
       "      <th>partner</th>\n",
       "      <th>...</th>\n",
       "      <th>internet_service</th>\n",
       "      <th>online_security</th>\n",
       "      <th>online_backup</th>\n",
       "      <th>device_protection</th>\n",
       "      <th>tech_support</th>\n",
       "      <th>streaming_tv</th>\n",
       "      <th>streaming_movies</th>\n",
       "      <th>multiple_lines</th>\n",
       "      <th>target</th>\n",
       "      <th>days</th>\n",
       "    </tr>\n",
       "    <tr>\n",
       "      <th>customer_id</th>\n",
       "      <th></th>\n",
       "      <th></th>\n",
       "      <th></th>\n",
       "      <th></th>\n",
       "      <th></th>\n",
       "      <th></th>\n",
       "      <th></th>\n",
       "      <th></th>\n",
       "      <th></th>\n",
       "      <th></th>\n",
       "      <th></th>\n",
       "      <th></th>\n",
       "      <th></th>\n",
       "      <th></th>\n",
       "      <th></th>\n",
       "      <th></th>\n",
       "      <th></th>\n",
       "      <th></th>\n",
       "      <th></th>\n",
       "      <th></th>\n",
       "      <th></th>\n",
       "    </tr>\n",
       "  </thead>\n",
       "  <tbody>\n",
       "    <tr>\n",
       "      <th>7590-VHVEG</th>\n",
       "      <td>2020-01-01</td>\n",
       "      <td>2020-02-01</td>\n",
       "      <td>Month-to-month</td>\n",
       "      <td>1</td>\n",
       "      <td>Electronic check</td>\n",
       "      <td>29.85</td>\n",
       "      <td>31.04</td>\n",
       "      <td>Female</td>\n",
       "      <td>0</td>\n",
       "      <td>1</td>\n",
       "      <td>...</td>\n",
       "      <td>DSL</td>\n",
       "      <td>No</td>\n",
       "      <td>Yes</td>\n",
       "      <td>No</td>\n",
       "      <td>No</td>\n",
       "      <td>No</td>\n",
       "      <td>No</td>\n",
       "      <td>NA</td>\n",
       "      <td>0</td>\n",
       "      <td>31</td>\n",
       "    </tr>\n",
       "    <tr>\n",
       "      <th>5575-GNVDE</th>\n",
       "      <td>2017-04-01</td>\n",
       "      <td>2020-02-01</td>\n",
       "      <td>One year</td>\n",
       "      <td>0</td>\n",
       "      <td>Mailed check</td>\n",
       "      <td>56.95</td>\n",
       "      <td>2071.84</td>\n",
       "      <td>Male</td>\n",
       "      <td>0</td>\n",
       "      <td>0</td>\n",
       "      <td>...</td>\n",
       "      <td>DSL</td>\n",
       "      <td>Yes</td>\n",
       "      <td>No</td>\n",
       "      <td>Yes</td>\n",
       "      <td>No</td>\n",
       "      <td>No</td>\n",
       "      <td>No</td>\n",
       "      <td>No</td>\n",
       "      <td>0</td>\n",
       "      <td>1036</td>\n",
       "    </tr>\n",
       "    <tr>\n",
       "      <th>3668-QPYBK</th>\n",
       "      <td>2019-10-01</td>\n",
       "      <td>2020-02-01</td>\n",
       "      <td>Month-to-month</td>\n",
       "      <td>1</td>\n",
       "      <td>Mailed check</td>\n",
       "      <td>53.85</td>\n",
       "      <td>226.17</td>\n",
       "      <td>Male</td>\n",
       "      <td>0</td>\n",
       "      <td>0</td>\n",
       "      <td>...</td>\n",
       "      <td>DSL</td>\n",
       "      <td>Yes</td>\n",
       "      <td>Yes</td>\n",
       "      <td>No</td>\n",
       "      <td>No</td>\n",
       "      <td>No</td>\n",
       "      <td>No</td>\n",
       "      <td>No</td>\n",
       "      <td>0</td>\n",
       "      <td>123</td>\n",
       "    </tr>\n",
       "    <tr>\n",
       "      <th>7795-CFOCW</th>\n",
       "      <td>2016-05-01</td>\n",
       "      <td>2020-02-01</td>\n",
       "      <td>One year</td>\n",
       "      <td>0</td>\n",
       "      <td>Bank transfer (automatic)</td>\n",
       "      <td>42.30</td>\n",
       "      <td>1960.60</td>\n",
       "      <td>Male</td>\n",
       "      <td>0</td>\n",
       "      <td>0</td>\n",
       "      <td>...</td>\n",
       "      <td>DSL</td>\n",
       "      <td>Yes</td>\n",
       "      <td>No</td>\n",
       "      <td>Yes</td>\n",
       "      <td>Yes</td>\n",
       "      <td>No</td>\n",
       "      <td>No</td>\n",
       "      <td>NA</td>\n",
       "      <td>0</td>\n",
       "      <td>1371</td>\n",
       "    </tr>\n",
       "    <tr>\n",
       "      <th>9237-HQITU</th>\n",
       "      <td>2019-09-01</td>\n",
       "      <td>2020-02-01</td>\n",
       "      <td>Month-to-month</td>\n",
       "      <td>1</td>\n",
       "      <td>Electronic check</td>\n",
       "      <td>70.70</td>\n",
       "      <td>353.50</td>\n",
       "      <td>Female</td>\n",
       "      <td>0</td>\n",
       "      <td>0</td>\n",
       "      <td>...</td>\n",
       "      <td>Fiber optic</td>\n",
       "      <td>No</td>\n",
       "      <td>No</td>\n",
       "      <td>No</td>\n",
       "      <td>No</td>\n",
       "      <td>No</td>\n",
       "      <td>No</td>\n",
       "      <td>No</td>\n",
       "      <td>0</td>\n",
       "      <td>153</td>\n",
       "    </tr>\n",
       "  </tbody>\n",
       "</table>\n",
       "<p>5 rows × 21 columns</p>\n",
       "</div>"
      ],
      "text/plain": [
       "            begin_date   end_date            type  paperless_billing  \\\n",
       "customer_id                                                            \n",
       "7590-VHVEG  2020-01-01 2020-02-01  Month-to-month                  1   \n",
       "5575-GNVDE  2017-04-01 2020-02-01        One year                  0   \n",
       "3668-QPYBK  2019-10-01 2020-02-01  Month-to-month                  1   \n",
       "7795-CFOCW  2016-05-01 2020-02-01        One year                  0   \n",
       "9237-HQITU  2019-09-01 2020-02-01  Month-to-month                  1   \n",
       "\n",
       "                        payment_method  monthly_charges  total_charges  \\\n",
       "customer_id                                                              \n",
       "7590-VHVEG            Electronic check            29.85          31.04   \n",
       "5575-GNVDE                Mailed check            56.95        2071.84   \n",
       "3668-QPYBK                Mailed check            53.85         226.17   \n",
       "7795-CFOCW   Bank transfer (automatic)            42.30        1960.60   \n",
       "9237-HQITU            Electronic check            70.70         353.50   \n",
       "\n",
       "             gender  senior_citizen  partner  ...  internet_service  \\\n",
       "customer_id                                   ...                     \n",
       "7590-VHVEG   Female               0        1  ...               DSL   \n",
       "5575-GNVDE     Male               0        0  ...               DSL   \n",
       "3668-QPYBK     Male               0        0  ...               DSL   \n",
       "7795-CFOCW     Male               0        0  ...               DSL   \n",
       "9237-HQITU   Female               0        0  ...       Fiber optic   \n",
       "\n",
       "            online_security online_backup device_protection tech_support  \\\n",
       "customer_id                                                                \n",
       "7590-VHVEG               No           Yes                No           No   \n",
       "5575-GNVDE              Yes            No               Yes           No   \n",
       "3668-QPYBK              Yes           Yes                No           No   \n",
       "7795-CFOCW              Yes            No               Yes          Yes   \n",
       "9237-HQITU               No            No                No           No   \n",
       "\n",
       "            streaming_tv streaming_movies multiple_lines target  days  \n",
       "customer_id                                                            \n",
       "7590-VHVEG            No               No             NA      0    31  \n",
       "5575-GNVDE            No               No             No      0  1036  \n",
       "3668-QPYBK            No               No             No      0   123  \n",
       "7795-CFOCW            No               No             NA      0  1371  \n",
       "9237-HQITU            No               No             No      0   153  \n",
       "\n",
       "[5 rows x 21 columns]"
      ]
     },
     "execution_count": 35,
     "metadata": {},
     "output_type": "execute_result"
    }
   ],
   "source": [
    "# посмотрим, что получилось\n",
    "data.head(5)"
   ]
  },
  {
   "cell_type": "markdown",
   "id": "b72fb95c",
   "metadata": {},
   "source": [
    "Посмотрим, какие значения в днях у нас получаются:"
   ]
  },
  {
   "cell_type": "code",
   "execution_count": 36,
   "id": "bd18b30d",
   "metadata": {},
   "outputs": [
    {
     "data": {
      "image/png": "[encoded data removed]",
      "text/plain": [
       "<Figure size 504x360 with 1 Axes>"
      ]
     },
     "metadata": {
      "needs_background": "light"
     },
     "output_type": "display_data"
    }
   ],
   "source": [
    "data['days'].hist(figsize=(7,5), bins=100)\n",
    "plt.title('Распределение длительности пользования сотовым оператором')\n",
    "plt.xlabel('дней')\n",
    "plt.ylabel('пользователей')\n",
    "plt.show()"
   ]
  },
  {
   "cell_type": "markdown",
   "id": "cd1b554f",
   "metadata": {},
   "source": [
    "Поскольку в дальнейших этапах даты нам не понадобятся, удалим их:"
   ]
  },
  {
   "cell_type": "code",
   "execution_count": 37,
   "id": "907c0f50",
   "metadata": {},
   "outputs": [],
   "source": [
    "data = data.drop(columns=['end_date', 'begin_date'])"
   ]
  },
  {
   "cell_type": "markdown",
   "id": "a3c69c9f",
   "metadata": {},
   "source": [
    "**Вывод:** <br/>\n",
    "\n",
    "В этом разделе мы объединили таблицы, добавили целевой признак (`target`), добавили признак `days`, удалили даты из таблицы. Далее можно приступать к подготовке к моделированию."
   ]
  },
  {
   "cell_type": "markdown",
   "id": "35d6a511",
   "metadata": {},
   "source": [
    "## Подготовка к моделированию"
   ]
  },
  {
   "cell_type": "markdown",
   "id": "4ea02bb3",
   "metadata": {},
   "source": [
    "### Проверка корреляции признаков"
   ]
  },
  {
   "cell_type": "markdown",
   "id": "0da06166",
   "metadata": {},
   "source": [
    "Посмотрим на корреляцию между столбцами, чтобы выбрать признаки."
   ]
  },
  {
   "cell_type": "code",
   "execution_count": 38,
   "id": "c8cf6e22",
   "metadata": {
    "scrolled": false
   },
   "outputs": [
    {
     "data": {
      "image/png": "[encoded data removed]",
      "text/plain": [
       "<Figure size 432x288 with 2 Axes>"
      ]
     },
     "metadata": {
      "needs_background": "light"
     },
     "output_type": "display_data"
    }
   ],
   "source": [
    "# анализ корреляции всех признаков\n",
    "\n",
    "sns.heatmap(\n",
    "    data.phik_matrix(interval_cols=['monthly_charges', 'total_charges', 'days'])\n",
    ")\n",
    "plt.title('Тепловая карта корреляции признаков')\n",
    "plt.show()"
   ]
  },
  {
   "cell_type": "code",
   "execution_count": 39,
   "id": "6fbbade9",
   "metadata": {},
   "outputs": [
    {
     "data": {
      "text/plain": [
       "gender               0.008800\n",
       "dependents           0.048710\n",
       "tech_support         0.051442\n",
       "internet_service     0.056279\n",
       "online_security      0.058630\n",
       "streaming_tv         0.078554\n",
       "paperless_billing    0.082789\n",
       "device_protection    0.085665\n",
       "senior_citizen       0.085708\n",
       "streaming_movies     0.086371\n",
       "online_backup        0.089771\n",
       "type                 0.094622\n",
       "multiple_lines       0.105172\n",
       "payment_method       0.214300\n",
       "monthly_charges      0.225823\n",
       "partner              0.227597\n",
       "total_charges        0.303758\n",
       "days                 0.374101\n",
       "target               1.000000\n",
       "Name: target, dtype: float64"
      ]
     },
     "execution_count": 39,
     "metadata": {},
     "output_type": "execute_result"
    }
   ],
   "source": [
    "# Посмотрим на то, какие признаки практически не коррелируют с target (отсортируем):\n",
    "(data.phik_matrix(interval_cols=['monthly_charges', 'total_charges', 'days']))['target'].sort_values()"
   ]
  },
  {
   "cell_type": "markdown",
   "id": "3b37dde9",
   "metadata": {},
   "source": [
    "Мы видим, что со многими признаками у таргета очень маленькая корреляция. Отбросим большинство признаков, оставив те, по которым корреляция больше 0.09: \n",
    "- `type`,\n",
    "- `multiple_lines`,\n",
    "- `payment_method`,\n",
    "- `monthly_charges`,\n",
    "- `partner`,\n",
    "- `total_charges`,\n",
    "- `days`"
   ]
  },
  {
   "cell_type": "markdown",
   "id": "a8b023fc",
   "metadata": {},
   "source": [
    "### Разбиение на тестовую и обучающую выборки"
   ]
  },
  {
   "cell_type": "code",
   "execution_count": 40,
   "id": "8bf7b064",
   "metadata": {},
   "outputs": [],
   "source": [
    "# разобьем данные на фичи и таргет\n",
    "features = data[['multiple_lines',\n",
    "                 'payment_method',\n",
    "                 'monthly_charges',\n",
    "                 'partner',\n",
    "                 'total_charges',\n",
    "                 'days',\n",
    "                 'type']]\n",
    "target = data['target']"
   ]
  },
  {
   "cell_type": "code",
   "execution_count": 41,
   "id": "60990bf1",
   "metadata": {},
   "outputs": [],
   "source": [
    "# разобьем данные на обучающую и тестовую выборки\n",
    "features_train, features_test, target_train, target_test = train_test_split(features, \n",
    "                                                                            target, \n",
    "                                                                            test_size=.25, \n",
    "                                                                            random_state=RS,\n",
    "                                                                            stratify=target)"
   ]
  },
  {
   "cell_type": "code",
   "execution_count": 42,
   "id": "081eecdc",
   "metadata": {},
   "outputs": [
    {
     "data": {
      "text/plain": [
       "3.0"
      ]
     },
     "execution_count": 42,
     "metadata": {},
     "output_type": "execute_result"
    }
   ],
   "source": [
    "# проверим соотношение трейна и теста\n",
    "features_train.shape[0] / features_test.shape[0]"
   ]
  },
  {
   "cell_type": "markdown",
   "id": "da4b35f3",
   "metadata": {},
   "source": [
    "Все в порядке."
   ]
  },
  {
   "cell_type": "markdown",
   "id": "259b7d3b",
   "metadata": {},
   "source": [
    "### Масштабирование данных"
   ]
  },
  {
   "cell_type": "code",
   "execution_count": 43,
   "id": "4af584e4",
   "metadata": {},
   "outputs": [],
   "source": [
    "# отмасштабируем данные\n",
    "\n",
    "scaler = StandardScaler()\n",
    "\n",
    "# выделим численные столбцы\n",
    "numeric = ['monthly_charges', 'total_charges', 'days']\n",
    "# обучим на трейне\n",
    "scaler.fit(features_train[numeric])\n",
    "# отмасштабируем трейн\n",
    "features_train[numeric] = scaler.transform(features_train[numeric])\n",
    "# отмасштабируем тестовую\n",
    "features_test[numeric] = scaler.transform(features_test[numeric])"
   ]
  },
  {
   "cell_type": "markdown",
   "id": "88cc5b6c",
   "metadata": {},
   "source": [
    "### Кодирование данных"
   ]
  },
  {
   "cell_type": "code",
   "execution_count": 44,
   "id": "2b6230c0",
   "metadata": {},
   "outputs": [],
   "source": [
    "# откодируем данные\n",
    "encoder = OrdinalEncoder(handle_unknown='use_encoded_value', unknown_value=9999)\n",
    "\n",
    "# выделяем категориальные столбцы\n",
    "cat = ['multiple_lines', 'payment_method', 'partner', 'type']\n",
    "\n",
    "# обучаем на тренировочной\n",
    "encoder.fit(features_train[cat])\n",
    "\n",
    "# кодируем тренировочную\n",
    "features_train[cat] = encoder.transform(features_train[cat])\n",
    "# кодируем тестовую\n",
    "features_test[cat] = encoder.transform(features_test[cat])\n",
    "\n",
    "# приведем сразу признаки к типу int для дальнейшего использования в катбусте\n",
    "features_train[cat] = features_train[cat].astype(int)\n",
    "features_test[cat] = features_test[cat].astype(int)"
   ]
  },
  {
   "cell_type": "code",
   "execution_count": 45,
   "id": "1252849b",
   "metadata": {
    "scrolled": true
   },
   "outputs": [
    {
     "data": {
      "text/html": [
       "<div>\n",
       "<style scoped>\n",
       "    .dataframe tbody tr th:only-of-type {\n",
       "        vertical-align: middle;\n",
       "    }\n",
       "\n",
       "    .dataframe tbody tr th {\n",
       "        vertical-align: top;\n",
       "    }\n",
       "\n",
       "    .dataframe thead th {\n",
       "        text-align: right;\n",
       "    }\n",
       "</style>\n",
       "<table border=\"1\" class=\"dataframe\">\n",
       "  <thead>\n",
       "    <tr style=\"text-align: right;\">\n",
       "      <th></th>\n",
       "      <th>multiple_lines</th>\n",
       "      <th>payment_method</th>\n",
       "      <th>monthly_charges</th>\n",
       "      <th>partner</th>\n",
       "      <th>total_charges</th>\n",
       "      <th>days</th>\n",
       "      <th>type</th>\n",
       "    </tr>\n",
       "    <tr>\n",
       "      <th>customer_id</th>\n",
       "      <th></th>\n",
       "      <th></th>\n",
       "      <th></th>\n",
       "      <th></th>\n",
       "      <th></th>\n",
       "      <th></th>\n",
       "      <th></th>\n",
       "    </tr>\n",
       "  </thead>\n",
       "  <tbody>\n",
       "    <tr>\n",
       "      <th>1066-JKSGK</th>\n",
       "      <td>1</td>\n",
       "      <td>3</td>\n",
       "      <td>-1.496370</td>\n",
       "      <td>0</td>\n",
       "      <td>-0.968429</td>\n",
       "      <td>-1.177411</td>\n",
       "      <td>0</td>\n",
       "    </tr>\n",
       "    <tr>\n",
       "      <th>3737-XBQDD</th>\n",
       "      <td>2</td>\n",
       "      <td>0</td>\n",
       "      <td>0.662529</td>\n",
       "      <td>0</td>\n",
       "      <td>-0.164015</td>\n",
       "      <td>-0.380447</td>\n",
       "      <td>0</td>\n",
       "    </tr>\n",
       "    <tr>\n",
       "      <th>4525-VZCZG</th>\n",
       "      <td>1</td>\n",
       "      <td>2</td>\n",
       "      <td>1.363254</td>\n",
       "      <td>0</td>\n",
       "      <td>1.675017</td>\n",
       "      <td>1.089412</td>\n",
       "      <td>1</td>\n",
       "    </tr>\n",
       "    <tr>\n",
       "      <th>7486-KSRVI</th>\n",
       "      <td>2</td>\n",
       "      <td>2</td>\n",
       "      <td>1.168052</td>\n",
       "      <td>0</td>\n",
       "      <td>0.685907</td>\n",
       "      <td>0.286609</td>\n",
       "      <td>1</td>\n",
       "    </tr>\n",
       "    <tr>\n",
       "      <th>4958-GZWIY</th>\n",
       "      <td>1</td>\n",
       "      <td>2</td>\n",
       "      <td>-0.543718</td>\n",
       "      <td>1</td>\n",
       "      <td>-0.769312</td>\n",
       "      <td>-0.865047</td>\n",
       "      <td>0</td>\n",
       "    </tr>\n",
       "  </tbody>\n",
       "</table>\n",
       "</div>"
      ],
      "text/plain": [
       "             multiple_lines  payment_method  monthly_charges  partner  \\\n",
       "customer_id                                                             \n",
       "1066-JKSGK                1               3        -1.496370        0   \n",
       "3737-XBQDD                2               0         0.662529        0   \n",
       "4525-VZCZG                1               2         1.363254        0   \n",
       "7486-KSRVI                2               2         1.168052        0   \n",
       "4958-GZWIY                1               2        -0.543718        1   \n",
       "\n",
       "             total_charges      days  type  \n",
       "customer_id                                 \n",
       "1066-JKSGK       -0.968429 -1.177411     0  \n",
       "3737-XBQDD       -0.164015 -0.380447     0  \n",
       "4525-VZCZG        1.675017  1.089412     1  \n",
       "7486-KSRVI        0.685907  0.286609     1  \n",
       "4958-GZWIY       -0.769312 -0.865047     0  "
      ]
     },
     "metadata": {},
     "output_type": "display_data"
    },
    {
     "data": {
      "text/html": [
       "<div>\n",
       "<style scoped>\n",
       "    .dataframe tbody tr th:only-of-type {\n",
       "        vertical-align: middle;\n",
       "    }\n",
       "\n",
       "    .dataframe tbody tr th {\n",
       "        vertical-align: top;\n",
       "    }\n",
       "\n",
       "    .dataframe thead th {\n",
       "        text-align: right;\n",
       "    }\n",
       "</style>\n",
       "<table border=\"1\" class=\"dataframe\">\n",
       "  <thead>\n",
       "    <tr style=\"text-align: right;\">\n",
       "      <th></th>\n",
       "      <th>multiple_lines</th>\n",
       "      <th>payment_method</th>\n",
       "      <th>monthly_charges</th>\n",
       "      <th>partner</th>\n",
       "      <th>total_charges</th>\n",
       "      <th>days</th>\n",
       "      <th>type</th>\n",
       "    </tr>\n",
       "    <tr>\n",
       "      <th>customer_id</th>\n",
       "      <th></th>\n",
       "      <th></th>\n",
       "      <th></th>\n",
       "      <th></th>\n",
       "      <th></th>\n",
       "      <th></th>\n",
       "      <th></th>\n",
       "    </tr>\n",
       "  </thead>\n",
       "  <tbody>\n",
       "    <tr>\n",
       "      <th>6103-LIANB</th>\n",
       "      <td>2</td>\n",
       "      <td>1</td>\n",
       "      <td>1.151368</td>\n",
       "      <td>1</td>\n",
       "      <td>1.774727</td>\n",
       "      <td>1.312737</td>\n",
       "      <td>2</td>\n",
       "    </tr>\n",
       "    <tr>\n",
       "      <th>5396-IZEPB</th>\n",
       "      <td>1</td>\n",
       "      <td>1</td>\n",
       "      <td>-1.511386</td>\n",
       "      <td>0</td>\n",
       "      <td>-0.914086</td>\n",
       "      <td>-0.908837</td>\n",
       "      <td>0</td>\n",
       "    </tr>\n",
       "    <tr>\n",
       "      <th>6572-ADKRS</th>\n",
       "      <td>1</td>\n",
       "      <td>1</td>\n",
       "      <td>0.327182</td>\n",
       "      <td>0</td>\n",
       "      <td>0.611487</td>\n",
       "      <td>0.733260</td>\n",
       "      <td>0</td>\n",
       "    </tr>\n",
       "    <tr>\n",
       "      <th>9436-ZBZCT</th>\n",
       "      <td>2</td>\n",
       "      <td>2</td>\n",
       "      <td>0.832705</td>\n",
       "      <td>0</td>\n",
       "      <td>-0.240095</td>\n",
       "      <td>-0.510355</td>\n",
       "      <td>0</td>\n",
       "    </tr>\n",
       "    <tr>\n",
       "      <th>6569-KTMDU</th>\n",
       "      <td>1</td>\n",
       "      <td>3</td>\n",
       "      <td>-1.531407</td>\n",
       "      <td>0</td>\n",
       "      <td>-0.988039</td>\n",
       "      <td>-1.266449</td>\n",
       "      <td>0</td>\n",
       "    </tr>\n",
       "  </tbody>\n",
       "</table>\n",
       "</div>"
      ],
      "text/plain": [
       "             multiple_lines  payment_method  monthly_charges  partner  \\\n",
       "customer_id                                                             \n",
       "6103-LIANB                2               1         1.151368        1   \n",
       "5396-IZEPB                1               1        -1.511386        0   \n",
       "6572-ADKRS                1               1         0.327182        0   \n",
       "9436-ZBZCT                2               2         0.832705        0   \n",
       "6569-KTMDU                1               3        -1.531407        0   \n",
       "\n",
       "             total_charges      days  type  \n",
       "customer_id                                 \n",
       "6103-LIANB        1.774727  1.312737     2  \n",
       "5396-IZEPB       -0.914086 -0.908837     0  \n",
       "6572-ADKRS        0.611487  0.733260     0  \n",
       "9436-ZBZCT       -0.240095 -0.510355     0  \n",
       "6569-KTMDU       -0.988039 -1.266449     0  "
      ]
     },
     "metadata": {},
     "output_type": "display_data"
    }
   ],
   "source": [
    "# проверим, что все ОК\n",
    "display(features_train.head())\n",
    "display(features_test.head())"
   ]
  },
  {
   "cell_type": "markdown",
   "id": "b4e41fa4",
   "metadata": {},
   "source": [
    "Вроде все в порядке, можно двигаться дальше."
   ]
  },
  {
   "cell_type": "markdown",
   "id": "3ab62e3e",
   "metadata": {},
   "source": [
    "Проверим дисбаланс классов:"
   ]
  },
  {
   "cell_type": "code",
   "execution_count": 46,
   "id": "0c522b04",
   "metadata": {},
   "outputs": [
    {
     "data": {
      "text/plain": [
       "0    5931\n",
       "1    1101\n",
       "Name: target, dtype: int64"
      ]
     },
     "execution_count": 46,
     "metadata": {},
     "output_type": "execute_result"
    }
   ],
   "source": [
    "# посмотрим, каких значений в целевом признаке больше\n",
    "target.value_counts()"
   ]
  },
  {
   "cell_type": "markdown",
   "id": "b8c2d2de",
   "metadata": {},
   "source": [
    "Оставшихся клиентов больше, чем ушедших больше, чем в 5 раз. Мы не будем бороться с дисбалансом классов, так как в качестве метрики качества в данном проекте используется ROC-AUC, который не чувствителен к дисбалансу."
   ]
  },
  {
   "cell_type": "markdown",
   "id": "70001675",
   "metadata": {},
   "source": [
    "**Вывод:** <br/>\n",
    "\n",
    "В этом разделе мы проанализировали корреляцию между признаками, решили, что будем использовать все признаки, разбили данные на трейн и тест, отмасштабировали и закодировали их. Этап премоделирования на этом выполнен. Можно переходить непосредственнот к моделированию. "
   ]
  },
  {
   "cell_type": "markdown",
   "id": "7f25743a",
   "metadata": {},
   "source": [
    "## Моделирование"
   ]
  },
  {
   "cell_type": "markdown",
   "id": "9cd65828",
   "metadata": {},
   "source": [
    "ROC-AUC дамми моделей составляет 0.5 - качество моделей должно быть как минимум лучше 0.5"
   ]
  },
  {
   "cell_type": "markdown",
   "id": "3b2a0eb0",
   "metadata": {},
   "source": [
    "### Decision Tree"
   ]
  },
  {
   "cell_type": "markdown",
   "id": "c1b4461b",
   "metadata": {},
   "source": [
    "Построим модель дерева решений с подбором гиперпараметров `max_depth` и `min_samples_leaf`."
   ]
  },
  {
   "cell_type": "code",
   "execution_count": 47,
   "id": "1ab0c434",
   "metadata": {},
   "outputs": [
    {
     "name": "stdout",
     "output_type": "stream",
     "text": [
      "ROC-AUC модели = 0.7987372035102428\n",
      "Лучшие параметры: {'max_depth': 21, 'min_samples_leaf': 100}\n"
     ]
    }
   ],
   "source": [
    "model = DecisionTreeClassifier(random_state=RS)\n",
    "\n",
    "# словарь с гиперпараметрами и значениями, которые хотим перебрать\n",
    "param_grid_dtree = {\n",
    "    'max_depth': (1, 21),\n",
    "    'min_samples_leaf': (1, 100, 2)\n",
    "}\n",
    "\n",
    "gs_dtree = GridSearchCV(\n",
    "    model, \n",
    "    param_grid=param_grid_dtree, \n",
    "    scoring='roc_auc', \n",
    "    n_jobs=-1\n",
    ")\n",
    "\n",
    "gs_dtree.fit(features_train, target_train)\n",
    "\n",
    "# лучшее значение roc-auc на кросс-валидации\n",
    "print(f'ROC-AUC модели = {gs_dtree.best_score_}')\n",
    "\n",
    "# лучшие гиперпараметры\n",
    "print(f'Лучшие параметры: {gs_dtree.best_params_}')"
   ]
  },
  {
   "cell_type": "markdown",
   "id": "918508da",
   "metadata": {},
   "source": [
    "Данная модель, увы, не подходит, так как ROC-AUC < 0.85."
   ]
  },
  {
   "cell_type": "markdown",
   "id": "8e5a7ac2",
   "metadata": {},
   "source": [
    "### Random Forest"
   ]
  },
  {
   "cell_type": "markdown",
   "id": "f005b8fd",
   "metadata": {},
   "source": [
    "Построим модель случайного леса с подбором гиперпараметров `max_depth`, `min_samples_leaf`, `n_estimators`."
   ]
  },
  {
   "cell_type": "code",
   "execution_count": 48,
   "id": "bbf12c26",
   "metadata": {
    "scrolled": true
   },
   "outputs": [
    {
     "name": "stdout",
     "output_type": "stream",
     "text": [
      "ROC-AUC модели = 0.8232186791565462\n",
      "Лучшие параметры: {'max_depth': 21, 'min_samples_leaf': 50, 'n_estimators': 101}\n"
     ]
    }
   ],
   "source": [
    "model = RandomForestClassifier(random_state=RS)\n",
    "\n",
    "# словарь с гиперпараметрами и значениями, которые хотим перебрать\n",
    "param_grid_forest = {\n",
    "    'max_depth': (1, 21),\n",
    "    'min_samples_leaf': (1, 50, 2),\n",
    "    'n_estimators': (1, 101, 10)\n",
    "}\n",
    "\n",
    "gs_forest = GridSearchCV(\n",
    "    model, \n",
    "    param_grid=param_grid_forest, \n",
    "    scoring='roc_auc',\n",
    "    n_jobs=-1\n",
    ")\n",
    "\n",
    "gs_forest.fit(features_train, target_train)\n",
    "\n",
    "# лучшее значение roc-auc на кросс-валидации\n",
    "print(f'ROC-AUC модели = {gs_forest.best_score_}')\n",
    "\n",
    "# лучшие гиперпараметры\n",
    "print(f'Лучшие параметры: {gs_forest.best_params_}')"
   ]
  },
  {
   "cell_type": "markdown",
   "id": "73dd4d85",
   "metadata": {},
   "source": [
    "Данная модель также нам не подходит, так как ROC-AUC < 0.85."
   ]
  },
  {
   "cell_type": "markdown",
   "id": "ee77d26b",
   "metadata": {},
   "source": [
    "### CatboostClassifier"
   ]
  },
  {
   "cell_type": "markdown",
   "id": "d08bd32f",
   "metadata": {},
   "source": [
    "Построим модель градиентного бустинга CatBoost с подбором гиперпараметров `learning_rate` и `iterations`."
   ]
  },
  {
   "cell_type": "code",
   "execution_count": 49,
   "id": "444fbeef",
   "metadata": {},
   "outputs": [
    {
     "name": "stdout",
     "output_type": "stream",
     "text": [
      "ROC-AUC = 0.8738013039602834.\n",
      "Лучший гиперпараметр iterations = 91, learning_rate=0.68.\n",
      "CPU times: user 1min 36s, sys: 3.47 s, total: 1min 40s\n",
      "Wall time: 4min 48s\n"
     ]
    }
   ],
   "source": [
    "%%time\n",
    "best_learning_rate = None\n",
    "best_iterations = None\n",
    "best_score = 0\n",
    "for i, lr in itertools.product(range(1,101,10), np.arange(0.6, 0.7, 0.01)):\n",
    "    model = CatBoostClassifier(random_state=RS, \n",
    "                               loss_function=\"Logloss\",\n",
    "                               boosting_type='Ordered',\n",
    "                               learning_rate=lr,\n",
    "                               cat_features=cat,\n",
    "                               iterations=i,\n",
    "                               verbose=0)\n",
    "    scores = cross_val_score(model, features_train, target_train, cv=3, scoring='roc_auc')\n",
    "    score = np.abs(sum(scores) / len(scores))\n",
    "    \n",
    "    if score > best_score:\n",
    "        best_learning_rate = lr\n",
    "        best_iterations = i\n",
    "        best_score = score\n",
    "\n",
    "print(f'ROC-AUC = {best_score}.')\n",
    "print(f'Лучший гиперпараметр iterations = {best_iterations}, learning_rate={best_learning_rate}.')"
   ]
  },
  {
   "cell_type": "markdown",
   "id": "1499e3b7",
   "metadata": {},
   "source": [
    "На Catboost удалось превысить метрику качества ROC-AUC в 0.85 - мы получили 0.87."
   ]
  },
  {
   "cell_type": "markdown",
   "id": "981078f0",
   "metadata": {},
   "source": [
    "**Вывод:**\n",
    "Поскольку удалось достичь наилучшего результата при помощи градиентного бустинга Catboost c `iterations = 91`, `learning_rate = 0.68` будем использовать именно эту модель."
   ]
  },
  {
   "cell_type": "markdown",
   "id": "ce0332e5",
   "metadata": {},
   "source": [
    "## Финальное тестирование"
   ]
  },
  {
   "cell_type": "markdown",
   "id": "f843a0dc",
   "metadata": {},
   "source": [
    "### ROC-AUC модели"
   ]
  },
  {
   "cell_type": "code",
   "execution_count": 50,
   "id": "53820c24",
   "metadata": {
    "scrolled": true
   },
   "outputs": [
    {
     "name": "stdout",
     "output_type": "stream",
     "text": [
      "0.8877557776006866\n"
     ]
    }
   ],
   "source": [
    "# построим финальную модель и проверим ее качество\n",
    "model = CatBoostClassifier(random_state=RS, \n",
    "                           loss_function=\"Logloss\",\n",
    "                           boosting_type='Ordered',\n",
    "                           learning_rate=best_learning_rate,\n",
    "                           cat_features=cat,\n",
    "                           iterations=best_iterations,\n",
    "                           verbose=0)\n",
    "\n",
    "model.fit(features_train, target_train, verbose=0)\n",
    "\n",
    "probabilities_test = model.predict_proba(features_test)[:, 1]\n",
    "print(roc_auc_score(target_test, probabilities_test))"
   ]
  },
  {
   "cell_type": "markdown",
   "id": "76944aa8",
   "metadata": {},
   "source": [
    "На тестовой выборке мы достигли ROC-AUC = 0.88, что говорит о том, что задача выполнена."
   ]
  },
  {
   "cell_type": "markdown",
   "id": "c5a283e3",
   "metadata": {},
   "source": [
    "### Accuracy модели"
   ]
  },
  {
   "cell_type": "markdown",
   "id": "7a536664",
   "metadata": {},
   "source": [
    "Посмотрим на accuracy полученной модель:"
   ]
  },
  {
   "cell_type": "code",
   "execution_count": 51,
   "id": "374f336b",
   "metadata": {},
   "outputs": [
    {
     "data": {
      "text/plain": [
       "0.891353811149033"
      ]
     },
     "execution_count": 51,
     "metadata": {},
     "output_type": "execute_result"
    }
   ],
   "source": [
    "predicted_test = model.predict(features_test)\n",
    "accuracy_score(target_test, predicted_test)"
   ]
  },
  {
   "cell_type": "markdown",
   "id": "fe84ca09",
   "metadata": {},
   "source": [
    "Accuracy вышел достаточно высокий: 89% значений целевой переменной предсказываются безошибочно."
   ]
  },
  {
   "cell_type": "markdown",
   "id": "287ce5ca",
   "metadata": {},
   "source": [
    "### ROC-кривая"
   ]
  },
  {
   "cell_type": "code",
   "execution_count": 52,
   "id": "84a803f5",
   "metadata": {},
   "outputs": [
    {
     "data": {
      "image/png": "[encoded data removed]",
      "text/plain": [
       "<Figure size 288x288 with 1 Axes>"
      ]
     },
     "metadata": {
      "needs_background": "light"
     },
     "output_type": "display_data"
    }
   ],
   "source": [
    "# Построим ROC-кривую\n",
    "fpr, tpr, thresholds = roc_curve(target_test, probabilities_test) \n",
    "plt.figure(figsize=(4,4))\n",
    "plt.plot(fpr, tpr)\n",
    "plt.plot([0, 1], [0, 1], linestyle='--') # ROC-кривая случайной модели \n",
    "plt.ylim([0.0, 1.0])\n",
    "plt.xlim([0.0, 1.0])\n",
    "plt.xlabel(\"False Positive Rate\")\n",
    "plt.ylabel(\"True Positive Rate\")\n",
    "plt.title(\"ROC-кривая\")\n",
    "plt.show()"
   ]
  },
  {
   "cell_type": "markdown",
   "id": "509c6dbb",
   "metadata": {},
   "source": [
    "ROC-кривая расположена выше диагонали, поскольку достигнут результат 0.88 - площадь под синей кривой как раз должна составлять 88% всего квадрата."
   ]
  },
  {
   "cell_type": "markdown",
   "id": "f5ffdd12",
   "metadata": {},
   "source": [
    "### Матрица ошибок"
   ]
  },
  {
   "cell_type": "markdown",
   "id": "255f97db",
   "metadata": {},
   "source": [
    "Посмотрим на матрицу ошибок."
   ]
  },
  {
   "cell_type": "code",
   "execution_count": 53,
   "id": "8cf17747",
   "metadata": {},
   "outputs": [
    {
     "name": "stdout",
     "output_type": "stream",
     "text": [
      "[[1447   36]\n",
      " [ 155  120]]\n"
     ]
    }
   ],
   "source": [
    "print(confusion_matrix(target_test, predicted_test))"
   ]
  },
  {
   "cell_type": "markdown",
   "id": "354b4cd2",
   "metadata": {},
   "source": [
    "На побочной диагонали матрицы внизу слева расположены FN ошибки (false negative), вверху справа - ошибки FP (false positive): <br/>\n",
    "- 155 случаев классифицировались как случаи, когда клиент не ушел (0), хотя он на самом деле ушел (FN). \n",
    "- 36 случая классифицировались как случаи, когда клиент ушел (1), хотя он на самом деле не ушел (FP). <br/>\n",
    "\n",
    "Ошибки FN для компании хуже, так как они буквально потеряют клиентов, в то время как ошибки FP не очень критичны, но приводят к лишним тратам средств на удержание клиентов, которые не собирались уходить."
   ]
  },
  {
   "cell_type": "markdown",
   "id": "ed133010",
   "metadata": {},
   "source": [
    "### Feature importances"
   ]
  },
  {
   "cell_type": "markdown",
   "id": "c4b9b35b",
   "metadata": {},
   "source": [
    "Посмотрим на важность признаков."
   ]
  },
  {
   "cell_type": "code",
   "execution_count": 54,
   "id": "a3149777",
   "metadata": {},
   "outputs": [
    {
     "data": {
      "image/png": "[encoded data removed]",
      "text/plain": [
       "<Figure size 432x288 with 1 Axes>"
      ]
     },
     "metadata": {
      "needs_background": "light"
     },
     "output_type": "display_data"
    }
   ],
   "source": [
    "(model.get_feature_importance(prettified=True)\n",
    " .sort_values(by=['Importances'])\n",
    " .plot\n",
    " .barh(x='Feature Id', y='Importances', legend=None)\n",
    ")\n",
    "plt.title('Важность признаков в порядке убывания')\n",
    "plt.xlabel('важность признака в %')\n",
    "plt.ylabel('название признака')\n",
    "plt.show()"
   ]
  },
  {
   "cell_type": "markdown",
   "id": "cca2bfca",
   "metadata": {},
   "source": [
    "Здесь мы можем увидеть, что наибольший вклад в модель оказал признак `days`. Все остальные переменные оказали уже вклад сильно меньший, чем число дней, в течение которого клиент пользовался услугами."
   ]
  },
  {
   "cell_type": "markdown",
   "id": "fbba2393",
   "metadata": {},
   "source": [
    "**Вывод:**\n",
    "\n",
    "В данном разделе мы провели финальное тестирование модели, убедились в том, что полученный ROC-AUC превосходит бейзлайн в 0.85 - ROC-AUC тестовой выборки составляет 0.88. Мы оценили метрику accuracy - она получилась 0.89; построили ROC-кривую и изучили матрицу ошибок. В конце мы посмотрели на вклад признаков в определение целевой переменной: наибольший вклад оказал признак `days`."
   ]
  },
  {
   "cell_type": "markdown",
   "id": "d8cbccac",
   "metadata": {},
   "source": [
    "## Общий вывод"
   ]
  },
  {
   "cell_type": "markdown",
   "id": "91fa6114",
   "metadata": {},
   "source": [
    "В данном проекте перед нами встала задача прогнозирование оттока клиентов у оператора сотовой связи. Данные были представлены в 4 разных таблицах:\n",
    "`contract_new.csv`, `personal_new.csv`, `internet_new.csv` и `phone_new.csv`.\n",
    "\n",
    "Проект был разбит на несколько частей:\n",
    "1. Обработка данных до объединения таблиц: она включала в себя знакомство с данными, изменение регистра заголовков столбцов, изучение распределения исходных данных, обработку типов данных, проверку дубликатов.\n",
    "1. Обработка данных после объединения таблиц: таблицы были объединены по коду клиента (`customer_id`), были обработаны пропуски, вызванные объединением данных. Здесь же была определена целевая переменная `target` и удалены столбцы с датами.\n",
    "1. Подготовка данных к моделированию: она включала в себя анализ корреляционной матрицы, выбор признаков, разбиение данных на обучающую и тестовую выборку, кодирование и масштабирование признаков, проверка дисбаланса классов.\n",
    "1. Моделирование: здесь при помощи кросс-валидации подбиралась наилучшая модель из дерева решений (с подбором 2 гиперпараметров), случайного леса (с подбором 3 гиперпараметров) и градиентного бустинга (с подбором 2 гиперпараметра). Наилучшая модель получилась при помощи Catboost - по ней одной был достигнут ROC-AUC > 0.85.\n",
    "1. Финальное тестирование: лучшая модель проверялась на тестовой выборке - ROC-AUC составил 0.88; мы посмотрели на точность лучшей модели - она составила 0.89; была построена сама ROC-кривая, изучена матрица ошибок и визуализирована важность признаков.\n",
    "\n",
    "Таким образом, нам удалось построить модель прогнозирования оттока клиентов при помощи градиентного бустинга с метрикой качества ROC-AUC = 0.88 и точностью 0.89."
   ]
  },
  {
   "cell_type": "markdown",
   "id": "77fa1aba",
   "metadata": {},
   "source": [
    "## Отчет"
   ]
  },
  {
   "cell_type": "markdown",
   "id": "8602e5d1",
   "metadata": {},
   "source": [
    "В данном проекте перед нами встала задача прогнозирование оттока клиентов у оператора сотовой связи. Данные были представлены в 4 разных таблицах: \n",
    "- `contract_new.csv`, \n",
    "- `personal_new.csv`, \n",
    "- `internet_new.csv`,\n",
    "- `phone_new.csv`.\n",
    "\n",
    "Для достижения поставленной задачи изначально был составлен план, который был частично соблюден. Основные пункты плана (разделы) выглядели следующим образом:\n",
    "1. Предобработка данных.\n",
    "1. Подготовка данных к моделированию.\n",
    "1. Моделирование.\n",
    "1. Финальное тестирование.\n",
    "1. Отчет о работе.<br/>\n",
    "По сути пункты 1-4 и являлись ключевыми шагами в решении поставленной задачи.\n",
    "\n",
    "Не удалось соблюсти следующие подпункты плана:\n",
    "1.4. Закодировать категориальные переменные при помощи ~OneHotEncoder~ Ordinal Encoder. \n",
    "Было принято решение кодировать через Ordinal Encoder, потому что не рассматривались модели линейной регрессии, следовательно, можно было использовать другой метод.\n",
    "3.2. При помощи кросс-валидации подобрать модель градиентного бустинга. В качестве метрики качества использовать ROC-AUC. - данного пункта изначально в плане не было, т.к. предполагалось рассмотреть две модели: модель дерева решений и случайного леса, однако по этим моделям даже с подбором гиперпараметров не удалось достичь показателя $ROC-AUC >= 0.85$.\n",
    "Все остальные пункты плана были выполнены.\n",
    "\n",
    "Основной трудностью при работе над данным проектом стал выбор моделей для обучения и подбор гиперпараметров, поскольку изначальные модели (дерева решений и случайного леса) не дали метрики качества выше бейзлайна, пришлось думать над другими моделями, их обучать, думать над тем, какие гиперпараметры подбирать и в каком диапазоне таким образом, чтобы время на обучение не было очень большим.\n",
    "\n",
    "Для обучения модели использовались следующие признаки:\n",
    "1. Целевой признак: `target`.\n",
    "1. Признаки (объясняющие переменные): \n",
    "- `multiple_lines`\t\n",
    "- `payment_method`\n",
    "- `monthly_charges`\t\n",
    "- `partner`\t\n",
    "- `total_charges`\t\n",
    "- `days`\t\n",
    "- `type`.\n",
    "\n",
    "Расскажем подробнее про то, как были получены признаки и целевой признак:\n",
    "1. Были загружены исходные таблицы под следующими названиями: \n",
    "- `contract_new.csv` - contract \n",
    "- `personal_new.csv` - personal\n",
    "- `internet_new.csv` - internet\n",
    "- `phone_new.csv` - phone\n",
    "1. Названия столбцов были приведены к змеиному регистру.\n",
    "1. В таблице `contract` столбец total_charges имел ячейки с пробелами - эти строки были удалены. Затем тип данных этого столбца был преобразован из object во float.\n",
    "1. В таблице contract в столбце `paperless_billing` значения Yes/No были преобразованы в 1/0.\n",
    "1. В таблице personal в столбце `dependents` значения Yes/No были преобразованы в 1/0.\n",
    "1. В таблице personal в столбце `partner` значения Yes/No были преобразованы в 1/0.\n",
    "1. Во всех таблицах был выделен индекс - `customer_id`, по которому затем они объединились левым присоединением к таблице `contract`. С этого момента работали с одной таблицей.\n",
    "1. Все пропуски были заменены на `NA` (от not applicable).\n",
    "1. Был добавлен целевой признак (ЦП) target, определенный так: если вместо даты окончания контракта стоял `No` (`end_date == No`), то ЦП = 0 (клиент не ушел), иначе 1. \n",
    "1. Был добавлен признак `days`, отвечающий за то, сколько дней клиент обслуживала оператором. Он рассчитывался как:\n",
    "    - разница между end_date и begin_date (приведенным к типу datetime), если дата окончания действия договора была указана;\n",
    "    - разница между датой выгрузки (01.02.2020) и begin_date (приведенной к типу datetime), если дата окончания действия договора не была указана.\n",
    "1. Признаки end_date и begin_date были удалены за ненадобностью для дальнейшего анализа.\n",
    "1. Была проанализирована корреляция при помощи библиотеки phik (в качестве числовых столбов были указаны `monthly_charges`, `total_charges`, `days`) и на основе нее были выбраны признаки, по которым корреляция с `target` была больше 0.09:\n",
    "- `type`,\n",
    "- `multiple_lines`,\n",
    "- `payment_method`,\n",
    "- `monthly_charges`,\n",
    "- `partner`,\n",
    "- `total_charges`,\n",
    "- `days`\n",
    "\n",
    "\n",
    "Далее данные были разбиты на обучающую и тестовую в отношении 3:1. Здесь и далее использовался `RANDOM_STATE=14082023`. <br/>\n",
    "Затем столбцы `monthly_charges`, `total_charges`, `days` были отмасштабированы при помощи `StandardScaler()` (обучение было на обучающей выборке).<br/>\n",
    "Затем столбцы `type`, `multiple_lines`, `payment_method`, `monthly_charges`, `partner`, `total_charges`, `days` были закодированы при помощи Ordinal Encoder. Для неизвестных значений, которым модель не была обучена, использовалось число 9999.<br/>\n",
    "\n",
    "После этого мы приступили к моделированию. \n",
    "1. Модель дерева решений обучалась на кросс-валидации (GridSearchCV) с подбором гиперпараметров `max_depth` в диапазоне (1, 21) и `min_samples_leaf` - в диапазоне (1, 100) с шагом 2. \n",
    "2. Модель случайного леса решений обучалась на кросс-валидации (GridSearchCV) с подбором гиперпараметров `max_depth` в диапазоне (1, 21), `min_samples_leaf` - в диапазоне (1, 50) с шагом 2, `n_estimators` - в диапазоне (1, 101) с шагом 10.\n",
    "3. Модель градиентного бустинга CatBoost обучалась на кросс-валидации с подбором следующих гиперпараметров через циклы:\n",
    "    1. `iterations` в диапазоне (1,101) с шагом 10, \n",
    "    2. `learning_rate` в диапазоне (0.6, 0.7) с шагом 0.01.\n",
    "У модели были заданы функция потерь `Logloss` и тип бустинга `Ordered`. В качестве категориальных признаков были указаны те признаки, по которым проводилось кодирование.\n",
    "У модели с гиперпараметрами `iterations = 91`, `learning_rate = 0.68` вышел `ROC-AUC = 0.87` на обучающей выборке - это была лучшая модель.\n",
    "\n",
    "На финальном тестировании лучшей модели ROC-AUC получился 0.88, accuracy - 0.89 (89% значений целевой переменной предсказывается безошибочно).\n",
    "ROC-кривая на финальном тестировании выглядит следующим образом:"
   ]
  },
  {
   "attachments": {
    "image.png": {
     "image/png": "[encoded data removed]"
    }
   },
   "cell_type": "markdown",
   "id": "7564c47d",
   "metadata": {},
   "source": [
    "![image.png](attachment:image.png)"
   ]
  },
  {
   "cell_type": "markdown",
   "id": "81da7643",
   "metadata": {},
   "source": [
    "ROC-кривая расположена выше диагонали, поскольку достигнут результат 0.88 - площадь под синей кривой как раз должна составлять 88% всего квадрата.\n",
    "\n",
    "Мы получили следующую матрицу ошибок:\n",
    "$$\n",
    "\\begin{bmatrix}\n",
    "1447 & 36\\\\\n",
    "155 & 120\n",
    "\\end{bmatrix}\n",
    "$$\n",
    "На побочной диагонали матрицы внизу слева расположены FN ошибки (false negative), вверху справа - ошибки FP (false positive): \n",
    "* 155 случаев классифицировались как случаи, когда клиент не ушел (0), хотя он на самом деле ушел (FN).\n",
    "* 36 случая классифицировались как случаи, когда клиент ушел (1), хотя он на самом деле не ушел (FP). \n",
    "\n",
    "Ошибок FN больше и они для компании хуже, поскольку компания буквально потеряет клиентов, в то время как ошибки FP, которых меньше, не столь критичны, однако они приводят к лишним тратам средств на удержание клиентов, которые не собирались уходить.\n",
    "\n",
    "Анализ важности признаков показал следующее:"
   ]
  },
  {
   "attachments": {
    "image.png": {
     "image/png": "[encoded data removed]"
    }
   },
   "cell_type": "markdown",
   "id": "a983bbb0",
   "metadata": {},
   "source": [
    "![image.png](attachment:image.png)"
   ]
  },
  {
   "cell_type": "markdown",
   "id": "53c2c40e",
   "metadata": {},
   "source": [
    "Как можно заметить, наибольший вклад в модель оказал признак days. Все остальные переменные оказали меньший вклад, чем число дней, в течение которого клиент пользовался услугами.\n",
    "\n",
    "На этом работа над проектом была закончена. "
   ]
  }
 ],
 "metadata": {
  "ExecuteTimeLog": [
   {
    "duration": 2863,
    "start_time": "2023-08-19T17:41:41.206Z"
   },
   {
    "duration": 146,
    "start_time": "2023-08-19T17:41:44.072Z"
   },
   {
    "duration": 6,
    "start_time": "2023-08-19T17:41:44.223Z"
   },
   {
    "duration": 67,
    "start_time": "2023-08-19T17:41:44.231Z"
   },
   {
    "duration": 54,
    "start_time": "2023-08-19T17:41:44.304Z"
   },
   {
    "duration": 18,
    "start_time": "2023-08-19T17:41:44.361Z"
   },
   {
    "duration": 9,
    "start_time": "2023-08-19T17:41:44.382Z"
   },
   {
    "duration": 12,
    "start_time": "2023-08-19T17:41:44.393Z"
   },
   {
    "duration": 57,
    "start_time": "2023-08-19T17:41:44.409Z"
   },
   {
    "duration": 11,
    "start_time": "2023-08-19T17:41:44.475Z"
   },
   {
    "duration": 7,
    "start_time": "2023-08-19T17:41:44.489Z"
   },
   {
    "duration": 7,
    "start_time": "2023-08-19T17:41:44.501Z"
   },
   {
    "duration": 52,
    "start_time": "2023-08-19T17:41:44.510Z"
   },
   {
    "duration": 15,
    "start_time": "2023-08-19T17:41:44.567Z"
   },
   {
    "duration": 101,
    "start_time": "2023-08-19T17:41:44.584Z"
   },
   {
    "duration": 7,
    "start_time": "2023-08-19T17:41:44.689Z"
   },
   {
    "duration": 70,
    "start_time": "2023-08-19T17:41:44.698Z"
   },
   {
    "duration": 18,
    "start_time": "2023-08-19T17:41:44.774Z"
   },
   {
    "duration": 22,
    "start_time": "2023-08-19T17:41:44.795Z"
   },
   {
    "duration": 169,
    "start_time": "2023-08-19T17:41:44.821Z"
   },
   {
    "duration": 14,
    "start_time": "2023-08-19T17:41:44.994Z"
   },
   {
    "duration": 1083,
    "start_time": "2023-08-19T17:41:45.011Z"
   },
   {
    "duration": 0,
    "start_time": "2023-08-19T17:41:46.096Z"
   },
   {
    "duration": 0,
    "start_time": "2023-08-19T17:41:46.098Z"
   },
   {
    "duration": 0,
    "start_time": "2023-08-19T17:41:46.099Z"
   },
   {
    "duration": 0,
    "start_time": "2023-08-19T17:41:46.101Z"
   },
   {
    "duration": 0,
    "start_time": "2023-08-19T17:41:46.103Z"
   },
   {
    "duration": 1,
    "start_time": "2023-08-19T17:41:46.104Z"
   },
   {
    "duration": 0,
    "start_time": "2023-08-19T17:41:46.106Z"
   },
   {
    "duration": 0,
    "start_time": "2023-08-19T17:41:46.160Z"
   },
   {
    "duration": 0,
    "start_time": "2023-08-19T17:41:46.161Z"
   },
   {
    "duration": 0,
    "start_time": "2023-08-19T17:41:46.162Z"
   },
   {
    "duration": 0,
    "start_time": "2023-08-19T17:41:46.163Z"
   },
   {
    "duration": 0,
    "start_time": "2023-08-19T17:41:46.166Z"
   },
   {
    "duration": 0,
    "start_time": "2023-08-19T17:41:46.168Z"
   },
   {
    "duration": 0,
    "start_time": "2023-08-19T17:41:46.169Z"
   },
   {
    "duration": 0,
    "start_time": "2023-08-19T17:41:46.170Z"
   },
   {
    "duration": 0,
    "start_time": "2023-08-19T17:41:46.171Z"
   },
   {
    "duration": 0,
    "start_time": "2023-08-19T17:41:46.172Z"
   },
   {
    "duration": 0,
    "start_time": "2023-08-19T17:41:46.173Z"
   },
   {
    "duration": 0,
    "start_time": "2023-08-19T17:41:46.174Z"
   },
   {
    "duration": 0,
    "start_time": "2023-08-19T17:41:46.175Z"
   },
   {
    "duration": 0,
    "start_time": "2023-08-19T17:41:46.176Z"
   },
   {
    "duration": 0,
    "start_time": "2023-08-19T17:41:46.177Z"
   },
   {
    "duration": 0,
    "start_time": "2023-08-19T17:41:46.178Z"
   },
   {
    "duration": 0,
    "start_time": "2023-08-19T17:41:46.179Z"
   },
   {
    "duration": 0,
    "start_time": "2023-08-19T17:41:46.180Z"
   },
   {
    "duration": 0,
    "start_time": "2023-08-19T17:41:46.181Z"
   },
   {
    "duration": 0,
    "start_time": "2023-08-19T17:41:46.182Z"
   },
   {
    "duration": 0,
    "start_time": "2023-08-19T17:41:46.183Z"
   },
   {
    "duration": 0,
    "start_time": "2023-08-19T17:41:46.184Z"
   },
   {
    "duration": 0,
    "start_time": "2023-08-19T17:41:46.185Z"
   },
   {
    "duration": 0,
    "start_time": "2023-08-19T17:41:46.186Z"
   },
   {
    "duration": 682,
    "start_time": "2023-08-19T17:51:39.613Z"
   },
   {
    "duration": 677,
    "start_time": "2023-08-19T17:51:41.483Z"
   },
   {
    "duration": 40,
    "start_time": "2023-08-19T17:51:49.061Z"
   },
   {
    "duration": 8,
    "start_time": "2023-08-19T17:51:50.433Z"
   },
   {
    "duration": 19,
    "start_time": "2023-08-19T17:51:50.584Z"
   },
   {
    "duration": 25,
    "start_time": "2023-08-19T17:51:50.773Z"
   },
   {
    "duration": 202,
    "start_time": "2023-08-19T17:51:51.090Z"
   },
   {
    "duration": 11,
    "start_time": "2023-08-19T17:51:51.420Z"
   },
   {
    "duration": 11,
    "start_time": "2023-08-19T17:51:51.585Z"
   },
   {
    "duration": 40,
    "start_time": "2023-08-19T17:51:51.918Z"
   },
   {
    "duration": 6,
    "start_time": "2023-08-19T17:51:52.291Z"
   },
   {
    "duration": 12638,
    "start_time": "2023-08-19T17:51:52.619Z"
   },
   {
    "duration": 34,
    "start_time": "2023-08-19T17:52:05.265Z"
   },
   {
    "duration": 663,
    "start_time": "2023-08-19T17:52:05.302Z"
   },
   {
    "duration": 9,
    "start_time": "2023-08-19T17:52:05.968Z"
   },
   {
    "duration": 24,
    "start_time": "2023-08-19T17:52:05.979Z"
   },
   {
    "duration": 0,
    "start_time": "2023-08-19T17:52:06.006Z"
   },
   {
    "duration": 0,
    "start_time": "2023-08-19T17:52:06.007Z"
   },
   {
    "duration": 0,
    "start_time": "2023-08-19T17:52:06.008Z"
   },
   {
    "duration": 0,
    "start_time": "2023-08-19T17:52:06.009Z"
   },
   {
    "duration": 0,
    "start_time": "2023-08-19T17:52:06.057Z"
   },
   {
    "duration": 0,
    "start_time": "2023-08-19T17:52:06.058Z"
   },
   {
    "duration": 0,
    "start_time": "2023-08-19T17:52:06.059Z"
   },
   {
    "duration": 0,
    "start_time": "2023-08-19T17:52:06.060Z"
   },
   {
    "duration": 0,
    "start_time": "2023-08-19T17:52:06.060Z"
   },
   {
    "duration": 0,
    "start_time": "2023-08-19T17:52:06.061Z"
   },
   {
    "duration": 0,
    "start_time": "2023-08-19T17:52:06.062Z"
   },
   {
    "duration": 0,
    "start_time": "2023-08-19T17:52:06.063Z"
   },
   {
    "duration": 0,
    "start_time": "2023-08-19T17:52:06.065Z"
   },
   {
    "duration": 0,
    "start_time": "2023-08-19T17:52:06.066Z"
   },
   {
    "duration": 0,
    "start_time": "2023-08-19T17:52:06.067Z"
   },
   {
    "duration": 27,
    "start_time": "2023-08-19T17:54:09.434Z"
   },
   {
    "duration": 29,
    "start_time": "2023-08-19T17:54:09.630Z"
   },
   {
    "duration": 5,
    "start_time": "2023-08-19T17:54:09.792Z"
   },
   {
    "duration": 33,
    "start_time": "2023-08-19T17:54:10.244Z"
   },
   {
    "duration": 19,
    "start_time": "2023-08-19T17:54:10.584Z"
   },
   {
    "duration": 60,
    "start_time": "2023-08-19T17:54:10.899Z"
   },
   {
    "duration": 6,
    "start_time": "2023-08-19T17:54:11.538Z"
   },
   {
    "duration": 382,
    "start_time": "2023-08-19T17:54:12.724Z"
   },
   {
    "duration": 1137,
    "start_time": "2023-08-19T17:54:13.222Z"
   },
   {
    "duration": 0,
    "start_time": "2023-08-19T17:54:14.361Z"
   },
   {
    "duration": 1786,
    "start_time": "2023-08-19T17:54:14.545Z"
   },
   {
    "duration": 0,
    "start_time": "2023-08-19T17:54:16.334Z"
   },
   {
    "duration": 0,
    "start_time": "2023-08-19T17:54:16.336Z"
   },
   {
    "duration": 0,
    "start_time": "2023-08-19T17:54:16.357Z"
   },
   {
    "duration": 58,
    "start_time": "2023-08-19T17:54:16.902Z"
   },
   {
    "duration": 3307,
    "start_time": "2023-08-20T03:00:18.310Z"
   },
   {
    "duration": 122,
    "start_time": "2023-08-20T03:00:21.619Z"
   },
   {
    "duration": 4,
    "start_time": "2023-08-20T03:00:21.743Z"
   },
   {
    "duration": 49,
    "start_time": "2023-08-20T03:00:21.749Z"
   },
   {
    "duration": 12,
    "start_time": "2023-08-20T03:00:21.803Z"
   },
   {
    "duration": 5,
    "start_time": "2023-08-20T03:00:21.817Z"
   },
   {
    "duration": 6,
    "start_time": "2023-08-20T03:00:21.824Z"
   },
   {
    "duration": 5,
    "start_time": "2023-08-20T03:00:21.832Z"
   },
   {
    "duration": 5,
    "start_time": "2023-08-20T03:00:21.839Z"
   },
   {
    "duration": 10,
    "start_time": "2023-08-20T03:00:21.846Z"
   },
   {
    "duration": 32,
    "start_time": "2023-08-20T03:00:21.858Z"
   },
   {
    "duration": 14,
    "start_time": "2023-08-20T03:00:21.893Z"
   },
   {
    "duration": 8,
    "start_time": "2023-08-20T03:00:21.910Z"
   },
   {
    "duration": 10,
    "start_time": "2023-08-20T03:00:21.922Z"
   },
   {
    "duration": 90,
    "start_time": "2023-08-20T03:00:21.934Z"
   },
   {
    "duration": 5,
    "start_time": "2023-08-20T03:00:22.026Z"
   },
   {
    "duration": 14,
    "start_time": "2023-08-20T03:00:22.033Z"
   },
   {
    "duration": 46,
    "start_time": "2023-08-20T03:00:22.049Z"
   },
   {
    "duration": 17,
    "start_time": "2023-08-20T03:00:22.097Z"
   },
   {
    "duration": 103,
    "start_time": "2023-08-20T03:00:22.118Z"
   },
   {
    "duration": 10,
    "start_time": "2023-08-20T03:00:22.223Z"
   },
   {
    "duration": 438,
    "start_time": "2023-08-20T03:00:22.235Z"
   },
   {
    "duration": 666,
    "start_time": "2023-08-20T03:00:22.675Z"
   },
   {
    "duration": 392,
    "start_time": "2023-08-20T03:00:23.343Z"
   },
   {
    "duration": 25,
    "start_time": "2023-08-20T03:00:23.737Z"
   },
   {
    "duration": 10,
    "start_time": "2023-08-20T03:00:23.783Z"
   },
   {
    "duration": 15,
    "start_time": "2023-08-20T03:00:23.795Z"
   },
   {
    "duration": 19,
    "start_time": "2023-08-20T03:00:23.812Z"
   },
   {
    "duration": 93,
    "start_time": "2023-08-20T03:00:23.833Z"
   },
   {
    "duration": 11,
    "start_time": "2023-08-20T03:00:23.928Z"
   },
   {
    "duration": 16,
    "start_time": "2023-08-20T03:00:23.941Z"
   },
   {
    "duration": 28,
    "start_time": "2023-08-20T03:00:23.959Z"
   },
   {
    "duration": 10,
    "start_time": "2023-08-20T03:00:23.991Z"
   },
   {
    "duration": 916,
    "start_time": "2023-08-20T03:00:24.003Z"
   },
   {
    "duration": 21,
    "start_time": "2023-08-20T03:00:24.921Z"
   },
   {
    "duration": 305,
    "start_time": "2023-08-20T03:00:24.944Z"
   },
   {
    "duration": 7,
    "start_time": "2023-08-20T03:00:25.251Z"
   },
   {
    "duration": 1751,
    "start_time": "2023-08-20T03:00:25.259Z"
   },
   {
    "duration": 1246,
    "start_time": "2023-08-20T03:00:27.013Z"
   },
   {
    "duration": 4,
    "start_time": "2023-08-20T03:00:28.261Z"
   },
   {
    "duration": 20,
    "start_time": "2023-08-20T03:00:28.270Z"
   },
   {
    "duration": 8,
    "start_time": "2023-08-20T03:00:28.294Z"
   },
   {
    "duration": 20,
    "start_time": "2023-08-20T03:00:28.304Z"
   },
   {
    "duration": 26,
    "start_time": "2023-08-20T03:00:28.325Z"
   },
   {
    "duration": 52,
    "start_time": "2023-08-20T03:00:28.353Z"
   },
   {
    "duration": 5,
    "start_time": "2023-08-20T03:00:28.412Z"
   },
   {
    "duration": 434,
    "start_time": "2023-08-20T03:00:28.419Z"
   },
   {
    "duration": 11707,
    "start_time": "2023-08-20T03:00:28.855Z"
   },
   {
    "duration": 288243,
    "start_time": "2023-08-20T03:00:40.564Z"
   },
   {
    "duration": 1304,
    "start_time": "2023-08-20T03:05:28.812Z"
   },
   {
    "duration": 7,
    "start_time": "2023-08-20T03:05:30.118Z"
   },
   {
    "duration": 170,
    "start_time": "2023-08-20T03:05:30.127Z"
   },
   {
    "duration": 8,
    "start_time": "2023-08-20T03:05:30.299Z"
   },
   {
    "duration": 164,
    "start_time": "2023-08-20T03:05:30.309Z"
   },
   {
    "duration": 97,
    "start_time": "2023-08-20T21:33:38.588Z"
   }
  ],
  "kernelspec": {
   "display_name": "Python 3 (ipykernel)",
   "language": "python",
   "name": "python3"
  },
  "language_info": {
   "codemirror_mode": {
    "name": "ipython",
    "version": 3
   },
   "file_extension": ".py",
   "mimetype": "text/x-python",
   "name": "python",
   "nbconvert_exporter": "python",
   "pygments_lexer": "ipython3",
   "version": "3.9.5"
  },
  "toc": {
   "base_numbering": 1,
   "nav_menu": {},
   "number_sections": true,
   "sideBar": true,
   "skip_h1_title": true,
   "title_cell": "Содержание",
   "title_sidebar": "Содержание",
   "toc_cell": true,
   "toc_position": {
    "height": "calc(100% - 180px)",
    "left": "10px",
    "top": "150px",
    "width": "242.796875px"
   },
   "toc_section_display": true,
   "toc_window_display": true
  }
 },
 "nbformat": 4,
 "nbformat_minor": 5
}
