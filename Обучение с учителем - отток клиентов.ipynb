{
 "cells": [
  {
   "cell_type": "markdown",
   "id": "7d72a517",
   "metadata": {
    "toc": true
   },
   "source": [
    "<h1>Содержание<span class=\"tocSkip\"></span></h1>\n",
    "<div class=\"toc\"><ul class=\"toc-item\"><li><span><a href=\"#Описание-проекта-и-данных\" data-toc-modified-id=\"Описание-проекта-и-данных-1\"><span class=\"toc-item-num\">1&nbsp;&nbsp;</span>Описание проекта и данных</a></span><ul class=\"toc-item\"><li><span><a href=\"#Описание-проекта\" data-toc-modified-id=\"Описание-проекта-1.1\"><span class=\"toc-item-num\">1.1&nbsp;&nbsp;</span>Описание проекта</a></span></li><li><span><a href=\"#Описание-данных\" data-toc-modified-id=\"Описание-данных-1.2\"><span class=\"toc-item-num\">1.2&nbsp;&nbsp;</span>Описание данных</a></span></li><li><span><a href=\"#План-работы\" data-toc-modified-id=\"План-работы-1.3\"><span class=\"toc-item-num\">1.3&nbsp;&nbsp;</span>План работы</a></span></li></ul></li><li><span><a href=\"#Подготовка-данных\" data-toc-modified-id=\"Подготовка-данных-2\"><span class=\"toc-item-num\">2&nbsp;&nbsp;</span>Подготовка данных</a></span><ul class=\"toc-item\"><li><span><a href=\"#Кодирование-категориальных-переменных\" data-toc-modified-id=\"Кодирование-категориальных-переменных-2.1\"><span class=\"toc-item-num\">2.1&nbsp;&nbsp;</span>Кодирование категориальных переменных</a></span></li><li><span><a href=\"#Разбиение-данных-на-выборки\" data-toc-modified-id=\"Разбиение-данных-на-выборки-2.2\"><span class=\"toc-item-num\">2.2&nbsp;&nbsp;</span>Разбиение данных на выборки</a></span></li><li><span><a href=\"#Масштабирование-данных\" data-toc-modified-id=\"Масштабирование-данных-2.3\"><span class=\"toc-item-num\">2.3&nbsp;&nbsp;</span>Масштабирование данных</a></span></li></ul></li><li><span><a href=\"#Построение-моделей-без-учета-дисбаланса-классов\" data-toc-modified-id=\"Построение-моделей-без-учета-дисбаланса-классов-3\"><span class=\"toc-item-num\">3&nbsp;&nbsp;</span>Построение моделей без учета дисбаланса классов</a></span><ul class=\"toc-item\"><li><span><a href=\"#Дамми-модель\" data-toc-modified-id=\"Дамми-модель-3.1\"><span class=\"toc-item-num\">3.1&nbsp;&nbsp;</span>Дамми модель</a></span></li><li><span><a href=\"#Логистическая-регрессия\" data-toc-modified-id=\"Логистическая-регрессия-3.2\"><span class=\"toc-item-num\">3.2&nbsp;&nbsp;</span>Логистическая регрессия</a></span></li><li><span><a href=\"#Дерево-решений\" data-toc-modified-id=\"Дерево-решений-3.3\"><span class=\"toc-item-num\">3.3&nbsp;&nbsp;</span>Дерево решений</a></span></li><li><span><a href=\"#Случайный-лес\" data-toc-modified-id=\"Случайный-лес-3.4\"><span class=\"toc-item-num\">3.4&nbsp;&nbsp;</span>Случайный лес</a></span></li></ul></li><li><span><a href=\"#Построение-моделей-с-учетом-дисбаланса-классов\" data-toc-modified-id=\"Построение-моделей-с-учетом-дисбаланса-классов-4\"><span class=\"toc-item-num\">4&nbsp;&nbsp;</span>Построение моделей с учетом дисбаланса классов</a></span><ul class=\"toc-item\"><li><span><a href=\"#Увеличение-выборки\" data-toc-modified-id=\"Увеличение-выборки-4.1\"><span class=\"toc-item-num\">4.1&nbsp;&nbsp;</span>Увеличение выборки</a></span><ul class=\"toc-item\"><li><span><a href=\"#Дамми-модель\" data-toc-modified-id=\"Дамми-модель-4.1.1\"><span class=\"toc-item-num\">4.1.1&nbsp;&nbsp;</span>Дамми модель</a></span></li><li><span><a href=\"#Логистическая-регрессия\" data-toc-modified-id=\"Логистическая-регрессия-4.1.2\"><span class=\"toc-item-num\">4.1.2&nbsp;&nbsp;</span>Логистическая регрессия</a></span></li><li><span><a href=\"#Дерево-решений\" data-toc-modified-id=\"Дерево-решений-4.1.3\"><span class=\"toc-item-num\">4.1.3&nbsp;&nbsp;</span>Дерево решений</a></span></li><li><span><a href=\"#Случайный-лес\" data-toc-modified-id=\"Случайный-лес-4.1.4\"><span class=\"toc-item-num\">4.1.4&nbsp;&nbsp;</span>Случайный лес</a></span></li></ul></li><li><span><a href=\"#Уменьшение-выборки\" data-toc-modified-id=\"Уменьшение-выборки-4.2\"><span class=\"toc-item-num\">4.2&nbsp;&nbsp;</span>Уменьшение выборки</a></span><ul class=\"toc-item\"><li><span><a href=\"#Дамми-модель\" data-toc-modified-id=\"Дамми-модель-4.2.1\"><span class=\"toc-item-num\">4.2.1&nbsp;&nbsp;</span>Дамми модель</a></span></li><li><span><a href=\"#Логистическая-регрессия\" data-toc-modified-id=\"Логистическая-регрессия-4.2.2\"><span class=\"toc-item-num\">4.2.2&nbsp;&nbsp;</span>Логистическая регрессия</a></span></li><li><span><a href=\"#Дерево-решений\" data-toc-modified-id=\"Дерево-решений-4.2.3\"><span class=\"toc-item-num\">4.2.3&nbsp;&nbsp;</span>Дерево решений</a></span></li><li><span><a href=\"#Случайный-лес\" data-toc-modified-id=\"Случайный-лес-4.2.4\"><span class=\"toc-item-num\">4.2.4&nbsp;&nbsp;</span>Случайный лес</a></span></li></ul></li></ul></li><li><span><a href=\"#Финальное-тестирование\" data-toc-modified-id=\"Финальное-тестирование-5\"><span class=\"toc-item-num\">5&nbsp;&nbsp;</span>Финальное тестирование</a></span><ul class=\"toc-item\"><li><span><a href=\"#F1-мера-и-ROC-AUC-score\" data-toc-modified-id=\"F1-мера-и-ROC-AUC-score-5.1\"><span class=\"toc-item-num\">5.1&nbsp;&nbsp;</span>F1-мера и ROC-AUC-score</a></span></li><li><span><a href=\"#PR-кривая\" data-toc-modified-id=\"PR-кривая-5.2\"><span class=\"toc-item-num\">5.2&nbsp;&nbsp;</span>PR-кривая</a></span></li><li><span><a href=\"#ROC-кривая\" data-toc-modified-id=\"ROC-кривая-5.3\"><span class=\"toc-item-num\">5.3&nbsp;&nbsp;</span>ROC-кривая</a></span></li></ul></li><li><span><a href=\"#Общий-вывод\" data-toc-modified-id=\"Общий-вывод-6\"><span class=\"toc-item-num\">6&nbsp;&nbsp;</span>Общий вывод</a></span></li><li><span><a href=\"#Чек-лист-готовности-проекта\" data-toc-modified-id=\"Чек-лист-готовности-проекта-7\"><span class=\"toc-item-num\">7&nbsp;&nbsp;</span>Чек-лист готовности проекта</a></span></li><li><span><a href=\"#Общий-вывод-по-проекту\" data-toc-modified-id=\"Общий-вывод-по-проекту-8\"><span class=\"toc-item-num\">8&nbsp;&nbsp;</span><b>Общий вывод по проекту</b></a></span></li><li><span><a href=\"#Общий-вывод-по-проекту-В2\" data-toc-modified-id=\"Общий-вывод-по-проекту-В2-9\"><span class=\"toc-item-num\">9&nbsp;&nbsp;</span><b>Общий вывод по проекту В2</b></a></span></li></ul></div>"
   ]
  },
  {
   "cell_type": "markdown",
   "id": "0b8eab12",
   "metadata": {},
   "source": [
    "# Отток клиентов"
   ]
  },
  {
   "cell_type": "markdown",
   "id": "ab0d71bb",
   "metadata": {},
   "source": [
    "## Описание проекта и данных"
   ]
  },
  {
   "cell_type": "markdown",
   "id": "a3ddce90",
   "metadata": {},
   "source": [
    "### Описание проекта"
   ]
  },
  {
   "cell_type": "markdown",
   "id": "2f9a0fd7",
   "metadata": {},
   "source": [
    "Из «Бета-Банка» стали уходить клиенты. Каждый месяц. Немного, но заметно. Банковские маркетологи посчитали: сохранять текущих клиентов дешевле, чем привлекать новых.\n",
    "\n",
    "Нужно спрогнозировать, уйдёт клиент из банка в ближайшее время или нет. Нам предоставлены исторические данные о поведении клиентов и расторжении договоров с банком.\n",
    "\n",
    "Необходимо построить модель с предельно большим значением *F1*-меры. \n",
    "\n",
    "Источник данных: [https://www.kaggle.com/barelydedicated/bank-customer-churn-modeling](https://www.kaggle.com/barelydedicated/bank-customer-churn-modeling)"
   ]
  },
  {
   "cell_type": "markdown",
   "id": "ea0daac3",
   "metadata": {},
   "source": [
    "### Описание данных"
   ]
  },
  {
   "cell_type": "markdown",
   "id": "b67ed08b",
   "metadata": {},
   "source": [
    "Признаки\n",
    "* `RowNumber` — индекс строки в данных\n",
    "* `CustomerId` — уникальный идентификатор клиента\n",
    "* `Surname` — фамилия\n",
    "* `CreditScore` — кредитный рейтинг\n",
    "* `Geography` — страна проживания\n",
    "* `Gender` — пол\n",
    "* `Age` — возраст\n",
    "* `Tenure` — сколько лет человек является клиентом банка\n",
    "* `Balance` — баланс на счёте\n",
    "* `NumOfProducts` — количество продуктов банка, используемых клиентом\n",
    "* `HasCrCard` — наличие кредитной карты\n",
    "* `IsActiveMember` — активность клиента\n",
    "* `EstimatedSalary` — предполагаемая зарплата\n",
    "\n",
    "Целевой признак\n",
    "* `Exited` — факт ухода клиента"
   ]
  },
  {
   "cell_type": "markdown",
   "id": "5d0da0a4",
   "metadata": {},
   "source": [
    "### План работы"
   ]
  },
  {
   "cell_type": "markdown",
   "id": "190f0f39",
   "metadata": {},
   "source": [
    "1. Открыть файл с данными и изучить его. \n",
    "1. Закодировать категориальные переменные при необходимости.\n",
    "1. Разделить исходные данные на обучающую, валидационную и тестовую выборки.\n",
    "1. Масштабировать данные при необходимости.\n",
    "1. Исследовать качество разных моделей (логистической регрессии, дерева решений и случайного леса), меняя гиперпараметры. \n",
    "1. Учесть дисбаланс классов при помощи:\n",
    "    - увеличения выборки,\n",
    "    - уменьшения выборки.\n",
    "1. Повторно исследовать качество разных моделей (логистической регрессии, дерева решений и случайного леса), выбрать лучшую модель.\n",
    "1. Проверить качество модели на тестовой выборке."
   ]
  },
  {
   "cell_type": "code",
   "execution_count": 1,
   "id": "246719f0",
   "metadata": {},
   "outputs": [],
   "source": [
    "# импорт библиотек, которые понадобятся при работе над проектом\n",
    "\n",
    "import pandas as pd\n",
    "import matplotlib.pyplot as plt\n",
    "\n",
    "from sklearn.model_selection import train_test_split\n",
    "from sklearn.preprocessing import StandardScaler\n",
    "\n",
    "from sklearn.dummy import DummyClassifier\n",
    "from sklearn.linear_model import LogisticRegression\n",
    "from sklearn.tree import DecisionTreeClassifier\n",
    "from sklearn.ensemble import RandomForestClassifier\n",
    "from sklearn.utils import shuffle\n",
    "from sklearn.metrics import f1_score, roc_auc_score, classification_report, roc_curve, \\\n",
    "precision_recall_curve, precision_score, recall_score\n",
    "\n",
    "import warnings\n",
    "warnings.filterwarnings('ignore')"
   ]
  },
  {
   "cell_type": "code",
   "execution_count": 2,
   "id": "498642e2",
   "metadata": {},
   "outputs": [],
   "source": [
    "# загрузим файл с данными\n",
    "try:\n",
    "    data = pd.read_csv('/datasets/Churn.csv')\n",
    "except:\n",
    "    # здесь была ссылка на загрузку данных с сервера Яндекса"
   ]
  },
  {
   "cell_type": "code",
   "execution_count": 3,
   "id": "eee1f124",
   "metadata": {},
   "outputs": [
    {
     "data": {
      "text/html": [
       "<div>\n",
       "<style scoped>\n",
       "    .dataframe tbody tr th:only-of-type {\n",
       "        vertical-align: middle;\n",
       "    }\n",
       "\n",
       "    .dataframe tbody tr th {\n",
       "        vertical-align: top;\n",
       "    }\n",
       "\n",
       "    .dataframe thead th {\n",
       "        text-align: right;\n",
       "    }\n",
       "</style>\n",
       "<table border=\"1\" class=\"dataframe\">\n",
       "  <thead>\n",
       "    <tr style=\"text-align: right;\">\n",
       "      <th></th>\n",
       "      <th>RowNumber</th>\n",
       "      <th>CustomerId</th>\n",
       "      <th>Surname</th>\n",
       "      <th>CreditScore</th>\n",
       "      <th>Geography</th>\n",
       "      <th>Gender</th>\n",
       "      <th>Age</th>\n",
       "      <th>Tenure</th>\n",
       "      <th>Balance</th>\n",
       "      <th>NumOfProducts</th>\n",
       "      <th>HasCrCard</th>\n",
       "      <th>IsActiveMember</th>\n",
       "      <th>EstimatedSalary</th>\n",
       "      <th>Exited</th>\n",
       "    </tr>\n",
       "  </thead>\n",
       "  <tbody>\n",
       "    <tr>\n",
       "      <th>0</th>\n",
       "      <td>1</td>\n",
       "      <td>15634602</td>\n",
       "      <td>Hargrave</td>\n",
       "      <td>619</td>\n",
       "      <td>France</td>\n",
       "      <td>Female</td>\n",
       "      <td>42</td>\n",
       "      <td>2.0</td>\n",
       "      <td>0.00</td>\n",
       "      <td>1</td>\n",
       "      <td>1</td>\n",
       "      <td>1</td>\n",
       "      <td>101348.88</td>\n",
       "      <td>1</td>\n",
       "    </tr>\n",
       "    <tr>\n",
       "      <th>1</th>\n",
       "      <td>2</td>\n",
       "      <td>15647311</td>\n",
       "      <td>Hill</td>\n",
       "      <td>608</td>\n",
       "      <td>Spain</td>\n",
       "      <td>Female</td>\n",
       "      <td>41</td>\n",
       "      <td>1.0</td>\n",
       "      <td>83807.86</td>\n",
       "      <td>1</td>\n",
       "      <td>0</td>\n",
       "      <td>1</td>\n",
       "      <td>112542.58</td>\n",
       "      <td>0</td>\n",
       "    </tr>\n",
       "    <tr>\n",
       "      <th>2</th>\n",
       "      <td>3</td>\n",
       "      <td>15619304</td>\n",
       "      <td>Onio</td>\n",
       "      <td>502</td>\n",
       "      <td>France</td>\n",
       "      <td>Female</td>\n",
       "      <td>42</td>\n",
       "      <td>8.0</td>\n",
       "      <td>159660.80</td>\n",
       "      <td>3</td>\n",
       "      <td>1</td>\n",
       "      <td>0</td>\n",
       "      <td>113931.57</td>\n",
       "      <td>1</td>\n",
       "    </tr>\n",
       "    <tr>\n",
       "      <th>3</th>\n",
       "      <td>4</td>\n",
       "      <td>15701354</td>\n",
       "      <td>Boni</td>\n",
       "      <td>699</td>\n",
       "      <td>France</td>\n",
       "      <td>Female</td>\n",
       "      <td>39</td>\n",
       "      <td>1.0</td>\n",
       "      <td>0.00</td>\n",
       "      <td>2</td>\n",
       "      <td>0</td>\n",
       "      <td>0</td>\n",
       "      <td>93826.63</td>\n",
       "      <td>0</td>\n",
       "    </tr>\n",
       "    <tr>\n",
       "      <th>4</th>\n",
       "      <td>5</td>\n",
       "      <td>15737888</td>\n",
       "      <td>Mitchell</td>\n",
       "      <td>850</td>\n",
       "      <td>Spain</td>\n",
       "      <td>Female</td>\n",
       "      <td>43</td>\n",
       "      <td>2.0</td>\n",
       "      <td>125510.82</td>\n",
       "      <td>1</td>\n",
       "      <td>1</td>\n",
       "      <td>1</td>\n",
       "      <td>79084.10</td>\n",
       "      <td>0</td>\n",
       "    </tr>\n",
       "  </tbody>\n",
       "</table>\n",
       "</div>"
      ],
      "text/plain": [
       "   RowNumber  CustomerId   Surname  CreditScore Geography  Gender  Age  \\\n",
       "0          1    15634602  Hargrave          619    France  Female   42   \n",
       "1          2    15647311      Hill          608     Spain  Female   41   \n",
       "2          3    15619304      Onio          502    France  Female   42   \n",
       "3          4    15701354      Boni          699    France  Female   39   \n",
       "4          5    15737888  Mitchell          850     Spain  Female   43   \n",
       "\n",
       "   Tenure    Balance  NumOfProducts  HasCrCard  IsActiveMember  \\\n",
       "0     2.0       0.00              1          1               1   \n",
       "1     1.0   83807.86              1          0               1   \n",
       "2     8.0  159660.80              3          1               0   \n",
       "3     1.0       0.00              2          0               0   \n",
       "4     2.0  125510.82              1          1               1   \n",
       "\n",
       "   EstimatedSalary  Exited  \n",
       "0        101348.88       1  \n",
       "1        112542.58       0  \n",
       "2        113931.57       1  \n",
       "3         93826.63       0  \n",
       "4         79084.10       0  "
      ]
     },
     "execution_count": 3,
     "metadata": {},
     "output_type": "execute_result"
    }
   ],
   "source": [
    "# посмотрим на шапку исходной таблицы\n",
    "data.head()"
   ]
  },
  {
   "cell_type": "code",
   "execution_count": 4,
   "id": "681dc685",
   "metadata": {},
   "outputs": [
    {
     "name": "stdout",
     "output_type": "stream",
     "text": [
      "<class 'pandas.core.frame.DataFrame'>\n",
      "RangeIndex: 10000 entries, 0 to 9999\n",
      "Data columns (total 14 columns):\n",
      " #   Column           Non-Null Count  Dtype  \n",
      "---  ------           --------------  -----  \n",
      " 0   RowNumber        10000 non-null  int64  \n",
      " 1   CustomerId       10000 non-null  int64  \n",
      " 2   Surname          10000 non-null  object \n",
      " 3   CreditScore      10000 non-null  int64  \n",
      " 4   Geography        10000 non-null  object \n",
      " 5   Gender           10000 non-null  object \n",
      " 6   Age              10000 non-null  int64  \n",
      " 7   Tenure           9091 non-null   float64\n",
      " 8   Balance          10000 non-null  float64\n",
      " 9   NumOfProducts    10000 non-null  int64  \n",
      " 10  HasCrCard        10000 non-null  int64  \n",
      " 11  IsActiveMember   10000 non-null  int64  \n",
      " 12  EstimatedSalary  10000 non-null  float64\n",
      " 13  Exited           10000 non-null  int64  \n",
      "dtypes: float64(3), int64(8), object(3)\n",
      "memory usage: 1.1+ MB\n"
     ]
    }
   ],
   "source": [
    "# посмотрим на данные о таблице\n",
    "data.info()"
   ]
  },
  {
   "cell_type": "code",
   "execution_count": 5,
   "id": "922a20ac",
   "metadata": {},
   "outputs": [],
   "source": [
    "# приведем названия столбцов к нижнему регистру\n",
    "data.columns = data.columns.str.lower()"
   ]
  },
  {
   "cell_type": "code",
   "execution_count": 6,
   "id": "f7110d28",
   "metadata": {},
   "outputs": [
    {
     "data": {
      "text/html": [
       "<style type=\"text/css\">\n",
       "#T_c26ff_row0_col0, #T_c26ff_row1_col0, #T_c26ff_row2_col0, #T_c26ff_row3_col0, #T_c26ff_row4_col0, #T_c26ff_row5_col0, #T_c26ff_row6_col0, #T_c26ff_row8_col0, #T_c26ff_row9_col0, #T_c26ff_row10_col0, #T_c26ff_row11_col0, #T_c26ff_row12_col0, #T_c26ff_row13_col0 {\n",
       "  background-color: #3b4cc0;\n",
       "  color: #f1f1f1;\n",
       "}\n",
       "#T_c26ff_row7_col0 {\n",
       "  background-color: #b40426;\n",
       "  color: #f1f1f1;\n",
       "}\n",
       "</style>\n",
       "<table id=\"T_c26ff\">\n",
       "  <thead>\n",
       "    <tr>\n",
       "      <th class=\"blank level0\" >&nbsp;</th>\n",
       "      <th id=\"T_c26ff_level0_col0\" class=\"col_heading level0 col0\" >0</th>\n",
       "    </tr>\n",
       "  </thead>\n",
       "  <tbody>\n",
       "    <tr>\n",
       "      <th id=\"T_c26ff_level0_row0\" class=\"row_heading level0 row0\" >rownumber</th>\n",
       "      <td id=\"T_c26ff_row0_col0\" class=\"data row0 col0\" >0.000000</td>\n",
       "    </tr>\n",
       "    <tr>\n",
       "      <th id=\"T_c26ff_level0_row1\" class=\"row_heading level0 row1\" >customerid</th>\n",
       "      <td id=\"T_c26ff_row1_col0\" class=\"data row1 col0\" >0.000000</td>\n",
       "    </tr>\n",
       "    <tr>\n",
       "      <th id=\"T_c26ff_level0_row2\" class=\"row_heading level0 row2\" >surname</th>\n",
       "      <td id=\"T_c26ff_row2_col0\" class=\"data row2 col0\" >0.000000</td>\n",
       "    </tr>\n",
       "    <tr>\n",
       "      <th id=\"T_c26ff_level0_row3\" class=\"row_heading level0 row3\" >creditscore</th>\n",
       "      <td id=\"T_c26ff_row3_col0\" class=\"data row3 col0\" >0.000000</td>\n",
       "    </tr>\n",
       "    <tr>\n",
       "      <th id=\"T_c26ff_level0_row4\" class=\"row_heading level0 row4\" >geography</th>\n",
       "      <td id=\"T_c26ff_row4_col0\" class=\"data row4 col0\" >0.000000</td>\n",
       "    </tr>\n",
       "    <tr>\n",
       "      <th id=\"T_c26ff_level0_row5\" class=\"row_heading level0 row5\" >gender</th>\n",
       "      <td id=\"T_c26ff_row5_col0\" class=\"data row5 col0\" >0.000000</td>\n",
       "    </tr>\n",
       "    <tr>\n",
       "      <th id=\"T_c26ff_level0_row6\" class=\"row_heading level0 row6\" >age</th>\n",
       "      <td id=\"T_c26ff_row6_col0\" class=\"data row6 col0\" >0.000000</td>\n",
       "    </tr>\n",
       "    <tr>\n",
       "      <th id=\"T_c26ff_level0_row7\" class=\"row_heading level0 row7\" >tenure</th>\n",
       "      <td id=\"T_c26ff_row7_col0\" class=\"data row7 col0\" >9.000000</td>\n",
       "    </tr>\n",
       "    <tr>\n",
       "      <th id=\"T_c26ff_level0_row8\" class=\"row_heading level0 row8\" >balance</th>\n",
       "      <td id=\"T_c26ff_row8_col0\" class=\"data row8 col0\" >0.000000</td>\n",
       "    </tr>\n",
       "    <tr>\n",
       "      <th id=\"T_c26ff_level0_row9\" class=\"row_heading level0 row9\" >numofproducts</th>\n",
       "      <td id=\"T_c26ff_row9_col0\" class=\"data row9 col0\" >0.000000</td>\n",
       "    </tr>\n",
       "    <tr>\n",
       "      <th id=\"T_c26ff_level0_row10\" class=\"row_heading level0 row10\" >hascrcard</th>\n",
       "      <td id=\"T_c26ff_row10_col0\" class=\"data row10 col0\" >0.000000</td>\n",
       "    </tr>\n",
       "    <tr>\n",
       "      <th id=\"T_c26ff_level0_row11\" class=\"row_heading level0 row11\" >isactivemember</th>\n",
       "      <td id=\"T_c26ff_row11_col0\" class=\"data row11 col0\" >0.000000</td>\n",
       "    </tr>\n",
       "    <tr>\n",
       "      <th id=\"T_c26ff_level0_row12\" class=\"row_heading level0 row12\" >estimatedsalary</th>\n",
       "      <td id=\"T_c26ff_row12_col0\" class=\"data row12 col0\" >0.000000</td>\n",
       "    </tr>\n",
       "    <tr>\n",
       "      <th id=\"T_c26ff_level0_row13\" class=\"row_heading level0 row13\" >exited</th>\n",
       "      <td id=\"T_c26ff_row13_col0\" class=\"data row13 col0\" >0.000000</td>\n",
       "    </tr>\n",
       "  </tbody>\n",
       "</table>\n"
      ],
      "text/plain": [
       "<pandas.io.formats.style.Styler at 0x7fe060b1b520>"
      ]
     },
     "execution_count": 6,
     "metadata": {},
     "output_type": "execute_result"
    }
   ],
   "source": [
    "# проверим количество пропусков в процентах\n",
    "pd.DataFrame(round(data.isna().mean() * 100,)).style.background_gradient('coolwarm')"
   ]
  },
  {
   "cell_type": "markdown",
   "id": "1e4fd408",
   "metadata": {},
   "source": [
    "В данных в столбце `Tenure` 9% пропусков – это немного, поэтому можно удалить их."
   ]
  },
  {
   "cell_type": "code",
   "execution_count": 7,
   "id": "e388def4",
   "metadata": {},
   "outputs": [],
   "source": [
    "# удалим строки с пропусками в столбце tenure\n",
    "data = data.dropna(subset=['tenure']).reset_index(drop=True)"
   ]
  },
  {
   "cell_type": "code",
   "execution_count": 8,
   "id": "0e521851",
   "metadata": {},
   "outputs": [
    {
     "data": {
      "image/png": "[encoded data removed]",
      "text/plain": [
       "<Figure size 1500x1500 with 12 Axes>"
      ]
     },
     "metadata": {},
     "output_type": "display_data"
    }
   ],
   "source": [
    "# построим общую гистограмму для всех столбцов таблицы\n",
    "data.hist(figsize=(15, 15));"
   ]
  },
  {
   "cell_type": "code",
   "execution_count": 9,
   "id": "8f26c8a0",
   "metadata": {},
   "outputs": [
    {
     "data": {
      "text/plain": [
       "0"
      ]
     },
     "execution_count": 9,
     "metadata": {},
     "output_type": "execute_result"
    }
   ],
   "source": [
    "# проверим наличие полных дубликатов\n",
    "data.duplicated().sum()"
   ]
  },
  {
   "cell_type": "markdown",
   "id": "f4802753",
   "metadata": {},
   "source": [
    "Полных дубликатов в таблице нет."
   ]
  },
  {
   "cell_type": "markdown",
   "id": "e24d08c5",
   "metadata": {},
   "source": [
    "*Вывод*: <br/>\n",
    "Мы импортили библиотеки, изучили данные и предобработали их таким образом, что дальше можно с ними работать и приступать к построению моделей."
   ]
  },
  {
   "cell_type": "markdown",
   "id": "610a3608",
   "metadata": {},
   "source": [
    "## Подготовка данных"
   ]
  },
  {
   "cell_type": "markdown",
   "id": "4b3a46c4",
   "metadata": {},
   "source": [
    "Целевым признаком будущих моделей будет являться переменная `exited`, определяющая ушел ли клиент из банка.\n",
    "К признакам мы отнесем все остальные признаки, кроме `customerid`, `rownumber`, `surname`.\n",
    "Переменные `gender` и `geography` нужно преобразовать в дамми-переменные."
   ]
  },
  {
   "cell_type": "code",
   "execution_count": 10,
   "id": "6f876580",
   "metadata": {},
   "outputs": [],
   "source": [
    "# разобьем данные на фичи и целевой признак\n",
    "features = data.drop(labels=['exited', 'customerid', 'rownumber', 'surname'], axis=1)\n",
    "target = data['exited']"
   ]
  },
  {
   "cell_type": "markdown",
   "id": "ebe48466",
   "metadata": {},
   "source": [
    "### Кодирование категориальных переменных"
   ]
  },
  {
   "cell_type": "markdown",
   "id": "c307a0d8",
   "metadata": {},
   "source": [
    "Заметим, что среди столбцов есть столбцы `geography` и `gender`, являющиеся категориальными. Преобразуем их к дамми при помощи OHE."
   ]
  },
  {
   "cell_type": "code",
   "execution_count": 11,
   "id": "5beb7ddb",
   "metadata": {},
   "outputs": [
    {
     "data": {
      "text/plain": [
       "array(['France', 'Spain', 'Germany'], dtype=object)"
      ]
     },
     "execution_count": 11,
     "metadata": {},
     "output_type": "execute_result"
    }
   ],
   "source": [
    "# проверим сколько уникальных значений в столбце Geography\n",
    "data['geography'].unique()"
   ]
  },
  {
   "cell_type": "code",
   "execution_count": 12,
   "id": "21a17ec7",
   "metadata": {},
   "outputs": [
    {
     "data": {
      "text/html": [
       "<div>\n",
       "<style scoped>\n",
       "    .dataframe tbody tr th:only-of-type {\n",
       "        vertical-align: middle;\n",
       "    }\n",
       "\n",
       "    .dataframe tbody tr th {\n",
       "        vertical-align: top;\n",
       "    }\n",
       "\n",
       "    .dataframe thead th {\n",
       "        text-align: right;\n",
       "    }\n",
       "</style>\n",
       "<table border=\"1\" class=\"dataframe\">\n",
       "  <thead>\n",
       "    <tr style=\"text-align: right;\">\n",
       "      <th></th>\n",
       "      <th>creditscore</th>\n",
       "      <th>age</th>\n",
       "      <th>tenure</th>\n",
       "      <th>balance</th>\n",
       "      <th>numofproducts</th>\n",
       "      <th>hascrcard</th>\n",
       "      <th>isactivemember</th>\n",
       "      <th>estimatedsalary</th>\n",
       "      <th>geography_Germany</th>\n",
       "      <th>geography_Spain</th>\n",
       "      <th>gender_Male</th>\n",
       "    </tr>\n",
       "  </thead>\n",
       "  <tbody>\n",
       "    <tr>\n",
       "      <th>0</th>\n",
       "      <td>619</td>\n",
       "      <td>42</td>\n",
       "      <td>2.0</td>\n",
       "      <td>0.00</td>\n",
       "      <td>1</td>\n",
       "      <td>1</td>\n",
       "      <td>1</td>\n",
       "      <td>101348.88</td>\n",
       "      <td>0</td>\n",
       "      <td>0</td>\n",
       "      <td>0</td>\n",
       "    </tr>\n",
       "    <tr>\n",
       "      <th>1</th>\n",
       "      <td>608</td>\n",
       "      <td>41</td>\n",
       "      <td>1.0</td>\n",
       "      <td>83807.86</td>\n",
       "      <td>1</td>\n",
       "      <td>0</td>\n",
       "      <td>1</td>\n",
       "      <td>112542.58</td>\n",
       "      <td>0</td>\n",
       "      <td>1</td>\n",
       "      <td>0</td>\n",
       "    </tr>\n",
       "    <tr>\n",
       "      <th>2</th>\n",
       "      <td>502</td>\n",
       "      <td>42</td>\n",
       "      <td>8.0</td>\n",
       "      <td>159660.80</td>\n",
       "      <td>3</td>\n",
       "      <td>1</td>\n",
       "      <td>0</td>\n",
       "      <td>113931.57</td>\n",
       "      <td>0</td>\n",
       "      <td>0</td>\n",
       "      <td>0</td>\n",
       "    </tr>\n",
       "    <tr>\n",
       "      <th>3</th>\n",
       "      <td>699</td>\n",
       "      <td>39</td>\n",
       "      <td>1.0</td>\n",
       "      <td>0.00</td>\n",
       "      <td>2</td>\n",
       "      <td>0</td>\n",
       "      <td>0</td>\n",
       "      <td>93826.63</td>\n",
       "      <td>0</td>\n",
       "      <td>0</td>\n",
       "      <td>0</td>\n",
       "    </tr>\n",
       "    <tr>\n",
       "      <th>4</th>\n",
       "      <td>850</td>\n",
       "      <td>43</td>\n",
       "      <td>2.0</td>\n",
       "      <td>125510.82</td>\n",
       "      <td>1</td>\n",
       "      <td>1</td>\n",
       "      <td>1</td>\n",
       "      <td>79084.10</td>\n",
       "      <td>0</td>\n",
       "      <td>1</td>\n",
       "      <td>0</td>\n",
       "    </tr>\n",
       "  </tbody>\n",
       "</table>\n",
       "</div>"
      ],
      "text/plain": [
       "   creditscore  age  tenure    balance  numofproducts  hascrcard  \\\n",
       "0          619   42     2.0       0.00              1          1   \n",
       "1          608   41     1.0   83807.86              1          0   \n",
       "2          502   42     8.0  159660.80              3          1   \n",
       "3          699   39     1.0       0.00              2          0   \n",
       "4          850   43     2.0  125510.82              1          1   \n",
       "\n",
       "   isactivemember  estimatedsalary  geography_Germany  geography_Spain  \\\n",
       "0               1        101348.88                  0                0   \n",
       "1               1        112542.58                  0                1   \n",
       "2               0        113931.57                  0                0   \n",
       "3               0         93826.63                  0                0   \n",
       "4               1         79084.10                  0                1   \n",
       "\n",
       "   gender_Male  \n",
       "0            0  \n",
       "1            0  \n",
       "2            0  \n",
       "3            0  \n",
       "4            0  "
      ]
     },
     "execution_count": 12,
     "metadata": {},
     "output_type": "execute_result"
    }
   ],
   "source": [
    "features = pd.get_dummies(features, drop_first=True)\n",
    "features.head()"
   ]
  },
  {
   "cell_type": "markdown",
   "id": "ebe6f2e1",
   "metadata": {},
   "source": [
    "### Разбиение данных на выборки"
   ]
  },
  {
   "cell_type": "code",
   "execution_count": 13,
   "id": "024c5f2a",
   "metadata": {},
   "outputs": [],
   "source": [
    "# определим random_state для всех последующих моделей\n",
    "rs = 12345"
   ]
  },
  {
   "cell_type": "code",
   "execution_count": 14,
   "id": "6a7c0b34",
   "metadata": {},
   "outputs": [],
   "source": [
    "# разобьем данные на обучающую, валидационную и тестовую в отношении 3:1:1\n",
    "\n",
    "features_train, features_test, target_train, target_test = train_test_split(features, \n",
    "                                                                            target, \n",
    "                                                                            test_size=.2, \n",
    "                                                                            random_state=rs,\n",
    "                                                                            stratify=target)\n",
    "# получили тестовую выборку - 20%\n",
    "\n",
    "features_train, features_valid, target_train, target_valid = train_test_split(features_train, \n",
    "                                                                              target_train, \n",
    "                                                                              test_size=.25, \n",
    "                                                                              random_state=rs,\n",
    "                                                                              stratify=target_train) \n",
    "# получили обучающую выборку – 0.75 * 0.8 = 0.6 (60%)\n",
    "# получили валидационную выборку – 0.25 * 0.8 = 0.2 (20%)"
   ]
  },
  {
   "cell_type": "markdown",
   "id": "2d48d1a6",
   "metadata": {},
   "source": [
    "Проверим размеры полученных выборок:"
   ]
  },
  {
   "cell_type": "code",
   "execution_count": 20,
   "id": "160e92cb",
   "metadata": {},
   "outputs": [
    {
     "name": "stdout",
     "output_type": "stream",
     "text": [
      "Размеры обучающей выборки: признаки - 5454 и целевой признак – 5454\n",
      "Размеры валидационной выборки: признаки – 1818 и целевой признак - 1818\n",
      "Размеры тестовой выборки: признаки - 1819 и целевой признак – 1819\n",
      "Обучающая выборка больше валидационной в 3.0 раза.\n"
     ]
    }
   ],
   "source": [
    "# Размеры обучающей выборки\n",
    "print(f'Размеры обучающей выборки: признаки - {features_train.shape[0]} и целевой признак – {target_train.shape[0]}')\n",
    "# Размеры валидационной выборки\n",
    "print(f'Размеры валидационной выборки: признаки – {features_valid.shape[0]} и целевой признак - {target_valid.shape[0]}')\n",
    "# Размеры тестовой выборки\n",
    "print(f'Размеры тестовой выборки: признаки - {features_test.shape[0]} и целевой признак – {target_test.shape[0]}')\n",
    "\n",
    "print(f'Обучающая выборка больше валидационной в {round(features_train.shape[0] / features_valid.shape[0], 2)} раза.')"
   ]
  },
  {
   "cell_type": "markdown",
   "id": "75abd6ad",
   "metadata": {},
   "source": [
    "Действительно обучающая выборка превосходит валидационную и тестовую в 3 раза, а сами тестовая и валидационная по размерам практически равны между собой, следовательно, деление произведено верно."
   ]
  },
  {
   "cell_type": "markdown",
   "id": "c198564d",
   "metadata": {},
   "source": [
    "### Масштабирование данных"
   ]
  },
  {
   "cell_type": "markdown",
   "id": "13516c57",
   "metadata": {},
   "source": [
    "Заметим, что представленные данные имеют разный масштаб. Это говорит о том, что в целях дальнейшей работы с ними необходимо масштабировать данные, чтобы переменные воспринимались как одинаково важные."
   ]
  },
  {
   "cell_type": "code",
   "execution_count": 21,
   "id": "4ce74603",
   "metadata": {},
   "outputs": [],
   "source": [
    "scaler = StandardScaler()\n",
    "\n",
    "numeric = ['creditscore', 'balance', 'age', 'tenure', 'numofproducts', 'estimatedsalary']\n",
    "\n",
    "scaler.fit(features_train[numeric])\n",
    "features_train[numeric] = scaler.transform(features_train[numeric])\n",
    "features_valid[numeric] = scaler.transform(features_valid[numeric])\n",
    "features_test[numeric] = scaler.transform(features_test[numeric])\n",
    "\n",
    "pd.options.mode.chained_assignment = None"
   ]
  },
  {
   "cell_type": "code",
   "execution_count": 22,
   "id": "0a2a721e",
   "metadata": {},
   "outputs": [
    {
     "data": {
      "text/plain": [
       "0    7237\n",
       "1    1854\n",
       "Name: exited, dtype: int64"
      ]
     },
     "execution_count": 22,
     "metadata": {},
     "output_type": "execute_result"
    }
   ],
   "source": [
    "# посмотрим, каких значений в целевом признаке больше\n",
    "target.value_counts()"
   ]
  },
  {
   "cell_type": "markdown",
   "id": "a923d031",
   "metadata": {},
   "source": [
    "В данных наблюдается дисбаланс: \"нулей\" почти в 4 раза больше, чем \"единиц\", что говорит о необходимости в дальнейшем корректировать дисбаланс классов. Пока попробуем без него."
   ]
  },
  {
   "cell_type": "markdown",
   "id": "3a315ef7",
   "metadata": {},
   "source": [
    "*Вывод*: <br/>\n",
    "В данном разделе мы закодировали две категориальные переменные: `geography` и `gender`, разбили данные на обучающую, валидационную и тестовую, а также масштабировали переменные. "
   ]
  },
  {
   "cell_type": "markdown",
   "id": "75657a7e",
   "metadata": {},
   "source": [
    "## Построение моделей без учета дисбаланса классов"
   ]
  },
  {
   "cell_type": "markdown",
   "id": "047e66d9",
   "metadata": {},
   "source": [
    "Приступим непосредственно к моделированию."
   ]
  },
  {
   "cell_type": "markdown",
   "id": "86e06159",
   "metadata": {},
   "source": [
    "### Дамми модель"
   ]
  },
  {
   "cell_type": "code",
   "execution_count": 23,
   "id": "559bd442",
   "metadata": {},
   "outputs": [
    {
     "name": "stdout",
     "output_type": "stream",
     "text": [
      "F1-score =  0.0\n",
      "ROC-AUC-score =  0.5\n"
     ]
    }
   ],
   "source": [
    "# построим дамми модель, с которой будут сравниваться остальные модели\n",
    "\n",
    "model = DummyClassifier(strategy=\"constant\", constant=0)\n",
    "# поскольку нулей больше, построим дамми модель, которая будет предсказывать нули\n",
    "model.fit(features_train, target_train)\n",
    "predicted_valid =  model.predict(features_valid)\n",
    "probabilities_valid = model.predict_proba(features_valid)\n",
    "probabilities_one_valid = probabilities_valid[:, 1]\n",
    "\n",
    "print(\"F1-score = \", f1_score(target_valid, predicted_valid))\n",
    "print(\"ROC-AUC-score = \", roc_auc_score(target_valid, probabilities_one_valid))"
   ]
  },
  {
   "cell_type": "markdown",
   "id": "b5aee170",
   "metadata": {},
   "source": [
    "### Логистическая регрессия"
   ]
  },
  {
   "cell_type": "code",
   "execution_count": 24,
   "id": "58682270",
   "metadata": {},
   "outputs": [
    {
     "name": "stdout",
     "output_type": "stream",
     "text": [
      "F1-score =  0.2828282828282828\n",
      "ROC-AUC-score =  0.7577737749074672\n"
     ]
    }
   ],
   "source": [
    "model = LogisticRegression(random_state=rs, solver='liblinear')\n",
    "model.fit(features_train, target_train)\n",
    "predicted_valid =  model.predict(features_valid)\n",
    "probabilities_valid = model.predict_proba(features_valid)\n",
    "probabilities_one_valid = probabilities_valid[:, 1]\n",
    "\n",
    "print(\"F1-score = \", f1_score(target_valid, predicted_valid))\n",
    "print(\"ROC-AUC-score = \", roc_auc_score(target_valid, probabilities_one_valid))"
   ]
  },
  {
   "cell_type": "markdown",
   "id": "68e19744",
   "metadata": {},
   "source": [
    "F1-score модели низкий, ROC-AUC тоже. ROC-AUC составляет 0.75 - лучше бейзлайна, но далеко от идеала."
   ]
  },
  {
   "cell_type": "markdown",
   "id": "e214a22a",
   "metadata": {},
   "source": [
    "### Дерево решений"
   ]
  },
  {
   "cell_type": "code",
   "execution_count": 25,
   "id": "02113ebf",
   "metadata": {},
   "outputs": [
    {
     "name": "stdout",
     "output_type": "stream",
     "text": [
      "Лучшая модель дерева решений достигается при max_depth = 7. \n",
      "F1-score модели =  0.5605306799336649. ROC-AUC-score модели = 0.8292004835732261\n"
     ]
    }
   ],
   "source": [
    "# через цикл будем выбирать модель с наибольшим f1_score, меняя max_depth\n",
    "\n",
    "best_f1_score = 0\n",
    "best_max_depth = 1\n",
    "auc_roc = 0\n",
    "\n",
    "for depth in range(1, 30):\n",
    "    model = DecisionTreeClassifier(random_state=rs, max_depth=depth)\n",
    "    model.fit(features_train, target_train)\n",
    "    predicted_valid = model.predict(features_valid)\n",
    "    probabilities_valid = model.predict_proba(features_valid)\n",
    "    probabilities_one_valid = probabilities_valid[:, 1]\n",
    "    if f1_score(target_valid, predicted_valid) > best_f1_score:\n",
    "        best_f1_score = f1_score(target_valid, predicted_valid)\n",
    "        best_max_depth = depth\n",
    "        auc_roc = roc_auc_score(target_valid, probabilities_one_valid)\n",
    "\n",
    "print(f'Лучшая модель дерева решений достигается при max_depth = {best_max_depth}. \\nF1-score модели =  {best_f1_score}. ROC-AUC-score модели = {auc_roc}')"
   ]
  },
  {
   "cell_type": "markdown",
   "id": "018bb10f",
   "metadata": {},
   "source": [
    "F1-score этой модели значительно лучше, чем у бейзлайна и логита, однако далек от идеала. Ситуация с ROC-AUC скором аналогична."
   ]
  },
  {
   "cell_type": "markdown",
   "id": "e20bce75",
   "metadata": {},
   "source": [
    "### Случайный лес"
   ]
  },
  {
   "cell_type": "code",
   "execution_count": 26,
   "id": "4c975831",
   "metadata": {},
   "outputs": [
    {
     "name": "stdout",
     "output_type": "stream",
     "text": [
      "Лучшая модель случайного леса достигается при max_depth = 11, n_estimators = 96. \n",
      "F1-score модели =  0.5734024179620035. ROC-AUC-score модели = 0.8629136963361318\n"
     ]
    }
   ],
   "source": [
    "# через цикл будем выбирать модель с наибольшим f1_score, меняя max_depth и n_estimators\n",
    "\n",
    "best_f1_score = 0\n",
    "best_max_depth = 1\n",
    "best_n_est = 1\n",
    "auc_roc = 0\n",
    "\n",
    "for depth, n_est in zip(range(1, 30), range(1, 101, 5)):\n",
    "    model = RandomForestClassifier(random_state=rs, max_depth=depth, n_estimators=n_est)\n",
    "    model.fit(features_train, target_train)\n",
    "    predicted_valid = model.predict(features_valid)\n",
    "    probabilities_valid = model.predict_proba(features_valid)\n",
    "    probabilities_one_valid = probabilities_valid[:, 1]\n",
    "    if f1_score(target_valid, predicted_valid) > best_f1_score:\n",
    "        best_f1_score = f1_score(target_valid, predicted_valid)\n",
    "        best_max_depth = depth\n",
    "        best_n_est = n_est\n",
    "        auc_roc = roc_auc_score(target_valid, probabilities_one_valid)\n",
    "\n",
    "print(f'Лучшая модель случайного леса достигается при max_depth = {best_max_depth}, n_estimators = {n_est}. \\nF1-score модели =  {best_f1_score}. ROC-AUC-score модели = {auc_roc}')"
   ]
  },
  {
   "cell_type": "markdown",
   "id": "c3d9e297",
   "metadata": {},
   "source": [
    "Случайный лес показал немного (практически незначительно) лучше результат, нежели классификатор дерева решений, однако полученные результаты все еще далеки от идеала и необходимо дорабатывать модели."
   ]
  },
  {
   "cell_type": "markdown",
   "id": "628e48c8",
   "metadata": {},
   "source": [
    "*Вывод*:\n",
    "В данном разделе мы построили три модели: логистическую регрессию, дерево решений и случайный лес. Логистическая регрессия показала себя немного лучше дамми модели, в то время как дерево решений и случайный лес показали куда лучшие результаты: наивысший f1-score был достигнут в модели случайного леса с максимальной глубиной 14 и 96 деревьями в лесу: `f1-score = 0.57`, `ROC-AUC = 0.86`.\n",
    "Результат по f1-score не удовлетворяет поставленной цели в минимум 0.59.\n",
    "Необходимо дорабатывать модели - бороться с имеющимся дисбалансом в классах."
   ]
  },
  {
   "cell_type": "markdown",
   "id": "cb3859e4",
   "metadata": {},
   "source": [
    "## Построение моделей с учетом дисбаланса классов "
   ]
  },
  {
   "cell_type": "markdown",
   "id": "8978a5e3",
   "metadata": {},
   "source": [
    "В данном разделе мы будем бороться с дисбалансом в классах двумя способами: увеличением выборки (upsampling) и уменьшением выборки (downsampling). Напомним, что количество нулей превышает число единиц почти в 4 раза."
   ]
  },
  {
   "cell_type": "code",
   "execution_count": 27,
   "id": "5a5000d4",
   "metadata": {},
   "outputs": [],
   "source": [
    "# добавим пользовательскую функцию для апсемплинга\n",
    "def upsample(features, target, repeat):\n",
    "    features_zeros = features[target == 0]\n",
    "    features_ones = features[target == 1]\n",
    "    target_zeros = target[target == 0]\n",
    "    target_ones = target[target == 1]\n",
    "\n",
    "    features_upsampled = pd.concat([features_zeros] + [features_ones] * repeat)\n",
    "    target_upsampled = pd.concat([target_zeros] + [target_ones] * repeat)\n",
    "\n",
    "    features_upsampled, target_upsampled = shuffle(\n",
    "        features_upsampled, target_upsampled, random_state=rs)\n",
    "\n",
    "    return features_upsampled, target_upsampled"
   ]
  },
  {
   "cell_type": "code",
   "execution_count": 28,
   "id": "17dc0939",
   "metadata": {},
   "outputs": [],
   "source": [
    "# добавим пользовательскую функцию для даунсемплинга\n",
    "def downsample(features, target, fraction):\n",
    "    features_zeros = features[target == 0]\n",
    "    features_ones = features[target == 1]\n",
    "    target_zeros = target[target == 0]\n",
    "    target_ones = target[target == 1]\n",
    "\n",
    "    features_downsampled = pd.concat(\n",
    "        [features_zeros.sample(frac=fraction, random_state=rs)] + [features_ones]\n",
    "    )\n",
    "    target_downsampled = pd.concat(\n",
    "        [target_zeros.sample(frac=fraction, random_state=rs)] + [target_ones]\n",
    "    )\n",
    "\n",
    "    features_downsampled, target_downsampled = shuffle(\n",
    "        features_downsampled, target_downsampled, random_state=12345)\n",
    "\n",
    "    return features_downsampled, target_downsampled"
   ]
  },
  {
   "cell_type": "markdown",
   "id": "7d9297d8",
   "metadata": {},
   "source": [
    "### Увеличение выборки"
   ]
  },
  {
   "cell_type": "code",
   "execution_count": 29,
   "id": "aef54c02",
   "metadata": {},
   "outputs": [],
   "source": [
    "features_train_upsampled, target_train_upsampled = upsample(features_train, target_train, repeat=4)"
   ]
  },
  {
   "cell_type": "code",
   "execution_count": 30,
   "id": "1cc84894",
   "metadata": {},
   "outputs": [
    {
     "data": {
      "text/plain": [
       "1    4448\n",
       "0    4342\n",
       "Name: exited, dtype: int64"
      ]
     },
     "execution_count": 30,
     "metadata": {},
     "output_type": "execute_result"
    }
   ],
   "source": [
    "# посмотрим теперь на соотношение значений целевого признака обучающей выборки\n",
    "target_train_upsampled.value_counts()"
   ]
  },
  {
   "cell_type": "markdown",
   "id": "dea7c8ca",
   "metadata": {},
   "source": [
    "Теперь значения нулей и единичек сопоставимы, следовательно увеличение выборки произведено корректно."
   ]
  },
  {
   "cell_type": "markdown",
   "id": "57aabc2b",
   "metadata": {},
   "source": [
    "#### Дамми модель"
   ]
  },
  {
   "cell_type": "code",
   "execution_count": 32,
   "id": "17ba97d1",
   "metadata": {},
   "outputs": [
    {
     "name": "stdout",
     "output_type": "stream",
     "text": [
      "F1-score =  0.0\n",
      "ROC-AUC-score =  0.5\n"
     ]
    }
   ],
   "source": [
    "# построим дамми модель, с которой будут сравниваться остальные модели\n",
    "\n",
    "model = DummyClassifier(strategy=\"constant\", constant=0)\n",
    "# поскольку нулей больше, построим дамми модель, которая будет предсказывать нули\n",
    "model.fit(features_train_upsampled, target_train_upsampled)\n",
    "predicted_valid =  model.predict(features_valid)\n",
    "probabilities_valid = model.predict_proba(features_valid)\n",
    "probabilities_one_valid = probabilities_valid[:, 1]\n",
    "\n",
    "print(\"F1-score = \", f1_score(target_valid, predicted_valid))\n",
    "print(\"ROC-AUC-score = \", roc_auc_score(target_valid, probabilities_one_valid))"
   ]
  },
  {
   "cell_type": "markdown",
   "id": "ad6bdef8",
   "metadata": {},
   "source": [
    "#### Логистическая регрессия"
   ]
  },
  {
   "cell_type": "code",
   "execution_count": 33,
   "id": "385f0e1d",
   "metadata": {},
   "outputs": [
    {
     "name": "stdout",
     "output_type": "stream",
     "text": [
      "F1-score =  0.4938737040527804\n",
      "ROC-AUC-score =  0.7613186125397466\n"
     ]
    }
   ],
   "source": [
    "model = LogisticRegression(random_state=rs, solver='liblinear')\n",
    "model.fit(features_train_upsampled, target_train_upsampled)\n",
    "predicted_valid =  model.predict(features_valid)\n",
    "probabilities_valid = model.predict_proba(features_valid)\n",
    "probabilities_one_valid = probabilities_valid[:, 1]\n",
    "\n",
    "print(\"F1-score = \", f1_score(target_valid, predicted_valid))\n",
    "print(\"ROC-AUC-score = \", roc_auc_score(target_valid, probabilities_one_valid))"
   ]
  },
  {
   "cell_type": "markdown",
   "id": "a36bcae7",
   "metadata": {},
   "source": [
    "F1-score вырос по сравнению с логитом, не учитывающим дисбаланс классов. ROC-AUC также подрос. Модель сильно лучше дамми модели."
   ]
  },
  {
   "cell_type": "markdown",
   "id": "f4ca0b1e",
   "metadata": {},
   "source": [
    "#### Дерево решений"
   ]
  },
  {
   "cell_type": "code",
   "execution_count": 34,
   "id": "9c4951df",
   "metadata": {},
   "outputs": [
    {
     "name": "stdout",
     "output_type": "stream",
     "text": [
      "Лучшая модель дерева решений достигается при max_depth = 8. \n",
      "F1-score модели =  0.5699693564862104. ROC-AUC-score модели = 0.7996850068083982\n"
     ]
    }
   ],
   "source": [
    "# через цикл будем выбирать модель с наибольшим f1_score, меняя max_depth\n",
    "\n",
    "best_f1_score = 0\n",
    "best_max_depth = 1\n",
    "auc_roc = 0\n",
    "\n",
    "for depth in range(1, 30):\n",
    "    model = DecisionTreeClassifier(random_state=rs, max_depth=depth)\n",
    "    model.fit(features_train_upsampled, target_train_upsampled)\n",
    "    predicted_valid = model.predict(features_valid)\n",
    "    probabilities_valid = model.predict_proba(features_valid)\n",
    "    probabilities_one_valid = probabilities_valid[:, 1]\n",
    "    if f1_score(target_valid, predicted_valid) > best_f1_score:\n",
    "        best_f1_score = f1_score(target_valid, predicted_valid)\n",
    "        best_max_depth = depth\n",
    "        auc_roc = roc_auc_score(target_valid, probabilities_one_valid)\n",
    "\n",
    "print(f'Лучшая модель дерева решений достигается при max_depth = {best_max_depth}. \\nF1-score модели =  {best_f1_score}. ROC-AUC-score модели = {auc_roc}')"
   ]
  },
  {
   "cell_type": "markdown",
   "id": "565c5995",
   "metadata": {},
   "source": [
    "В целом полученные результаты достаточно похожи на результаты дерева решений до борьбы с дисбалансом классов. ROC-AUC score немного упал после увеличения выборки, однако совсем немного."
   ]
  },
  {
   "cell_type": "markdown",
   "id": "85dec41f",
   "metadata": {},
   "source": [
    "#### Случайный лес"
   ]
  },
  {
   "cell_type": "code",
   "execution_count": 35,
   "id": "10c2cef3",
   "metadata": {},
   "outputs": [
    {
     "name": "stdout",
     "output_type": "stream",
     "text": [
      "Лучшая модель случайного леса достигается при max_depth = 12, n_estimators = 96. \n",
      "F1-score модели =  0.6131953428201812. ROC-AUC-score модели = 0.8599984725344937\n"
     ]
    }
   ],
   "source": [
    "# через цикл будем выбирать модель с наибольшим f1_score, меняя max_depth и n_estimators\n",
    "\n",
    "best_f1_score = 0\n",
    "best_max_depth = 1\n",
    "best_n_est = 1\n",
    "auc_roc = 0\n",
    "\n",
    "for depth, n_est in zip(range(1, 30), range(1, 101, 5)):\n",
    "    model = RandomForestClassifier(random_state=rs, max_depth=depth, n_estimators=n_est)\n",
    "    model.fit(features_train_upsampled, target_train_upsampled)\n",
    "    predicted_valid = model.predict(features_valid)\n",
    "    probabilities_valid = model.predict_proba(features_valid)\n",
    "    probabilities_one_valid = probabilities_valid[:, 1]\n",
    "    if f1_score(target_valid, predicted_valid) > best_f1_score:\n",
    "        best_f1_score = f1_score(target_valid, predicted_valid)\n",
    "        best_max_depth = depth\n",
    "        best_n_est = n_est\n",
    "        auc_roc = roc_auc_score(target_valid, probabilities_one_valid)\n",
    "\n",
    "print(f'Лучшая модель случайного леса достигается при max_depth = {best_max_depth}, n_estimators = {n_est}. \\nF1-score модели =  {best_f1_score}. ROC-AUC-score модели = {auc_roc}')"
   ]
  },
  {
   "cell_type": "markdown",
   "id": "186eb260",
   "metadata": {},
   "source": [
    "Случайный лес показал лучше результат, нежели классификатор дерева решений, на f1-score. F1-score составил 0.61, что выше требуемых 0.59, ROC-AUC-score = 0.86, что тоже неплохо, хоть показатель и чуть-чуть снизился после увеличения выборки."
   ]
  },
  {
   "cell_type": "markdown",
   "id": "9dd01ac0",
   "metadata": {},
   "source": [
    "### Уменьшение выборки"
   ]
  },
  {
   "cell_type": "code",
   "execution_count": 36,
   "id": "69e9b1a9",
   "metadata": {},
   "outputs": [],
   "source": [
    "features_train_downsampled, target_train_downsampled = downsample(features_train, target_train, fraction=0.25)"
   ]
  },
  {
   "cell_type": "code",
   "execution_count": 37,
   "id": "60cb6d03",
   "metadata": {},
   "outputs": [
    {
     "data": {
      "text/plain": [
       "1    1112\n",
       "0    1086\n",
       "Name: exited, dtype: int64"
      ]
     },
     "execution_count": 37,
     "metadata": {},
     "output_type": "execute_result"
    }
   ],
   "source": [
    "# посмотрим теперь на соотношение значений целевого признака обучающей выборки\n",
    "target_train_downsampled.value_counts()"
   ]
  },
  {
   "cell_type": "markdown",
   "id": "3476a982",
   "metadata": {},
   "source": [
    "Теперь значения нулей и единичек сопоставимы, следовательно уменьшение выборки произведено корректно."
   ]
  },
  {
   "cell_type": "markdown",
   "id": "791b5b75",
   "metadata": {},
   "source": [
    "#### Дамми модель"
   ]
  },
  {
   "cell_type": "code",
   "execution_count": 38,
   "id": "d6054c17",
   "metadata": {},
   "outputs": [
    {
     "name": "stdout",
     "output_type": "stream",
     "text": [
      "F1-score =  0.0\n",
      "ROC-AUC-score =  0.5\n"
     ]
    }
   ],
   "source": [
    "# построим дамми модель, с которой будут сравниваться остальные модели\n",
    "\n",
    "model = DummyClassifier(strategy=\"constant\", constant=0)\n",
    "# поскольку нулей больше, построим дамми модель, которая будет предсказывать нули\n",
    "model.fit(features_train_downsampled, target_train_downsampled)\n",
    "predicted_valid =  model.predict(features_valid)\n",
    "probabilities_valid = model.predict_proba(features_valid)\n",
    "probabilities_one_valid = probabilities_valid[:, 1]\n",
    "\n",
    "print(\"F1-score = \", f1_score(target_valid, predicted_valid))\n",
    "print(\"ROC-AUC-score = \", roc_auc_score(target_valid, probabilities_one_valid))"
   ]
  },
  {
   "cell_type": "markdown",
   "id": "14957152",
   "metadata": {},
   "source": [
    "#### Логистическая регрессия"
   ]
  },
  {
   "cell_type": "code",
   "execution_count": 40,
   "id": "bafcb9ad",
   "metadata": {},
   "outputs": [
    {
     "name": "stdout",
     "output_type": "stream",
     "text": [
      "F1-score =  0.49056603773584906\n",
      "ROC-AUC-score =  0.7608976281441108\n"
     ]
    }
   ],
   "source": [
    "model = LogisticRegression(random_state=rs, solver='liblinear')\n",
    "model.fit(features_train_downsampled, target_train_downsampled)\n",
    "predicted_valid =  model.predict(features_valid)\n",
    "probabilities_valid = model.predict_proba(features_valid)\n",
    "probabilities_one_valid = probabilities_valid[:, 1]\n",
    "\n",
    "print(\"F1-score = \", f1_score(target_valid, predicted_valid))\n",
    "print(\"ROC-AUC-score = \", roc_auc_score(target_valid, probabilities_one_valid))"
   ]
  },
  {
   "cell_type": "markdown",
   "id": "e452c4f4",
   "metadata": {},
   "source": [
    "F1-score существенно и ROC-AUC несущественно снизились по сравнению с логитом при увеличении выборки. "
   ]
  },
  {
   "cell_type": "markdown",
   "id": "2855dfe4",
   "metadata": {},
   "source": [
    "#### Дерево решений"
   ]
  },
  {
   "cell_type": "code",
   "execution_count": 41,
   "id": "d180a1f1",
   "metadata": {},
   "outputs": [
    {
     "name": "stdout",
     "output_type": "stream",
     "text": [
      "Лучшая модель дерева решений достигается при max_depth = 6. \n",
      "F1-score модели =  0.5535545023696682. ROC-AUC-score модели = 0.8276776749739679\n"
     ]
    }
   ],
   "source": [
    "# через цикл будем выбирать модель с наибольшим f1_score, меняя max_depth\n",
    "\n",
    "best_f1_score = 0\n",
    "best_max_depth = 1\n",
    "auc_roc = 0\n",
    "\n",
    "for depth in range(1, 30):\n",
    "    model = DecisionTreeClassifier(random_state=rs, max_depth=depth)\n",
    "    model.fit(features_train_downsampled, target_train_downsampled)\n",
    "    predicted_valid = model.predict(features_valid)\n",
    "    probabilities_valid = model.predict_proba(features_valid)\n",
    "    probabilities_one_valid = probabilities_valid[:, 1]\n",
    "    if f1_score(target_valid, predicted_valid) > best_f1_score:\n",
    "        best_f1_score = f1_score(target_valid, predicted_valid)\n",
    "        best_max_depth = depth\n",
    "        auc_roc = roc_auc_score(target_valid, probabilities_one_valid)\n",
    "\n",
    "print(f'Лучшая модель дерева решений достигается при max_depth = {best_max_depth}. \\nF1-score модели =  {best_f1_score}. ROC-AUC-score модели = {auc_roc}')"
   ]
  },
  {
   "cell_type": "markdown",
   "id": "f2d0762b",
   "metadata": {},
   "source": [
    "Уменьшение выборки незначительно отличается от увеличения: f1-score немного снизился по сравнению с результатом при увеличении выборки. Однако ROC-AUC подрос по сравнению с ситуацией при увеличении выборки, но остался чуть ниже чем до борьбы с дисбалансом."
   ]
  },
  {
   "cell_type": "markdown",
   "id": "cbdfe4f0",
   "metadata": {},
   "source": [
    "#### Случайный лес"
   ]
  },
  {
   "cell_type": "code",
   "execution_count": 42,
   "id": "d33028be",
   "metadata": {},
   "outputs": [
    {
     "name": "stdout",
     "output_type": "stream",
     "text": [
      "Лучшая модель случайного леса достигается при max_depth = 17, n_estimators = 96. \n",
      "F1-score модели =  0.5878594249201278. ROC-AUC-score модели = 0.8569128059355074\n"
     ]
    }
   ],
   "source": [
    "# через цикл будем выбирать модель с наибольшим f1_score, меняя max_depth и n_estimators\n",
    "\n",
    "best_f1_score = 0\n",
    "best_max_depth = 1\n",
    "best_n_est = 1\n",
    "auc_roc = 0\n",
    "\n",
    "for depth, n_est in zip(range(1, 30), range(1, 101, 5)):\n",
    "    model = RandomForestClassifier(random_state=rs, max_depth=depth, n_estimators=n_est)\n",
    "    model.fit(features_train_downsampled, target_train_downsampled)\n",
    "    predicted_valid = model.predict(features_valid)\n",
    "    probabilities_valid = model.predict_proba(features_valid)\n",
    "    probabilities_one_valid = probabilities_valid[:, 1]\n",
    "    if f1_score(target_valid, predicted_valid) > best_f1_score:\n",
    "        best_f1_score = f1_score(target_valid, predicted_valid)\n",
    "        best_max_depth = depth\n",
    "        best_n_est = n_est\n",
    "        auc_roc = roc_auc_score(target_valid, probabilities_one_valid)\n",
    "\n",
    "print(f'Лучшая модель случайного леса достигается при max_depth = {best_max_depth}, n_estimators = {n_est}. \\nF1-score модели =  {best_f1_score}. ROC-AUC-score модели = {auc_roc}')"
   ]
  },
  {
   "cell_type": "markdown",
   "id": "07acd525",
   "metadata": {},
   "source": [
    "Уменьшение выборки аналогично плохо повлияло на случайный лес с точки зрения f1-score: f1-score снизился по сравнению с результатом при увеличении выборки. ROC-AUC такжесовсем немного снизился по сравнению с ситуацией при увеличении выборки, но остался чуть ниже чем до борьбы с дисбалансом."
   ]
  },
  {
   "cell_type": "markdown",
   "id": "4fe70fab",
   "metadata": {},
   "source": [
    "*Вывод*:<br/>\n",
    "В данном разделе мы предприняли попытку борьбы с дисбалансом путем увеличения и уменьшения выборки, а также построили три модели: логистическую регрессию, дерево решений и случайный лес.<br/>\n",
    "Увеличение выборки чуть больше увеличило f1-меру, нежели уменьшение выборки. Наиболее ощутимая разница пришлась на случайный лес. <br/>\n",
    "ROC-AUC почти во всех случаях достигал наибольших значений *до* борьбы с дисбалансом. <br/>\n",
    "Метрики качества логита и случайного леса подросли; метрики качества дерева решений практически не изменились.\n",
    "Наивысший f1-score был достигнут в модели случайного леса с максимальной глубиной 12 и 96 деревьями в лесу - 0.61, ROC-AUC=0.86. Результат по f1-score удовлетворяет поставленной цели в минимум 0.59."
   ]
  },
  {
   "cell_type": "markdown",
   "id": "c6d46b51",
   "metadata": {},
   "source": [
    "## Финальное тестирование"
   ]
  },
  {
   "cell_type": "markdown",
   "id": "2e8c0d27",
   "metadata": {},
   "source": [
    "Наилучшая достигнутая модель - Random Forest с максимальной глубиной 12 и 96 деревьями в лесу. Протестируем её еще раз."
   ]
  },
  {
   "cell_type": "code",
   "execution_count": 43,
   "id": "94044a5f",
   "metadata": {},
   "outputs": [],
   "source": [
    "model = RandomForestClassifier(random_state=rs, max_depth=12, n_estimators=96)\n",
    "model.fit(features_train_upsampled, target_train_upsampled)\n",
    "\n",
    "\n",
    "predicted_test = model.predict(features_test)\n",
    "probabilities_test = model.predict_proba(features_test)\n",
    "probabilities_one_test = probabilities_test[:, 1]"
   ]
  },
  {
   "cell_type": "markdown",
   "id": "c3746c24",
   "metadata": {},
   "source": [
    "### F1-мера и ROC-AUC-score"
   ]
  },
  {
   "cell_type": "code",
   "execution_count": 44,
   "id": "9c53374d",
   "metadata": {},
   "outputs": [
    {
     "name": "stdout",
     "output_type": "stream",
     "text": [
      "F1-score тестовой выборки =  0.6286\n",
      "ROC-AUC-score тестовой выборки =  0.8506\n"
     ]
    }
   ],
   "source": [
    "print(\"F1-score тестовой выборки = \", round(f1_score(target_test, predicted_test), 4))\n",
    "print(\"ROC-AUC-score тестовой выборки = \", round(roc_auc_score(target_test, probabilities_one_test), 4))"
   ]
  },
  {
   "cell_type": "markdown",
   "id": "9a34f11f",
   "metadata": {},
   "source": [
    "F1-мера на тестовой выборке составила около 0.63, что выше требуемых 0.59. <br/>\n",
    "ROC-AUC модели на тестовой выборки составил 0.85.<br/>\n",
    "Оба результата достаточно близки к результатам, полученным на валидационной выборке."
   ]
  },
  {
   "cell_type": "markdown",
   "id": "3009b392",
   "metadata": {},
   "source": [
    "### PR-кривая"
   ]
  },
  {
   "cell_type": "markdown",
   "id": "786dcec3",
   "metadata": {},
   "source": [
    "Посмотрим на Precision-Recall-Curve модели на тестовой выборке."
   ]
  },
  {
   "cell_type": "code",
   "execution_count": 45,
   "id": "69bbddf5",
   "metadata": {},
   "outputs": [
    {
     "data": {
      "image/png": "[encoded data removed]",
      "text/plain": [
       "<Figure size 600x600 with 1 Axes>"
      ]
     },
     "metadata": {},
     "output_type": "display_data"
    }
   ],
   "source": [
    "precision, recall, thresholds = precision_recall_curve(target_test, probabilities_one_test)\n",
    "\n",
    "plt.figure(figsize=(6, 6))\n",
    "plt.step(recall, precision, where='post')\n",
    "plt.xlabel('Recall')\n",
    "plt.ylabel('Precision')\n",
    "plt.ylim([0.0, 1.05])\n",
    "plt.xlim([0.0, 1.05])\n",
    "plt.title('Кривая Precision-Recall')\n",
    "plt.show()"
   ]
  },
  {
   "cell_type": "markdown",
   "id": "07512cd2",
   "metadata": {},
   "source": [
    "В целом полученная PR-кривая расположена достаточно высоко - это хорошо."
   ]
  },
  {
   "cell_type": "markdown",
   "id": "d7e3c8ef",
   "metadata": {},
   "source": [
    "### ROC-кривая"
   ]
  },
  {
   "cell_type": "code",
   "execution_count": 46,
   "id": "72d4ddff",
   "metadata": {},
   "outputs": [
    {
     "data": {
      "image/png": "[encoded data removed]",
      "text/plain": [
       "<Figure size 640x480 with 1 Axes>"
      ]
     },
     "metadata": {},
     "output_type": "display_data"
    }
   ],
   "source": [
    "# Построим ROC-кривую\n",
    "\n",
    "\n",
    "fpr, tpr, thresholds = roc_curve(target_test, probabilities_one_test) \n",
    "plt.figure()\n",
    "plt.plot(fpr, tpr)\n",
    "plt.plot([0, 1], [0, 1], linestyle='--') # ROC-кривая случайной модели \n",
    "plt.ylim([0.0, 1.0])\n",
    "plt.xlim([0.0, 1.0])\n",
    "plt.xlabel(\"False Positive Rate\")\n",
    "plt.ylabel(\"True Positive Rate\")\n",
    "plt.title(\"ROC-кривая\")\n",
    "plt.show()"
   ]
  },
  {
   "cell_type": "markdown",
   "id": "5b87572b",
   "metadata": {},
   "source": [
    "Получения ROC-кривая расположена выше бейзлайна, что свидетельствует о том, что модель лучше него, однако она не очень близка к левому верхнему углу, что говорит о том, что она далеко не идеальная."
   ]
  },
  {
   "cell_type": "markdown",
   "id": "6165c22b",
   "metadata": {},
   "source": [
    "## Общий вывод"
   ]
  },
  {
   "cell_type": "markdown",
   "id": "fda3937c",
   "metadata": {},
   "source": [
    "В данном проекте на входе мы получили данные о клиентах банка, некоторые из которых покинули банк.\n",
    "Целью стояло построение модели, прогнозирующей уйдет ли клиент из банка, с максимально высокой f1-мерой, причем значение f1-меры должно было быть не меньше 0.59. \n",
    "\n",
    "В ходе решения поставленной задачи мы выполнили следующее:\n",
    "1. Изучили входящие данные.\n",
    "1. Закодировали категориальные переменные.\n",
    "1. Разбили данные на обучающую, валидационную и тестовую.\n",
    "1. Масштабировали переменные.\n",
    "1. Построили логистическую регрессию, дерево решений и случайный лес, не учитывая дисбаланс классов.\n",
    "1. Построили логистическую регрессию, дерево решений и случайный лес, учитывая дисбаланс классов при помощи увеличения и уменьшения выборок.\n",
    "<br/>\n",
    "\n",
    "Мы сравнивали модели между собой при помощи F1-меры и ROC-AUC, а также сравнивали их с дамми моделью на константе.\n",
    "\n",
    "Мы пришли к следующим выводам:\n",
    "- Классификатор случайного леса во всех случаях давал результаты лучше, нежели и логистическая регрессия, и дерево решений. \n",
    "- В моделях, в которых не учитывался дисбаланс классов, не удалось построить модель с f1-score выше целевого 0.59.\n",
    "- Увеличение выборки лучше повлияло на f1-меру, нежели уменьшение выборки.\n",
    "- ROC-AUC в большинстве случае достигал наибольших значений до борьбы с дисбалансом. <br/>\n",
    "\n",
    "При увеличении выборки удалось превысить целевую f1-меру: построение модели случайного леса с максимальной глубиной 12 и количеством деревьев в лесу 96 дало на валидационной выборке `f1-score = 0.61`, и `ROC-AUC = 0.86`.<br/>\n",
    "При проверке этой же модели на тестовой выборке мы получили f1-меру, равную 0.63, и ROC-AUC = 0.85, что по-прежнему является хорошим показателем.\n",
    "\n",
    "Таким образом, поставленная цель была достигнута."
   ]
  }
 ],
 "metadata": {
  "kernelspec": {
   "display_name": "Python 3 (ipykernel)",
   "language": "python",
   "name": "python3"
  },
  "language_info": {
   "codemirror_mode": {
    "name": "ipython",
    "version": 3
   },
   "file_extension": ".py",
   "mimetype": "text/x-python",
   "name": "python",
   "nbconvert_exporter": "python",
   "pygments_lexer": "ipython3",
   "version": "3.9.5"
  },
  "toc": {
   "base_numbering": 1,
   "nav_menu": {},
   "number_sections": true,
   "sideBar": true,
   "skip_h1_title": true,
   "title_cell": "Содержание",
   "title_sidebar": "Contents",
   "toc_cell": true,
   "toc_position": {
    "height": "calc(100% - 180px)",
    "left": "10px",
    "top": "150px",
    "width": "297.647064px"
   },
   "toc_section_display": true,
   "toc_window_display": true
  }
 },
 "nbformat": 4,
 "nbformat_minor": 5
}
