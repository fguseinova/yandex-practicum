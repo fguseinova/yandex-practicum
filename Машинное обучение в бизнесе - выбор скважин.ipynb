{
 "cells": [
  {
   "cell_type": "markdown",
   "id": "3ba27654",
   "metadata": {
    "toc": true
   },
   "source": [
    "<h1>Table of Contents<span class=\"tocSkip\"></span></h1>\n",
    "<div class=\"toc\"><a href=\"#Описание-проекта-и-данных\" data-toc-modified-id=\"Описание-проекта-и-данных-1\"><span class=\"toc-item-num\">1&nbsp;&nbsp;</span>Описание проекта и данных</a></span><ul class=\"toc-item\"><li><span><a href=\"#Описание-проекта\" data-toc-modified-id=\"Описание-проекта-1.1\"><span class=\"toc-item-num\">1.1&nbsp;&nbsp;</span>Описание проекта</a></span></li><li><span><a href=\"#Описание-данных\" data-toc-modified-id=\"Описание-данных-1.2\"><span class=\"toc-item-num\">1.2&nbsp;&nbsp;</span>Описание данных</a></span></li><li><span><a href=\"#План-работы\" data-toc-modified-id=\"План-работы-1.3\"><span class=\"toc-item-num\">1.3&nbsp;&nbsp;</span>План работы</a></span></li></ul></li><li><span><a href=\"#Первичная-работа-с-данными\" data-toc-modified-id=\"Первичная-работа-с-данными-2\"><span class=\"toc-item-num\">2&nbsp;&nbsp;</span>Первичная работа с данными</a></span><ul class=\"toc-item\"><li><span><a href=\"#Импорт-библиотек-для-работы\" data-toc-modified-id=\"Импорт-библиотек-для-работы-2.1\"><span class=\"toc-item-num\">2.1&nbsp;&nbsp;</span>Импорт библиотек для работы</a></span></li><li><span><a href=\"#Загрузка-файлов-с-данными\" data-toc-modified-id=\"Загрузка-файлов-с-данными-2.2\"><span class=\"toc-item-num\">2.2&nbsp;&nbsp;</span>Загрузка файлов с данными</a></span></li><li><span><a href=\"#Изучение-данных\" data-toc-modified-id=\"Изучение-данных-2.3\"><span class=\"toc-item-num\">2.3&nbsp;&nbsp;</span>Изучение данных</a></span></li><li><span><a href=\"#Обработка-дубликатов\" data-toc-modified-id=\"Обработка-дубликатов-2.4\"><span class=\"toc-item-num\">2.4&nbsp;&nbsp;</span>Обработка дубликатов</a></span></li><li><span><a href=\"#Анализ-мультиколлинеарности\" data-toc-modified-id=\"Анализ-мультиколлинеарности-2.5\"><span class=\"toc-item-num\">2.5&nbsp;&nbsp;</span>Анализ мультиколлинеарности</a></span></li></ul></li><li><span><a href=\"#Обучение-и-проверка-модели\" data-toc-modified-id=\"Обучение-и-проверка-модели-3\"><span class=\"toc-item-num\">3&nbsp;&nbsp;</span>Обучение и проверка модели</a></span><ul class=\"toc-item\"><li><span><a href=\"#Разбиение-выборки-на-обучающую-и-валидационную\" data-toc-modified-id=\"Разбиение-выборки-на-обучающую-и-валидационную-3.1\"><span class=\"toc-item-num\">3.1&nbsp;&nbsp;</span>Разбиение выборки на обучающую и валидационную</a></span></li><li><span><a href=\"#Обучение-моделей\" data-toc-modified-id=\"Обучение-моделей-3.2\"><span class=\"toc-item-num\">3.2&nbsp;&nbsp;</span>Обучение моделей</a></span></li></ul></li><li><span><a href=\"#Расчёт-прибыли-и-рисков\" data-toc-modified-id=\"Расчёт-прибыли-и-рисков-4\"><span class=\"toc-item-num\">4&nbsp;&nbsp;</span>Расчёт прибыли и рисков</a></span><ul class=\"toc-item\"><li><span><a href=\"#Подготовка-к-расчёту-прибыли\" data-toc-modified-id=\"Подготовка-к-расчёту-прибыли-4.1\"><span class=\"toc-item-num\">4.1&nbsp;&nbsp;</span>Подготовка к расчёту прибыли</a></span></li><li><span><a href=\"#Расчет-рисков-и-прибыли-для-каждого-региона\" data-toc-modified-id=\"Расчет-рисков-и-прибыли-для-каждого-региона-4.2\"><span class=\"toc-item-num\">4.2&nbsp;&nbsp;</span>Расчет рисков и прибыли для каждого региона</a></span></li></ul></li><li><span><a href=\"#Общий-вывод-по-проекту\" data-toc-modified-id=\"Общий-вывод-по-проекту-5\"><span class=\"toc-item-num\">5&nbsp;&nbsp;</span>Общий вывод по проекту</a></span></li><li><span><a href=\"#Чек-лист-готовности-проекта\" data-toc-modified-id=\"Чек-лист-готовности-проекта-6\"><span class=\"toc-item-num\">6&nbsp;&nbsp;</span>Чек-лист готовности проекта</a></span></li></ul></div>"
   ]
  },
  {
   "cell_type": "markdown",
   "id": "a0a39d3e",
   "metadata": {},
   "source": [
    "# Выбор локации для скважины"
   ]
  },
  {
   "cell_type": "markdown",
   "id": "af9502bf",
   "metadata": {},
   "source": [
    "## Описание проекта и данных"
   ]
  },
  {
   "cell_type": "markdown",
   "id": "cda04660",
   "metadata": {},
   "source": [
    "### Описание проекта"
   ]
  },
  {
   "cell_type": "markdown",
   "id": "ac0c704e",
   "metadata": {},
   "source": [
    "Допустим, что мы работаем в добывающей компании «ГлавРосГосНефть». Нужно решить, где бурить новую скважину.\n",
    "\n",
    "Нам предоставлены пробы нефти в трёх регионах: в каждом 10 000 месторождений, где измерили качество нефти и объём её запасов. Необходимо построить модель машинного обучения, которая поможет определить регион, где добыча принесёт наибольшую прибыль. Проанализируем возможную прибыль и риски техникой *Bootstrap.*\n",
    "\n",
    "Шаги для выбора локации:\n",
    "\n",
    "- В избранном регионе ищут месторождения, для каждого определяют значения признаков;\n",
    "- Строят модель и оценивают объём запасов;\n",
    "- Выбирают месторождения с самым высокими оценками значений. Количество месторождений зависит от бюджета компании и стоимости разработки одной скважины;\n",
    "- Прибыль равна суммарной прибыли отобранных месторождений."
   ]
  },
  {
   "cell_type": "markdown",
   "id": "34d846b7",
   "metadata": {},
   "source": [
    "### Описание данных"
   ]
  },
  {
   "cell_type": "markdown",
   "id": "63c3a1b9",
   "metadata": {},
   "source": [
    "Данные геологоразведки трёх регионов находятся в файлах:\n",
    "\n",
    "- для региона 0: `/datasets/geo_data_0.csv`. \n",
    "- для региона 1: `/datasets/geo_data_1.csv`. \n",
    "- для региона 2: `/datasets/geo_data_2.csv`. \n",
    "\n",
    "Переменные в исходных таблицах:\n",
    "- `id` — уникальный идентификатор скважины;\n",
    "- `f0, f1, f2` — три признака точек (неважно, что они означают, но сами признаки значимы);\n",
    "- `product` — объём запасов в скважине (тыс. баррелей)."
   ]
  },
  {
   "cell_type": "markdown",
   "id": "5d0da0a4",
   "metadata": {},
   "source": [
    "### План работы"
   ]
  },
  {
   "cell_type": "markdown",
   "id": "261e4753",
   "metadata": {},
   "source": [
    "1. Загрузить таблицы с исходными данными.\n",
    "1. Подготовить данные для работы с ними.\n",
    "1. Разбить данные на обучающую и валидационную выборки.\n",
    "1. Обучить и проверить модели для каждого региона.\n",
    "1. Подготовиться к расчёту прибыли.\n",
    "1. Написать функцию для расчёта прибыли по выбранным скважинам и предсказаниям модели.\n",
    "1. Посчитать риски и прибыль для каждого региона."
   ]
  },
  {
   "cell_type": "markdown",
   "id": "0cf1e47e",
   "metadata": {},
   "source": [
    "## Первичная работа с данными"
   ]
  },
  {
   "cell_type": "markdown",
   "id": "5617873d",
   "metadata": {},
   "source": [
    "### Импорт библиотек для работы"
   ]
  },
  {
   "cell_type": "code",
   "execution_count": 1,
   "id": "76c74492",
   "metadata": {},
   "outputs": [],
   "source": [
    "# импорт библиотек, которые понадобятся при работе над проектом\n",
    "\n",
    "import pandas as pd\n",
    "import seaborn as sns\n",
    "import numpy as np\n",
    "\n",
    "from sklearn.model_selection import train_test_split\n",
    "from sklearn.preprocessing import StandardScaler\n",
    "from sklearn.linear_model import LinearRegression\n",
    "from sklearn.metrics import mean_squared_error\n",
    "\n",
    "import warnings\n",
    "warnings.filterwarnings('ignore')"
   ]
  },
  {
   "cell_type": "markdown",
   "id": "42c92858",
   "metadata": {},
   "source": [
    "### Загрузка файлов с данными"
   ]
  },
  {
   "cell_type": "code",
   "execution_count": 2,
   "id": "70fe5eac",
   "metadata": {},
   "outputs": [],
   "source": [
    "# загрузим файл с данными\n",
    "try:\n",
    "    data0 = pd.read_csv('/datasets/geo_data_0.csv')\n",
    "    data1 = pf.read_csv('/datasets/geo_data_1.csv')\n",
    "    data2 = pf.read_csv('/datasets/geo_data_2.csv')\n",
    "except:\n",
    "    # здесь были ссылки на загрузку данных "
   ]
  },
  {
   "cell_type": "code",
   "execution_count": 3,
   "id": "d20b9b6f",
   "metadata": {},
   "outputs": [
    {
     "name": "stdout",
     "output_type": "stream",
     "text": [
      "Регион 0\n"
     ]
    },
    {
     "data": {
      "text/html": [
       "<div>\n",
       "<style scoped>\n",
       "    .dataframe tbody tr th:only-of-type {\n",
       "        vertical-align: middle;\n",
       "    }\n",
       "\n",
       "    .dataframe tbody tr th {\n",
       "        vertical-align: top;\n",
       "    }\n",
       "\n",
       "    .dataframe thead th {\n",
       "        text-align: right;\n",
       "    }\n",
       "</style>\n",
       "<table border=\"1\" class=\"dataframe\">\n",
       "  <thead>\n",
       "    <tr style=\"text-align: right;\">\n",
       "      <th></th>\n",
       "      <th>id</th>\n",
       "      <th>f0</th>\n",
       "      <th>f1</th>\n",
       "      <th>f2</th>\n",
       "      <th>product</th>\n",
       "    </tr>\n",
       "  </thead>\n",
       "  <tbody>\n",
       "    <tr>\n",
       "      <th>0</th>\n",
       "      <td>txEyH</td>\n",
       "      <td>0.705745</td>\n",
       "      <td>-0.497823</td>\n",
       "      <td>1.221170</td>\n",
       "      <td>105.280062</td>\n",
       "    </tr>\n",
       "    <tr>\n",
       "      <th>1</th>\n",
       "      <td>2acmU</td>\n",
       "      <td>1.334711</td>\n",
       "      <td>-0.340164</td>\n",
       "      <td>4.365080</td>\n",
       "      <td>73.037750</td>\n",
       "    </tr>\n",
       "    <tr>\n",
       "      <th>2</th>\n",
       "      <td>409Wp</td>\n",
       "      <td>1.022732</td>\n",
       "      <td>0.151990</td>\n",
       "      <td>1.419926</td>\n",
       "      <td>85.265647</td>\n",
       "    </tr>\n",
       "    <tr>\n",
       "      <th>3</th>\n",
       "      <td>iJLyR</td>\n",
       "      <td>-0.032172</td>\n",
       "      <td>0.139033</td>\n",
       "      <td>2.978566</td>\n",
       "      <td>168.620776</td>\n",
       "    </tr>\n",
       "    <tr>\n",
       "      <th>4</th>\n",
       "      <td>Xdl7t</td>\n",
       "      <td>1.988431</td>\n",
       "      <td>0.155413</td>\n",
       "      <td>4.751769</td>\n",
       "      <td>154.036647</td>\n",
       "    </tr>\n",
       "  </tbody>\n",
       "</table>\n",
       "</div>"
      ],
      "text/plain": [
       "      id        f0        f1        f2     product\n",
       "0  txEyH  0.705745 -0.497823  1.221170  105.280062\n",
       "1  2acmU  1.334711 -0.340164  4.365080   73.037750\n",
       "2  409Wp  1.022732  0.151990  1.419926   85.265647\n",
       "3  iJLyR -0.032172  0.139033  2.978566  168.620776\n",
       "4  Xdl7t  1.988431  0.155413  4.751769  154.036647"
      ]
     },
     "metadata": {},
     "output_type": "display_data"
    },
    {
     "name": "stdout",
     "output_type": "stream",
     "text": [
      "Регион 1\n"
     ]
    },
    {
     "data": {
      "text/html": [
       "<div>\n",
       "<style scoped>\n",
       "    .dataframe tbody tr th:only-of-type {\n",
       "        vertical-align: middle;\n",
       "    }\n",
       "\n",
       "    .dataframe tbody tr th {\n",
       "        vertical-align: top;\n",
       "    }\n",
       "\n",
       "    .dataframe thead th {\n",
       "        text-align: right;\n",
       "    }\n",
       "</style>\n",
       "<table border=\"1\" class=\"dataframe\">\n",
       "  <thead>\n",
       "    <tr style=\"text-align: right;\">\n",
       "      <th></th>\n",
       "      <th>id</th>\n",
       "      <th>f0</th>\n",
       "      <th>f1</th>\n",
       "      <th>f2</th>\n",
       "      <th>product</th>\n",
       "    </tr>\n",
       "  </thead>\n",
       "  <tbody>\n",
       "    <tr>\n",
       "      <th>0</th>\n",
       "      <td>kBEdx</td>\n",
       "      <td>-15.001348</td>\n",
       "      <td>-8.276000</td>\n",
       "      <td>-0.005876</td>\n",
       "      <td>3.179103</td>\n",
       "    </tr>\n",
       "    <tr>\n",
       "      <th>1</th>\n",
       "      <td>62mP7</td>\n",
       "      <td>14.272088</td>\n",
       "      <td>-3.475083</td>\n",
       "      <td>0.999183</td>\n",
       "      <td>26.953261</td>\n",
       "    </tr>\n",
       "    <tr>\n",
       "      <th>2</th>\n",
       "      <td>vyE1P</td>\n",
       "      <td>6.263187</td>\n",
       "      <td>-5.948386</td>\n",
       "      <td>5.001160</td>\n",
       "      <td>134.766305</td>\n",
       "    </tr>\n",
       "    <tr>\n",
       "      <th>3</th>\n",
       "      <td>KcrkZ</td>\n",
       "      <td>-13.081196</td>\n",
       "      <td>-11.506057</td>\n",
       "      <td>4.999415</td>\n",
       "      <td>137.945408</td>\n",
       "    </tr>\n",
       "    <tr>\n",
       "      <th>4</th>\n",
       "      <td>AHL4O</td>\n",
       "      <td>12.702195</td>\n",
       "      <td>-8.147433</td>\n",
       "      <td>5.004363</td>\n",
       "      <td>134.766305</td>\n",
       "    </tr>\n",
       "  </tbody>\n",
       "</table>\n",
       "</div>"
      ],
      "text/plain": [
       "      id         f0         f1        f2     product\n",
       "0  kBEdx -15.001348  -8.276000 -0.005876    3.179103\n",
       "1  62mP7  14.272088  -3.475083  0.999183   26.953261\n",
       "2  vyE1P   6.263187  -5.948386  5.001160  134.766305\n",
       "3  KcrkZ -13.081196 -11.506057  4.999415  137.945408\n",
       "4  AHL4O  12.702195  -8.147433  5.004363  134.766305"
      ]
     },
     "metadata": {},
     "output_type": "display_data"
    },
    {
     "name": "stdout",
     "output_type": "stream",
     "text": [
      "Регион 2\n"
     ]
    },
    {
     "data": {
      "text/html": [
       "<div>\n",
       "<style scoped>\n",
       "    .dataframe tbody tr th:only-of-type {\n",
       "        vertical-align: middle;\n",
       "    }\n",
       "\n",
       "    .dataframe tbody tr th {\n",
       "        vertical-align: top;\n",
       "    }\n",
       "\n",
       "    .dataframe thead th {\n",
       "        text-align: right;\n",
       "    }\n",
       "</style>\n",
       "<table border=\"1\" class=\"dataframe\">\n",
       "  <thead>\n",
       "    <tr style=\"text-align: right;\">\n",
       "      <th></th>\n",
       "      <th>id</th>\n",
       "      <th>f0</th>\n",
       "      <th>f1</th>\n",
       "      <th>f2</th>\n",
       "      <th>product</th>\n",
       "    </tr>\n",
       "  </thead>\n",
       "  <tbody>\n",
       "    <tr>\n",
       "      <th>0</th>\n",
       "      <td>fwXo0</td>\n",
       "      <td>-1.146987</td>\n",
       "      <td>0.963328</td>\n",
       "      <td>-0.828965</td>\n",
       "      <td>27.758673</td>\n",
       "    </tr>\n",
       "    <tr>\n",
       "      <th>1</th>\n",
       "      <td>WJtFt</td>\n",
       "      <td>0.262778</td>\n",
       "      <td>0.269839</td>\n",
       "      <td>-2.530187</td>\n",
       "      <td>56.069697</td>\n",
       "    </tr>\n",
       "    <tr>\n",
       "      <th>2</th>\n",
       "      <td>ovLUW</td>\n",
       "      <td>0.194587</td>\n",
       "      <td>0.289035</td>\n",
       "      <td>-5.586433</td>\n",
       "      <td>62.871910</td>\n",
       "    </tr>\n",
       "    <tr>\n",
       "      <th>3</th>\n",
       "      <td>q6cA6</td>\n",
       "      <td>2.236060</td>\n",
       "      <td>-0.553760</td>\n",
       "      <td>0.930038</td>\n",
       "      <td>114.572842</td>\n",
       "    </tr>\n",
       "    <tr>\n",
       "      <th>4</th>\n",
       "      <td>WPMUX</td>\n",
       "      <td>-0.515993</td>\n",
       "      <td>1.716266</td>\n",
       "      <td>5.899011</td>\n",
       "      <td>149.600746</td>\n",
       "    </tr>\n",
       "  </tbody>\n",
       "</table>\n",
       "</div>"
      ],
      "text/plain": [
       "      id        f0        f1        f2     product\n",
       "0  fwXo0 -1.146987  0.963328 -0.828965   27.758673\n",
       "1  WJtFt  0.262778  0.269839 -2.530187   56.069697\n",
       "2  ovLUW  0.194587  0.289035 -5.586433   62.871910\n",
       "3  q6cA6  2.236060 -0.553760  0.930038  114.572842\n",
       "4  WPMUX -0.515993  1.716266  5.899011  149.600746"
      ]
     },
     "metadata": {},
     "output_type": "display_data"
    }
   ],
   "source": [
    "# посмотрим на шапки исходных таблиц\n",
    "\n",
    "print('Регион 0')\n",
    "display(data0.head())\n",
    "print('Регион 1')\n",
    "display(data1.head())\n",
    "print('Регион 2')\n",
    "display(data2.head())"
   ]
  },
  {
   "cell_type": "markdown",
   "id": "16686012",
   "metadata": {},
   "source": [
    "### Изучение данных"
   ]
  },
  {
   "cell_type": "code",
   "execution_count": 4,
   "id": "7130a61a",
   "metadata": {},
   "outputs": [
    {
     "name": "stdout",
     "output_type": "stream",
     "text": [
      "Регион 0\n",
      "<class 'pandas.core.frame.DataFrame'>\n",
      "RangeIndex: 100000 entries, 0 to 99999\n",
      "Data columns (total 5 columns):\n",
      " #   Column   Non-Null Count   Dtype  \n",
      "---  ------   --------------   -----  \n",
      " 0   id       100000 non-null  object \n",
      " 1   f0       100000 non-null  float64\n",
      " 2   f1       100000 non-null  float64\n",
      " 3   f2       100000 non-null  float64\n",
      " 4   product  100000 non-null  float64\n",
      "dtypes: float64(4), object(1)\n",
      "memory usage: 3.8+ MB\n"
     ]
    },
    {
     "data": {
      "text/plain": [
       "None"
      ]
     },
     "metadata": {},
     "output_type": "display_data"
    },
    {
     "name": "stdout",
     "output_type": "stream",
     "text": [
      "Регион 1\n",
      "<class 'pandas.core.frame.DataFrame'>\n",
      "RangeIndex: 100000 entries, 0 to 99999\n",
      "Data columns (total 5 columns):\n",
      " #   Column   Non-Null Count   Dtype  \n",
      "---  ------   --------------   -----  \n",
      " 0   id       100000 non-null  object \n",
      " 1   f0       100000 non-null  float64\n",
      " 2   f1       100000 non-null  float64\n",
      " 3   f2       100000 non-null  float64\n",
      " 4   product  100000 non-null  float64\n",
      "dtypes: float64(4), object(1)\n",
      "memory usage: 3.8+ MB\n"
     ]
    },
    {
     "data": {
      "text/plain": [
       "None"
      ]
     },
     "metadata": {},
     "output_type": "display_data"
    },
    {
     "name": "stdout",
     "output_type": "stream",
     "text": [
      "Регион 2\n",
      "<class 'pandas.core.frame.DataFrame'>\n",
      "RangeIndex: 100000 entries, 0 to 99999\n",
      "Data columns (total 5 columns):\n",
      " #   Column   Non-Null Count   Dtype  \n",
      "---  ------   --------------   -----  \n",
      " 0   id       100000 non-null  object \n",
      " 1   f0       100000 non-null  float64\n",
      " 2   f1       100000 non-null  float64\n",
      " 3   f2       100000 non-null  float64\n",
      " 4   product  100000 non-null  float64\n",
      "dtypes: float64(4), object(1)\n",
      "memory usage: 3.8+ MB\n"
     ]
    },
    {
     "data": {
      "text/plain": [
       "None"
      ]
     },
     "metadata": {},
     "output_type": "display_data"
    }
   ],
   "source": [
    "# посмотрим на данные о таблицах\n",
    "print('Регион 0')\n",
    "display(data0.info())\n",
    "\n",
    "print('Регион 1')\n",
    "display(data1.info())\n",
    "\n",
    "print('Регион 2')\n",
    "display(data2.info())"
   ]
  },
  {
   "cell_type": "code",
   "execution_count": 5,
   "id": "b76fc6d4",
   "metadata": {},
   "outputs": [
    {
     "name": "stdout",
     "output_type": "stream",
     "text": [
      "Регион 0\n"
     ]
    },
    {
     "data": {
      "text/html": [
       "<style type=\"text/css\">\n",
       "#T_b6675_row0_col0, #T_b6675_row1_col0, #T_b6675_row2_col0, #T_b6675_row3_col0, #T_b6675_row4_col0 {\n",
       "  background-color: #3b4cc0;\n",
       "  color: #f1f1f1;\n",
       "}\n",
       "</style>\n",
       "<table id=\"T_b6675\">\n",
       "  <thead>\n",
       "    <tr>\n",
       "      <th class=\"blank level0\" >&nbsp;</th>\n",
       "      <th id=\"T_b6675_level0_col0\" class=\"col_heading level0 col0\" >0</th>\n",
       "    </tr>\n",
       "  </thead>\n",
       "  <tbody>\n",
       "    <tr>\n",
       "      <th id=\"T_b6675_level0_row0\" class=\"row_heading level0 row0\" >id</th>\n",
       "      <td id=\"T_b6675_row0_col0\" class=\"data row0 col0\" >0.000000</td>\n",
       "    </tr>\n",
       "    <tr>\n",
       "      <th id=\"T_b6675_level0_row1\" class=\"row_heading level0 row1\" >f0</th>\n",
       "      <td id=\"T_b6675_row1_col0\" class=\"data row1 col0\" >0.000000</td>\n",
       "    </tr>\n",
       "    <tr>\n",
       "      <th id=\"T_b6675_level0_row2\" class=\"row_heading level0 row2\" >f1</th>\n",
       "      <td id=\"T_b6675_row2_col0\" class=\"data row2 col0\" >0.000000</td>\n",
       "    </tr>\n",
       "    <tr>\n",
       "      <th id=\"T_b6675_level0_row3\" class=\"row_heading level0 row3\" >f2</th>\n",
       "      <td id=\"T_b6675_row3_col0\" class=\"data row3 col0\" >0.000000</td>\n",
       "    </tr>\n",
       "    <tr>\n",
       "      <th id=\"T_b6675_level0_row4\" class=\"row_heading level0 row4\" >product</th>\n",
       "      <td id=\"T_b6675_row4_col0\" class=\"data row4 col0\" >0.000000</td>\n",
       "    </tr>\n",
       "  </tbody>\n",
       "</table>\n"
      ],
      "text/plain": [
       "<pandas.io.formats.style.Styler at 0x7fe188034580>"
      ]
     },
     "metadata": {},
     "output_type": "display_data"
    },
    {
     "name": "stdout",
     "output_type": "stream",
     "text": [
      "Регион 1\n"
     ]
    },
    {
     "data": {
      "text/html": [
       "<style type=\"text/css\">\n",
       "#T_47b79_row0_col0, #T_47b79_row1_col0, #T_47b79_row2_col0, #T_47b79_row3_col0, #T_47b79_row4_col0 {\n",
       "  background-color: #3b4cc0;\n",
       "  color: #f1f1f1;\n",
       "}\n",
       "</style>\n",
       "<table id=\"T_47b79\">\n",
       "  <thead>\n",
       "    <tr>\n",
       "      <th class=\"blank level0\" >&nbsp;</th>\n",
       "      <th id=\"T_47b79_level0_col0\" class=\"col_heading level0 col0\" >0</th>\n",
       "    </tr>\n",
       "  </thead>\n",
       "  <tbody>\n",
       "    <tr>\n",
       "      <th id=\"T_47b79_level0_row0\" class=\"row_heading level0 row0\" >id</th>\n",
       "      <td id=\"T_47b79_row0_col0\" class=\"data row0 col0\" >0.000000</td>\n",
       "    </tr>\n",
       "    <tr>\n",
       "      <th id=\"T_47b79_level0_row1\" class=\"row_heading level0 row1\" >f0</th>\n",
       "      <td id=\"T_47b79_row1_col0\" class=\"data row1 col0\" >0.000000</td>\n",
       "    </tr>\n",
       "    <tr>\n",
       "      <th id=\"T_47b79_level0_row2\" class=\"row_heading level0 row2\" >f1</th>\n",
       "      <td id=\"T_47b79_row2_col0\" class=\"data row2 col0\" >0.000000</td>\n",
       "    </tr>\n",
       "    <tr>\n",
       "      <th id=\"T_47b79_level0_row3\" class=\"row_heading level0 row3\" >f2</th>\n",
       "      <td id=\"T_47b79_row3_col0\" class=\"data row3 col0\" >0.000000</td>\n",
       "    </tr>\n",
       "    <tr>\n",
       "      <th id=\"T_47b79_level0_row4\" class=\"row_heading level0 row4\" >product</th>\n",
       "      <td id=\"T_47b79_row4_col0\" class=\"data row4 col0\" >0.000000</td>\n",
       "    </tr>\n",
       "  </tbody>\n",
       "</table>\n"
      ],
      "text/plain": [
       "<pandas.io.formats.style.Styler at 0x7fe19f3f51f0>"
      ]
     },
     "metadata": {},
     "output_type": "display_data"
    },
    {
     "name": "stdout",
     "output_type": "stream",
     "text": [
      "Регион 2\n"
     ]
    },
    {
     "data": {
      "text/html": [
       "<style type=\"text/css\">\n",
       "#T_7eee4_row0_col0, #T_7eee4_row1_col0, #T_7eee4_row2_col0, #T_7eee4_row3_col0, #T_7eee4_row4_col0 {\n",
       "  background-color: #3b4cc0;\n",
       "  color: #f1f1f1;\n",
       "}\n",
       "</style>\n",
       "<table id=\"T_7eee4\">\n",
       "  <thead>\n",
       "    <tr>\n",
       "      <th class=\"blank level0\" >&nbsp;</th>\n",
       "      <th id=\"T_7eee4_level0_col0\" class=\"col_heading level0 col0\" >0</th>\n",
       "    </tr>\n",
       "  </thead>\n",
       "  <tbody>\n",
       "    <tr>\n",
       "      <th id=\"T_7eee4_level0_row0\" class=\"row_heading level0 row0\" >id</th>\n",
       "      <td id=\"T_7eee4_row0_col0\" class=\"data row0 col0\" >0.000000</td>\n",
       "    </tr>\n",
       "    <tr>\n",
       "      <th id=\"T_7eee4_level0_row1\" class=\"row_heading level0 row1\" >f0</th>\n",
       "      <td id=\"T_7eee4_row1_col0\" class=\"data row1 col0\" >0.000000</td>\n",
       "    </tr>\n",
       "    <tr>\n",
       "      <th id=\"T_7eee4_level0_row2\" class=\"row_heading level0 row2\" >f1</th>\n",
       "      <td id=\"T_7eee4_row2_col0\" class=\"data row2 col0\" >0.000000</td>\n",
       "    </tr>\n",
       "    <tr>\n",
       "      <th id=\"T_7eee4_level0_row3\" class=\"row_heading level0 row3\" >f2</th>\n",
       "      <td id=\"T_7eee4_row3_col0\" class=\"data row3 col0\" >0.000000</td>\n",
       "    </tr>\n",
       "    <tr>\n",
       "      <th id=\"T_7eee4_level0_row4\" class=\"row_heading level0 row4\" >product</th>\n",
       "      <td id=\"T_7eee4_row4_col0\" class=\"data row4 col0\" >0.000000</td>\n",
       "    </tr>\n",
       "  </tbody>\n",
       "</table>\n"
      ],
      "text/plain": [
       "<pandas.io.formats.style.Styler at 0x7fe19f3e65e0>"
      ]
     },
     "metadata": {},
     "output_type": "display_data"
    }
   ],
   "source": [
    "# проверим количество пропусков в процентах в каждой таблице\n",
    "print('Регион 0')\n",
    "display(pd.DataFrame(round(data0.isna().mean() * 100,)).style.background_gradient('coolwarm'))\n",
    "\n",
    "print('Регион 1')\n",
    "display(pd.DataFrame(round(data1.isna().mean() * 100,)).style.background_gradient('coolwarm'))\n",
    "\n",
    "print('Регион 2')\n",
    "display(pd.DataFrame(round(data2.isna().mean() * 100,)).style.background_gradient('coolwarm'))"
   ]
  },
  {
   "cell_type": "markdown",
   "id": "02f01d22",
   "metadata": {},
   "source": [
    "### Обработка дубликатов"
   ]
  },
  {
   "cell_type": "code",
   "execution_count": 6,
   "id": "90b69500",
   "metadata": {
    "scrolled": true
   },
   "outputs": [
    {
     "name": "stdout",
     "output_type": "stream",
     "text": [
      "Регион 0: 0\n",
      "Регион 1: 0\n",
      "Регион 2: 0\n"
     ]
    }
   ],
   "source": [
    "# проверим наличие полных дубликатов\n",
    "print('Регион 0:', data0.duplicated().sum())\n",
    "print('Регион 1:', data1.duplicated().sum())\n",
    "print('Регион 2:', data2.duplicated().sum())"
   ]
  },
  {
   "cell_type": "code",
   "execution_count": 7,
   "id": "74a9d5b0",
   "metadata": {},
   "outputs": [
    {
     "name": "stdout",
     "output_type": "stream",
     "text": [
      "Регион 0: 10\n",
      "Регион 1: 4\n",
      "Регион 2: 4\n"
     ]
    }
   ],
   "source": [
    "# проверим наличие дубликатов по id месторождений\n",
    "print('Регион 0:', data0['id'].duplicated().sum())\n",
    "print('Регион 1:', data1['id'].duplicated().sum())\n",
    "print('Регион 2:', data2['id'].duplicated().sum())"
   ]
  },
  {
   "cell_type": "markdown",
   "id": "b033ac8f",
   "metadata": {},
   "source": [
    "В каждой из таблиц есть несколько дубликатов по ID месторождения. Удалим во всех таблицах дубликаты, поскольку мы не знаем, какое из появлений ID в таблице является корректным."
   ]
  },
  {
   "cell_type": "code",
   "execution_count": 8,
   "id": "1e7fd6b9",
   "metadata": {},
   "outputs": [],
   "source": [
    "def delete_duplicated_ids(data):\n",
    "    data.drop_duplicates(subset='id', keep=False, inplace=True)\n",
    "    check = (data['id'].duplicated().sum() == 0)\n",
    "    if check == True:\n",
    "        return f'Все дубликаты удалены, осталось {data.shape[0]} строк'\n",
    "    if check == False:\n",
    "        return f'В таблице остались дубликаты'"
   ]
  },
  {
   "cell_type": "code",
   "execution_count": 9,
   "id": "e978de75",
   "metadata": {},
   "outputs": [
    {
     "name": "stdout",
     "output_type": "stream",
     "text": [
      "Все дубликаты удалены, осталось 99980 строк\n",
      "Все дубликаты удалены, осталось 99992 строк\n",
      "Все дубликаты удалены, осталось 99992 строк\n"
     ]
    }
   ],
   "source": [
    "print(delete_duplicated_ids(data0))\n",
    "print(delete_duplicated_ids(data1))\n",
    "print(delete_duplicated_ids(data2))"
   ]
  },
  {
   "cell_type": "markdown",
   "id": "fb556083",
   "metadata": {},
   "source": [
    "Теперь все дубликаты удалены."
   ]
  },
  {
   "cell_type": "markdown",
   "id": "9bf94141",
   "metadata": {},
   "source": [
    "### Анализ мультиколлинеарности"
   ]
  },
  {
   "cell_type": "markdown",
   "id": "ac21c7f2",
   "metadata": {},
   "source": [
    "Посмотрим на мультиколлинеарность факторов:"
   ]
  },
  {
   "cell_type": "code",
   "execution_count": 10,
   "id": "b6b3311e",
   "metadata": {
    "scrolled": false
   },
   "outputs": [
    {
     "data": {
      "image/png": "[encoded data removed]",
      "text/plain": [
       "<Figure size 640x480 with 2 Axes>"
      ]
     },
     "metadata": {},
     "output_type": "display_data"
    }
   ],
   "source": [
    "sns.heatmap(data0.corr(), vmin=-1, vmax=+1, annot=True, cmap='coolwarm');"
   ]
  },
  {
   "cell_type": "markdown",
   "id": "7ab90b87",
   "metadata": {},
   "source": [
    "В регионе 0 между f0 и f1 наблюдается небольшая мультиколлинеарность (ок. -0.44), но в целом не очень критично."
   ]
  },
  {
   "cell_type": "code",
   "execution_count": 11,
   "id": "d8482292",
   "metadata": {},
   "outputs": [
    {
     "data": {
      "image/png": "[encoded data removed]",
      "text/plain": [
       "<Figure size 640x480 with 2 Axes>"
      ]
     },
     "metadata": {},
     "output_type": "display_data"
    }
   ],
   "source": [
    "sns.heatmap(data1.corr(), vmin=-1, vmax=+1, annot=True, cmap='coolwarm');"
   ]
  },
  {
   "cell_type": "markdown",
   "id": "4159b08c",
   "metadata": {},
   "source": [
    "В регионе 1 между f2 и product наблюдается высокая корреляция, что говорит о том, что вероятнее всего модель для региона 2 будет иметь высокую точность предсказания."
   ]
  },
  {
   "cell_type": "code",
   "execution_count": 12,
   "id": "f68d2ed5",
   "metadata": {},
   "outputs": [
    {
     "data": {
      "image/png": "[encoded data removed]",
      "text/plain": [
       "<Figure size 640x480 with 2 Axes>"
      ]
     },
     "metadata": {},
     "output_type": "display_data"
    }
   ],
   "source": [
    "sns.heatmap(data2.corr(), vmin=-1, vmax=+1, annot=True, cmap='coolwarm');"
   ]
  },
  {
   "cell_type": "markdown",
   "id": "a2752175",
   "metadata": {},
   "source": [
    "В регионе 2 корреляция между признаками практически нулевая, все ок."
   ]
  },
  {
   "cell_type": "code",
   "execution_count": 13,
   "id": "0effcd63",
   "metadata": {},
   "outputs": [
    {
     "data": {
      "image/png": "[encoded data removed]",
      "text/plain": [
       "<Figure size 700x400 with 4 Axes>"
      ]
     },
     "metadata": {},
     "output_type": "display_data"
    }
   ],
   "source": [
    "# построим общую гистограмму для всех столбцов таблиц\n",
    "data0.hist(figsize=(7, 4));"
   ]
  },
  {
   "cell_type": "code",
   "execution_count": 14,
   "id": "c3529710",
   "metadata": {},
   "outputs": [
    {
     "data": {
      "image/png": "[encoded data removed]",
      "text/plain": [
       "<Figure size 700x400 with 4 Axes>"
      ]
     },
     "metadata": {},
     "output_type": "display_data"
    }
   ],
   "source": [
    "# построим общую гистограмму для всех столбцов таблиц\n",
    "data1.hist(figsize=(7, 4));"
   ]
  },
  {
   "cell_type": "code",
   "execution_count": 15,
   "id": "e90f3547",
   "metadata": {},
   "outputs": [
    {
     "data": {
      "image/png": "[encoded data removed]",
      "text/plain": [
       "<Figure size 700x400 with 4 Axes>"
      ]
     },
     "metadata": {},
     "output_type": "display_data"
    }
   ],
   "source": [
    "# построим общую гистограмму для всех столбцов таблиц\n",
    "data2.hist(figsize=(7, 4));"
   ]
  },
  {
   "cell_type": "markdown",
   "id": "0f5ecf47",
   "metadata": {},
   "source": [
    "**Вывод**: <br/>\n",
    "Мы загрузили таблицы с исходными данными, удалили дубликаты по ID месторождения. Все форматы данных были импортированы корректно. Мы также проверили признаки в регионах на наличие мультиколлинеарности, но ничего критичного не нашли. <br/>\n",
    "С этими данными можно работать дальше и строить модели."
   ]
  },
  {
   "cell_type": "markdown",
   "id": "5b118aed",
   "metadata": {},
   "source": [
    "## Обучение и проверка модели"
   ]
  },
  {
   "cell_type": "markdown",
   "id": "4688ac92",
   "metadata": {},
   "source": [
    "### Разбиение выборки на обучающую и валидационную"
   ]
  },
  {
   "cell_type": "code",
   "execution_count": 16,
   "id": "5d75609e",
   "metadata": {},
   "outputs": [],
   "source": [
    "# добавим random_state для всех будущих моделей\n",
    "RANDOM_STATE = 12345"
   ]
  },
  {
   "cell_type": "code",
   "execution_count": 17,
   "id": "97a9ae05",
   "metadata": {},
   "outputs": [],
   "source": [
    "# создадим функцию для выделения таргета и признаков\n",
    "\n",
    "def features_and_target(data):\n",
    "    features = data.drop(labels=['id', 'product'], axis=1)\n",
    "    target = data['product']\n",
    "    return features, target"
   ]
  },
  {
   "cell_type": "markdown",
   "id": "8fdf1e9e",
   "metadata": {},
   "source": [
    "Выделим обучающую и валидационные выборки для каждой из исходных таблицы."
   ]
  },
  {
   "cell_type": "code",
   "execution_count": 18,
   "id": "d9ff5348",
   "metadata": {},
   "outputs": [],
   "source": [
    "# для региона 0\n",
    "features0, target0 = features_and_target(data0)\n",
    "features_train0, features_valid0, target_train0, target_valid0 = train_test_split(features0, \n",
    "                                                                                  target0, \n",
    "                                                                                  test_size=.25, \n",
    "                                                                                  random_state=RANDOM_STATE)\n",
    "\n",
    "# для региона 1\n",
    "features1, target1 = features_and_target(data1)\n",
    "features_train1, features_valid1, target_train1, target_valid1 = train_test_split(features1, \n",
    "                                                                                  target1, \n",
    "                                                                                  test_size=.25, \n",
    "                                                                                  random_state=RANDOM_STATE)\n",
    "\n",
    "# для региона 2\n",
    "features2, target2 = features_and_target(data2)\n",
    "features_train2, features_valid2, target_train2, target_valid2 = train_test_split(features2, \n",
    "                                                                                  target2, \n",
    "                                                                                  test_size=.25, \n",
    "                                                                                  random_state=RANDOM_STATE)"
   ]
  },
  {
   "cell_type": "markdown",
   "id": "26da4459",
   "metadata": {},
   "source": [
    "Проверим, что разбиение произведено верно:"
   ]
  },
  {
   "cell_type": "code",
   "execution_count": 19,
   "id": "a282ea46",
   "metadata": {},
   "outputs": [
    {
     "name": "stdout",
     "output_type": "stream",
     "text": [
      "Для региона 0:\n",
      "(74985, 3) (74985,) (24995, 3) (24995,)\n",
      "Для региона 1:\n",
      "(74994, 3) (74994,) (24998, 3) (24998,)\n",
      "Для региона 2:\n",
      "(74994, 3) (74994,) (24998, 3) (24998,)\n"
     ]
    }
   ],
   "source": [
    "print('Для региона 0:')\n",
    "print(features_train0.shape, target_train0.shape, features_valid0.shape, target_valid0.shape)\n",
    "print('Для региона 1:')\n",
    "print(features_train1.shape, target_train1.shape, features_valid1.shape, target_valid1.shape)\n",
    "print('Для региона 2:')\n",
    "print(features_train2.shape, target_train2.shape, features_valid2.shape, target_valid2.shape)"
   ]
  },
  {
   "cell_type": "markdown",
   "id": "78c84652",
   "metadata": {},
   "source": [
    "Разбиение произведено корректно.\n",
    "\n",
    "\n",
    "Заметим, что представленные хоть и распределены около нуля, но данные имеют разный масштаб. Это говорит о том, что в целях дальнейшей работы с ними желательно масштабировать данные, чтобы переменные воспринимались как одинаково важные."
   ]
  },
  {
   "cell_type": "code",
   "execution_count": 20,
   "id": "0ebcec1e",
   "metadata": {},
   "outputs": [],
   "source": [
    "scaler = StandardScaler()\n",
    "numeric = ['f0', 'f1', 'f2']"
   ]
  },
  {
   "cell_type": "code",
   "execution_count": 21,
   "id": "bb99a8fc",
   "metadata": {},
   "outputs": [],
   "source": [
    "# для региона 0\n",
    "scaler.fit(features_train0[numeric])\n",
    "features_train0[numeric] = scaler.transform(features_train0[numeric])\n",
    "features_valid0[numeric] = scaler.transform(features_valid0[numeric])\n",
    "\n",
    "# для региона 1\n",
    "scaler.fit(features_train1[numeric])\n",
    "features_train1[numeric] = scaler.transform(features_train1[numeric])\n",
    "features_valid1[numeric] = scaler.transform(features_valid1[numeric])\n",
    "\n",
    "# для региона 2\n",
    "scaler.fit(features_train2[numeric])\n",
    "features_train2[numeric] = scaler.transform(features_train2[numeric])\n",
    "features_valid2[numeric] = scaler.transform(features_valid2[numeric])"
   ]
  },
  {
   "cell_type": "markdown",
   "id": "0c851370",
   "metadata": {},
   "source": [
    "### Обучение моделей"
   ]
  },
  {
   "cell_type": "markdown",
   "id": "84e4700d",
   "metadata": {},
   "source": [
    "Будем моделировать линейную регрессию для каждого региона."
   ]
  },
  {
   "cell_type": "code",
   "execution_count": 22,
   "id": "26bb197d",
   "metadata": {},
   "outputs": [],
   "source": [
    "model = LinearRegression()\n",
    "def linear_regression(features_train, features_valid, target_train, target_valid):\n",
    "    model.fit(features_train, target_train)\n",
    "    predicted_valid = model.predict(features_valid)\n",
    "    rmse = mean_squared_error(predicted_valid, target_valid, squared=False)\n",
    "    return rmse, predicted_valid"
   ]
  },
  {
   "cell_type": "code",
   "execution_count": 23,
   "id": "069720e0",
   "metadata": {},
   "outputs": [
    {
     "name": "stdout",
     "output_type": "stream",
     "text": [
      "Регион 0:\n",
      "RMSE = 37.72\n",
      "Средний запас предсказанного сырья: 92.42\n"
     ]
    }
   ],
   "source": [
    "# для региона 0\n",
    "rmse0, predicted_valid0 = linear_regression(features_train0, features_valid0, target_train0, target_valid0)\n",
    "print('Регион 0:')\n",
    "print(f'RMSE = {rmse0:.2f}')\n",
    "print(f'Средний запас предсказанного сырья: {predicted_valid0.mean():.2f}')"
   ]
  },
  {
   "cell_type": "code",
   "execution_count": 24,
   "id": "c68147ee",
   "metadata": {},
   "outputs": [
    {
     "name": "stdout",
     "output_type": "stream",
     "text": [
      "Регион 1:\n",
      "RMSE = 0.89\n",
      "Средний запас предсказанного сырья: 68.98\n"
     ]
    }
   ],
   "source": [
    "# для региона 1\n",
    "rmse1, predicted_valid1 = linear_regression(features_train1, features_valid1, target_train1, target_valid1)\n",
    "print('Регион 1:')\n",
    "print(f'RMSE = {rmse1:.2f}')\n",
    "print(f'Средний запас предсказанного сырья: {predicted_valid1.mean():.2f}')"
   ]
  },
  {
   "cell_type": "code",
   "execution_count": 25,
   "id": "4b6a3c4e",
   "metadata": {},
   "outputs": [
    {
     "name": "stdout",
     "output_type": "stream",
     "text": [
      "Регион 2:\n",
      "RMSE = 39.98\n",
      "Средний запас предсказанного сырья: 95.12\n"
     ]
    }
   ],
   "source": [
    "# для региона 2\n",
    "rmse2, predicted_valid2 = linear_regression(features_train2, features_valid2, target_train2, target_valid2)\n",
    "\n",
    "print('Регион 2:')\n",
    "print(f'RMSE = {rmse2:.2f}')\n",
    "print(f'Средний запас предсказанного сырья: {predicted_valid2.mean():.2f}')"
   ]
  },
  {
   "cell_type": "markdown",
   "id": "a6e622f1",
   "metadata": {},
   "source": [
    "**Вывод:** \n",
    "\n",
    "Мы обучили модели по каждому из трех регионов на линейной регрессии. Наиболее точный прогноз получился для региона 1, как и ожидалось ранее после анализа корреляции между признаками.\n",
    "Наибольший средний запас предсказанного сырья дает регион 2, следом идет регион 0 (разница небольшая), наименьший средний запас сырья дает регион 1, однако здесь прогноз куда более точен."
   ]
  },
  {
   "cell_type": "markdown",
   "id": "25b2c7a5",
   "metadata": {},
   "source": [
    "## Расчёт прибыли и рисков "
   ]
  },
  {
   "cell_type": "markdown",
   "id": "20c06b79",
   "metadata": {},
   "source": [
    "### Подготовка к расчёту прибыли"
   ]
  },
  {
   "cell_type": "markdown",
   "id": "999ac59c",
   "metadata": {},
   "source": [
    "В дальнейшем нам необходимо будет учитывать следующее:\n",
    "- При разведке региона исследуют 500 точек, из которых с помощью машинного обучения выбирают 200 лучших для разработки.\n",
    "- Бюджет на разработку скважин в регионе — 10 млрд рублей.\n",
    "- При нынешних ценах один баррель сырья приносит 450 рублей дохода. Доход с каждой единицы продукта составляет 450 тыс. рублей, поскольку объём указан в тысячах баррелей.\n",
    "- После оценки рисков нужно оставить лишь те регионы, в которых вероятность убытков меньше 2.5%. Среди них выбирают регион с наибольшей средней прибылью."
   ]
  },
  {
   "cell_type": "code",
   "execution_count": 26,
   "id": "ee1bef1c",
   "metadata": {},
   "outputs": [],
   "source": [
    "# количество исследуемых скважин\n",
    "RESEARCHED = 500\n",
    "\n",
    "# количество выбираемых скважин для разработки\n",
    "CHOSEN = 200\n",
    "\n",
    "# бюджет\n",
    "BUDGET = 10e9\n",
    "\n",
    "# доход с 1 тыс. баррелей\n",
    "REVENUE = 450_000\n",
    "\n",
    "# пороговая вероятность убытков\n",
    "THRESHOLD = .025"
   ]
  },
  {
   "cell_type": "markdown",
   "id": "00e88df2",
   "metadata": {},
   "source": [
    "Рассчитаем достаточный объем сырья для безубыточной разработки новой скважины.\n",
    "\n",
    "Точка безубыточности ($x$) - объем сырья с одной точки, при добыче которого доходы равны расходам.<br/>\n",
    "Доходы: $REVENUE * x * CHOSEN $ <br/>\n",
    "Будем считать, что весь бюджет, выделенный на разработку скважин в регионе, является расходом, следовательно расходы – $BUDGET$ <br/>\n",
    "\n",
    "Из этого получаем расчет точки безубыточности:\n",
    "$REVENUE * x * CHOSEN = BUDGET \\longrightarrow $\n",
    "$ x = \\frac{BUDGET}{REVENUE * CHOSEN}$"
   ]
  },
  {
   "cell_type": "code",
   "execution_count": 27,
   "id": "a394ac55",
   "metadata": {},
   "outputs": [
    {
     "data": {
      "text/plain": [
       "111.11111111111111"
      ]
     },
     "execution_count": 27,
     "metadata": {},
     "output_type": "execute_result"
    }
   ],
   "source": [
    "# точка безубыточности (Break-Even Point, BEP)\n",
    "BEP = BUDGET / (REVENUE * CHOSEN)\n",
    "BEP"
   ]
  },
  {
   "cell_type": "markdown",
   "id": "5e4d7849",
   "metadata": {},
   "source": [
    "Таким образом, при добыче не менее 111.11 тыс. баррелей с скважины, разработка новой точки будет являться безубыточной.\n",
    "Данный объем превышает средний запас предсказанного сырья во всех трех регионах."
   ]
  },
  {
   "cell_type": "markdown",
   "id": "a24e6e16",
   "metadata": {},
   "source": [
    "### Расчет рисков и прибыли для каждого региона"
   ]
  },
  {
   "cell_type": "code",
   "execution_count": 28,
   "id": "1e355b67",
   "metadata": {},
   "outputs": [],
   "source": [
    "# зададим функцию, которая будет рассчитывать прибыль\n",
    "def profit(target, predicted):\n",
    "    predicted_sorted = predicted.sort_values(ascending=False)\n",
    "    selected = target[predicted_sorted.index][:CHOSEN]\n",
    "    return REVENUE * selected.sum() - BUDGET"
   ]
  },
  {
   "cell_type": "markdown",
   "id": "779216da",
   "metadata": {},
   "source": [
    "До бутстрепа выберем скважины с максимальными значениями предсказаний, просуммируем целевое значение объёма сырья, соответствующее этим предсказаниям, и рассчитаем прибыль для полученного объема сырья./"
   ]
  },
  {
   "cell_type": "code",
   "execution_count": 29,
   "id": "01d4fe64",
   "metadata": {},
   "outputs": [
    {
     "name": "stdout",
     "output_type": "stream",
     "text": [
      "Для региона 0: 3136026057\n",
      "Для региона 1: 2415086697\n",
      "Для региона 2: 2465945792\n"
     ]
    }
   ],
   "source": [
    "target_valid0 = target_valid0.reset_index(drop=True)\n",
    "predicted_valid0 = pd.Series(predicted_valid0).reset_index(drop=True)\n",
    "print(f'Для региона 0: {profit(target_valid0, predicted_valid0):.0f}')\n",
    "\n",
    "target_valid1 = target_valid1.reset_index(drop=True)\n",
    "predicted_valid1 = pd.Series(predicted_valid1).reset_index(drop=True)\n",
    "print(f'Для региона 1: {profit(target_valid1, predicted_valid1):.0f}')\n",
    "\n",
    "target_valid2 = target_valid2.reset_index(drop=True)\n",
    "predicted_valid2 = pd.Series(predicted_valid2).reset_index(drop=True)\n",
    "print(f'Для региона 2: {profit(target_valid2, predicted_valid2):.0f}')"
   ]
  },
  {
   "cell_type": "markdown",
   "id": "c0c9b51d",
   "metadata": {},
   "source": [
    "До бутстрепа наиболее прибыльным является регион 0. Посмотрим, что будет после проведения бутстрепа. "
   ]
  },
  {
   "cell_type": "code",
   "execution_count": 30,
   "id": "a7336828",
   "metadata": {},
   "outputs": [],
   "source": [
    "STATE = np.random.RandomState(12345)"
   ]
  },
  {
   "cell_type": "code",
   "execution_count": 31,
   "id": "23679a7d",
   "metadata": {},
   "outputs": [],
   "source": [
    "def region_analysis(target, predicted):\n",
    "    \n",
    "    # сбросим индексы\n",
    "    target = target.reset_index(drop=True)\n",
    "    predicted = pd.Series(predicted).reset_index(drop=True)\n",
    "    # применим технику Bootstrap с 1000 выборок, чтобы найти распределение прибыли\n",
    "    profits = []\n",
    "    for i in range(1000):\n",
    "        target_subsample = target.sample(n=RESEARCHED, replace=True, random_state=STATE)\n",
    "        predicted_subsample = predicted[target_subsample.index]\n",
    "        profits.append(profit(target_subsample, predicted_subsample))\n",
    "\n",
    "    profits = pd.Series(profits)\n",
    "    \n",
    "    # найдем среднюю прибыль\n",
    "    mean_profit = profits.mean()\n",
    "    \n",
    "    # найдем 95%-й доверительный интервал\n",
    "    lower = profits.quantile(0.025)\n",
    "    upper = profits.quantile(0.975)\n",
    "    \n",
    "    # найдем риск убытков\n",
    "    loss_risk = (profits < 0).mean()\n",
    "    \n",
    "    print(f'Средняя прибыль: {mean_profit:.0f}')\n",
    "    print(f'95%-й доверительный интервал: ({lower:.0f}, {upper:.0f})')\n",
    "    print(f'Риск убытков: {loss_risk:.2%}')\n",
    "    if loss_risk > THRESHOLD:\n",
    "        print('Необходимо исключить регион из рассмотрения из-за риска выше порога.')"
   ]
  },
  {
   "cell_type": "code",
   "execution_count": 32,
   "id": "428e2a8b",
   "metadata": {},
   "outputs": [
    {
     "name": "stdout",
     "output_type": "stream",
     "text": [
      "Средняя прибыль: 459085613\n",
      "95%-й доверительный интервал: (-90234067, 987953883)\n",
      "Риск убытков: 4.70%\n",
      "Необходимо исключить регион из рассмотрения из-за риска выше порога.\n"
     ]
    }
   ],
   "source": [
    "# для региона 0\n",
    "region_analysis(target_valid0, predicted_valid0)"
   ]
  },
  {
   "cell_type": "code",
   "execution_count": 33,
   "id": "fac481e5",
   "metadata": {},
   "outputs": [
    {
     "name": "stdout",
     "output_type": "stream",
     "text": [
      "Средняя прибыль: 523579383\n",
      "95%-й доверительный интервал: (133791191, 961450161)\n",
      "Риск убытков: 0.60%\n"
     ]
    }
   ],
   "source": [
    "# для региона 1\n",
    "region_analysis(target_valid1, predicted_valid1)"
   ]
  },
  {
   "cell_type": "code",
   "execution_count": 34,
   "id": "d4eaa7bd",
   "metadata": {},
   "outputs": [
    {
     "name": "stdout",
     "output_type": "stream",
     "text": [
      "Средняя прибыль: 341472005\n",
      "95%-й доверительный интервал: (-198355934, 852708581)\n",
      "Риск убытков: 11.60%\n",
      "Необходимо исключить регион из рассмотрения из-за риска выше порога.\n"
     ]
    }
   ],
   "source": [
    "# для региона 2\n",
    "region_analysis(target_valid2, predicted_valid2)"
   ]
  },
  {
   "cell_type": "markdown",
   "id": "5865c15d",
   "metadata": {},
   "source": [
    "**Вывод:** <br/>\n",
    "Исходя из расчета рисков для каждого региона, мы видим, что для регионов 0 и 2 риски достаточно высоки, а доверительный интервал и вовсе левой границей меньше нуля. Данные регионы исключаются из рассмотрения, так как уровень риска выше порогового.\n",
    "Наибольшая средняя прибыль выходит в регионе 1, там же риски убытков наименьшие, из чего следует, что разрабатывать следует именнно этот регион."
   ]
  },
  {
   "cell_type": "markdown",
   "id": "f851655c",
   "metadata": {},
   "source": [
    "## Общий вывод по проекту"
   ]
  },
  {
   "cell_type": "markdown",
   "id": "7d5f7b38",
   "metadata": {},
   "source": [
    "В ходе работы над данным проектом мы определяли, какой из трех рассматриваемых добывающей компанией регионов следует разрабатывать.\n",
    "\n",
    "Для решения данной задачи мы выполнили следующее:\n",
    "1. Получили исходные данные, первично обработали их, избавились от дубликатов.\n",
    "1. Разбили данные на обучающую и валидационную выборку.\n",
    "1. Обучили модели на линейной регрессии и спрогнозировали новые значения.\n",
    "1. Расчитали потенциальные прибыли и учли возможные риски.\n",
    "\n",
    "Мы пришли к следующим выводам:\n",
    "- В ходе обучения моделей на линейной регрессии наиболее точный прогноз получился для региона 1, как и ожидалось ранее после анализа корреляции между признаками, когда была обнаружена высокая корреляция между признаком `f2` и целевым признаком `product`.\n",
    "- Наибольший средний запас предсказанного сырья получился в регионе 2, в то время как наименьший – в регионе 1.\n",
    "- Анализ рисков и прибыли показал, что наибольшая прибыль может быть получена из региона 1, при этом риски в регионе 1 будут наименьшими и доверительный интервал прибыли будет так же положителен.\n",
    "- Доверительный интервал для регионов 0 и 2 показывает, что истинное значение средней прибыли может быть отрицательным. \n",
    "- Вследствие превышения риска убытков в регионах 0 и 2 над пороговым значением, данные регионы исключаются из рассмотрения.\n",
    "\n",
    "Исходя из всего вышесказанного, рекомендуется разрабатывать регион 1, поскольку ожидается, что это будет наименее рисково и наиболее прибыльно."
   ]
  }
 ],
 "metadata": {
  "kernelspec": {
   "display_name": "Python 3 (ipykernel)",
   "language": "python",
   "name": "python3"
  },
  "language_info": {
   "codemirror_mode": {
    "name": "ipython",
    "version": 3
   },
   "file_extension": ".py",
   "mimetype": "text/x-python",
   "name": "python",
   "nbconvert_exporter": "python",
   "pygments_lexer": "ipython3",
   "version": "3.9.5"
  },
  "toc": {
   "base_numbering": 1,
   "nav_menu": {},
   "number_sections": true,
   "sideBar": true,
   "skip_h1_title": true,
   "title_cell": "Table of Contents",
   "title_sidebar": "Contents",
   "toc_cell": true,
   "toc_position": {
    "height": "calc(100% - 180px)",
    "left": "10px",
    "top": "150px",
    "width": "288px"
   },
   "toc_section_display": true,
   "toc_window_display": false
  }
 },
 "nbformat": 4,
 "nbformat_minor": 5
}
