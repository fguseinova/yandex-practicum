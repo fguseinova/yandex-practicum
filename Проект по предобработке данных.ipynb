{
 "cells": [
  {
   "cell_type": "markdown",
   "id": "66fb9774",
   "metadata": {
    "deletable": false,
    "editable": false,
    "id": "c81daeeb"
   },
   "source": [
    "# Исследование надежности заемщиков\n"
   ]
  },
  {
   "cell_type": "markdown",
   "id": "00b8abe0",
   "metadata": {},
   "source": [
    "**Описание проекта** \n",
    "\n",
    "Заказчик — кредитный отдел банка. Нужно разобраться, влияет ли семейное положение и количество детей клиента на факт погашения кредита в срок. Входные данные от банка — статистика о платёжеспособности клиентов.\n",
    "\n",
    "Результаты исследования будут учтены при построении модели кредитного скоринга — специальной системы, которая оценивает способность потенциального заёмщика вернуть кредит банку.\n",
    "\n",
    "**Описание данных**\n",
    "* `children` — количество детей в семье\n",
    "* `days_employed` — общий трудовой стаж в днях\n",
    "* `dob_years` — возраст клиента в годах\n",
    "* `education` — уровень образования клиента\n",
    "* `education_id` — идентификатор уровня образования\n",
    "* `family_status` — семейное положение\n",
    "* `family_status_id` — идентификатор семейного положения\n",
    "* `gender` — пол клиента\n",
    "* `income_type` — тип занятости\n",
    "* `debt` — имел ли задолженность по возврату кредитов\n",
    "* `total_income` — ежемесячный доход\n",
    "* `purpose` — цель получения кредита"
   ]
  },
  {
   "cell_type": "markdown",
   "id": "3b804de1",
   "metadata": {},
   "source": [
    "**План работы:**\n",
    "\n",
    "1. Первичное изучение исходного датасета.\n",
    "2. Предобработка данных:\n",
    "    Обработка пропусков в данных.\n",
    "    Обработка аномальных значений. \n",
    "    Обработка некорректных типов данных.\n",
    "    Обработка дубликатов.\n",
    "    Категоризация данных по разным признакам.\n",
    "3. Исследование данных:\n",
    "    Поиск факторов, влияющих на возврат кредита в срок.\n",
    "    Исследование причин появления пропусков в данных.\n",
    "4. Формирование общего вывода по работе."
   ]
  },
  {
   "cell_type": "markdown",
   "id": "ccd4fb2f",
   "metadata": {
    "deletable": false,
    "editable": false,
    "id": "744d7639"
   },
   "source": [
    "## Откройте таблицу и изучите общую информацию о данных"
   ]
  },
  {
   "cell_type": "markdown",
   "id": "ed3e20f5",
   "metadata": {
    "deletable": false,
    "editable": false,
    "id": "e7a14c31"
   },
   "source": [
    "**Задание 1. Импортируйте библиотеку pandas. Считайте данные из csv-файла в датафрейм и сохраните в переменную `data`. Путь к файлу:**\n",
    "\n",
    "`/datasets/data.csv`"
   ]
  },
  {
   "cell_type": "code",
   "execution_count": 1,
   "id": "7f535564",
   "metadata": {
    "deletable": false,
    "id": "7bcf75c9"
   },
   "outputs": [],
   "source": [
    "import pandas as pd\n",
    "\n",
    "try:\n",
    "    data = pd.read_csv('/datasets/data.csv')\n",
    "except:\n",
    "    # здесь была ссылка на данные с сервера Яндекс"
   ]
  },
  {
   "cell_type": "markdown",
   "id": "5421518b",
   "metadata": {
    "deletable": false,
    "editable": false,
    "id": "b8038fe3"
   },
   "source": [
    "**Задание 2. Выведите первые 20 строчек датафрейма `data` на экран.**"
   ]
  },
  {
   "cell_type": "code",
   "execution_count": 2,
   "id": "bed8b0bd",
   "metadata": {
    "deletable": false,
    "id": "2a7cab99",
    "outputId": "1a8f3ef2-d323-4ec2-ddf7-89670b5944c4"
   },
   "outputs": [
    {
     "data": {
      "text/html": [
       "<div>\n",
       "<style scoped>\n",
       "    .dataframe tbody tr th:only-of-type {\n",
       "        vertical-align: middle;\n",
       "    }\n",
       "\n",
       "    .dataframe tbody tr th {\n",
       "        vertical-align: top;\n",
       "    }\n",
       "\n",
       "    .dataframe thead th {\n",
       "        text-align: right;\n",
       "    }\n",
       "</style>\n",
       "<table border=\"1\" class=\"dataframe\">\n",
       "  <thead>\n",
       "    <tr style=\"text-align: right;\">\n",
       "      <th></th>\n",
       "      <th>children</th>\n",
       "      <th>days_employed</th>\n",
       "      <th>dob_years</th>\n",
       "      <th>education</th>\n",
       "      <th>education_id</th>\n",
       "      <th>family_status</th>\n",
       "      <th>family_status_id</th>\n",
       "      <th>gender</th>\n",
       "      <th>income_type</th>\n",
       "      <th>debt</th>\n",
       "      <th>total_income</th>\n",
       "      <th>purpose</th>\n",
       "    </tr>\n",
       "  </thead>\n",
       "  <tbody>\n",
       "    <tr>\n",
       "      <th>0</th>\n",
       "      <td>1</td>\n",
       "      <td>-8437.673028</td>\n",
       "      <td>42</td>\n",
       "      <td>высшее</td>\n",
       "      <td>0</td>\n",
       "      <td>женат / замужем</td>\n",
       "      <td>0</td>\n",
       "      <td>F</td>\n",
       "      <td>сотрудник</td>\n",
       "      <td>0</td>\n",
       "      <td>253875.639453</td>\n",
       "      <td>покупка жилья</td>\n",
       "    </tr>\n",
       "    <tr>\n",
       "      <th>1</th>\n",
       "      <td>1</td>\n",
       "      <td>-4024.803754</td>\n",
       "      <td>36</td>\n",
       "      <td>среднее</td>\n",
       "      <td>1</td>\n",
       "      <td>женат / замужем</td>\n",
       "      <td>0</td>\n",
       "      <td>F</td>\n",
       "      <td>сотрудник</td>\n",
       "      <td>0</td>\n",
       "      <td>112080.014102</td>\n",
       "      <td>приобретение автомобиля</td>\n",
       "    </tr>\n",
       "    <tr>\n",
       "      <th>2</th>\n",
       "      <td>0</td>\n",
       "      <td>-5623.422610</td>\n",
       "      <td>33</td>\n",
       "      <td>Среднее</td>\n",
       "      <td>1</td>\n",
       "      <td>женат / замужем</td>\n",
       "      <td>0</td>\n",
       "      <td>M</td>\n",
       "      <td>сотрудник</td>\n",
       "      <td>0</td>\n",
       "      <td>145885.952297</td>\n",
       "      <td>покупка жилья</td>\n",
       "    </tr>\n",
       "    <tr>\n",
       "      <th>3</th>\n",
       "      <td>3</td>\n",
       "      <td>-4124.747207</td>\n",
       "      <td>32</td>\n",
       "      <td>среднее</td>\n",
       "      <td>1</td>\n",
       "      <td>женат / замужем</td>\n",
       "      <td>0</td>\n",
       "      <td>M</td>\n",
       "      <td>сотрудник</td>\n",
       "      <td>0</td>\n",
       "      <td>267628.550329</td>\n",
       "      <td>дополнительное образование</td>\n",
       "    </tr>\n",
       "    <tr>\n",
       "      <th>4</th>\n",
       "      <td>0</td>\n",
       "      <td>340266.072047</td>\n",
       "      <td>53</td>\n",
       "      <td>среднее</td>\n",
       "      <td>1</td>\n",
       "      <td>гражданский брак</td>\n",
       "      <td>1</td>\n",
       "      <td>F</td>\n",
       "      <td>пенсионер</td>\n",
       "      <td>0</td>\n",
       "      <td>158616.077870</td>\n",
       "      <td>сыграть свадьбу</td>\n",
       "    </tr>\n",
       "    <tr>\n",
       "      <th>5</th>\n",
       "      <td>0</td>\n",
       "      <td>-926.185831</td>\n",
       "      <td>27</td>\n",
       "      <td>высшее</td>\n",
       "      <td>0</td>\n",
       "      <td>гражданский брак</td>\n",
       "      <td>1</td>\n",
       "      <td>M</td>\n",
       "      <td>компаньон</td>\n",
       "      <td>0</td>\n",
       "      <td>255763.565419</td>\n",
       "      <td>покупка жилья</td>\n",
       "    </tr>\n",
       "    <tr>\n",
       "      <th>6</th>\n",
       "      <td>0</td>\n",
       "      <td>-2879.202052</td>\n",
       "      <td>43</td>\n",
       "      <td>высшее</td>\n",
       "      <td>0</td>\n",
       "      <td>женат / замужем</td>\n",
       "      <td>0</td>\n",
       "      <td>F</td>\n",
       "      <td>компаньон</td>\n",
       "      <td>0</td>\n",
       "      <td>240525.971920</td>\n",
       "      <td>операции с жильем</td>\n",
       "    </tr>\n",
       "    <tr>\n",
       "      <th>7</th>\n",
       "      <td>0</td>\n",
       "      <td>-152.779569</td>\n",
       "      <td>50</td>\n",
       "      <td>СРЕДНЕЕ</td>\n",
       "      <td>1</td>\n",
       "      <td>женат / замужем</td>\n",
       "      <td>0</td>\n",
       "      <td>M</td>\n",
       "      <td>сотрудник</td>\n",
       "      <td>0</td>\n",
       "      <td>135823.934197</td>\n",
       "      <td>образование</td>\n",
       "    </tr>\n",
       "    <tr>\n",
       "      <th>8</th>\n",
       "      <td>2</td>\n",
       "      <td>-6929.865299</td>\n",
       "      <td>35</td>\n",
       "      <td>ВЫСШЕЕ</td>\n",
       "      <td>0</td>\n",
       "      <td>гражданский брак</td>\n",
       "      <td>1</td>\n",
       "      <td>F</td>\n",
       "      <td>сотрудник</td>\n",
       "      <td>0</td>\n",
       "      <td>95856.832424</td>\n",
       "      <td>на проведение свадьбы</td>\n",
       "    </tr>\n",
       "    <tr>\n",
       "      <th>9</th>\n",
       "      <td>0</td>\n",
       "      <td>-2188.756445</td>\n",
       "      <td>41</td>\n",
       "      <td>среднее</td>\n",
       "      <td>1</td>\n",
       "      <td>женат / замужем</td>\n",
       "      <td>0</td>\n",
       "      <td>M</td>\n",
       "      <td>сотрудник</td>\n",
       "      <td>0</td>\n",
       "      <td>144425.938277</td>\n",
       "      <td>покупка жилья для семьи</td>\n",
       "    </tr>\n",
       "    <tr>\n",
       "      <th>10</th>\n",
       "      <td>2</td>\n",
       "      <td>-4171.483647</td>\n",
       "      <td>36</td>\n",
       "      <td>высшее</td>\n",
       "      <td>0</td>\n",
       "      <td>женат / замужем</td>\n",
       "      <td>0</td>\n",
       "      <td>M</td>\n",
       "      <td>компаньон</td>\n",
       "      <td>0</td>\n",
       "      <td>113943.491460</td>\n",
       "      <td>покупка недвижимости</td>\n",
       "    </tr>\n",
       "    <tr>\n",
       "      <th>11</th>\n",
       "      <td>0</td>\n",
       "      <td>-792.701887</td>\n",
       "      <td>40</td>\n",
       "      <td>среднее</td>\n",
       "      <td>1</td>\n",
       "      <td>женат / замужем</td>\n",
       "      <td>0</td>\n",
       "      <td>F</td>\n",
       "      <td>сотрудник</td>\n",
       "      <td>0</td>\n",
       "      <td>77069.234271</td>\n",
       "      <td>покупка коммерческой недвижимости</td>\n",
       "    </tr>\n",
       "    <tr>\n",
       "      <th>12</th>\n",
       "      <td>0</td>\n",
       "      <td>NaN</td>\n",
       "      <td>65</td>\n",
       "      <td>среднее</td>\n",
       "      <td>1</td>\n",
       "      <td>гражданский брак</td>\n",
       "      <td>1</td>\n",
       "      <td>M</td>\n",
       "      <td>пенсионер</td>\n",
       "      <td>0</td>\n",
       "      <td>NaN</td>\n",
       "      <td>сыграть свадьбу</td>\n",
       "    </tr>\n",
       "    <tr>\n",
       "      <th>13</th>\n",
       "      <td>0</td>\n",
       "      <td>-1846.641941</td>\n",
       "      <td>54</td>\n",
       "      <td>неоконченное высшее</td>\n",
       "      <td>2</td>\n",
       "      <td>женат / замужем</td>\n",
       "      <td>0</td>\n",
       "      <td>F</td>\n",
       "      <td>сотрудник</td>\n",
       "      <td>0</td>\n",
       "      <td>130458.228857</td>\n",
       "      <td>приобретение автомобиля</td>\n",
       "    </tr>\n",
       "    <tr>\n",
       "      <th>14</th>\n",
       "      <td>0</td>\n",
       "      <td>-1844.956182</td>\n",
       "      <td>56</td>\n",
       "      <td>высшее</td>\n",
       "      <td>0</td>\n",
       "      <td>гражданский брак</td>\n",
       "      <td>1</td>\n",
       "      <td>F</td>\n",
       "      <td>компаньон</td>\n",
       "      <td>1</td>\n",
       "      <td>165127.911772</td>\n",
       "      <td>покупка жилой недвижимости</td>\n",
       "    </tr>\n",
       "    <tr>\n",
       "      <th>15</th>\n",
       "      <td>1</td>\n",
       "      <td>-972.364419</td>\n",
       "      <td>26</td>\n",
       "      <td>среднее</td>\n",
       "      <td>1</td>\n",
       "      <td>женат / замужем</td>\n",
       "      <td>0</td>\n",
       "      <td>F</td>\n",
       "      <td>сотрудник</td>\n",
       "      <td>0</td>\n",
       "      <td>116820.904450</td>\n",
       "      <td>строительство собственной недвижимости</td>\n",
       "    </tr>\n",
       "    <tr>\n",
       "      <th>16</th>\n",
       "      <td>0</td>\n",
       "      <td>-1719.934226</td>\n",
       "      <td>35</td>\n",
       "      <td>среднее</td>\n",
       "      <td>1</td>\n",
       "      <td>женат / замужем</td>\n",
       "      <td>0</td>\n",
       "      <td>F</td>\n",
       "      <td>сотрудник</td>\n",
       "      <td>0</td>\n",
       "      <td>289202.704229</td>\n",
       "      <td>недвижимость</td>\n",
       "    </tr>\n",
       "    <tr>\n",
       "      <th>17</th>\n",
       "      <td>0</td>\n",
       "      <td>-2369.999720</td>\n",
       "      <td>33</td>\n",
       "      <td>высшее</td>\n",
       "      <td>0</td>\n",
       "      <td>гражданский брак</td>\n",
       "      <td>1</td>\n",
       "      <td>M</td>\n",
       "      <td>сотрудник</td>\n",
       "      <td>0</td>\n",
       "      <td>90410.586745</td>\n",
       "      <td>строительство недвижимости</td>\n",
       "    </tr>\n",
       "    <tr>\n",
       "      <th>18</th>\n",
       "      <td>0</td>\n",
       "      <td>400281.136913</td>\n",
       "      <td>53</td>\n",
       "      <td>среднее</td>\n",
       "      <td>1</td>\n",
       "      <td>вдовец / вдова</td>\n",
       "      <td>2</td>\n",
       "      <td>F</td>\n",
       "      <td>пенсионер</td>\n",
       "      <td>0</td>\n",
       "      <td>56823.777243</td>\n",
       "      <td>на покупку подержанного автомобиля</td>\n",
       "    </tr>\n",
       "    <tr>\n",
       "      <th>19</th>\n",
       "      <td>0</td>\n",
       "      <td>-10038.818549</td>\n",
       "      <td>48</td>\n",
       "      <td>СРЕДНЕЕ</td>\n",
       "      <td>1</td>\n",
       "      <td>в разводе</td>\n",
       "      <td>3</td>\n",
       "      <td>F</td>\n",
       "      <td>сотрудник</td>\n",
       "      <td>0</td>\n",
       "      <td>242831.107982</td>\n",
       "      <td>на покупку своего автомобиля</td>\n",
       "    </tr>\n",
       "  </tbody>\n",
       "</table>\n",
       "</div>"
      ],
      "text/plain": [
       "    children  days_employed  dob_years            education  education_id  \\\n",
       "0          1   -8437.673028         42               высшее             0   \n",
       "1          1   -4024.803754         36              среднее             1   \n",
       "2          0   -5623.422610         33              Среднее             1   \n",
       "3          3   -4124.747207         32              среднее             1   \n",
       "4          0  340266.072047         53              среднее             1   \n",
       "5          0    -926.185831         27               высшее             0   \n",
       "6          0   -2879.202052         43               высшее             0   \n",
       "7          0    -152.779569         50              СРЕДНЕЕ             1   \n",
       "8          2   -6929.865299         35               ВЫСШЕЕ             0   \n",
       "9          0   -2188.756445         41              среднее             1   \n",
       "10         2   -4171.483647         36               высшее             0   \n",
       "11         0    -792.701887         40              среднее             1   \n",
       "12         0            NaN         65              среднее             1   \n",
       "13         0   -1846.641941         54  неоконченное высшее             2   \n",
       "14         0   -1844.956182         56               высшее             0   \n",
       "15         1    -972.364419         26              среднее             1   \n",
       "16         0   -1719.934226         35              среднее             1   \n",
       "17         0   -2369.999720         33               высшее             0   \n",
       "18         0  400281.136913         53              среднее             1   \n",
       "19         0  -10038.818549         48              СРЕДНЕЕ             1   \n",
       "\n",
       "       family_status  family_status_id gender income_type  debt  \\\n",
       "0    женат / замужем                 0      F   сотрудник     0   \n",
       "1    женат / замужем                 0      F   сотрудник     0   \n",
       "2    женат / замужем                 0      M   сотрудник     0   \n",
       "3    женат / замужем                 0      M   сотрудник     0   \n",
       "4   гражданский брак                 1      F   пенсионер     0   \n",
       "5   гражданский брак                 1      M   компаньон     0   \n",
       "6    женат / замужем                 0      F   компаньон     0   \n",
       "7    женат / замужем                 0      M   сотрудник     0   \n",
       "8   гражданский брак                 1      F   сотрудник     0   \n",
       "9    женат / замужем                 0      M   сотрудник     0   \n",
       "10   женат / замужем                 0      M   компаньон     0   \n",
       "11   женат / замужем                 0      F   сотрудник     0   \n",
       "12  гражданский брак                 1      M   пенсионер     0   \n",
       "13   женат / замужем                 0      F   сотрудник     0   \n",
       "14  гражданский брак                 1      F   компаньон     1   \n",
       "15   женат / замужем                 0      F   сотрудник     0   \n",
       "16   женат / замужем                 0      F   сотрудник     0   \n",
       "17  гражданский брак                 1      M   сотрудник     0   \n",
       "18    вдовец / вдова                 2      F   пенсионер     0   \n",
       "19         в разводе                 3      F   сотрудник     0   \n",
       "\n",
       "     total_income                                 purpose  \n",
       "0   253875.639453                           покупка жилья  \n",
       "1   112080.014102                 приобретение автомобиля  \n",
       "2   145885.952297                           покупка жилья  \n",
       "3   267628.550329              дополнительное образование  \n",
       "4   158616.077870                         сыграть свадьбу  \n",
       "5   255763.565419                           покупка жилья  \n",
       "6   240525.971920                       операции с жильем  \n",
       "7   135823.934197                             образование  \n",
       "8    95856.832424                   на проведение свадьбы  \n",
       "9   144425.938277                 покупка жилья для семьи  \n",
       "10  113943.491460                    покупка недвижимости  \n",
       "11   77069.234271       покупка коммерческой недвижимости  \n",
       "12            NaN                         сыграть свадьбу  \n",
       "13  130458.228857                 приобретение автомобиля  \n",
       "14  165127.911772              покупка жилой недвижимости  \n",
       "15  116820.904450  строительство собственной недвижимости  \n",
       "16  289202.704229                            недвижимость  \n",
       "17   90410.586745              строительство недвижимости  \n",
       "18   56823.777243      на покупку подержанного автомобиля  \n",
       "19  242831.107982            на покупку своего автомобиля  "
      ]
     },
     "execution_count": 2,
     "metadata": {},
     "output_type": "execute_result"
    }
   ],
   "source": [
    "data.head(20)"
   ]
  },
  {
   "cell_type": "markdown",
   "id": "5e059928",
   "metadata": {
    "deletable": false,
    "editable": false,
    "id": "1c12e233"
   },
   "source": [
    "**Задание 3. Выведите основную информацию о датафрейме с помощью метода `info()`.**"
   ]
  },
  {
   "cell_type": "code",
   "execution_count": 3,
   "id": "d1582ddf",
   "metadata": {
    "deletable": false,
    "id": "2b757bca",
    "outputId": "15376089-8dad-46c9-b520-c05248d43158"
   },
   "outputs": [
    {
     "name": "stdout",
     "output_type": "stream",
     "text": [
      "<class 'pandas.core.frame.DataFrame'>\n",
      "RangeIndex: 21525 entries, 0 to 21524\n",
      "Data columns (total 12 columns):\n",
      " #   Column            Non-Null Count  Dtype  \n",
      "---  ------            --------------  -----  \n",
      " 0   children          21525 non-null  int64  \n",
      " 1   days_employed     19351 non-null  float64\n",
      " 2   dob_years         21525 non-null  int64  \n",
      " 3   education         21525 non-null  object \n",
      " 4   education_id      21525 non-null  int64  \n",
      " 5   family_status     21525 non-null  object \n",
      " 6   family_status_id  21525 non-null  int64  \n",
      " 7   gender            21525 non-null  object \n",
      " 8   income_type       21525 non-null  object \n",
      " 9   debt              21525 non-null  int64  \n",
      " 10  total_income      19351 non-null  float64\n",
      " 11  purpose           21525 non-null  object \n",
      "dtypes: float64(2), int64(5), object(5)\n",
      "memory usage: 2.0+ MB\n"
     ]
    }
   ],
   "source": [
    "data.info()"
   ]
  },
  {
   "cell_type": "markdown",
   "id": "26ff2a04",
   "metadata": {},
   "source": [
    " **Вывод:**\n",
    "\n",
    "Мы импортировали исходный датасет и ознакомились со свойствами таблицы, полученной от кредитного отдела банка. "
   ]
  },
  {
   "cell_type": "markdown",
   "id": "092ea4ca",
   "metadata": {
    "deletable": false,
    "editable": false,
    "id": "333ec665"
   },
   "source": [
    "## Предобработка данных"
   ]
  },
  {
   "cell_type": "markdown",
   "id": "26573102",
   "metadata": {
    "deletable": false,
    "editable": false,
    "id": "02d92d53"
   },
   "source": [
    "### Удаление пропусков"
   ]
  },
  {
   "cell_type": "markdown",
   "id": "645fff60",
   "metadata": {
    "deletable": false,
    "editable": false,
    "id": "cd84967c"
   },
   "source": [
    "**Задание 4. Выведите количество пропущенных значений для каждого столбца. Используйте комбинацию двух методов.**"
   ]
  },
  {
   "cell_type": "code",
   "execution_count": 4,
   "id": "13763d2b",
   "metadata": {
    "deletable": false,
    "id": "7f9b2309",
    "outputId": "81f4d817-781c-465c-ed15-91ce4446810d"
   },
   "outputs": [
    {
     "data": {
      "text/plain": [
       "children               0\n",
       "days_employed       2174\n",
       "dob_years              0\n",
       "education              0\n",
       "education_id           0\n",
       "family_status          0\n",
       "family_status_id       0\n",
       "gender                 0\n",
       "income_type            0\n",
       "debt                   0\n",
       "total_income        2174\n",
       "purpose                0\n",
       "dtype: int64"
      ]
     },
     "execution_count": 4,
     "metadata": {},
     "output_type": "execute_result"
    }
   ],
   "source": [
    "data.isna().sum()"
   ]
  },
  {
   "cell_type": "markdown",
   "id": "bdd5d034",
   "metadata": {
    "deletable": false,
    "editable": false,
    "id": "db86e27b"
   },
   "source": [
    "**Задание 5. В двух столбцах есть пропущенные значения. Один из них — `days_employed`. Пропуски в этом столбце вы обработаете на следующем этапе. Другой столбец с пропущенными значениями — `total_income` — хранит данные о доходах. На сумму дохода сильнее всего влияет тип занятости, поэтому заполнить пропуски в этом столбце нужно медианным значением по каждому типу из столбца `income_type`. Например, у человека с типом занятости `сотрудник` пропуск в столбце `total_income` должен быть заполнен медианным доходом среди всех записей с тем же типом.**"
   ]
  },
  {
   "cell_type": "code",
   "execution_count": 5,
   "id": "5dda4386",
   "metadata": {
    "deletable": false,
    "id": "42006a93"
   },
   "outputs": [],
   "source": [
    "for t in data['income_type'].unique():\n",
    "    data.loc[(data['income_type'] == t) & (data['total_income'].isna()), 'total_income'] = \\\n",
    "    data.loc[(data['income_type'] == t), 'total_income'].median()"
   ]
  },
  {
   "cell_type": "markdown",
   "id": "657ee45c",
   "metadata": {
    "deletable": false,
    "editable": false,
    "id": "89da5ece"
   },
   "source": [
    "### Обработка аномальных значений"
   ]
  },
  {
   "cell_type": "markdown",
   "id": "04bb88b0",
   "metadata": {
    "deletable": false,
    "editable": false,
    "id": "57964554"
   },
   "source": [
    "**Задание 6. В данных могут встречаться артефакты (аномалии) — значения, которые не отражают действительность и появились по какой-то ошибке. таким артефактом будет отрицательное количество дней трудового стажа в столбце `days_employed`. Для реальных данных это нормально. Обработайте значения в этом столбце: замените все отрицательные значения положительными с помощью метода `abs()`.**"
   ]
  },
  {
   "cell_type": "code",
   "execution_count": 6,
   "id": "80e202c6",
   "metadata": {
    "deletable": false,
    "id": "f6f055bf"
   },
   "outputs": [],
   "source": [
    "data['days_employed'] = data['days_employed'].abs()"
   ]
  },
  {
   "cell_type": "markdown",
   "id": "82dc8471",
   "metadata": {
    "deletable": false,
    "editable": false,
    "id": "6107dd2f"
   },
   "source": [
    "**Задание 7. Для каждого типа занятости выведите медианное значение трудового стажа `days_employed` в днях.**"
   ]
  },
  {
   "cell_type": "code",
   "execution_count": 7,
   "id": "c63f0039",
   "metadata": {
    "deletable": false,
    "id": "85a5faf6",
    "outputId": "801ef80e-522b-4668-f34e-565af7432bcf"
   },
   "outputs": [
    {
     "data": {
      "text/plain": [
       "income_type\n",
       "безработный        366413.652744\n",
       "в декрете            3296.759962\n",
       "госслужащий          2689.368353\n",
       "компаньон            1547.382223\n",
       "пенсионер          365213.306266\n",
       "предприниматель       520.848083\n",
       "сотрудник            1574.202821\n",
       "студент               578.751554\n",
       "Name: days_employed, dtype: float64"
      ]
     },
     "execution_count": 7,
     "metadata": {},
     "output_type": "execute_result"
    }
   ],
   "source": [
    "data.groupby('income_type')['days_employed'].agg('median')"
   ]
  },
  {
   "cell_type": "markdown",
   "id": "fddfe6c4",
   "metadata": {
    "deletable": false,
    "editable": false,
    "id": "38d1a030"
   },
   "source": [
    "У двух типов (безработные и пенсионеры) получатся аномально большие значения. Исправить такие значения сложно, поэтому оставьте их как есть. Тем более этот столбец не понадобится вам для исследования."
   ]
  },
  {
   "cell_type": "markdown",
   "id": "8c3da03b",
   "metadata": {
    "deletable": false,
    "editable": false,
    "id": "d8a9f147"
   },
   "source": [
    "**Задание 8. Выведите перечень уникальных значений столбца `children`.**"
   ]
  },
  {
   "cell_type": "code",
   "execution_count": 8,
   "id": "49bd9dbd",
   "metadata": {
    "deletable": false,
    "id": "ef5056eb",
    "outputId": "6975b15c-7f95-4697-d16d-a0c79b657b03"
   },
   "outputs": [
    {
     "data": {
      "text/plain": [
       "array([ 1,  0,  3,  2, -1,  4, 20,  5])"
      ]
     },
     "execution_count": 8,
     "metadata": {},
     "output_type": "execute_result"
    }
   ],
   "source": [
    "data['children'].unique()"
   ]
  },
  {
   "cell_type": "markdown",
   "id": "d75c7e89",
   "metadata": {
    "deletable": false,
    "editable": false,
    "id": "40b9ebf2"
   },
   "source": [
    "**Задание 9. В столбце `children` есть два аномальных значения. Удалите строки, в которых встречаются такие аномальные значения из датафрейма `data`.**"
   ]
  },
  {
   "cell_type": "code",
   "execution_count": 9,
   "id": "8bb50a94",
   "metadata": {
    "deletable": false,
    "id": "3ff9801d"
   },
   "outputs": [],
   "source": [
    "data = data[(data['children'] != -1) & (data['children'] != 20)]"
   ]
  },
  {
   "cell_type": "markdown",
   "id": "3a37066f",
   "metadata": {
    "deletable": false,
    "editable": false,
    "id": "bbc4d0ce"
   },
   "source": [
    "**Задание 10. Ещё раз выведите перечень уникальных значений столбца `children`, чтобы убедиться, что артефакты удалены.**"
   ]
  },
  {
   "cell_type": "code",
   "execution_count": 10,
   "id": "ec28f0db",
   "metadata": {
    "deletable": false,
    "id": "ad4fa8b7",
    "outputId": "b2097101-d49d-44d9-901b-32a65c9463d1"
   },
   "outputs": [
    {
     "data": {
      "text/plain": [
       "array([1, 0, 3, 2, 4, 5])"
      ]
     },
     "execution_count": 10,
     "metadata": {},
     "output_type": "execute_result"
    }
   ],
   "source": [
    "data['children'].unique()"
   ]
  },
  {
   "cell_type": "markdown",
   "id": "ac35da28",
   "metadata": {
    "deletable": false,
    "editable": false,
    "id": "75440b63"
   },
   "source": [
    "### Удаление пропусков (продолжение)"
   ]
  },
  {
   "cell_type": "markdown",
   "id": "9e2d9202",
   "metadata": {
    "deletable": false,
    "editable": false,
    "id": "f4ea573f"
   },
   "source": [
    "**Задание 11. Заполните пропуски в столбце `days_employed` медианными значениями по каждого типа занятости `income_type`.**"
   ]
  },
  {
   "cell_type": "code",
   "execution_count": 11,
   "id": "1e537e69",
   "metadata": {
    "deletable": false,
    "id": "af6b1a7e"
   },
   "outputs": [],
   "source": [
    "for t in data['income_type'].unique():\n",
    "    data.loc[(data['income_type'] == t) & (data['days_employed'].isna()), 'days_employed'] = \\\n",
    "    data.loc[(data['income_type'] == t), 'days_employed'].median()"
   ]
  },
  {
   "cell_type": "markdown",
   "id": "073e6da9",
   "metadata": {
    "deletable": false,
    "editable": false,
    "id": "2753f40d"
   },
   "source": [
    "**Задание 12. Убедитесь, что все пропуски заполнены. Проверьте себя и ещё раз выведите количество пропущенных значений для каждого столбца с помощью двух методов.**"
   ]
  },
  {
   "cell_type": "code",
   "execution_count": 12,
   "id": "8655c950",
   "metadata": {
    "deletable": false,
    "id": "55f78bc2",
    "outputId": "8da1e4e1-358e-4e87-98c9-f261bce0a7b2"
   },
   "outputs": [
    {
     "data": {
      "text/plain": [
       "children            0\n",
       "days_employed       0\n",
       "dob_years           0\n",
       "education           0\n",
       "education_id        0\n",
       "family_status       0\n",
       "family_status_id    0\n",
       "gender              0\n",
       "income_type         0\n",
       "debt                0\n",
       "total_income        0\n",
       "purpose             0\n",
       "dtype: int64"
      ]
     },
     "execution_count": 12,
     "metadata": {},
     "output_type": "execute_result"
    }
   ],
   "source": [
    "data.isna().sum()"
   ]
  },
  {
   "cell_type": "markdown",
   "id": "8a7ef65a",
   "metadata": {
    "deletable": false,
    "editable": false,
    "id": "ddc81e43"
   },
   "source": [
    "### Изменение типов данных"
   ]
  },
  {
   "cell_type": "markdown",
   "id": "66697008",
   "metadata": {
    "deletable": false,
    "editable": false,
    "id": "42d19d24"
   },
   "source": [
    "**Задание 13. Замените вещественный тип данных в столбце `total_income` на целочисленный с помощью метода `astype()`.**"
   ]
  },
  {
   "cell_type": "code",
   "execution_count": 13,
   "id": "1369c87f",
   "metadata": {
    "deletable": false,
    "id": "920b65ad"
   },
   "outputs": [],
   "source": [
    "data['total_income'] = data['total_income'].astype(int)"
   ]
  },
  {
   "cell_type": "markdown",
   "id": "d3e47bdb",
   "metadata": {
    "deletable": false,
    "editable": false,
    "id": "80c420ba"
   },
   "source": [
    "### Обработка дубликатов"
   ]
  },
  {
   "cell_type": "markdown",
   "id": "c30c5150",
   "metadata": {
    "deletable": false,
    "editable": false
   },
   "source": [
    "**Задание 14. Обработайте неявные дубликаты в столбце `education`. В этом столбце есть одни и те же значения, но записанные по-разному: с использованием заглавных и строчных букв. Приведите их к нижнему регистру. Проверьте остальные столбцы.**"
   ]
  },
  {
   "cell_type": "code",
   "execution_count": 14,
   "id": "28f6c1b3",
   "metadata": {
    "deletable": false
   },
   "outputs": [],
   "source": [
    "data['education'] = data['education'].str.lower()"
   ]
  },
  {
   "cell_type": "markdown",
   "id": "62a06fae",
   "metadata": {
    "deletable": false,
    "editable": false,
    "id": "dc587695"
   },
   "source": [
    "**Задание 15. Выведите на экран количество строк-дубликатов в данных. Если такие строки присутствуют, удалите их.**"
   ]
  },
  {
   "cell_type": "code",
   "execution_count": 15,
   "id": "4dfa3776",
   "metadata": {
    "deletable": false,
    "id": "3ee445e4",
    "outputId": "9684deba-1934-42d1-99e1-cda61740f822"
   },
   "outputs": [
    {
     "data": {
      "text/plain": [
       "71"
      ]
     },
     "execution_count": 15,
     "metadata": {},
     "output_type": "execute_result"
    }
   ],
   "source": [
    "data.duplicated().sum()"
   ]
  },
  {
   "cell_type": "code",
   "execution_count": 16,
   "id": "384dc9c5",
   "metadata": {
    "deletable": false,
    "id": "8575fe05"
   },
   "outputs": [],
   "source": [
    "data = data.drop_duplicates()"
   ]
  },
  {
   "cell_type": "markdown",
   "id": "51df8dd5",
   "metadata": {
    "deletable": false,
    "editable": false,
    "id": "9904cf55"
   },
   "source": [
    "### Категоризация данных"
   ]
  },
  {
   "cell_type": "markdown",
   "id": "7533b9a1",
   "metadata": {
    "deletable": false,
    "editable": false,
    "id": "72fcc8a2"
   },
   "source": [
    "**Задание 16. На основании диапазонов, указанных ниже, создайте в датафрейме `data` столбец `total_income_category` с категориями:**\n",
    "\n",
    "- 0–30000 — `'E'`;\n",
    "- 30001–50000 — `'D'`;\n",
    "- 50001–200000 — `'C'`;\n",
    "- 200001–1000000 — `'B'`;\n",
    "- 1000001 и выше — `'A'`.\n",
    "\n",
    "\n",
    "**Например, кредитополучателю с доходом 25000 нужно назначить категорию `'E'`, а клиенту, получающему 235000, — `'B'`. Используйте собственную функцию с именем `categorize_income()` и метод `apply()`.**"
   ]
  },
  {
   "cell_type": "code",
   "execution_count": 17,
   "id": "e27df6d4",
   "metadata": {
    "deletable": false,
    "id": "e1771346"
   },
   "outputs": [],
   "source": [
    "def categorize_income(income):\n",
    "    try:\n",
    "        if 0 <= income <= 30000:\n",
    "            return 'E'\n",
    "        elif 30001 <= income <= 50000:\n",
    "            return 'D'\n",
    "        elif 50001 <= income <= 200000:\n",
    "            return 'C'\n",
    "        elif 200001 <= income <= 1000000:\n",
    "            return 'B'\n",
    "        elif income >= 1000001:\n",
    "            return 'A'\n",
    "    except:\n",
    "        pass"
   ]
  },
  {
   "cell_type": "code",
   "execution_count": 18,
   "id": "2689f6ea",
   "metadata": {
    "deletable": false,
    "id": "d5f3586d"
   },
   "outputs": [],
   "source": [
    "data['total_income_category'] = data['total_income'].apply(categorize_income)"
   ]
  },
  {
   "cell_type": "markdown",
   "id": "4d68b631",
   "metadata": {
    "deletable": false,
    "editable": false,
    "id": "dde49b5c"
   },
   "source": [
    "**Задание 17. Выведите на экран перечень уникальных целей взятия кредита из столбца `purpose`.**"
   ]
  },
  {
   "cell_type": "code",
   "execution_count": 19,
   "id": "b34453f4",
   "metadata": {
    "deletable": false,
    "id": "f67ce9b3",
    "outputId": "673c12d9-7d7e-4ae0-9812-c622c89dd244"
   },
   "outputs": [
    {
     "data": {
      "text/plain": [
       "array(['покупка жилья', 'приобретение автомобиля',\n",
       "       'дополнительное образование', 'сыграть свадьбу',\n",
       "       'операции с жильем', 'образование', 'на проведение свадьбы',\n",
       "       'покупка жилья для семьи', 'покупка недвижимости',\n",
       "       'покупка коммерческой недвижимости', 'покупка жилой недвижимости',\n",
       "       'строительство собственной недвижимости', 'недвижимость',\n",
       "       'строительство недвижимости', 'на покупку подержанного автомобиля',\n",
       "       'на покупку своего автомобиля',\n",
       "       'операции с коммерческой недвижимостью',\n",
       "       'строительство жилой недвижимости', 'жилье',\n",
       "       'операции со своей недвижимостью', 'автомобили',\n",
       "       'заняться образованием', 'сделка с подержанным автомобилем',\n",
       "       'получение образования', 'автомобиль', 'свадьба',\n",
       "       'получение дополнительного образования', 'покупка своего жилья',\n",
       "       'операции с недвижимостью', 'получение высшего образования',\n",
       "       'свой автомобиль', 'сделка с автомобилем',\n",
       "       'профильное образование', 'высшее образование',\n",
       "       'покупка жилья для сдачи', 'на покупку автомобиля', 'ремонт жилью',\n",
       "       'заняться высшим образованием'], dtype=object)"
      ]
     },
     "execution_count": 19,
     "metadata": {},
     "output_type": "execute_result"
    }
   ],
   "source": [
    "data['purpose'].unique()"
   ]
  },
  {
   "cell_type": "markdown",
   "id": "c9cb39a6",
   "metadata": {
    "deletable": false,
    "editable": false,
    "id": "85d0aef0"
   },
   "source": [
    "**Задание 18. Создайте функцию, которая на основании данных из столбца `purpose` сформирует новый столбец `purpose_category`, в который войдут следующие категории:**\n",
    "\n",
    "- `'операции с автомобилем'`,\n",
    "- `'операции с недвижимостью'`,\n",
    "- `'проведение свадьбы'`,\n",
    "- `'получение образования'`.\n",
    "\n",
    "**Например, если в столбце `purpose` находится подстрока `'на покупку автомобиля'`, то в столбце `purpose_category` должна появиться строка `'операции с автомобилем'`.**\n",
    "\n",
    "**Используйте собственную функцию с именем `categorize_purpose()` и метод `apply()`. Изучите данные в столбце `purpose` и определите, какие подстроки помогут вам правильно определить категорию.**"
   ]
  },
  {
   "cell_type": "code",
   "execution_count": 20,
   "id": "989644f5",
   "metadata": {
    "deletable": false,
    "id": "e149fab4"
   },
   "outputs": [],
   "source": [
    "def categorize_purpose(row):\n",
    "    try:\n",
    "        if 'автом' in row:\n",
    "            return 'операции с автомобилем'\n",
    "        elif 'жил' in row or 'недвиж' in row:\n",
    "            return 'операции с недвижимостью'\n",
    "        elif 'свад' in row:\n",
    "            return 'проведение свадьбы'\n",
    "        elif 'образов' in row:\n",
    "            return 'получение образования'\n",
    "    except:\n",
    "        return 'нет категории'"
   ]
  },
  {
   "cell_type": "code",
   "execution_count": 21,
   "id": "b2649367",
   "metadata": {
    "deletable": false,
    "id": "bf36e69b"
   },
   "outputs": [],
   "source": [
    "data['purpose_category'] = data['purpose'].apply(categorize_purpose)"
   ]
  },
  {
   "cell_type": "markdown",
   "id": "aac3a521",
   "metadata": {
    "deletable": false,
    "editable": false,
    "id": "09b242bf"
   },
   "source": [
    "### Шаг 3. Исследуйте данные и ответьте на вопросы"
   ]
  },
  {
   "cell_type": "markdown",
   "id": "3a2dca46",
   "metadata": {
    "deletable": false,
    "editable": false,
    "id": "c5d66278"
   },
   "source": [
    "#### 3.1 Есть ли зависимость между количеством детей и возвратом кредита в срок?"
   ]
  },
  {
   "cell_type": "code",
   "execution_count": 22,
   "id": "483dec68",
   "metadata": {},
   "outputs": [
    {
     "data": {
      "text/html": [
       "<div>\n",
       "<style scoped>\n",
       "    .dataframe tbody tr th:only-of-type {\n",
       "        vertical-align: middle;\n",
       "    }\n",
       "\n",
       "    .dataframe tbody tr th {\n",
       "        vertical-align: top;\n",
       "    }\n",
       "\n",
       "    .dataframe thead th {\n",
       "        text-align: right;\n",
       "    }\n",
       "</style>\n",
       "<table border=\"1\" class=\"dataframe\">\n",
       "  <thead>\n",
       "    <tr style=\"text-align: right;\">\n",
       "      <th></th>\n",
       "      <th>children</th>\n",
       "      <th>days_employed</th>\n",
       "      <th>dob_years</th>\n",
       "      <th>education</th>\n",
       "      <th>education_id</th>\n",
       "      <th>family_status</th>\n",
       "      <th>family_status_id</th>\n",
       "      <th>gender</th>\n",
       "      <th>income_type</th>\n",
       "      <th>debt</th>\n",
       "      <th>total_income</th>\n",
       "      <th>purpose</th>\n",
       "      <th>total_income_category</th>\n",
       "      <th>purpose_category</th>\n",
       "    </tr>\n",
       "  </thead>\n",
       "  <tbody>\n",
       "    <tr>\n",
       "      <th>0</th>\n",
       "      <td>1</td>\n",
       "      <td>8437.673028</td>\n",
       "      <td>42</td>\n",
       "      <td>высшее</td>\n",
       "      <td>0</td>\n",
       "      <td>женат / замужем</td>\n",
       "      <td>0</td>\n",
       "      <td>F</td>\n",
       "      <td>сотрудник</td>\n",
       "      <td>0</td>\n",
       "      <td>253875</td>\n",
       "      <td>покупка жилья</td>\n",
       "      <td>B</td>\n",
       "      <td>операции с недвижимостью</td>\n",
       "    </tr>\n",
       "    <tr>\n",
       "      <th>1</th>\n",
       "      <td>1</td>\n",
       "      <td>4024.803754</td>\n",
       "      <td>36</td>\n",
       "      <td>среднее</td>\n",
       "      <td>1</td>\n",
       "      <td>женат / замужем</td>\n",
       "      <td>0</td>\n",
       "      <td>F</td>\n",
       "      <td>сотрудник</td>\n",
       "      <td>0</td>\n",
       "      <td>112080</td>\n",
       "      <td>приобретение автомобиля</td>\n",
       "      <td>C</td>\n",
       "      <td>операции с автомобилем</td>\n",
       "    </tr>\n",
       "    <tr>\n",
       "      <th>2</th>\n",
       "      <td>0</td>\n",
       "      <td>5623.422610</td>\n",
       "      <td>33</td>\n",
       "      <td>среднее</td>\n",
       "      <td>1</td>\n",
       "      <td>женат / замужем</td>\n",
       "      <td>0</td>\n",
       "      <td>M</td>\n",
       "      <td>сотрудник</td>\n",
       "      <td>0</td>\n",
       "      <td>145885</td>\n",
       "      <td>покупка жилья</td>\n",
       "      <td>C</td>\n",
       "      <td>операции с недвижимостью</td>\n",
       "    </tr>\n",
       "    <tr>\n",
       "      <th>3</th>\n",
       "      <td>3</td>\n",
       "      <td>4124.747207</td>\n",
       "      <td>32</td>\n",
       "      <td>среднее</td>\n",
       "      <td>1</td>\n",
       "      <td>женат / замужем</td>\n",
       "      <td>0</td>\n",
       "      <td>M</td>\n",
       "      <td>сотрудник</td>\n",
       "      <td>0</td>\n",
       "      <td>267628</td>\n",
       "      <td>дополнительное образование</td>\n",
       "      <td>B</td>\n",
       "      <td>получение образования</td>\n",
       "    </tr>\n",
       "    <tr>\n",
       "      <th>4</th>\n",
       "      <td>0</td>\n",
       "      <td>340266.072047</td>\n",
       "      <td>53</td>\n",
       "      <td>среднее</td>\n",
       "      <td>1</td>\n",
       "      <td>гражданский брак</td>\n",
       "      <td>1</td>\n",
       "      <td>F</td>\n",
       "      <td>пенсионер</td>\n",
       "      <td>0</td>\n",
       "      <td>158616</td>\n",
       "      <td>сыграть свадьбу</td>\n",
       "      <td>C</td>\n",
       "      <td>проведение свадьбы</td>\n",
       "    </tr>\n",
       "  </tbody>\n",
       "</table>\n",
       "</div>"
      ],
      "text/plain": [
       "   children  days_employed  dob_years education  education_id  \\\n",
       "0         1    8437.673028         42    высшее             0   \n",
       "1         1    4024.803754         36   среднее             1   \n",
       "2         0    5623.422610         33   среднее             1   \n",
       "3         3    4124.747207         32   среднее             1   \n",
       "4         0  340266.072047         53   среднее             1   \n",
       "\n",
       "      family_status  family_status_id gender income_type  debt  total_income  \\\n",
       "0   женат / замужем                 0      F   сотрудник     0        253875   \n",
       "1   женат / замужем                 0      F   сотрудник     0        112080   \n",
       "2   женат / замужем                 0      M   сотрудник     0        145885   \n",
       "3   женат / замужем                 0      M   сотрудник     0        267628   \n",
       "4  гражданский брак                 1      F   пенсионер     0        158616   \n",
       "\n",
       "                      purpose total_income_category          purpose_category  \n",
       "0               покупка жилья                     B  операции с недвижимостью  \n",
       "1     приобретение автомобиля                     C    операции с автомобилем  \n",
       "2               покупка жилья                     C  операции с недвижимостью  \n",
       "3  дополнительное образование                     B     получение образования  \n",
       "4             сыграть свадьбу                     C        проведение свадьбы  "
      ]
     },
     "execution_count": 22,
     "metadata": {},
     "output_type": "execute_result"
    }
   ],
   "source": [
    "# Выведем снова датасет с новыми столбцами total_income_category и purpose_category\n",
    "data.head()"
   ]
  },
  {
   "cell_type": "code",
   "execution_count": 23,
   "id": "4e0d8120",
   "metadata": {
    "deletable": false,
    "id": "2cacfc4a",
    "scrolled": true
   },
   "outputs": [
    {
     "data": {
      "text/html": [
       "<div>\n",
       "<style scoped>\n",
       "    .dataframe tbody tr th:only-of-type {\n",
       "        vertical-align: middle;\n",
       "    }\n",
       "\n",
       "    .dataframe tbody tr th {\n",
       "        vertical-align: top;\n",
       "    }\n",
       "\n",
       "    .dataframe thead tr th {\n",
       "        text-align: left;\n",
       "    }\n",
       "\n",
       "    .dataframe thead tr:last-of-type th {\n",
       "        text-align: right;\n",
       "    }\n",
       "</style>\n",
       "<table border=\"1\" class=\"dataframe\">\n",
       "  <thead>\n",
       "    <tr>\n",
       "      <th></th>\n",
       "      <th colspan=\"3\" halign=\"left\">debt</th>\n",
       "    </tr>\n",
       "    <tr>\n",
       "      <th></th>\n",
       "      <th>Число заемщиков</th>\n",
       "      <th>Число должников</th>\n",
       "      <th>Средний % просрочки</th>\n",
       "    </tr>\n",
       "    <tr>\n",
       "      <th>children</th>\n",
       "      <th></th>\n",
       "      <th></th>\n",
       "      <th></th>\n",
       "    </tr>\n",
       "  </thead>\n",
       "  <tbody>\n",
       "    <tr>\n",
       "      <th>0</th>\n",
       "      <td>14091</td>\n",
       "      <td>1063</td>\n",
       "      <td>0.075438</td>\n",
       "    </tr>\n",
       "    <tr>\n",
       "      <th>1</th>\n",
       "      <td>4808</td>\n",
       "      <td>444</td>\n",
       "      <td>0.092346</td>\n",
       "    </tr>\n",
       "    <tr>\n",
       "      <th>2</th>\n",
       "      <td>2052</td>\n",
       "      <td>194</td>\n",
       "      <td>0.094542</td>\n",
       "    </tr>\n",
       "    <tr>\n",
       "      <th>3</th>\n",
       "      <td>330</td>\n",
       "      <td>27</td>\n",
       "      <td>0.081818</td>\n",
       "    </tr>\n",
       "    <tr>\n",
       "      <th>4</th>\n",
       "      <td>41</td>\n",
       "      <td>4</td>\n",
       "      <td>0.097561</td>\n",
       "    </tr>\n",
       "    <tr>\n",
       "      <th>5</th>\n",
       "      <td>9</td>\n",
       "      <td>0</td>\n",
       "      <td>0.000000</td>\n",
       "    </tr>\n",
       "  </tbody>\n",
       "</table>\n",
       "</div>"
      ],
      "text/plain": [
       "                    debt                                    \n",
       "         Число заемщиков Число должников Средний % просрочки\n",
       "children                                                    \n",
       "0                  14091            1063            0.075438\n",
       "1                   4808             444            0.092346\n",
       "2                   2052             194            0.094542\n",
       "3                    330              27            0.081818\n",
       "4                     41               4            0.097561\n",
       "5                      9               0            0.000000"
      ]
     },
     "execution_count": 23,
     "metadata": {},
     "output_type": "execute_result"
    }
   ],
   "source": [
    "# Найдем долю кредиторов, имеющих задолженность, при разном количестве детей\n",
    "data_children_debt = data.groupby('children').agg({'debt': ['count', 'sum', 'mean']})\n",
    "data_children_debt = data_children_debt.rename(columns={\n",
    "    'count': 'Число заемщиков', 'sum': 'Число должников', 'mean': 'Средний % просрочки'\n",
    "})\n",
    "data_children_debt"
   ]
  },
  {
   "cell_type": "markdown",
   "id": "f471d052",
   "metadata": {
    "deletable": false,
    "id": "3a6b99ec"
   },
   "source": [
    " **Вывод:**\n",
    "\n",
    "Опишем полученные выше результаты:\n",
    "* Около 7.5% заемщиков, у которых *нет детей*, имеют задолженность по возврату кредитов.\n",
    "* Среди заемщиков, у которых *1-2 ребенка*, в среднем 9.2-9.5% имели задолженности по возврату кредитов. Между этими двумя группами (1 ребенок и 2 ребенка) нет существенной разницы. \n",
    "* Среди заемщиков с *3 детьми* около 8.2% имели задолженности по возврату кредитов.\n",
    "* Для заемщиков с *4 детьми* доля заемщиков, имевших задолженность, наибольшая – 9.8%. \n",
    "* Заметим, что заемщики, имеющие *5 детей*, в среднем не имели задолженностей по возврату кредитов. \n",
    "\n",
    "Проанализировав доли кредиторов, имевших задолженности по возврату кредитов, при разном количестве детей, можно сделать вывод о том, что зависимость между числом детей и возвратом кредита в срок наблюдается."
   ]
  },
  {
   "cell_type": "markdown",
   "id": "2bf8e573",
   "metadata": {
    "deletable": false,
    "editable": false,
    "id": "97be82ca"
   },
   "source": [
    "#### 3.2 Есть ли зависимость между семейным положением и возвратом кредита в срок?"
   ]
  },
  {
   "cell_type": "code",
   "execution_count": 24,
   "id": "f776230f",
   "metadata": {
    "deletable": false,
    "id": "dc3f7ee8",
    "scrolled": false
   },
   "outputs": [
    {
     "data": {
      "text/html": [
       "<div>\n",
       "<style scoped>\n",
       "    .dataframe tbody tr th:only-of-type {\n",
       "        vertical-align: middle;\n",
       "    }\n",
       "\n",
       "    .dataframe tbody tr th {\n",
       "        vertical-align: top;\n",
       "    }\n",
       "\n",
       "    .dataframe thead tr th {\n",
       "        text-align: left;\n",
       "    }\n",
       "\n",
       "    .dataframe thead tr:last-of-type th {\n",
       "        text-align: right;\n",
       "    }\n",
       "</style>\n",
       "<table border=\"1\" class=\"dataframe\">\n",
       "  <thead>\n",
       "    <tr>\n",
       "      <th></th>\n",
       "      <th colspan=\"3\" halign=\"left\">debt</th>\n",
       "    </tr>\n",
       "    <tr>\n",
       "      <th></th>\n",
       "      <th>Число заемщиков</th>\n",
       "      <th>Число должников</th>\n",
       "      <th>Средний % просрочки</th>\n",
       "    </tr>\n",
       "    <tr>\n",
       "      <th>family_status</th>\n",
       "      <th></th>\n",
       "      <th></th>\n",
       "      <th></th>\n",
       "    </tr>\n",
       "  </thead>\n",
       "  <tbody>\n",
       "    <tr>\n",
       "      <th>Не женат / не замужем</th>\n",
       "      <td>2796</td>\n",
       "      <td>273</td>\n",
       "      <td>0.097639</td>\n",
       "    </tr>\n",
       "    <tr>\n",
       "      <th>в разводе</th>\n",
       "      <td>1189</td>\n",
       "      <td>84</td>\n",
       "      <td>0.070648</td>\n",
       "    </tr>\n",
       "    <tr>\n",
       "      <th>вдовец / вдова</th>\n",
       "      <td>951</td>\n",
       "      <td>63</td>\n",
       "      <td>0.066246</td>\n",
       "    </tr>\n",
       "    <tr>\n",
       "      <th>гражданский брак</th>\n",
       "      <td>4134</td>\n",
       "      <td>385</td>\n",
       "      <td>0.093130</td>\n",
       "    </tr>\n",
       "    <tr>\n",
       "      <th>женат / замужем</th>\n",
       "      <td>12261</td>\n",
       "      <td>927</td>\n",
       "      <td>0.075606</td>\n",
       "    </tr>\n",
       "  </tbody>\n",
       "</table>\n",
       "</div>"
      ],
      "text/plain": [
       "                                 debt                                    \n",
       "                      Число заемщиков Число должников Средний % просрочки\n",
       "family_status                                                            \n",
       "Не женат / не замужем            2796             273            0.097639\n",
       "в разводе                        1189              84            0.070648\n",
       "вдовец / вдова                    951              63            0.066246\n",
       "гражданский брак                 4134             385            0.093130\n",
       "женат / замужем                 12261             927            0.075606"
      ]
     },
     "execution_count": 24,
     "metadata": {},
     "output_type": "execute_result"
    }
   ],
   "source": [
    "# Найдем долю кредиторов, имеющих задолженность, при разном семейном статусе\n",
    "\n",
    "data_family_status_debt = data.groupby('family_status').agg({'debt': ['count', 'sum', 'mean']})\n",
    "data_family_status_debt = data_family_status_debt.rename(columns={\n",
    "    'count': 'Число заемщиков', 'sum': 'Число должников', 'mean': 'Средний % просрочки'\n",
    "})\n",
    "data_family_status_debt"
   ]
  },
  {
   "cell_type": "markdown",
   "id": "523e8582",
   "metadata": {},
   "source": [
    "Поскольку среди средних значений встречаются близкие значения, а также с учетом несбалансированности выборок, сгруппируем заемщиков по семейному статусу следующим образом:\n",
    "1. Объединим в одну группу *(группа 1: не состоящие в официальном браке)* неженатых, незамужних и состоящих в гражданском браке, поскольку доля заемщиков, имеющих проблему с возвратом кредита в срок, составляет 9.3-9.8%. Данные группы можно логически объединить в том числе и по причине того, что гражданский брак официально не является браком и на юридическом уровне данная категория совпадает с категорией \"не женат / не замужем\".\n",
    "2. Объединим в другую группу *(группа 2: не состоявщие в браке, но состоявшие ранее)* вдовцов, вдов и людей в разводе, поскольку доля заемщиков, имеющих проблему с возвратом кредита в срок, составляет 6.6-7.1%. Данные группы можно логически объединить в том числе и потому, что ранее данные заемщики состояли в браке, а на данный момент не состоят в браке.\n",
    "3. В качестве третьей группы *(группа 3: состоящие в официальном браке)* оставим лиц, состоящих в официальном браке - \"женат / замужем\"."
   ]
  },
  {
   "cell_type": "code",
   "execution_count": 25,
   "id": "4f8779af",
   "metadata": {},
   "outputs": [],
   "source": [
    "# Создадим функцию categorize_family_status, \n",
    "# которая будет определять группу в соответствии с семейным статусом\n",
    "def categorize_family_status(family_status):\n",
    "    if (family_status == 'Не женат / не замужем') or (family_status == 'гражданский брак'):\n",
    "        return 'не состоящие в официальном браке'\n",
    "    elif (family_status == 'вдовец / вдова') or (family_status == 'в разводе'):\n",
    "        return 'не состоящие в браке, но состоявшие ранее'\n",
    "    return 'состоящие в официальном браке'"
   ]
  },
  {
   "cell_type": "code",
   "execution_count": 26,
   "id": "69f92a45",
   "metadata": {},
   "outputs": [],
   "source": [
    "# Добавим в таблицу data новый столбец family_status_official, \n",
    "# применив функцию categorize_family_status к столбцу family_status \n",
    "data['family_status_official'] = data['family_status'].apply(categorize_family_status)"
   ]
  },
  {
   "cell_type": "code",
   "execution_count": 27,
   "id": "8c7714d5",
   "metadata": {
    "scrolled": true
   },
   "outputs": [
    {
     "data": {
      "text/html": [
       "<div>\n",
       "<style scoped>\n",
       "    .dataframe tbody tr th:only-of-type {\n",
       "        vertical-align: middle;\n",
       "    }\n",
       "\n",
       "    .dataframe tbody tr th {\n",
       "        vertical-align: top;\n",
       "    }\n",
       "\n",
       "    .dataframe thead tr th {\n",
       "        text-align: left;\n",
       "    }\n",
       "\n",
       "    .dataframe thead tr:last-of-type th {\n",
       "        text-align: right;\n",
       "    }\n",
       "</style>\n",
       "<table border=\"1\" class=\"dataframe\">\n",
       "  <thead>\n",
       "    <tr>\n",
       "      <th></th>\n",
       "      <th colspan=\"3\" halign=\"left\">debt</th>\n",
       "    </tr>\n",
       "    <tr>\n",
       "      <th></th>\n",
       "      <th>Число заемщиков</th>\n",
       "      <th>Число должников</th>\n",
       "      <th>Средний % просрочки</th>\n",
       "    </tr>\n",
       "    <tr>\n",
       "      <th>family_status_official</th>\n",
       "      <th></th>\n",
       "      <th></th>\n",
       "      <th></th>\n",
       "    </tr>\n",
       "  </thead>\n",
       "  <tbody>\n",
       "    <tr>\n",
       "      <th>не состоящие в браке, но состоявшие ранее</th>\n",
       "      <td>2140</td>\n",
       "      <td>147</td>\n",
       "      <td>0.068692</td>\n",
       "    </tr>\n",
       "    <tr>\n",
       "      <th>не состоящие в официальном браке</th>\n",
       "      <td>6930</td>\n",
       "      <td>658</td>\n",
       "      <td>0.094949</td>\n",
       "    </tr>\n",
       "    <tr>\n",
       "      <th>состоящие в официальном браке</th>\n",
       "      <td>12261</td>\n",
       "      <td>927</td>\n",
       "      <td>0.075606</td>\n",
       "    </tr>\n",
       "  </tbody>\n",
       "</table>\n",
       "</div>"
      ],
      "text/plain": [
       "                                                     debt                  \\\n",
       "                                          Число заемщиков Число должников   \n",
       "family_status_official                                                      \n",
       "не состоящие в браке, но состоявшие ранее            2140             147   \n",
       "не состоящие в официальном браке                     6930             658   \n",
       "состоящие в официальном браке                       12261             927   \n",
       "\n",
       "                                                               \n",
       "                                          Средний % просрочки  \n",
       "family_status_official                                         \n",
       "не состоящие в браке, но состоявшие ранее            0.068692  \n",
       "не состоящие в официальном браке                     0.094949  \n",
       "состоящие в официальном браке                        0.075606  "
      ]
     },
     "execution_count": 27,
     "metadata": {},
     "output_type": "execute_result"
    }
   ],
   "source": [
    "# Найдем долю кредиторов, имеющих задолженность, при разном официальном семейном статусе \n",
    "\n",
    "data_family_status_official_debt = data.groupby('family_status_official').agg({'debt': ['count', 'sum', 'mean']})\n",
    "data_family_status_official_debt = data_family_status_official_debt.rename(columns={\n",
    "    'count': 'Число заемщиков', 'sum': 'Число должников', 'mean': 'Средний % просрочки'\n",
    "})\n",
    "data_family_status_official_debt"
   ]
  },
  {
   "cell_type": "markdown",
   "id": "7a7fc7be",
   "metadata": {
    "deletable": false,
    "id": "1cef7837"
   },
   "source": [
    "**Вывод:** \n",
    "\n",
    "Опишем полученные результаты:\n",
    "1. Кредиторы, не состоящие в браке, но состоявшие ранее, **реже** остальных не возвращают кредиты в срок, и являются наиболее благонадежной группой заемщиков. Среди них около **6.9%** заемщиков не возвращает кредиты в срок.\n",
    "2. Люди, не состоящие в официальном браке, **чаще** остальных не возвращают кредиты в срок, и являются наименее благонадежной группой заемщиков. Среди них около **9.5%** заемщиков не возвращают кредиты в срок. \n",
    "3. Среди людей, состоящих в официальном браке, около **7.6%** заемщиков имеют проблемы с возвратом кредита в срок. \n",
    "\n",
    "Проанализировав доли кредиторов, имевших задолженности по возврату кредитов, при разном семейном положении, можно сделать вывод о том, что зависимость между семейным положением и возвратом кредита в срок наблюдается."
   ]
  },
  {
   "cell_type": "markdown",
   "id": "6af8fca2",
   "metadata": {
    "deletable": false,
    "editable": false,
    "id": "1e8b2fca"
   },
   "source": [
    "#### 3.3 Есть ли зависимость между уровнем дохода и возвратом кредита в срок?"
   ]
  },
  {
   "cell_type": "code",
   "execution_count": 28,
   "id": "a2fd013c",
   "metadata": {
    "deletable": false,
    "id": "cd7e3720"
   },
   "outputs": [
    {
     "data": {
      "text/html": [
       "<div>\n",
       "<style scoped>\n",
       "    .dataframe tbody tr th:only-of-type {\n",
       "        vertical-align: middle;\n",
       "    }\n",
       "\n",
       "    .dataframe tbody tr th {\n",
       "        vertical-align: top;\n",
       "    }\n",
       "\n",
       "    .dataframe thead tr th {\n",
       "        text-align: left;\n",
       "    }\n",
       "\n",
       "    .dataframe thead tr:last-of-type th {\n",
       "        text-align: right;\n",
       "    }\n",
       "</style>\n",
       "<table border=\"1\" class=\"dataframe\">\n",
       "  <thead>\n",
       "    <tr>\n",
       "      <th></th>\n",
       "      <th colspan=\"3\" halign=\"left\">debt</th>\n",
       "    </tr>\n",
       "    <tr>\n",
       "      <th></th>\n",
       "      <th>Число заемщиков</th>\n",
       "      <th>Число должников</th>\n",
       "      <th>Средний % просрочки</th>\n",
       "    </tr>\n",
       "    <tr>\n",
       "      <th>total_income_category</th>\n",
       "      <th></th>\n",
       "      <th></th>\n",
       "      <th></th>\n",
       "    </tr>\n",
       "  </thead>\n",
       "  <tbody>\n",
       "    <tr>\n",
       "      <th>A</th>\n",
       "      <td>25</td>\n",
       "      <td>2</td>\n",
       "      <td>0.080000</td>\n",
       "    </tr>\n",
       "    <tr>\n",
       "      <th>B</th>\n",
       "      <td>5014</td>\n",
       "      <td>354</td>\n",
       "      <td>0.070602</td>\n",
       "    </tr>\n",
       "    <tr>\n",
       "      <th>C</th>\n",
       "      <td>15921</td>\n",
       "      <td>1353</td>\n",
       "      <td>0.084982</td>\n",
       "    </tr>\n",
       "    <tr>\n",
       "      <th>D</th>\n",
       "      <td>349</td>\n",
       "      <td>21</td>\n",
       "      <td>0.060172</td>\n",
       "    </tr>\n",
       "    <tr>\n",
       "      <th>E</th>\n",
       "      <td>22</td>\n",
       "      <td>2</td>\n",
       "      <td>0.090909</td>\n",
       "    </tr>\n",
       "  </tbody>\n",
       "</table>\n",
       "</div>"
      ],
      "text/plain": [
       "                                 debt                                    \n",
       "                      Число заемщиков Число должников Средний % просрочки\n",
       "total_income_category                                                    \n",
       "A                                  25               2            0.080000\n",
       "B                                5014             354            0.070602\n",
       "C                               15921            1353            0.084982\n",
       "D                                 349              21            0.060172\n",
       "E                                  22               2            0.090909"
      ]
     },
     "execution_count": 28,
     "metadata": {},
     "output_type": "execute_result"
    }
   ],
   "source": [
    "data_income_debt = data.groupby('total_income_category').agg({'debt': ['count', 'sum', 'mean']})\n",
    "data_income_debt = data_income_debt.rename(columns={\n",
    "    'count': 'Число заемщиков', 'sum': 'Число должников', 'mean': 'Средний % просрочки'\n",
    "})\n",
    "data_income_debt"
   ]
  },
  {
   "cell_type": "markdown",
   "id": "dc7869c0",
   "metadata": {
    "deletable": false,
    "id": "e8593def"
   },
   "source": [
    "\n",
    "* Заметим, что наименее надежными заемщиками, исходя из полученных результатов являются заемщики *категории E*, то есть заемщики с наименьшим доходом (доход до 30 тыс.). Среди них **9.1%** заемщиков не возвращают кредиты в срок. \n",
    "* *Категория D* при этом является наиболее благонадежной, поскольку кредиторы из данной категории реже остальных в процентном соотношении имеют проблемы с возвратом кредита в срок. Всего **6%** таких заемщиков не возвращают кредиты в срок.\n",
    "* Наименее надежными можно назвать *категории A и C* - около **8-8.5%** заемщиков данных категорий не возвращают кредиты в срок.\n",
    "* Около **7.1%** заемщиков *категории B* не возвращают кредиты в срок.\n",
    "\n",
    "Можно объяснить такие результаты следуюшим образом:\n",
    "1. Кредиторы с доходом ниже 30 тыс. (категория E) действительно являются наименее надежными в силу небольшого дохода.\n",
    "2. Кредиторы с доходом в диапазоне 30-50 тыс. (категория D) являются наиболее надежными, вероятно, потому что, имея небольшой доход, они стараются не ухудшить свой кредитный рейтинг и выплачивать всё в срок.\n",
    "3. Кредиторы с доходами выше 50 тыс. (категории C, B и A) имеют среднюю надежность.\n",
    "\n",
    "Таким образом, можно разделить кредиторов на три группы в соответствии с описаниием выше. Так банку в дальнейшем будет проще формировать скоринговую модель. "
   ]
  },
  {
   "cell_type": "code",
   "execution_count": 29,
   "id": "ee7261a1",
   "metadata": {},
   "outputs": [],
   "source": [
    "# Создадим функцию categorize_income_for_scoring, \n",
    "# которая будет определять группу в соответствии с уровнем дохода:\n",
    "def categorize_income_for_scoring(income):\n",
    "    if income <= 30000:\n",
    "        return 'низкий доход'\n",
    "    elif income <= 50000:\n",
    "        return 'средний доход'\n",
    "    return 'хороший доход'"
   ]
  },
  {
   "cell_type": "code",
   "execution_count": 30,
   "id": "3194c720",
   "metadata": {},
   "outputs": [],
   "source": [
    "# Добавим в таблицу data новый столбец income_category_for_scoring, \n",
    "# применив функцию categorize_income_for_scoring к столбцу total_income \n",
    "data['income_category_for_scoring'] = data['total_income'].apply(categorize_income_for_scoring)"
   ]
  },
  {
   "cell_type": "code",
   "execution_count": 31,
   "id": "cf47beae",
   "metadata": {},
   "outputs": [
    {
     "data": {
      "text/html": [
       "<div>\n",
       "<style scoped>\n",
       "    .dataframe tbody tr th:only-of-type {\n",
       "        vertical-align: middle;\n",
       "    }\n",
       "\n",
       "    .dataframe tbody tr th {\n",
       "        vertical-align: top;\n",
       "    }\n",
       "\n",
       "    .dataframe thead tr th {\n",
       "        text-align: left;\n",
       "    }\n",
       "\n",
       "    .dataframe thead tr:last-of-type th {\n",
       "        text-align: right;\n",
       "    }\n",
       "</style>\n",
       "<table border=\"1\" class=\"dataframe\">\n",
       "  <thead>\n",
       "    <tr>\n",
       "      <th></th>\n",
       "      <th colspan=\"3\" halign=\"left\">debt</th>\n",
       "    </tr>\n",
       "    <tr>\n",
       "      <th></th>\n",
       "      <th>Число заемщиков</th>\n",
       "      <th>Число должников</th>\n",
       "      <th>Средний % просрочки</th>\n",
       "    </tr>\n",
       "    <tr>\n",
       "      <th>income_category_for_scoring</th>\n",
       "      <th></th>\n",
       "      <th></th>\n",
       "      <th></th>\n",
       "    </tr>\n",
       "  </thead>\n",
       "  <tbody>\n",
       "    <tr>\n",
       "      <th>низкий доход</th>\n",
       "      <td>22</td>\n",
       "      <td>2</td>\n",
       "      <td>0.090909</td>\n",
       "    </tr>\n",
       "    <tr>\n",
       "      <th>средний доход</th>\n",
       "      <td>349</td>\n",
       "      <td>21</td>\n",
       "      <td>0.060172</td>\n",
       "    </tr>\n",
       "    <tr>\n",
       "      <th>хороший доход</th>\n",
       "      <td>20960</td>\n",
       "      <td>1709</td>\n",
       "      <td>0.081536</td>\n",
       "    </tr>\n",
       "  </tbody>\n",
       "</table>\n",
       "</div>"
      ],
      "text/plain": [
       "                                       debt                  \\\n",
       "                            Число заемщиков Число должников   \n",
       "income_category_for_scoring                                   \n",
       "низкий доход                             22               2   \n",
       "средний доход                           349              21   \n",
       "хороший доход                         20960            1709   \n",
       "\n",
       "                                                 \n",
       "                            Средний % просрочки  \n",
       "income_category_for_scoring                      \n",
       "низкий доход                           0.090909  \n",
       "средний доход                          0.060172  \n",
       "хороший доход                          0.081536  "
      ]
     },
     "execution_count": 31,
     "metadata": {},
     "output_type": "execute_result"
    }
   ],
   "source": [
    "# Найдем долю кредиторов, имеющих задолженность, \n",
    "# при разном уровне доходов из столбца income_category_for_scoring\n",
    "\n",
    "data_income_scoring_debt = data.groupby('income_category_for_scoring').agg({'debt': ['count', 'sum', 'mean']})\n",
    "data_income_scoring_debt = data_income_scoring_debt.rename(columns={\n",
    "    'count': 'Число заемщиков', 'sum': 'Число должников', 'mean': 'Средний % просрочки'\n",
    "})\n",
    "data_income_scoring_debt"
   ]
  },
  {
   "cell_type": "markdown",
   "id": "927253a6",
   "metadata": {},
   "source": [
    "**Вывод:** \n",
    "\n",
    "Заметим, что число наблюдений в группе с низким доходом крайне низкая – всего 22 заемщика, поэтому рассматривать данные результаты при формировании скоринговой модели будет несколько некорректно.\n",
    "При этом при формировании скоров можно учитывать зависимости, обнаруженные для групп со средним и хорошим доходом.\n",
    "\n",
    "Проанализировав доли кредиторов, имевших задолженности по возврату кредитов, при разном уровне доходов, можно сделать вывод о том, что зависимость между уровнем доходов и возвратом кредита в срок наблюдается."
   ]
  },
  {
   "cell_type": "markdown",
   "id": "fca2a722",
   "metadata": {
    "deletable": false,
    "editable": false,
    "id": "99ecbd1f"
   },
   "source": [
    "#### 3.4 Как разные цели кредита влияют на его возврат в срок?"
   ]
  },
  {
   "cell_type": "code",
   "execution_count": 32,
   "id": "f106c200",
   "metadata": {
    "deletable": false,
    "id": "2b687290"
   },
   "outputs": [
    {
     "data": {
      "text/html": [
       "<div>\n",
       "<style scoped>\n",
       "    .dataframe tbody tr th:only-of-type {\n",
       "        vertical-align: middle;\n",
       "    }\n",
       "\n",
       "    .dataframe tbody tr th {\n",
       "        vertical-align: top;\n",
       "    }\n",
       "\n",
       "    .dataframe thead tr th {\n",
       "        text-align: left;\n",
       "    }\n",
       "\n",
       "    .dataframe thead tr:last-of-type th {\n",
       "        text-align: right;\n",
       "    }\n",
       "</style>\n",
       "<table border=\"1\" class=\"dataframe\">\n",
       "  <thead>\n",
       "    <tr>\n",
       "      <th></th>\n",
       "      <th colspan=\"3\" halign=\"left\">debt</th>\n",
       "    </tr>\n",
       "    <tr>\n",
       "      <th></th>\n",
       "      <th>Число заемщиков</th>\n",
       "      <th>Число должников</th>\n",
       "      <th>Средний % просрочки</th>\n",
       "    </tr>\n",
       "    <tr>\n",
       "      <th>purpose_category</th>\n",
       "      <th></th>\n",
       "      <th></th>\n",
       "      <th></th>\n",
       "    </tr>\n",
       "  </thead>\n",
       "  <tbody>\n",
       "    <tr>\n",
       "      <th>операции с автомобилем</th>\n",
       "      <td>4279</td>\n",
       "      <td>400</td>\n",
       "      <td>0.093480</td>\n",
       "    </tr>\n",
       "    <tr>\n",
       "      <th>операции с недвижимостью</th>\n",
       "      <td>10751</td>\n",
       "      <td>780</td>\n",
       "      <td>0.072551</td>\n",
       "    </tr>\n",
       "    <tr>\n",
       "      <th>получение образования</th>\n",
       "      <td>3988</td>\n",
       "      <td>369</td>\n",
       "      <td>0.092528</td>\n",
       "    </tr>\n",
       "    <tr>\n",
       "      <th>проведение свадьбы</th>\n",
       "      <td>2313</td>\n",
       "      <td>183</td>\n",
       "      <td>0.079118</td>\n",
       "    </tr>\n",
       "  </tbody>\n",
       "</table>\n",
       "</div>"
      ],
      "text/plain": [
       "                                    debt                                    \n",
       "                         Число заемщиков Число должников Средний % просрочки\n",
       "purpose_category                                                            \n",
       "операции с автомобилем              4279             400            0.093480\n",
       "операции с недвижимостью           10751             780            0.072551\n",
       "получение образования               3988             369            0.092528\n",
       "проведение свадьбы                  2313             183            0.079118"
      ]
     },
     "execution_count": 32,
     "metadata": {},
     "output_type": "execute_result"
    }
   ],
   "source": [
    "data_purpose_debt = data.groupby('purpose_category').agg({'debt': ['count', 'sum', 'mean']})\n",
    "data_purpose_debt = data_purpose_debt.rename(columns={\n",
    "    'count': 'Число заемщиков', 'sum': 'Число должников', 'mean': 'Средний % просрочки'\n",
    "})\n",
    "data_purpose_debt"
   ]
  },
  {
   "cell_type": "markdown",
   "id": "b247cdb5",
   "metadata": {
    "deletable": false,
    "id": "b4bb2ce6"
   },
   "source": [
    "**Вывод:** \n",
    "- Заемщики, берущие кредиты для операций с автомобилем и для получения образования, в среднем одинаково себя ведут в плане возврата кредита в срок. Около таких 9.3% заемщиков имеют проблемы с возвратом кредитов в срок. Это наименее надежные заемщики.\n",
    "- Заемщики, берущие кредиты для проведения свадьбы, имеют средний уровень надежности. около 7.9% таких заемщиков не возвращают кредиты в срок.\n",
    "- Наиболее надежными являются заемщики, берущие кредит для операций с недвижимостью. Это можно объяснить как правило большой суммой кредита (заемщики более ответственно относятся к бОльшим суммам кредита). Также это можно объяснить льготными процентами по кредитам с недвижимостью."
   ]
  },
  {
   "cell_type": "markdown",
   "id": "2a22f1d2",
   "metadata": {
    "deletable": false,
    "editable": false,
    "id": "09c3ac4c"
   },
   "source": [
    "#### 3.5 Приведите возможные причины появления пропусков в исходных данных."
   ]
  },
  {
   "cell_type": "markdown",
   "id": "c36393d9",
   "metadata": {
    "deletable": false,
    "id": "9da2ceda"
   },
   "source": [
    "*Ответ:* \n",
    "\n",
    "В исходных данных пропуски встречались в следующих столбцах: `days_employed` и `total_income`. \n",
    "\n",
    "Для столбца `days_employed` причины появления пропусков могут быть следующими:\n",
    "- Была утеряна трудовая книжка и некоторые данные не удалось восстановить, поэтому стаж в днях неизвестен.\n",
    "- Среди опыта работы есть практики, стажировки, которые официально не оформлялись, следовательно, стаж в днях неизвестен.\n",
    "- Неофициальное трудоустройство заемщика.\n",
    "\n",
    "Для столбца `total_income` причины появления пропусков могут быть следующими:\n",
    "- Наличие пассивного дохода, который трудно учесть (проценты по акциям, облигациям, сдача недвижимости в аренду и проч.)\n",
    "- Ежемесячные выплаты включают в себя процент (с продаж), который разнится от месяца к месяцу, следовательно, точная сумма ежемесячного дохода неизвестна.\n",
    "- Заемщик может быть иждивенец (женщина в декрете, живущая за счет супруга; студент, живущий за счет родителей), который не может указать точного дохода.\n",
    "\n",
    "Все описанные выше причины относятся к человеческому фактору. Также стоит учесть возможность возникновения пропусков в данных в связи с техническими сбоями в работе систему учета банка."
   ]
  },
  {
   "cell_type": "markdown",
   "id": "5c6c9126",
   "metadata": {
    "deletable": false,
    "editable": false,
    "id": "7b0487d6"
   },
   "source": [
    "#### 3.6 Объясните, почему заполнить пропуски медианным значением — лучшее решение для количественных переменных."
   ]
  },
  {
   "cell_type": "markdown",
   "id": "98595c61",
   "metadata": {
    "deletable": false,
    "id": "7ecf2b8e"
   },
   "source": [
    "*Ответ:* \n",
    "\n",
    "Использование медианных значений при заполнении пропусков в количественных переменных является наилучшим решением, поскольку при наличии \"выбросов\" (сильно выделяющихся значений, которые редко встречаются в выборке) в данных медиана лучше показывает адекватную ситуацию. \n",
    "\n",
    "Рассмотрим, например, заработные платы в следующем коллективе: 100 т.р. у 5 сотрудников и 1 млн у ген.директора. **Медианная зарплата** будет составлять **100 т.р.**, в то время как **средняя зарплата** – **250 т.р**. При ежегодной индексации зарплат на 10% (110 т.р. у 5 сотрудников и 1.1 млн у гендира) **средняя зарплата вырастет** до 275 т.р. (**на 25 т.р.**), в то время как **медианная з.п. вырастет на 10 т.р**. \n",
    "\n",
    "Таким образом, при использовании среднего может ошибочно сложиться впечатление о том, что:\n",
    "- во-первых, средняя з.п. в коллективе 250 т.р.,\n",
    "- во-вторых, в среднем з.п. каждого сотрудника за год выросла на 25 т.р.\n",
    "\n",
    "В то же самое время медиана адекватно показывает, что:\n",
    "- во-первых, медианная з.п. в коллективе 100 т.р.,\n",
    "- во-вторых, в среднем з.п. каждого сотрудника за год выросла на 10 т.р.\n",
    "\n",
    "Поэтому заполнение пропусков медианным значением — лучшее решение для количественных переменных."
   ]
  },
  {
   "cell_type": "markdown",
   "id": "df4aae96",
   "metadata": {
    "deletable": false,
    "editable": false,
    "id": "6db5255a"
   },
   "source": [
    "### Шаг 4: общий вывод."
   ]
  },
  {
   "cell_type": "markdown",
   "id": "13eab2ce",
   "metadata": {
    "deletable": false,
    "id": "bad65432"
   },
   "source": [
    "В данных, полученных от банка, наблюдаются следующие зависимости:\n",
    "\n",
    "1. Зависимость между числом детей и возвратом кредита в срок:\n",
    "    * Заемщики, имеющие *5 детей*, в среднем не имели задолженностей по возврату кредитов. Они являются наиболее благонадежной группой заемщиков.\n",
    "    * Следующими по надежности выступают заемщики, которых нет детей. Около **7.5%** заемщиков, у которых *нет детей*, имеют задолженность по возврату кредитов.\n",
    "    * Среди заемщиков с *3 детьми* около **8.2%** имели задолженности по возврату кредитов.\n",
    "    * Среди заемщиков, у которых *1-2 ребенка*, в среднем **9.2-9.5%** имели задолженности по возврату кредитов. Между этими двумя группами (1 ребенок и 2 ребенка) нет существенной разницы. \n",
    "    * Для заемщиков с *4 детьми* доля заемщиков, имевших задолженность, наибольшая – **9.8%**. \n",
    "\n",
    "\n",
    "2. Зависимость между семейным положением и возвратом кредита в срок:\n",
    "Рекомендуется разделить кредиторов на следующие три группы по семейному положению: не состоящие в браке, но состоявшие ранее; не состоящие в официальном браке; состоящие в официальном браке.\n",
    "    * **Не состоящие в браке, но состоявшие ранее** реже остальных не возвращают кредиты в срок, и являются **наиболее благонадежной** группой заемщиков. \n",
    "    * **Не состоящие в официальном браке** чаще остальных не возвращают кредиты в срок, и являются **наименее надежной** группой заемщиков. \n",
    "    * **Состоящие в официальном браке** имеют **средний уровень надежности**.\n",
    "    \n",
    "    \n",
    "3. Зависимость между уровнем доходов и возвратом кредита в срок.\n",
    "Рекомендуется разделить кредиторов на следующие три группы по уровню дохода: с доходом ниже 30 тыс.; с доходом в диапазоне 30-50 тыс.; с доходами выше 50 тыс.\n",
    "    * Кредиторы **с доходом ниже 30 тыс.** являются **наименее надежными** в силу небольшого дохода.\n",
    "    * Кредиторы **с доходом в диапазоне 30-50 тыс.** являются **наиболее надежными**.\n",
    "    * Кредиторы **с доходами выше 50 тыс.** имеют **среднюю надежность**.\n",
    "    \n",
    "    \n",
    "4. Зависимость между целью кредита и возвратом кредита в срок.\n",
    "    * Заемщики, берущие кредиты **для операций с автомобилем** и **для получения образования** – **наименее надежные** заемщики.\n",
    "    * Заемщики, берущие кредиты **для проведения свадьбы** имеют **средний уровень надежности**. \n",
    "    * **Наиболее надежными** являются заемщики, берущие кредит **для операций с недвижимостью**. \n",
    "\n",
    "Все полученные данные можно использовать при формировании кредитного скоринга заемщиков банком. "
   ]
  }
 ],
 "metadata": {
  "ExecuteTimeLog": [
   {
    "duration": 51,
    "start_time": "2023-01-24T16:13:27.275Z"
   },
   {
    "duration": 476,
    "start_time": "2023-01-24T16:13:34.472Z"
   },
   {
    "duration": 28,
    "start_time": "2023-01-24T16:13:34.950Z"
   },
   {
    "duration": 17,
    "start_time": "2023-01-24T16:13:34.980Z"
   },
   {
    "duration": 16,
    "start_time": "2023-01-24T16:13:34.999Z"
   },
   {
    "duration": 62,
    "start_time": "2023-01-24T16:13:35.017Z"
   },
   {
    "duration": 4,
    "start_time": "2023-01-24T16:13:35.081Z"
   },
   {
    "duration": 26,
    "start_time": "2023-01-24T16:13:35.088Z"
   },
   {
    "duration": 6,
    "start_time": "2023-01-24T16:13:35.116Z"
   },
   {
    "duration": 9,
    "start_time": "2023-01-24T16:13:35.127Z"
   },
   {
    "duration": 5,
    "start_time": "2023-01-24T16:13:35.148Z"
   },
   {
    "duration": 43,
    "start_time": "2023-01-24T16:13:35.155Z"
   },
   {
    "duration": 12,
    "start_time": "2023-01-24T16:13:35.199Z"
   },
   {
    "duration": 5,
    "start_time": "2023-01-24T16:13:35.213Z"
   },
   {
    "duration": 39,
    "start_time": "2023-01-24T16:13:35.220Z"
   },
   {
    "duration": 20,
    "start_time": "2023-01-24T16:13:35.261Z"
   },
   {
    "duration": 18,
    "start_time": "2023-01-24T16:13:35.282Z"
   },
   {
    "duration": 3,
    "start_time": "2023-01-24T16:13:35.302Z"
   },
   {
    "duration": 43,
    "start_time": "2023-01-24T16:13:35.306Z"
   },
   {
    "duration": 7,
    "start_time": "2023-01-24T16:13:35.350Z"
   },
   {
    "duration": 10,
    "start_time": "2023-01-24T16:13:35.358Z"
   },
   {
    "duration": 17,
    "start_time": "2023-01-24T16:13:35.370Z"
   },
   {
    "duration": 18,
    "start_time": "2023-01-24T16:13:35.389Z"
   },
   {
    "duration": 970,
    "start_time": "2023-01-24T16:13:35.410Z"
   },
   {
    "duration": 0,
    "start_time": "2023-01-24T16:13:36.383Z"
   },
   {
    "duration": 0,
    "start_time": "2023-01-24T16:13:36.384Z"
   },
   {
    "duration": 0,
    "start_time": "2023-01-24T16:13:36.385Z"
   },
   {
    "duration": 4,
    "start_time": "2023-01-24T16:14:51.817Z"
   },
   {
    "duration": 6,
    "start_time": "2023-01-24T16:15:02.209Z"
   },
   {
    "duration": 16,
    "start_time": "2023-01-24T16:17:17.155Z"
   },
   {
    "duration": 701,
    "start_time": "2023-01-24T16:17:56.615Z"
   },
   {
    "duration": 14,
    "start_time": "2023-01-24T16:18:07.360Z"
   },
   {
    "duration": 7,
    "start_time": "2023-01-24T16:18:43.685Z"
   },
   {
    "duration": 10,
    "start_time": "2023-01-24T16:18:55.457Z"
   },
   {
    "duration": 55,
    "start_time": "2023-01-24T16:25:46.462Z"
   },
   {
    "duration": 10,
    "start_time": "2023-01-24T16:25:50.508Z"
   },
   {
    "duration": 11,
    "start_time": "2023-01-24T16:26:02.428Z"
   },
   {
    "duration": 9,
    "start_time": "2023-01-24T16:26:07.410Z"
   },
   {
    "duration": 10,
    "start_time": "2023-01-24T16:26:19.506Z"
   },
   {
    "duration": 8,
    "start_time": "2023-01-24T16:26:50.000Z"
   },
   {
    "duration": 716,
    "start_time": "2023-01-24T16:36:44.894Z"
   },
   {
    "duration": 35,
    "start_time": "2023-01-24T16:36:45.613Z"
   },
   {
    "duration": 19,
    "start_time": "2023-01-24T16:36:45.654Z"
   },
   {
    "duration": 10,
    "start_time": "2023-01-24T16:36:45.675Z"
   },
   {
    "duration": 40,
    "start_time": "2023-01-24T16:36:45.687Z"
   },
   {
    "duration": 13,
    "start_time": "2023-01-24T16:36:45.742Z"
   },
   {
    "duration": 17,
    "start_time": "2023-01-24T16:36:45.757Z"
   },
   {
    "duration": 8,
    "start_time": "2023-01-24T16:36:45.777Z"
   },
   {
    "duration": 11,
    "start_time": "2023-01-24T16:36:45.787Z"
   },
   {
    "duration": 5,
    "start_time": "2023-01-24T16:36:45.801Z"
   },
   {
    "duration": 67,
    "start_time": "2023-01-24T16:36:45.808Z"
   },
   {
    "duration": 12,
    "start_time": "2023-01-24T16:36:45.877Z"
   },
   {
    "duration": 5,
    "start_time": "2023-01-24T16:36:45.891Z"
   },
   {
    "duration": 16,
    "start_time": "2023-01-24T16:36:45.898Z"
   },
   {
    "duration": 49,
    "start_time": "2023-01-24T16:36:45.916Z"
   },
   {
    "duration": 24,
    "start_time": "2023-01-24T16:36:45.967Z"
   },
   {
    "duration": 4,
    "start_time": "2023-01-24T16:36:45.993Z"
   },
   {
    "duration": 43,
    "start_time": "2023-01-24T16:36:45.999Z"
   },
   {
    "duration": 27,
    "start_time": "2023-01-24T16:36:46.044Z"
   },
   {
    "duration": 16,
    "start_time": "2023-01-24T16:36:46.073Z"
   },
   {
    "duration": 28,
    "start_time": "2023-01-24T16:36:46.091Z"
   },
   {
    "duration": 27,
    "start_time": "2023-01-24T16:36:46.120Z"
   },
   {
    "duration": 83,
    "start_time": "2023-01-24T16:36:46.148Z"
   },
   {
    "duration": 0,
    "start_time": "2023-01-24T16:36:46.233Z"
   },
   {
    "duration": 0,
    "start_time": "2023-01-24T16:36:46.235Z"
   },
   {
    "duration": 0,
    "start_time": "2023-01-24T16:36:46.235Z"
   },
   {
    "duration": 7,
    "start_time": "2023-01-24T16:37:41.514Z"
   },
   {
    "duration": 6,
    "start_time": "2023-01-24T16:37:54.238Z"
   },
   {
    "duration": 8,
    "start_time": "2023-01-24T16:39:45.522Z"
   },
   {
    "duration": 10,
    "start_time": "2023-01-24T16:42:22.821Z"
   },
   {
    "duration": 8,
    "start_time": "2023-01-24T16:42:44.860Z"
   },
   {
    "duration": 23,
    "start_time": "2023-01-24T16:43:11.087Z"
   },
   {
    "duration": 8,
    "start_time": "2023-01-24T16:43:24.427Z"
   },
   {
    "duration": 11,
    "start_time": "2023-01-24T16:44:01.363Z"
   },
   {
    "duration": 10,
    "start_time": "2023-01-24T16:44:03.775Z"
   },
   {
    "duration": 14,
    "start_time": "2023-01-24T16:57:45.901Z"
   },
   {
    "duration": 8,
    "start_time": "2023-01-24T16:59:20.774Z"
   },
   {
    "duration": 9,
    "start_time": "2023-01-24T17:17:35.270Z"
   },
   {
    "duration": 17,
    "start_time": "2023-01-24T17:19:04.401Z"
   },
   {
    "duration": 17,
    "start_time": "2023-01-24T17:19:24.512Z"
   },
   {
    "duration": 20,
    "start_time": "2023-01-24T17:19:29.719Z"
   },
   {
    "duration": 23,
    "start_time": "2023-01-24T17:19:35.863Z"
   },
   {
    "duration": 20,
    "start_time": "2023-01-24T17:20:19.557Z"
   },
   {
    "duration": 12,
    "start_time": "2023-01-24T17:20:56.511Z"
   },
   {
    "duration": 24,
    "start_time": "2023-01-24T17:21:00.038Z"
   },
   {
    "duration": 21,
    "start_time": "2023-01-24T17:21:09.792Z"
   },
   {
    "duration": 14,
    "start_time": "2023-01-24T17:21:15.734Z"
   },
   {
    "duration": 11,
    "start_time": "2023-01-24T17:21:52.416Z"
   },
   {
    "duration": 29,
    "start_time": "2023-01-24T17:22:06.418Z"
   },
   {
    "duration": 9,
    "start_time": "2023-01-24T17:27:40.563Z"
   },
   {
    "duration": 9,
    "start_time": "2023-01-24T17:27:48.647Z"
   },
   {
    "duration": 46,
    "start_time": "2023-01-24T17:28:55.691Z"
   },
   {
    "duration": 15,
    "start_time": "2023-01-24T17:29:03.644Z"
   },
   {
    "duration": 13,
    "start_time": "2023-01-24T17:32:58.793Z"
   },
   {
    "duration": 14,
    "start_time": "2023-01-24T17:33:43.562Z"
   },
   {
    "duration": 4,
    "start_time": "2023-01-24T17:42:41.341Z"
   },
   {
    "duration": 8,
    "start_time": "2023-01-24T17:42:42.671Z"
   },
   {
    "duration": 11,
    "start_time": "2023-01-24T17:42:44.090Z"
   },
   {
    "duration": 4,
    "start_time": "2023-01-24T17:42:52.573Z"
   },
   {
    "duration": 9,
    "start_time": "2023-01-24T17:42:53.015Z"
   },
   {
    "duration": 10,
    "start_time": "2023-01-24T17:42:53.233Z"
   },
   {
    "duration": 3,
    "start_time": "2023-01-24T17:44:43.988Z"
   },
   {
    "duration": 4,
    "start_time": "2023-01-24T17:45:08.871Z"
   },
   {
    "duration": 7,
    "start_time": "2023-01-24T17:45:12.389Z"
   },
   {
    "duration": 8,
    "start_time": "2023-01-24T17:45:41.549Z"
   },
   {
    "duration": 9,
    "start_time": "2023-01-24T17:46:41.489Z"
   },
   {
    "duration": 10,
    "start_time": "2023-01-24T17:46:44.411Z"
   },
   {
    "duration": 8,
    "start_time": "2023-01-24T17:47:18.277Z"
   },
   {
    "duration": 9,
    "start_time": "2023-01-24T17:47:28.441Z"
   },
   {
    "duration": 11,
    "start_time": "2023-01-24T17:47:31.161Z"
   },
   {
    "duration": 5,
    "start_time": "2023-01-24T17:50:10.037Z"
   },
   {
    "duration": 8,
    "start_time": "2023-01-24T17:50:10.204Z"
   },
   {
    "duration": 9,
    "start_time": "2023-01-24T17:50:10.379Z"
   },
   {
    "duration": 8,
    "start_time": "2023-01-24T17:51:46.786Z"
   },
   {
    "duration": 9,
    "start_time": "2023-01-24T17:51:47.237Z"
   },
   {
    "duration": 3,
    "start_time": "2023-01-24T17:53:07.950Z"
   },
   {
    "duration": 41,
    "start_time": "2023-01-24T18:02:36.624Z"
   },
   {
    "duration": 13,
    "start_time": "2023-01-24T18:02:51.648Z"
   },
   {
    "duration": 62,
    "start_time": "2023-01-24T18:05:35.525Z"
   },
   {
    "duration": 17,
    "start_time": "2023-01-24T18:05:38.042Z"
   },
   {
    "duration": 13,
    "start_time": "2023-01-24T18:06:15.472Z"
   },
   {
    "duration": 5,
    "start_time": "2023-01-24T18:17:46.985Z"
   },
   {
    "duration": 11,
    "start_time": "2023-01-24T18:17:48.478Z"
   },
   {
    "duration": 12,
    "start_time": "2023-01-24T18:17:48.696Z"
   },
   {
    "duration": 9,
    "start_time": "2023-01-24T18:17:52.186Z"
   },
   {
    "duration": 4,
    "start_time": "2023-01-24T18:17:53.240Z"
   },
   {
    "duration": 3,
    "start_time": "2023-01-24T18:19:21.908Z"
   },
   {
    "duration": 186,
    "start_time": "2023-01-24T18:19:22.250Z"
   },
   {
    "duration": 52,
    "start_time": "2023-01-24T18:19:46.095Z"
   },
   {
    "duration": 387,
    "start_time": "2023-01-24T18:19:52.152Z"
   },
   {
    "duration": 44,
    "start_time": "2023-01-24T18:19:54.967Z"
   },
   {
    "duration": 371,
    "start_time": "2023-01-24T18:20:05.535Z"
   },
   {
    "duration": 182,
    "start_time": "2023-01-24T18:20:10.302Z"
   },
   {
    "duration": 184,
    "start_time": "2023-01-24T18:20:12.715Z"
   },
   {
    "duration": 3,
    "start_time": "2023-01-24T18:20:16.099Z"
   },
   {
    "duration": 211,
    "start_time": "2023-01-24T18:20:20.170Z"
   },
   {
    "duration": 12,
    "start_time": "2023-01-24T18:20:32.590Z"
   },
   {
    "duration": 12,
    "start_time": "2023-01-24T18:20:42.553Z"
   },
   {
    "duration": 7,
    "start_time": "2023-01-24T18:21:08.021Z"
   },
   {
    "duration": 8,
    "start_time": "2023-01-24T18:21:38.693Z"
   },
   {
    "duration": 5,
    "start_time": "2023-01-24T18:56:02.515Z"
   },
   {
    "duration": 7,
    "start_time": "2023-01-24T18:56:02.932Z"
   },
   {
    "duration": 10,
    "start_time": "2023-01-24T18:56:03.894Z"
   },
   {
    "duration": 93,
    "start_time": "2023-01-25T08:30:13.286Z"
   },
   {
    "duration": 45,
    "start_time": "2023-01-25T22:06:41.369Z"
   },
   {
    "duration": 46,
    "start_time": "2023-01-25T22:07:12.003Z"
   },
   {
    "duration": 785,
    "start_time": "2023-01-25T22:07:19.863Z"
   },
   {
    "duration": 24,
    "start_time": "2023-01-25T22:07:20.651Z"
   },
   {
    "duration": 17,
    "start_time": "2023-01-25T22:07:20.677Z"
   },
   {
    "duration": 11,
    "start_time": "2023-01-25T22:07:20.696Z"
   },
   {
    "duration": 41,
    "start_time": "2023-01-25T22:07:20.709Z"
   },
   {
    "duration": 3,
    "start_time": "2023-01-25T22:07:20.752Z"
   },
   {
    "duration": 11,
    "start_time": "2023-01-25T22:07:20.757Z"
   },
   {
    "duration": 22,
    "start_time": "2023-01-25T22:07:20.770Z"
   },
   {
    "duration": 13,
    "start_time": "2023-01-25T22:07:20.794Z"
   },
   {
    "duration": 4,
    "start_time": "2023-01-25T22:07:20.810Z"
   },
   {
    "duration": 42,
    "start_time": "2023-01-25T22:07:20.815Z"
   },
   {
    "duration": 10,
    "start_time": "2023-01-25T22:07:20.859Z"
   },
   {
    "duration": 20,
    "start_time": "2023-01-25T22:07:20.871Z"
   },
   {
    "duration": 12,
    "start_time": "2023-01-25T22:07:20.893Z"
   },
   {
    "duration": 29,
    "start_time": "2023-01-25T22:07:20.907Z"
   },
   {
    "duration": 16,
    "start_time": "2023-01-25T22:07:20.938Z"
   },
   {
    "duration": 4,
    "start_time": "2023-01-25T22:07:20.956Z"
   },
   {
    "duration": 31,
    "start_time": "2023-01-25T22:07:20.961Z"
   },
   {
    "duration": 6,
    "start_time": "2023-01-25T22:07:20.994Z"
   },
   {
    "duration": 6,
    "start_time": "2023-01-25T22:07:21.001Z"
   },
   {
    "duration": 15,
    "start_time": "2023-01-25T22:07:21.009Z"
   },
   {
    "duration": 13,
    "start_time": "2023-01-25T22:07:21.026Z"
   },
   {
    "duration": 16,
    "start_time": "2023-01-25T22:07:21.040Z"
   },
   {
    "duration": 7,
    "start_time": "2023-01-25T22:07:21.058Z"
   },
   {
    "duration": 26,
    "start_time": "2023-01-25T22:07:21.067Z"
   },
   {
    "duration": 23,
    "start_time": "2023-01-25T22:07:21.094Z"
   },
   {
    "duration": 8,
    "start_time": "2023-01-25T22:07:21.119Z"
   },
   {
    "duration": 13,
    "start_time": "2023-01-25T22:07:21.129Z"
   },
   {
    "duration": 7,
    "start_time": "2023-01-25T22:07:21.143Z"
   },
   {
    "duration": 18,
    "start_time": "2023-01-25T22:07:21.151Z"
   },
   {
    "duration": 27,
    "start_time": "2023-01-25T22:07:21.171Z"
   },
   {
    "duration": 32,
    "start_time": "2023-01-25T22:07:21.199Z"
   },
   {
    "duration": 15,
    "start_time": "2023-01-25T22:07:51.536Z"
   },
   {
    "duration": 3,
    "start_time": "2023-01-25T22:08:51.424Z"
   },
   {
    "duration": 23,
    "start_time": "2023-01-25T22:08:58.855Z"
   },
   {
    "duration": 17,
    "start_time": "2023-01-25T22:09:26.589Z"
   },
   {
    "duration": 15,
    "start_time": "2023-01-25T22:10:09.253Z"
   },
   {
    "duration": 16,
    "start_time": "2023-01-25T22:10:48.930Z"
   },
   {
    "duration": 46,
    "start_time": "2023-01-25T22:11:22.200Z"
   },
   {
    "duration": 497,
    "start_time": "2023-01-25T22:11:35.561Z"
   },
   {
    "duration": 20,
    "start_time": "2023-01-25T22:11:36.061Z"
   },
   {
    "duration": 15,
    "start_time": "2023-01-25T22:11:36.082Z"
   },
   {
    "duration": 10,
    "start_time": "2023-01-25T22:11:36.099Z"
   },
   {
    "duration": 38,
    "start_time": "2023-01-25T22:11:36.111Z"
   },
   {
    "duration": 4,
    "start_time": "2023-01-25T22:11:36.151Z"
   },
   {
    "duration": 21,
    "start_time": "2023-01-25T22:11:36.156Z"
   },
   {
    "duration": 15,
    "start_time": "2023-01-25T22:11:36.179Z"
   },
   {
    "duration": 7,
    "start_time": "2023-01-25T22:11:36.196Z"
   },
   {
    "duration": 4,
    "start_time": "2023-01-25T22:11:36.206Z"
   },
   {
    "duration": 39,
    "start_time": "2023-01-25T22:11:36.211Z"
   },
   {
    "duration": 10,
    "start_time": "2023-01-25T22:11:36.252Z"
   },
   {
    "duration": 6,
    "start_time": "2023-01-25T22:11:36.292Z"
   },
   {
    "duration": 27,
    "start_time": "2023-01-25T22:11:36.300Z"
   },
   {
    "duration": 28,
    "start_time": "2023-01-25T22:11:36.330Z"
   },
   {
    "duration": 36,
    "start_time": "2023-01-25T22:11:36.360Z"
   },
   {
    "duration": 5,
    "start_time": "2023-01-25T22:11:36.399Z"
   },
   {
    "duration": 21,
    "start_time": "2023-01-25T22:11:36.406Z"
   },
   {
    "duration": 19,
    "start_time": "2023-01-25T22:11:36.429Z"
   },
   {
    "duration": 12,
    "start_time": "2023-01-25T22:11:36.450Z"
   },
   {
    "duration": 20,
    "start_time": "2023-01-25T22:11:36.464Z"
   },
   {
    "duration": 23,
    "start_time": "2023-01-25T22:11:36.486Z"
   },
   {
    "duration": 15,
    "start_time": "2023-01-25T22:11:36.511Z"
   },
   {
    "duration": 15,
    "start_time": "2023-01-25T22:11:36.528Z"
   },
   {
    "duration": 3,
    "start_time": "2023-01-25T22:11:36.545Z"
   },
   {
    "duration": 12,
    "start_time": "2023-01-25T22:11:36.549Z"
   },
   {
    "duration": 39,
    "start_time": "2023-01-25T22:11:36.562Z"
   },
   {
    "duration": 14,
    "start_time": "2023-01-25T22:11:36.604Z"
   },
   {
    "duration": 3,
    "start_time": "2023-01-25T22:11:36.619Z"
   },
   {
    "duration": 11,
    "start_time": "2023-01-25T22:11:36.624Z"
   },
   {
    "duration": 16,
    "start_time": "2023-01-25T22:11:36.636Z"
   },
   {
    "duration": 39,
    "start_time": "2023-01-25T22:11:36.654Z"
   },
   {
    "duration": 520,
    "start_time": "2023-01-26T06:25:20.566Z"
   },
   {
    "duration": 22,
    "start_time": "2023-01-26T06:25:21.088Z"
   },
   {
    "duration": 62,
    "start_time": "2023-01-26T06:25:21.112Z"
   },
   {
    "duration": 66,
    "start_time": "2023-01-26T06:25:21.176Z"
   },
   {
    "duration": 73,
    "start_time": "2023-01-26T06:25:21.243Z"
   },
   {
    "duration": 37,
    "start_time": "2023-01-26T06:25:21.318Z"
   },
   {
    "duration": 100,
    "start_time": "2023-01-26T06:25:21.356Z"
   },
   {
    "duration": 46,
    "start_time": "2023-01-26T06:25:21.458Z"
   },
   {
    "duration": 72,
    "start_time": "2023-01-26T06:25:21.506Z"
   },
   {
    "duration": 54,
    "start_time": "2023-01-26T06:25:21.581Z"
   },
   {
    "duration": 64,
    "start_time": "2023-01-26T06:25:21.637Z"
   },
   {
    "duration": 27,
    "start_time": "2023-01-26T06:25:21.703Z"
   },
   {
    "duration": 49,
    "start_time": "2023-01-26T06:25:21.732Z"
   },
   {
    "duration": 64,
    "start_time": "2023-01-26T06:25:21.783Z"
   },
   {
    "duration": 103,
    "start_time": "2023-01-26T06:25:21.849Z"
   },
   {
    "duration": 57,
    "start_time": "2023-01-26T06:25:21.954Z"
   },
   {
    "duration": 35,
    "start_time": "2023-01-26T06:25:22.013Z"
   },
   {
    "duration": 56,
    "start_time": "2023-01-26T06:25:22.049Z"
   },
   {
    "duration": 72,
    "start_time": "2023-01-26T06:25:22.107Z"
   },
   {
    "duration": 71,
    "start_time": "2023-01-26T06:25:22.181Z"
   },
   {
    "duration": 102,
    "start_time": "2023-01-26T06:25:22.254Z"
   },
   {
    "duration": 89,
    "start_time": "2023-01-26T06:25:22.358Z"
   },
   {
    "duration": 84,
    "start_time": "2023-01-26T06:25:22.449Z"
   },
   {
    "duration": 53,
    "start_time": "2023-01-26T06:25:22.534Z"
   },
   {
    "duration": 16,
    "start_time": "2023-01-26T06:25:22.588Z"
   },
   {
    "duration": 46,
    "start_time": "2023-01-26T06:25:22.605Z"
   },
   {
    "duration": 72,
    "start_time": "2023-01-26T06:25:22.653Z"
   },
   {
    "duration": 28,
    "start_time": "2023-01-26T06:25:22.727Z"
   },
   {
    "duration": 38,
    "start_time": "2023-01-26T06:25:22.757Z"
   },
   {
    "duration": 48,
    "start_time": "2023-01-26T06:25:22.797Z"
   },
   {
    "duration": 28,
    "start_time": "2023-01-26T06:25:22.847Z"
   },
   {
    "duration": 27,
    "start_time": "2023-01-26T06:25:22.876Z"
   },
   {
    "duration": 104,
    "start_time": "2023-01-26T06:26:15.610Z"
   }
  ],
  "colab": {
   "name": "dpp_template_part2.ipynb",
   "provenance": []
  },
  "kernelspec": {
   "display_name": "Python 3 (ipykernel)",
   "language": "python",
   "name": "python3"
  },
  "language_info": {
   "codemirror_mode": {
    "name": "ipython",
    "version": 3
   },
   "file_extension": ".py",
   "mimetype": "text/x-python",
   "name": "python",
   "nbconvert_exporter": "python",
   "pygments_lexer": "ipython3",
   "version": "3.9.5"
  },
  "toc": {
   "base_numbering": 1,
   "nav_menu": {},
   "number_sections": true,
   "sideBar": true,
   "skip_h1_title": true,
   "title_cell": "Table of Contents",
   "title_sidebar": "Contents",
   "toc_cell": false,
   "toc_position": {
    "height": "448.182px",
    "left": "32px",
    "top": "111.08px",
    "width": "375.277px"
   },
   "toc_section_display": true,
   "toc_window_display": false
  }
 },
 "nbformat": 4,
 "nbformat_minor": 5
}
