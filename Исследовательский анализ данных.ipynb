{
 "cells": [
  {
   "cell_type": "markdown",
   "metadata": {},
   "source": [
    "# Исследование объявлений о продаже квартир"
   ]
  },
  {
   "cell_type": "markdown",
   "metadata": {},
   "source": [
    "**Описание проекта**\n",
    "\n",
    "В вашем распоряжении данные сервиса Яндекс.Недвижимость — архив объявлений о продаже квартир в Санкт-Петербурге и соседних населённых пунктов за несколько лет. Нужно научиться определять рыночную стоимость объектов недвижимости. Ваша задача — установить параметры. Это позволит построить автоматизированную систему: она отследит аномалии и мошенническую деятельность. \n",
    "\n",
    "По каждой квартире на продажу доступны два вида данных. Первые вписаны пользователем, вторые — получены автоматически на основе картографических данных. Например, расстояние до центра, аэропорта, ближайшего парка и водоёма. \n"
   ]
  },
  {
   "cell_type": "markdown",
   "metadata": {},
   "source": [
    "**Описание данных**\n",
    "* `airports_nearest` — расстояние до ближайшего аэропорта в метрах (м)\n",
    "* `balcony` — число балконов\n",
    "* `ceiling_height` — высота потолков (м)\n",
    "* `cityCenters_nearest` — расстояние до центра города (м)\n",
    "* `days_exposition` — сколько дней было размещено объявление (от публикации до снятия)\n",
    "* `first_day_exposition` — дата публикации\n",
    "* `floor` — этаж\n",
    "* `floors_total` — всего этажей в доме\n",
    "* `is_apartment` — апартаменты (булев тип)\n",
    "* `kitchen_area` — площадь кухни в квадратных метрах (м²)\n",
    "* `last_price` — цена на момент снятия с публикации\n",
    "* `living_area` — жилая площадь в квадратных метрах (м²)\n",
    "* `locality_name` — название населённого пункта\n",
    "* `open_plan` — свободная планировка (булев тип)\n",
    "* `parks_around3000` — число парков в радиусе 3 км\n",
    "* `parks_nearest` — расстояние до ближайшего парка (м)\n",
    "* `ponds_around3000` — число водоёмов в радиусе 3 км\n",
    "* `ponds_nearest` — расстояние до ближайшего водоёма (м)\n",
    "* `rooms` — число комнат\n",
    "* `studio` — квартира-студия (булев тип)\n",
    "* `total_area` — общая площадь квартиры в квадратных метрах (м²)\n",
    "* `total_images` — число фотографий квартиры в объявлении"
   ]
  },
  {
   "cell_type": "markdown",
   "metadata": {},
   "source": [
    "**План работы**\n"
   ]
  },
  {
   "cell_type": "markdown",
   "metadata": {},
   "source": [
    "1. Изучение исходного файла.\n",
    "2. Предобработка данных:\n",
    "    - обработка пропусков и попытка объяснения их возникновения\n",
    "    - обработка типов данных, где это возможно\n",
    "    - обработка текстовых столбцов на уникальные значения\n",
    "    - обработка редких значений и выбросов\n",
    "3. Добавление дополнительных столбцов, необходимых для дальнейшего анализа.\n",
    "4. Исследовательский анализ данных:\n",
    "    - Изучение параметров объектов на основе гистограмм\n",
    "    - Изучение быстроты продажи квартир\n",
    "    - Изучение влияния некоторых отдельных факторов на общую стоимость жилья, а также на цену $1 м^2$.\n",
    "5. Формирование выводов."
   ]
  },
  {
   "cell_type": "markdown",
   "metadata": {},
   "source": [
    "### Откройте файл с данными и изучите общую информацию. "
   ]
  },
  {
   "cell_type": "markdown",
   "metadata": {},
   "source": [
    "Импортируем файл с исходными данными в переменную `data`. Разделителем в csv-файле выступает `\\t`."
   ]
  },
  {
   "cell_type": "code",
   "execution_count": 1,
   "metadata": {},
   "outputs": [],
   "source": [
    "import pandas as pd\n",
    "\n",
    "try:\n",
    "    data = pd.read_csv('/datasets/real_estate_data.csv', sep='\\t')\n",
    "except:\n",
    "    # здесь была ссылка на файл на сервере Яндекса"
   ]
  },
  {
   "cell_type": "markdown",
   "metadata": {},
   "source": [
    "Посмотрим на первые 5 строчек исходного датасета."
   ]
  },
  {
   "cell_type": "code",
   "execution_count": 2,
   "metadata": {
    "scrolled": true
   },
   "outputs": [
    {
     "data": {
      "text/html": [
       "<div>\n",
       "<style scoped>\n",
       "    .dataframe tbody tr th:only-of-type {\n",
       "        vertical-align: middle;\n",
       "    }\n",
       "\n",
       "    .dataframe tbody tr th {\n",
       "        vertical-align: top;\n",
       "    }\n",
       "\n",
       "    .dataframe thead th {\n",
       "        text-align: right;\n",
       "    }\n",
       "</style>\n",
       "<table border=\"1\" class=\"dataframe\">\n",
       "  <thead>\n",
       "    <tr style=\"text-align: right;\">\n",
       "      <th></th>\n",
       "      <th>total_images</th>\n",
       "      <th>last_price</th>\n",
       "      <th>total_area</th>\n",
       "      <th>first_day_exposition</th>\n",
       "      <th>rooms</th>\n",
       "      <th>ceiling_height</th>\n",
       "      <th>floors_total</th>\n",
       "      <th>living_area</th>\n",
       "      <th>floor</th>\n",
       "      <th>is_apartment</th>\n",
       "      <th>...</th>\n",
       "      <th>kitchen_area</th>\n",
       "      <th>balcony</th>\n",
       "      <th>locality_name</th>\n",
       "      <th>airports_nearest</th>\n",
       "      <th>cityCenters_nearest</th>\n",
       "      <th>parks_around3000</th>\n",
       "      <th>parks_nearest</th>\n",
       "      <th>ponds_around3000</th>\n",
       "      <th>ponds_nearest</th>\n",
       "      <th>days_exposition</th>\n",
       "    </tr>\n",
       "  </thead>\n",
       "  <tbody>\n",
       "    <tr>\n",
       "      <th>0</th>\n",
       "      <td>20</td>\n",
       "      <td>13000000.0</td>\n",
       "      <td>108.0</td>\n",
       "      <td>2019-03-07T00:00:00</td>\n",
       "      <td>3</td>\n",
       "      <td>2.70</td>\n",
       "      <td>16.0</td>\n",
       "      <td>51.0</td>\n",
       "      <td>8</td>\n",
       "      <td>NaN</td>\n",
       "      <td>...</td>\n",
       "      <td>25.0</td>\n",
       "      <td>NaN</td>\n",
       "      <td>Санкт-Петербург</td>\n",
       "      <td>18863.0</td>\n",
       "      <td>16028.0</td>\n",
       "      <td>1.0</td>\n",
       "      <td>482.0</td>\n",
       "      <td>2.0</td>\n",
       "      <td>755.0</td>\n",
       "      <td>NaN</td>\n",
       "    </tr>\n",
       "    <tr>\n",
       "      <th>1</th>\n",
       "      <td>7</td>\n",
       "      <td>3350000.0</td>\n",
       "      <td>40.4</td>\n",
       "      <td>2018-12-04T00:00:00</td>\n",
       "      <td>1</td>\n",
       "      <td>NaN</td>\n",
       "      <td>11.0</td>\n",
       "      <td>18.6</td>\n",
       "      <td>1</td>\n",
       "      <td>NaN</td>\n",
       "      <td>...</td>\n",
       "      <td>11.0</td>\n",
       "      <td>2.0</td>\n",
       "      <td>посёлок Шушары</td>\n",
       "      <td>12817.0</td>\n",
       "      <td>18603.0</td>\n",
       "      <td>0.0</td>\n",
       "      <td>NaN</td>\n",
       "      <td>0.0</td>\n",
       "      <td>NaN</td>\n",
       "      <td>81.0</td>\n",
       "    </tr>\n",
       "    <tr>\n",
       "      <th>2</th>\n",
       "      <td>10</td>\n",
       "      <td>5196000.0</td>\n",
       "      <td>56.0</td>\n",
       "      <td>2015-08-20T00:00:00</td>\n",
       "      <td>2</td>\n",
       "      <td>NaN</td>\n",
       "      <td>5.0</td>\n",
       "      <td>34.3</td>\n",
       "      <td>4</td>\n",
       "      <td>NaN</td>\n",
       "      <td>...</td>\n",
       "      <td>8.3</td>\n",
       "      <td>0.0</td>\n",
       "      <td>Санкт-Петербург</td>\n",
       "      <td>21741.0</td>\n",
       "      <td>13933.0</td>\n",
       "      <td>1.0</td>\n",
       "      <td>90.0</td>\n",
       "      <td>2.0</td>\n",
       "      <td>574.0</td>\n",
       "      <td>558.0</td>\n",
       "    </tr>\n",
       "    <tr>\n",
       "      <th>3</th>\n",
       "      <td>0</td>\n",
       "      <td>64900000.0</td>\n",
       "      <td>159.0</td>\n",
       "      <td>2015-07-24T00:00:00</td>\n",
       "      <td>3</td>\n",
       "      <td>NaN</td>\n",
       "      <td>14.0</td>\n",
       "      <td>NaN</td>\n",
       "      <td>9</td>\n",
       "      <td>NaN</td>\n",
       "      <td>...</td>\n",
       "      <td>NaN</td>\n",
       "      <td>0.0</td>\n",
       "      <td>Санкт-Петербург</td>\n",
       "      <td>28098.0</td>\n",
       "      <td>6800.0</td>\n",
       "      <td>2.0</td>\n",
       "      <td>84.0</td>\n",
       "      <td>3.0</td>\n",
       "      <td>234.0</td>\n",
       "      <td>424.0</td>\n",
       "    </tr>\n",
       "    <tr>\n",
       "      <th>4</th>\n",
       "      <td>2</td>\n",
       "      <td>10000000.0</td>\n",
       "      <td>100.0</td>\n",
       "      <td>2018-06-19T00:00:00</td>\n",
       "      <td>2</td>\n",
       "      <td>3.03</td>\n",
       "      <td>14.0</td>\n",
       "      <td>32.0</td>\n",
       "      <td>13</td>\n",
       "      <td>NaN</td>\n",
       "      <td>...</td>\n",
       "      <td>41.0</td>\n",
       "      <td>NaN</td>\n",
       "      <td>Санкт-Петербург</td>\n",
       "      <td>31856.0</td>\n",
       "      <td>8098.0</td>\n",
       "      <td>2.0</td>\n",
       "      <td>112.0</td>\n",
       "      <td>1.0</td>\n",
       "      <td>48.0</td>\n",
       "      <td>121.0</td>\n",
       "    </tr>\n",
       "  </tbody>\n",
       "</table>\n",
       "<p>5 rows × 22 columns</p>\n",
       "</div>"
      ],
      "text/plain": [
       "   total_images  last_price  total_area first_day_exposition  rooms  \\\n",
       "0            20  13000000.0       108.0  2019-03-07T00:00:00      3   \n",
       "1             7   3350000.0        40.4  2018-12-04T00:00:00      1   \n",
       "2            10   5196000.0        56.0  2015-08-20T00:00:00      2   \n",
       "3             0  64900000.0       159.0  2015-07-24T00:00:00      3   \n",
       "4             2  10000000.0       100.0  2018-06-19T00:00:00      2   \n",
       "\n",
       "   ceiling_height  floors_total  living_area  floor is_apartment  ...  \\\n",
       "0            2.70          16.0         51.0      8          NaN  ...   \n",
       "1             NaN          11.0         18.6      1          NaN  ...   \n",
       "2             NaN           5.0         34.3      4          NaN  ...   \n",
       "3             NaN          14.0          NaN      9          NaN  ...   \n",
       "4            3.03          14.0         32.0     13          NaN  ...   \n",
       "\n",
       "   kitchen_area  balcony    locality_name  airports_nearest  \\\n",
       "0          25.0      NaN  Санкт-Петербург           18863.0   \n",
       "1          11.0      2.0   посёлок Шушары           12817.0   \n",
       "2           8.3      0.0  Санкт-Петербург           21741.0   \n",
       "3           NaN      0.0  Санкт-Петербург           28098.0   \n",
       "4          41.0      NaN  Санкт-Петербург           31856.0   \n",
       "\n",
       "  cityCenters_nearest  parks_around3000  parks_nearest  ponds_around3000  \\\n",
       "0             16028.0               1.0          482.0               2.0   \n",
       "1             18603.0               0.0            NaN               0.0   \n",
       "2             13933.0               1.0           90.0               2.0   \n",
       "3              6800.0               2.0           84.0               3.0   \n",
       "4              8098.0               2.0          112.0               1.0   \n",
       "\n",
       "   ponds_nearest  days_exposition  \n",
       "0          755.0              NaN  \n",
       "1            NaN             81.0  \n",
       "2          574.0            558.0  \n",
       "3          234.0            424.0  \n",
       "4           48.0            121.0  \n",
       "\n",
       "[5 rows x 22 columns]"
      ]
     },
     "execution_count": 2,
     "metadata": {},
     "output_type": "execute_result"
    }
   ],
   "source": [
    "data.head()"
   ]
  },
  {
   "cell_type": "markdown",
   "metadata": {},
   "source": [
    "Узнаем размер исходного датасета:"
   ]
  },
  {
   "cell_type": "code",
   "execution_count": 3,
   "metadata": {},
   "outputs": [
    {
     "data": {
      "text/plain": [
       "(23699, 22)"
      ]
     },
     "execution_count": 3,
     "metadata": {},
     "output_type": "execute_result"
    }
   ],
   "source": [
    "data.shape"
   ]
  },
  {
   "cell_type": "markdown",
   "metadata": {},
   "source": [
    "Всего в исходной таблице 23699 строк и 22 столбца. <br/>\n",
    "Вызовем метод `info()`, чтобы узнать основную информацию о таблице."
   ]
  },
  {
   "cell_type": "code",
   "execution_count": 4,
   "metadata": {
    "scrolled": false
   },
   "outputs": [
    {
     "name": "stdout",
     "output_type": "stream",
     "text": [
      "<class 'pandas.core.frame.DataFrame'>\n",
      "RangeIndex: 23699 entries, 0 to 23698\n",
      "Data columns (total 22 columns):\n",
      " #   Column                Non-Null Count  Dtype  \n",
      "---  ------                --------------  -----  \n",
      " 0   total_images          23699 non-null  int64  \n",
      " 1   last_price            23699 non-null  float64\n",
      " 2   total_area            23699 non-null  float64\n",
      " 3   first_day_exposition  23699 non-null  object \n",
      " 4   rooms                 23699 non-null  int64  \n",
      " 5   ceiling_height        14504 non-null  float64\n",
      " 6   floors_total          23613 non-null  float64\n",
      " 7   living_area           21796 non-null  float64\n",
      " 8   floor                 23699 non-null  int64  \n",
      " 9   is_apartment          2775 non-null   object \n",
      " 10  studio                23699 non-null  bool   \n",
      " 11  open_plan             23699 non-null  bool   \n",
      " 12  kitchen_area          21421 non-null  float64\n",
      " 13  balcony               12180 non-null  float64\n",
      " 14  locality_name         23650 non-null  object \n",
      " 15  airports_nearest      18157 non-null  float64\n",
      " 16  cityCenters_nearest   18180 non-null  float64\n",
      " 17  parks_around3000      18181 non-null  float64\n",
      " 18  parks_nearest         8079 non-null   float64\n",
      " 19  ponds_around3000      18181 non-null  float64\n",
      " 20  ponds_nearest         9110 non-null   float64\n",
      " 21  days_exposition       20518 non-null  float64\n",
      "dtypes: bool(2), float64(14), int64(3), object(3)\n",
      "memory usage: 3.7+ MB\n"
     ]
    }
   ],
   "source": [
    "data.info()"
   ]
  },
  {
   "cell_type": "markdown",
   "metadata": {},
   "source": [
    "Как можно заметить, в таблице встречаются столбцы с пропусками. <br/> <br/>\n",
    "Построим общую гистограмму для всех числовых столбцов таблицы."
   ]
  },
  {
   "cell_type": "code",
   "execution_count": 5,
   "metadata": {},
   "outputs": [],
   "source": [
    "import matplotlib.pyplot as plt"
   ]
  },
  {
   "cell_type": "code",
   "execution_count": 6,
   "metadata": {
    "scrolled": false
   },
   "outputs": [
    {
     "data": {
      "image/png": "[encoded data removed]",
      "text/plain": [
       "<Figure size 1080x1440 with 20 Axes>"
      ]
     },
     "metadata": {
      "needs_background": "light"
     },
     "output_type": "display_data"
    }
   ],
   "source": [
    "data.hist(figsize=(15, 20))\n",
    "plt.show()"
   ]
  },
  {
   "cell_type": "markdown",
   "metadata": {},
   "source": [
    "**Вывод**:<br/>\n",
    "    Мы импортили исходную таблицу и получили общее первичное представление об исходных данных. В следующем разделе мы перейдем к предобработке данных. "
   ]
  },
  {
   "cell_type": "markdown",
   "metadata": {},
   "source": [
    "### Предобработка данных"
   ]
  },
  {
   "cell_type": "markdown",
   "metadata": {},
   "source": [
    "#### Обработка пропусков"
   ]
  },
  {
   "cell_type": "markdown",
   "metadata": {},
   "source": [
    "Выведем количество пропущенных значений для каждого столбца таблицы `data`. "
   ]
  },
  {
   "cell_type": "code",
   "execution_count": 7,
   "metadata": {
    "scrolled": false
   },
   "outputs": [
    {
     "data": {
      "text/plain": [
       "total_images                0\n",
       "last_price                  0\n",
       "total_area                  0\n",
       "first_day_exposition        0\n",
       "rooms                       0\n",
       "ceiling_height           9195\n",
       "floors_total               86\n",
       "living_area              1903\n",
       "floor                       0\n",
       "is_apartment            20924\n",
       "studio                      0\n",
       "open_plan                   0\n",
       "kitchen_area             2278\n",
       "balcony                 11519\n",
       "locality_name              49\n",
       "airports_nearest         5542\n",
       "cityCenters_nearest      5519\n",
       "parks_around3000         5518\n",
       "parks_nearest           15620\n",
       "ponds_around3000         5518\n",
       "ponds_nearest           14589\n",
       "days_exposition          3181\n",
       "dtype: int64"
      ]
     },
     "execution_count": 7,
     "metadata": {},
     "output_type": "execute_result"
    }
   ],
   "source": [
    "data.isna().sum()"
   ]
  },
  {
   "cell_type": "code",
   "execution_count": 8,
   "metadata": {},
   "outputs": [
    {
     "data": {
      "text/html": [
       "<style  type=\"text/css\" >\n",
       "#T_11dba_row0_col0,#T_11dba_row1_col0,#T_11dba_row2_col0,#T_11dba_row3_col0,#T_11dba_row4_col0,#T_11dba_row6_col0,#T_11dba_row8_col0,#T_11dba_row10_col0,#T_11dba_row11_col0,#T_11dba_row14_col0{\n",
       "            background-color:  #3b4cc0;\n",
       "            color:  #f1f1f1;\n",
       "        }#T_11dba_row5_col0{\n",
       "            background-color:  #cdd9ec;\n",
       "            color:  #000000;\n",
       "        }#T_11dba_row7_col0{\n",
       "            background-color:  #5673e0;\n",
       "            color:  #000000;\n",
       "        }#T_11dba_row9_col0{\n",
       "            background-color:  #b40426;\n",
       "            color:  #f1f1f1;\n",
       "        }#T_11dba_row12_col0{\n",
       "            background-color:  #5e7de7;\n",
       "            color:  #000000;\n",
       "        }#T_11dba_row13_col0{\n",
       "            background-color:  #ead4c8;\n",
       "            color:  #000000;\n",
       "        }#T_11dba_row15_col0,#T_11dba_row16_col0,#T_11dba_row17_col0,#T_11dba_row19_col0{\n",
       "            background-color:  #90b2fe;\n",
       "            color:  #000000;\n",
       "        }#T_11dba_row18_col0{\n",
       "            background-color:  #f4987a;\n",
       "            color:  #000000;\n",
       "        }#T_11dba_row20_col0{\n",
       "            background-color:  #f7aa8c;\n",
       "            color:  #000000;\n",
       "        }#T_11dba_row21_col0{\n",
       "            background-color:  #688aef;\n",
       "            color:  #000000;\n",
       "        }</style><table id=\"T_11dba_\" ><thead>    <tr>        <th class=\"blank level0\" ></th>        <th class=\"col_heading level0 col0\" >0</th>    </tr></thead><tbody>\n",
       "                <tr>\n",
       "                        <th id=\"T_11dba_level0_row0\" class=\"row_heading level0 row0\" >total_images</th>\n",
       "                        <td id=\"T_11dba_row0_col0\" class=\"data row0 col0\" >0.000000</td>\n",
       "            </tr>\n",
       "            <tr>\n",
       "                        <th id=\"T_11dba_level0_row1\" class=\"row_heading level0 row1\" >last_price</th>\n",
       "                        <td id=\"T_11dba_row1_col0\" class=\"data row1 col0\" >0.000000</td>\n",
       "            </tr>\n",
       "            <tr>\n",
       "                        <th id=\"T_11dba_level0_row2\" class=\"row_heading level0 row2\" >total_area</th>\n",
       "                        <td id=\"T_11dba_row2_col0\" class=\"data row2 col0\" >0.000000</td>\n",
       "            </tr>\n",
       "            <tr>\n",
       "                        <th id=\"T_11dba_level0_row3\" class=\"row_heading level0 row3\" >first_day_exposition</th>\n",
       "                        <td id=\"T_11dba_row3_col0\" class=\"data row3 col0\" >0.000000</td>\n",
       "            </tr>\n",
       "            <tr>\n",
       "                        <th id=\"T_11dba_level0_row4\" class=\"row_heading level0 row4\" >rooms</th>\n",
       "                        <td id=\"T_11dba_row4_col0\" class=\"data row4 col0\" >0.000000</td>\n",
       "            </tr>\n",
       "            <tr>\n",
       "                        <th id=\"T_11dba_level0_row5\" class=\"row_heading level0 row5\" >ceiling_height</th>\n",
       "                        <td id=\"T_11dba_row5_col0\" class=\"data row5 col0\" >39.000000</td>\n",
       "            </tr>\n",
       "            <tr>\n",
       "                        <th id=\"T_11dba_level0_row6\" class=\"row_heading level0 row6\" >floors_total</th>\n",
       "                        <td id=\"T_11dba_row6_col0\" class=\"data row6 col0\" >0.000000</td>\n",
       "            </tr>\n",
       "            <tr>\n",
       "                        <th id=\"T_11dba_level0_row7\" class=\"row_heading level0 row7\" >living_area</th>\n",
       "                        <td id=\"T_11dba_row7_col0\" class=\"data row7 col0\" >8.000000</td>\n",
       "            </tr>\n",
       "            <tr>\n",
       "                        <th id=\"T_11dba_level0_row8\" class=\"row_heading level0 row8\" >floor</th>\n",
       "                        <td id=\"T_11dba_row8_col0\" class=\"data row8 col0\" >0.000000</td>\n",
       "            </tr>\n",
       "            <tr>\n",
       "                        <th id=\"T_11dba_level0_row9\" class=\"row_heading level0 row9\" >is_apartment</th>\n",
       "                        <td id=\"T_11dba_row9_col0\" class=\"data row9 col0\" >88.000000</td>\n",
       "            </tr>\n",
       "            <tr>\n",
       "                        <th id=\"T_11dba_level0_row10\" class=\"row_heading level0 row10\" >studio</th>\n",
       "                        <td id=\"T_11dba_row10_col0\" class=\"data row10 col0\" >0.000000</td>\n",
       "            </tr>\n",
       "            <tr>\n",
       "                        <th id=\"T_11dba_level0_row11\" class=\"row_heading level0 row11\" >open_plan</th>\n",
       "                        <td id=\"T_11dba_row11_col0\" class=\"data row11 col0\" >0.000000</td>\n",
       "            </tr>\n",
       "            <tr>\n",
       "                        <th id=\"T_11dba_level0_row12\" class=\"row_heading level0 row12\" >kitchen_area</th>\n",
       "                        <td id=\"T_11dba_row12_col0\" class=\"data row12 col0\" >10.000000</td>\n",
       "            </tr>\n",
       "            <tr>\n",
       "                        <th id=\"T_11dba_level0_row13\" class=\"row_heading level0 row13\" >balcony</th>\n",
       "                        <td id=\"T_11dba_row13_col0\" class=\"data row13 col0\" >49.000000</td>\n",
       "            </tr>\n",
       "            <tr>\n",
       "                        <th id=\"T_11dba_level0_row14\" class=\"row_heading level0 row14\" >locality_name</th>\n",
       "                        <td id=\"T_11dba_row14_col0\" class=\"data row14 col0\" >0.000000</td>\n",
       "            </tr>\n",
       "            <tr>\n",
       "                        <th id=\"T_11dba_level0_row15\" class=\"row_heading level0 row15\" >airports_nearest</th>\n",
       "                        <td id=\"T_11dba_row15_col0\" class=\"data row15 col0\" >23.000000</td>\n",
       "            </tr>\n",
       "            <tr>\n",
       "                        <th id=\"T_11dba_level0_row16\" class=\"row_heading level0 row16\" >cityCenters_nearest</th>\n",
       "                        <td id=\"T_11dba_row16_col0\" class=\"data row16 col0\" >23.000000</td>\n",
       "            </tr>\n",
       "            <tr>\n",
       "                        <th id=\"T_11dba_level0_row17\" class=\"row_heading level0 row17\" >parks_around3000</th>\n",
       "                        <td id=\"T_11dba_row17_col0\" class=\"data row17 col0\" >23.000000</td>\n",
       "            </tr>\n",
       "            <tr>\n",
       "                        <th id=\"T_11dba_level0_row18\" class=\"row_heading level0 row18\" >parks_nearest</th>\n",
       "                        <td id=\"T_11dba_row18_col0\" class=\"data row18 col0\" >66.000000</td>\n",
       "            </tr>\n",
       "            <tr>\n",
       "                        <th id=\"T_11dba_level0_row19\" class=\"row_heading level0 row19\" >ponds_around3000</th>\n",
       "                        <td id=\"T_11dba_row19_col0\" class=\"data row19 col0\" >23.000000</td>\n",
       "            </tr>\n",
       "            <tr>\n",
       "                        <th id=\"T_11dba_level0_row20\" class=\"row_heading level0 row20\" >ponds_nearest</th>\n",
       "                        <td id=\"T_11dba_row20_col0\" class=\"data row20 col0\" >62.000000</td>\n",
       "            </tr>\n",
       "            <tr>\n",
       "                        <th id=\"T_11dba_level0_row21\" class=\"row_heading level0 row21\" >days_exposition</th>\n",
       "                        <td id=\"T_11dba_row21_col0\" class=\"data row21 col0\" >13.000000</td>\n",
       "            </tr>\n",
       "    </tbody></table>"
      ],
      "text/plain": [
       "<pandas.io.formats.style.Styler at 0x7faa6ba79280>"
      ]
     },
     "execution_count": 8,
     "metadata": {},
     "output_type": "execute_result"
    }
   ],
   "source": [
    "pd.DataFrame(round(data.isna().mean()*100,)).style.background_gradient('coolwarm')"
   ]
  },
  {
   "cell_type": "markdown",
   "metadata": {},
   "source": [
    "Наибольшее количество пропусков наблюдается в следующих столбцах:\n",
    "* `is_apartment`\n",
    "* `balcony`\n",
    "* `parks_nearest`\n",
    "* `ponds_nearest` \n",
    "\n",
    "В остальных столбцах число пропусков меньше 6 тысяч. Обработаем в первую очередь эти столбцы."
   ]
  },
  {
   "cell_type": "markdown",
   "metadata": {},
   "source": [
    "Касательно пропусков столбцах `balcony` и `is_apartment` логично предположить следующее: \n",
    "* если продавец не указал число балконов, то, скорее всего, в его квартире их нет. Такие пропуски правильно заменить на 0.\n",
    "* если продавец не указал, что квартира является апартаментами, то скорее всего это не апартаменты. Такие пропуски можно заменить на 0 (False)."
   ]
  },
  {
   "cell_type": "code",
   "execution_count": 9,
   "metadata": {
    "scrolled": false
   },
   "outputs": [
    {
     "data": {
      "text/plain": [
       "0"
      ]
     },
     "execution_count": 9,
     "metadata": {},
     "output_type": "execute_result"
    }
   ],
   "source": [
    "# заменим пропуски\n",
    "data.loc[data['is_apartment'].isna(), 'is_apartment'] = 0\n",
    "# проверим, что в данном столбце не осталось пропусков\n",
    "data['is_apartment'].isna().sum()"
   ]
  },
  {
   "cell_type": "code",
   "execution_count": 10,
   "metadata": {},
   "outputs": [
    {
     "data": {
      "text/plain": [
       "0"
      ]
     },
     "execution_count": 10,
     "metadata": {},
     "output_type": "execute_result"
    }
   ],
   "source": [
    "# заменим пропуски\n",
    "data.loc[data['balcony'].isna() == True, 'balcony'] = 0 \n",
    "# проверим, что в данном столбце не осталось пропусков\n",
    "data['balcony'].isna().sum()"
   ]
  },
  {
   "cell_type": "markdown",
   "metadata": {},
   "source": [
    "<div class=\"alert alert-block alert-success\">✔️\n",
    "    \n",
    "\n",
    "__Комментарий от ревьюера №1__\n",
    "\n",
    "Согласен, если пропуск - вероятнее всего балкон отсутствует"
   ]
  },
  {
   "cell_type": "markdown",
   "metadata": {},
   "source": [
    "Обсудим пропуски в столбцах `parks_nearest` и `ponds_nearest`.\n",
    "(Напомним, что `parks_nearest` — расстояние до ближайшего парка (м), \n",
    "`ponds_nearest` — расстояние до ближайшего водоёма (м)).\n",
    "\n",
    "Заметим ниже, что для столбцов, в которых пропущены значения расстояния до ближайшего парка и водоема, ни парков, ни водоемов в радиусе 3 км нет. "
   ]
  },
  {
   "cell_type": "code",
   "execution_count": 11,
   "metadata": {},
   "outputs": [
    {
     "data": {
      "text/plain": [
       "0.0"
      ]
     },
     "execution_count": 11,
     "metadata": {},
     "output_type": "execute_result"
    }
   ],
   "source": [
    "data.loc[data['parks_nearest'].isna(), 'parks_around3000'].sum()"
   ]
  },
  {
   "cell_type": "code",
   "execution_count": 12,
   "metadata": {},
   "outputs": [
    {
     "data": {
      "text/plain": [
       "0.0"
      ]
     },
     "execution_count": 12,
     "metadata": {},
     "output_type": "execute_result"
    }
   ],
   "source": [
    "data.loc[data['ponds_nearest'].isna(), 'ponds_around3000'].sum()"
   ]
  },
  {
   "cell_type": "markdown",
   "metadata": {},
   "source": [
    "Оставим пропуски в данных столбцах как есть."
   ]
  },
  {
   "cell_type": "markdown",
   "metadata": {},
   "source": [
    "Заменим пропуски в высоте потолков (`ceiling_height`) на медианное значение."
   ]
  },
  {
   "cell_type": "code",
   "execution_count": 13,
   "metadata": {},
   "outputs": [
    {
     "data": {
      "text/plain": [
       "2.65"
      ]
     },
     "execution_count": 13,
     "metadata": {},
     "output_type": "execute_result"
    }
   ],
   "source": [
    "#  рассчитаем медианное значение высоты потолков\n",
    "data.loc[data['ceiling_height'].isna() == False, 'ceiling_height'].median()"
   ]
  },
  {
   "cell_type": "markdown",
   "metadata": {},
   "source": [
    "Полученное медианное значение высоты потолков кажется вполне адекватным и действительно широко распространенным, поэтому можем заменить пропуски в высоте потолков на медианное значение."
   ]
  },
  {
   "cell_type": "code",
   "execution_count": 14,
   "metadata": {},
   "outputs": [
    {
     "data": {
      "text/plain": [
       "0"
      ]
     },
     "execution_count": 14,
     "metadata": {},
     "output_type": "execute_result"
    }
   ],
   "source": [
    "# заменим пропуски\n",
    "data.loc[data['ceiling_height'].isna() == True, 'ceiling_height'] =\\\n",
    "data.loc[data['ceiling_height'].isna() == False, 'ceiling_height'].median()\n",
    "# проверим, что в данном столбце не осталось пропусков\n",
    "data['ceiling_height'].isna().sum()"
   ]
  },
  {
   "cell_type": "markdown",
   "metadata": {},
   "source": [
    "Посмотрим на оставшиеся пропуски в таблице."
   ]
  },
  {
   "cell_type": "code",
   "execution_count": 15,
   "metadata": {
    "scrolled": true
   },
   "outputs": [
    {
     "data": {
      "text/plain": [
       "total_images                0\n",
       "last_price                  0\n",
       "total_area                  0\n",
       "first_day_exposition        0\n",
       "rooms                       0\n",
       "ceiling_height              0\n",
       "floors_total               86\n",
       "living_area              1903\n",
       "floor                       0\n",
       "is_apartment                0\n",
       "studio                      0\n",
       "open_plan                   0\n",
       "kitchen_area             2278\n",
       "balcony                     0\n",
       "locality_name              49\n",
       "airports_nearest         5542\n",
       "cityCenters_nearest      5519\n",
       "parks_around3000         5518\n",
       "parks_nearest           15620\n",
       "ponds_around3000         5518\n",
       "ponds_nearest           14589\n",
       "days_exposition          3181\n",
       "dtype: int64"
      ]
     },
     "execution_count": 15,
     "metadata": {},
     "output_type": "execute_result"
    }
   ],
   "source": [
    "data.isna().sum()"
   ]
  },
  {
   "cell_type": "markdown",
   "metadata": {},
   "source": [
    "Можно предположить, что порядка 5500 квартир, выставленных на продажу, находятся достаточно далеко от аэропортов, центра города, парков и прудов, поэтому в таблице возникает столько пропущенных значений.\n",
    "<br/> Проверим это предположение."
   ]
  },
  {
   "cell_type": "code",
   "execution_count": 16,
   "metadata": {
    "scrolled": false
   },
   "outputs": [
    {
     "data": {
      "text/plain": [
       "total_images                0\n",
       "last_price                  0\n",
       "total_area                  0\n",
       "first_day_exposition        0\n",
       "rooms                       0\n",
       "ceiling_height              0\n",
       "floors_total               76\n",
       "living_area              1280\n",
       "floor                       0\n",
       "is_apartment                0\n",
       "studio                      0\n",
       "open_plan                   0\n",
       "kitchen_area             1563\n",
       "balcony                     0\n",
       "locality_name              41\n",
       "airports_nearest           24\n",
       "cityCenters_nearest         1\n",
       "parks_around3000            0\n",
       "parks_nearest           10102\n",
       "ponds_around3000            0\n",
       "ponds_nearest            9071\n",
       "days_exposition          2316\n",
       "dtype: int64"
      ]
     },
     "execution_count": 16,
     "metadata": {},
     "output_type": "execute_result"
    }
   ],
   "source": [
    "data_no_parks = data\n",
    "data_no_parks.dropna(subset=['parks_around3000']).isna().sum()"
   ]
  },
  {
   "cell_type": "markdown",
   "metadata": {},
   "source": [
    "Действительно, при удалении строк с NA значениями в `parks_around3000`, число пропущенных значений в столбцах `airports_nearest`, `cityCenters_nearest`, `parks_nearest`, `ponds_around3000`, `ponds_nearest` уменьшилось примерно на 5500. Наше предположение подтвердилось. Однако далее мы будем продолжать работать с таблицей `data`."
   ]
  },
  {
   "cell_type": "markdown",
   "metadata": {},
   "source": [
    "В столбцах `floors_total`, `living_area`, `kitchen_area`, `locality_name`, `days_exposition` непонятно, как заменять пропущенные значения, поэтому оставим эти пропуски как есть. "
   ]
  },
  {
   "cell_type": "markdown",
   "metadata": {},
   "source": [
    "Пропуски в целом могут быть вызваны как техническими сбоями, так и по логическим причинам. <br/>\n",
    "Например, значения в столбце `floors_total` могут быть пропущены, если дома одноэтажные, или если по планировке в разных частях дома разное количество этажей.<br/>\n",
    "Значения в столбце `living_area` могут быть пропущены, например, если `living_area = total area`, или если жилая площадь не высчитана для дома. <br/>\n",
    "Значения в столбце `kitchen_area` могут быть пропущены, к примеру, в случае, когда гостиная объединена с кухней и выделить площадь кухни невозможно.<br/>\n",
    "В столбцах `days_exposition` и `locality_name`, вероятно, большинство пропусков обусловено техническими сбоями. "
   ]
  },
  {
   "cell_type": "markdown",
   "metadata": {},
   "source": [
    "#### Обработка типов данных"
   ]
  },
  {
   "cell_type": "code",
   "execution_count": 17,
   "metadata": {
    "scrolled": true
   },
   "outputs": [
    {
     "data": {
      "text/html": [
       "<div>\n",
       "<style scoped>\n",
       "    .dataframe tbody tr th:only-of-type {\n",
       "        vertical-align: middle;\n",
       "    }\n",
       "\n",
       "    .dataframe tbody tr th {\n",
       "        vertical-align: top;\n",
       "    }\n",
       "\n",
       "    .dataframe thead th {\n",
       "        text-align: right;\n",
       "    }\n",
       "</style>\n",
       "<table border=\"1\" class=\"dataframe\">\n",
       "  <thead>\n",
       "    <tr style=\"text-align: right;\">\n",
       "      <th></th>\n",
       "      <th>total_images</th>\n",
       "      <th>last_price</th>\n",
       "      <th>total_area</th>\n",
       "      <th>first_day_exposition</th>\n",
       "      <th>rooms</th>\n",
       "      <th>ceiling_height</th>\n",
       "      <th>floors_total</th>\n",
       "      <th>living_area</th>\n",
       "      <th>floor</th>\n",
       "      <th>is_apartment</th>\n",
       "      <th>...</th>\n",
       "      <th>kitchen_area</th>\n",
       "      <th>balcony</th>\n",
       "      <th>locality_name</th>\n",
       "      <th>airports_nearest</th>\n",
       "      <th>cityCenters_nearest</th>\n",
       "      <th>parks_around3000</th>\n",
       "      <th>parks_nearest</th>\n",
       "      <th>ponds_around3000</th>\n",
       "      <th>ponds_nearest</th>\n",
       "      <th>days_exposition</th>\n",
       "    </tr>\n",
       "  </thead>\n",
       "  <tbody>\n",
       "    <tr>\n",
       "      <th>0</th>\n",
       "      <td>20</td>\n",
       "      <td>13000000.0</td>\n",
       "      <td>108.0</td>\n",
       "      <td>2019-03-07T00:00:00</td>\n",
       "      <td>3</td>\n",
       "      <td>2.70</td>\n",
       "      <td>16.0</td>\n",
       "      <td>51.0</td>\n",
       "      <td>8</td>\n",
       "      <td>0</td>\n",
       "      <td>...</td>\n",
       "      <td>25.0</td>\n",
       "      <td>0.0</td>\n",
       "      <td>Санкт-Петербург</td>\n",
       "      <td>18863.0</td>\n",
       "      <td>16028.0</td>\n",
       "      <td>1.0</td>\n",
       "      <td>482.0</td>\n",
       "      <td>2.0</td>\n",
       "      <td>755.0</td>\n",
       "      <td>NaN</td>\n",
       "    </tr>\n",
       "    <tr>\n",
       "      <th>1</th>\n",
       "      <td>7</td>\n",
       "      <td>3350000.0</td>\n",
       "      <td>40.4</td>\n",
       "      <td>2018-12-04T00:00:00</td>\n",
       "      <td>1</td>\n",
       "      <td>2.65</td>\n",
       "      <td>11.0</td>\n",
       "      <td>18.6</td>\n",
       "      <td>1</td>\n",
       "      <td>0</td>\n",
       "      <td>...</td>\n",
       "      <td>11.0</td>\n",
       "      <td>2.0</td>\n",
       "      <td>посёлок Шушары</td>\n",
       "      <td>12817.0</td>\n",
       "      <td>18603.0</td>\n",
       "      <td>0.0</td>\n",
       "      <td>NaN</td>\n",
       "      <td>0.0</td>\n",
       "      <td>NaN</td>\n",
       "      <td>81.0</td>\n",
       "    </tr>\n",
       "    <tr>\n",
       "      <th>2</th>\n",
       "      <td>10</td>\n",
       "      <td>5196000.0</td>\n",
       "      <td>56.0</td>\n",
       "      <td>2015-08-20T00:00:00</td>\n",
       "      <td>2</td>\n",
       "      <td>2.65</td>\n",
       "      <td>5.0</td>\n",
       "      <td>34.3</td>\n",
       "      <td>4</td>\n",
       "      <td>0</td>\n",
       "      <td>...</td>\n",
       "      <td>8.3</td>\n",
       "      <td>0.0</td>\n",
       "      <td>Санкт-Петербург</td>\n",
       "      <td>21741.0</td>\n",
       "      <td>13933.0</td>\n",
       "      <td>1.0</td>\n",
       "      <td>90.0</td>\n",
       "      <td>2.0</td>\n",
       "      <td>574.0</td>\n",
       "      <td>558.0</td>\n",
       "    </tr>\n",
       "    <tr>\n",
       "      <th>3</th>\n",
       "      <td>0</td>\n",
       "      <td>64900000.0</td>\n",
       "      <td>159.0</td>\n",
       "      <td>2015-07-24T00:00:00</td>\n",
       "      <td>3</td>\n",
       "      <td>2.65</td>\n",
       "      <td>14.0</td>\n",
       "      <td>NaN</td>\n",
       "      <td>9</td>\n",
       "      <td>0</td>\n",
       "      <td>...</td>\n",
       "      <td>NaN</td>\n",
       "      <td>0.0</td>\n",
       "      <td>Санкт-Петербург</td>\n",
       "      <td>28098.0</td>\n",
       "      <td>6800.0</td>\n",
       "      <td>2.0</td>\n",
       "      <td>84.0</td>\n",
       "      <td>3.0</td>\n",
       "      <td>234.0</td>\n",
       "      <td>424.0</td>\n",
       "    </tr>\n",
       "    <tr>\n",
       "      <th>4</th>\n",
       "      <td>2</td>\n",
       "      <td>10000000.0</td>\n",
       "      <td>100.0</td>\n",
       "      <td>2018-06-19T00:00:00</td>\n",
       "      <td>2</td>\n",
       "      <td>3.03</td>\n",
       "      <td>14.0</td>\n",
       "      <td>32.0</td>\n",
       "      <td>13</td>\n",
       "      <td>0</td>\n",
       "      <td>...</td>\n",
       "      <td>41.0</td>\n",
       "      <td>0.0</td>\n",
       "      <td>Санкт-Петербург</td>\n",
       "      <td>31856.0</td>\n",
       "      <td>8098.0</td>\n",
       "      <td>2.0</td>\n",
       "      <td>112.0</td>\n",
       "      <td>1.0</td>\n",
       "      <td>48.0</td>\n",
       "      <td>121.0</td>\n",
       "    </tr>\n",
       "  </tbody>\n",
       "</table>\n",
       "<p>5 rows × 22 columns</p>\n",
       "</div>"
      ],
      "text/plain": [
       "   total_images  last_price  total_area first_day_exposition  rooms  \\\n",
       "0            20  13000000.0       108.0  2019-03-07T00:00:00      3   \n",
       "1             7   3350000.0        40.4  2018-12-04T00:00:00      1   \n",
       "2            10   5196000.0        56.0  2015-08-20T00:00:00      2   \n",
       "3             0  64900000.0       159.0  2015-07-24T00:00:00      3   \n",
       "4             2  10000000.0       100.0  2018-06-19T00:00:00      2   \n",
       "\n",
       "   ceiling_height  floors_total  living_area  floor is_apartment  ...  \\\n",
       "0            2.70          16.0         51.0      8            0  ...   \n",
       "1            2.65          11.0         18.6      1            0  ...   \n",
       "2            2.65           5.0         34.3      4            0  ...   \n",
       "3            2.65          14.0          NaN      9            0  ...   \n",
       "4            3.03          14.0         32.0     13            0  ...   \n",
       "\n",
       "   kitchen_area  balcony    locality_name  airports_nearest  \\\n",
       "0          25.0      0.0  Санкт-Петербург           18863.0   \n",
       "1          11.0      2.0   посёлок Шушары           12817.0   \n",
       "2           8.3      0.0  Санкт-Петербург           21741.0   \n",
       "3           NaN      0.0  Санкт-Петербург           28098.0   \n",
       "4          41.0      0.0  Санкт-Петербург           31856.0   \n",
       "\n",
       "  cityCenters_nearest  parks_around3000  parks_nearest  ponds_around3000  \\\n",
       "0             16028.0               1.0          482.0               2.0   \n",
       "1             18603.0               0.0            NaN               0.0   \n",
       "2             13933.0               1.0           90.0               2.0   \n",
       "3              6800.0               2.0           84.0               3.0   \n",
       "4              8098.0               2.0          112.0               1.0   \n",
       "\n",
       "   ponds_nearest  days_exposition  \n",
       "0          755.0              NaN  \n",
       "1            NaN             81.0  \n",
       "2          574.0            558.0  \n",
       "3          234.0            424.0  \n",
       "4           48.0            121.0  \n",
       "\n",
       "[5 rows x 22 columns]"
      ]
     },
     "execution_count": 17,
     "metadata": {},
     "output_type": "execute_result"
    }
   ],
   "source": [
    "# Снова посмотрим на исходную таблицу\n",
    "data.head()"
   ]
  },
  {
   "cell_type": "code",
   "execution_count": 18,
   "metadata": {
    "scrolled": false
   },
   "outputs": [
    {
     "name": "stdout",
     "output_type": "stream",
     "text": [
      "<class 'pandas.core.frame.DataFrame'>\n",
      "RangeIndex: 23699 entries, 0 to 23698\n",
      "Data columns (total 22 columns):\n",
      " #   Column                Non-Null Count  Dtype  \n",
      "---  ------                --------------  -----  \n",
      " 0   total_images          23699 non-null  int64  \n",
      " 1   last_price            23699 non-null  float64\n",
      " 2   total_area            23699 non-null  float64\n",
      " 3   first_day_exposition  23699 non-null  object \n",
      " 4   rooms                 23699 non-null  int64  \n",
      " 5   ceiling_height        23699 non-null  float64\n",
      " 6   floors_total          23613 non-null  float64\n",
      " 7   living_area           21796 non-null  float64\n",
      " 8   floor                 23699 non-null  int64  \n",
      " 9   is_apartment          23699 non-null  object \n",
      " 10  studio                23699 non-null  bool   \n",
      " 11  open_plan             23699 non-null  bool   \n",
      " 12  kitchen_area          21421 non-null  float64\n",
      " 13  balcony               23699 non-null  float64\n",
      " 14  locality_name         23650 non-null  object \n",
      " 15  airports_nearest      18157 non-null  float64\n",
      " 16  cityCenters_nearest   18180 non-null  float64\n",
      " 17  parks_around3000      18181 non-null  float64\n",
      " 18  parks_nearest         8079 non-null   float64\n",
      " 19  ponds_around3000      18181 non-null  float64\n",
      " 20  ponds_nearest         9110 non-null   float64\n",
      " 21  days_exposition       20518 non-null  float64\n",
      "dtypes: bool(2), float64(14), int64(3), object(3)\n",
      "memory usage: 3.7+ MB\n"
     ]
    }
   ],
   "source": [
    "data.info()"
   ]
  },
  {
   "cell_type": "markdown",
   "metadata": {},
   "source": [
    "* Очевидно, что значения в столбце `first_day_exposition` необходимо преобразовать в формат даты и времени. \n",
    "* Переменную `balcony` также можно преобразовать в целочисленную. \n",
    "* Переменные `days_exposition`, `floors_total`, `parks_around3000` и `ponds_around3000` преобразовать в целочисленные не получится, поскольку в данных столбцах имеются пропуски."
   ]
  },
  {
   "cell_type": "code",
   "execution_count": 19,
   "metadata": {
    "scrolled": true
   },
   "outputs": [
    {
     "data": {
      "text/html": [
       "<div>\n",
       "<style scoped>\n",
       "    .dataframe tbody tr th:only-of-type {\n",
       "        vertical-align: middle;\n",
       "    }\n",
       "\n",
       "    .dataframe tbody tr th {\n",
       "        vertical-align: top;\n",
       "    }\n",
       "\n",
       "    .dataframe thead th {\n",
       "        text-align: right;\n",
       "    }\n",
       "</style>\n",
       "<table border=\"1\" class=\"dataframe\">\n",
       "  <thead>\n",
       "    <tr style=\"text-align: right;\">\n",
       "      <th></th>\n",
       "      <th>total_images</th>\n",
       "      <th>last_price</th>\n",
       "      <th>total_area</th>\n",
       "      <th>first_day_exposition</th>\n",
       "      <th>rooms</th>\n",
       "      <th>ceiling_height</th>\n",
       "      <th>floors_total</th>\n",
       "      <th>living_area</th>\n",
       "      <th>floor</th>\n",
       "      <th>is_apartment</th>\n",
       "      <th>...</th>\n",
       "      <th>kitchen_area</th>\n",
       "      <th>balcony</th>\n",
       "      <th>locality_name</th>\n",
       "      <th>airports_nearest</th>\n",
       "      <th>cityCenters_nearest</th>\n",
       "      <th>parks_around3000</th>\n",
       "      <th>parks_nearest</th>\n",
       "      <th>ponds_around3000</th>\n",
       "      <th>ponds_nearest</th>\n",
       "      <th>days_exposition</th>\n",
       "    </tr>\n",
       "  </thead>\n",
       "  <tbody>\n",
       "    <tr>\n",
       "      <th>0</th>\n",
       "      <td>20</td>\n",
       "      <td>13000000.0</td>\n",
       "      <td>108.0</td>\n",
       "      <td>2019-03-07</td>\n",
       "      <td>3</td>\n",
       "      <td>2.70</td>\n",
       "      <td>16.0</td>\n",
       "      <td>51.0</td>\n",
       "      <td>8</td>\n",
       "      <td>0</td>\n",
       "      <td>...</td>\n",
       "      <td>25.0</td>\n",
       "      <td>0</td>\n",
       "      <td>Санкт-Петербург</td>\n",
       "      <td>18863.0</td>\n",
       "      <td>16028.0</td>\n",
       "      <td>1.0</td>\n",
       "      <td>482.0</td>\n",
       "      <td>2.0</td>\n",
       "      <td>755.0</td>\n",
       "      <td>NaN</td>\n",
       "    </tr>\n",
       "    <tr>\n",
       "      <th>1</th>\n",
       "      <td>7</td>\n",
       "      <td>3350000.0</td>\n",
       "      <td>40.4</td>\n",
       "      <td>2018-12-04</td>\n",
       "      <td>1</td>\n",
       "      <td>2.65</td>\n",
       "      <td>11.0</td>\n",
       "      <td>18.6</td>\n",
       "      <td>1</td>\n",
       "      <td>0</td>\n",
       "      <td>...</td>\n",
       "      <td>11.0</td>\n",
       "      <td>2</td>\n",
       "      <td>посёлок Шушары</td>\n",
       "      <td>12817.0</td>\n",
       "      <td>18603.0</td>\n",
       "      <td>0.0</td>\n",
       "      <td>NaN</td>\n",
       "      <td>0.0</td>\n",
       "      <td>NaN</td>\n",
       "      <td>81.0</td>\n",
       "    </tr>\n",
       "    <tr>\n",
       "      <th>2</th>\n",
       "      <td>10</td>\n",
       "      <td>5196000.0</td>\n",
       "      <td>56.0</td>\n",
       "      <td>2015-08-20</td>\n",
       "      <td>2</td>\n",
       "      <td>2.65</td>\n",
       "      <td>5.0</td>\n",
       "      <td>34.3</td>\n",
       "      <td>4</td>\n",
       "      <td>0</td>\n",
       "      <td>...</td>\n",
       "      <td>8.3</td>\n",
       "      <td>0</td>\n",
       "      <td>Санкт-Петербург</td>\n",
       "      <td>21741.0</td>\n",
       "      <td>13933.0</td>\n",
       "      <td>1.0</td>\n",
       "      <td>90.0</td>\n",
       "      <td>2.0</td>\n",
       "      <td>574.0</td>\n",
       "      <td>558.0</td>\n",
       "    </tr>\n",
       "    <tr>\n",
       "      <th>3</th>\n",
       "      <td>0</td>\n",
       "      <td>64900000.0</td>\n",
       "      <td>159.0</td>\n",
       "      <td>2015-07-24</td>\n",
       "      <td>3</td>\n",
       "      <td>2.65</td>\n",
       "      <td>14.0</td>\n",
       "      <td>NaN</td>\n",
       "      <td>9</td>\n",
       "      <td>0</td>\n",
       "      <td>...</td>\n",
       "      <td>NaN</td>\n",
       "      <td>0</td>\n",
       "      <td>Санкт-Петербург</td>\n",
       "      <td>28098.0</td>\n",
       "      <td>6800.0</td>\n",
       "      <td>2.0</td>\n",
       "      <td>84.0</td>\n",
       "      <td>3.0</td>\n",
       "      <td>234.0</td>\n",
       "      <td>424.0</td>\n",
       "    </tr>\n",
       "    <tr>\n",
       "      <th>4</th>\n",
       "      <td>2</td>\n",
       "      <td>10000000.0</td>\n",
       "      <td>100.0</td>\n",
       "      <td>2018-06-19</td>\n",
       "      <td>2</td>\n",
       "      <td>3.03</td>\n",
       "      <td>14.0</td>\n",
       "      <td>32.0</td>\n",
       "      <td>13</td>\n",
       "      <td>0</td>\n",
       "      <td>...</td>\n",
       "      <td>41.0</td>\n",
       "      <td>0</td>\n",
       "      <td>Санкт-Петербург</td>\n",
       "      <td>31856.0</td>\n",
       "      <td>8098.0</td>\n",
       "      <td>2.0</td>\n",
       "      <td>112.0</td>\n",
       "      <td>1.0</td>\n",
       "      <td>48.0</td>\n",
       "      <td>121.0</td>\n",
       "    </tr>\n",
       "  </tbody>\n",
       "</table>\n",
       "<p>5 rows × 22 columns</p>\n",
       "</div>"
      ],
      "text/plain": [
       "   total_images  last_price  total_area first_day_exposition  rooms  \\\n",
       "0            20  13000000.0       108.0           2019-03-07      3   \n",
       "1             7   3350000.0        40.4           2018-12-04      1   \n",
       "2            10   5196000.0        56.0           2015-08-20      2   \n",
       "3             0  64900000.0       159.0           2015-07-24      3   \n",
       "4             2  10000000.0       100.0           2018-06-19      2   \n",
       "\n",
       "   ceiling_height  floors_total  living_area  floor is_apartment  ...  \\\n",
       "0            2.70          16.0         51.0      8            0  ...   \n",
       "1            2.65          11.0         18.6      1            0  ...   \n",
       "2            2.65           5.0         34.3      4            0  ...   \n",
       "3            2.65          14.0          NaN      9            0  ...   \n",
       "4            3.03          14.0         32.0     13            0  ...   \n",
       "\n",
       "   kitchen_area  balcony    locality_name  airports_nearest  \\\n",
       "0          25.0        0  Санкт-Петербург           18863.0   \n",
       "1          11.0        2   посёлок Шушары           12817.0   \n",
       "2           8.3        0  Санкт-Петербург           21741.0   \n",
       "3           NaN        0  Санкт-Петербург           28098.0   \n",
       "4          41.0        0  Санкт-Петербург           31856.0   \n",
       "\n",
       "  cityCenters_nearest  parks_around3000  parks_nearest  ponds_around3000  \\\n",
       "0             16028.0               1.0          482.0               2.0   \n",
       "1             18603.0               0.0            NaN               0.0   \n",
       "2             13933.0               1.0           90.0               2.0   \n",
       "3              6800.0               2.0           84.0               3.0   \n",
       "4              8098.0               2.0          112.0               1.0   \n",
       "\n",
       "   ponds_nearest  days_exposition  \n",
       "0          755.0              NaN  \n",
       "1            NaN             81.0  \n",
       "2          574.0            558.0  \n",
       "3          234.0            424.0  \n",
       "4           48.0            121.0  \n",
       "\n",
       "[5 rows x 22 columns]"
      ]
     },
     "execution_count": 19,
     "metadata": {},
     "output_type": "execute_result"
    }
   ],
   "source": [
    "# преобразуем столбец first_day_exposition при помощи метода to_datetime()\n",
    "data['first_day_exposition'] = pd.to_datetime(data['first_day_exposition'], format='%Y-%m-%dT%H:%M:%S')\n",
    "# преобразуем значения в столбце balcony в целочисленные\n",
    "data['balcony'] = data['balcony'].astype('int') # нет пропущенных значений, нет ошибок\n",
    "# проверим, что изменения удалось\n",
    "data.head()"
   ]
  },
  {
   "cell_type": "code",
   "execution_count": 20,
   "metadata": {
    "scrolled": false
   },
   "outputs": [
    {
     "name": "stdout",
     "output_type": "stream",
     "text": [
      "<class 'pandas.core.frame.DataFrame'>\n",
      "RangeIndex: 23699 entries, 0 to 23698\n",
      "Data columns (total 22 columns):\n",
      " #   Column                Non-Null Count  Dtype         \n",
      "---  ------                --------------  -----         \n",
      " 0   total_images          23699 non-null  int64         \n",
      " 1   last_price            23699 non-null  float64       \n",
      " 2   total_area            23699 non-null  float64       \n",
      " 3   first_day_exposition  23699 non-null  datetime64[ns]\n",
      " 4   rooms                 23699 non-null  int64         \n",
      " 5   ceiling_height        23699 non-null  float64       \n",
      " 6   floors_total          23613 non-null  float64       \n",
      " 7   living_area           21796 non-null  float64       \n",
      " 8   floor                 23699 non-null  int64         \n",
      " 9   is_apartment          23699 non-null  object        \n",
      " 10  studio                23699 non-null  bool          \n",
      " 11  open_plan             23699 non-null  bool          \n",
      " 12  kitchen_area          21421 non-null  float64       \n",
      " 13  balcony               23699 non-null  int64         \n",
      " 14  locality_name         23650 non-null  object        \n",
      " 15  airports_nearest      18157 non-null  float64       \n",
      " 16  cityCenters_nearest   18180 non-null  float64       \n",
      " 17  parks_around3000      18181 non-null  float64       \n",
      " 18  parks_nearest         8079 non-null   float64       \n",
      " 19  ponds_around3000      18181 non-null  float64       \n",
      " 20  ponds_nearest         9110 non-null   float64       \n",
      " 21  days_exposition       20518 non-null  float64       \n",
      "dtypes: bool(2), datetime64[ns](1), float64(13), int64(4), object(2)\n",
      "memory usage: 3.7+ MB\n"
     ]
    }
   ],
   "source": [
    "# проверим форматы измененных столбцов\n",
    "data.info()"
   ]
  },
  {
   "cell_type": "markdown",
   "metadata": {},
   "source": [
    "#### Обработка уникальных значений"
   ]
  },
  {
   "cell_type": "markdown",
   "metadata": {},
   "source": [
    "Обработаем уникальные значения в столбцах с названиями. Таким столбцом является `locality_name`.\n",
    "Выведем уникальные значения данного столбца."
   ]
  },
  {
   "cell_type": "code",
   "execution_count": 21,
   "metadata": {
    "scrolled": false
   },
   "outputs": [
    {
     "data": {
      "text/plain": [
       "array(['Санкт-Петербург', 'посёлок Шушары', 'городской посёлок Янино-1',\n",
       "       'посёлок Парголово', 'посёлок Мурино', 'Ломоносов', 'Сертолово',\n",
       "       'Петергоф', 'Пушкин', 'деревня Кудрово', 'Коммунар', 'Колпино',\n",
       "       'поселок городского типа Красный Бор', 'Гатчина', 'поселок Мурино',\n",
       "       'деревня Фёдоровское', 'Выборг', 'Кронштадт', 'Кировск',\n",
       "       'деревня Новое Девяткино', 'посёлок Металлострой',\n",
       "       'посёлок городского типа Лебяжье',\n",
       "       'посёлок городского типа Сиверский', 'поселок Молодцово',\n",
       "       'поселок городского типа Кузьмоловский',\n",
       "       'садовое товарищество Новая Ропша', 'Павловск',\n",
       "       'деревня Пикколово', 'Всеволожск', 'Волхов', 'Кингисепп',\n",
       "       'Приозерск', 'Сестрорецк', 'деревня Куттузи', 'посёлок Аннино',\n",
       "       'поселок городского типа Ефимовский', 'посёлок Плодовое',\n",
       "       'деревня Заклинье', 'поселок Торковичи', 'поселок Первомайское',\n",
       "       'Красное Село', 'посёлок Понтонный', 'Сясьстрой', 'деревня Старая',\n",
       "       'деревня Лесколово', 'посёлок Новый Свет', 'Сланцы',\n",
       "       'село Путилово', 'Ивангород', 'Мурино', 'Шлиссельбург',\n",
       "       'Никольское', 'Зеленогорск', 'Сосновый Бор', 'поселок Новый Свет',\n",
       "       'деревня Оржицы', 'деревня Кальтино', 'Кудрово',\n",
       "       'поселок Романовка', 'посёлок Бугры', 'поселок Бугры',\n",
       "       'поселок городского типа Рощино', 'Кириши', 'Луга', 'Волосово',\n",
       "       'Отрадное', 'село Павлово', 'поселок Оредеж', 'село Копорье',\n",
       "       'посёлок городского типа Красный Бор', 'посёлок Молодёжное',\n",
       "       'Тихвин', 'посёлок Победа', 'деревня Нурма',\n",
       "       'поселок городского типа Синявино', 'Тосно',\n",
       "       'посёлок городского типа Кузьмоловский', 'посёлок Стрельна',\n",
       "       'Бокситогорск', 'посёлок Александровская', 'деревня Лопухинка',\n",
       "       'Пикалёво', 'поселок Терволово',\n",
       "       'поселок городского типа Советский', 'Подпорожье',\n",
       "       'посёлок Петровское', 'посёлок городского типа Токсово',\n",
       "       'поселок Сельцо', 'посёлок городского типа Вырица',\n",
       "       'деревня Кипень', 'деревня Келози', 'деревня Вартемяги',\n",
       "       'посёлок Тельмана', 'поселок Севастьяново',\n",
       "       'городской поселок Большая Ижора', nan,\n",
       "       'городской посёлок Павлово', 'деревня Агалатово',\n",
       "       'посёлок Новогорелово', 'городской посёлок Лесогорский',\n",
       "       'деревня Лаголово', 'поселок Цвелодубово',\n",
       "       'поселок городского типа Рахья', 'поселок городского типа Вырица',\n",
       "       'деревня Белогорка', 'поселок Заводской',\n",
       "       'городской посёлок Новоселье', 'деревня Большие Колпаны',\n",
       "       'деревня Горбунки', 'деревня Батово', 'деревня Заневка',\n",
       "       'деревня Иссад', 'Приморск', 'городской посёлок Фёдоровское',\n",
       "       'деревня Мистолово', 'Новая Ладога', 'поселок Зимитицы',\n",
       "       'поселок Барышево', 'деревня Разметелево',\n",
       "       'поселок городского типа имени Свердлова', 'деревня Пеники',\n",
       "       'поселок Рябово', 'деревня Пудомяги', 'поселок станции Корнево',\n",
       "       'деревня Низино', 'деревня Бегуницы', 'посёлок Поляны',\n",
       "       'городской посёлок Мга', 'поселок Елизаветино',\n",
       "       'посёлок городского типа Кузнечное', 'деревня Колтуши',\n",
       "       'поселок Запорожское', 'посёлок городского типа Рощино',\n",
       "       'деревня Гостилицы', 'деревня Малое Карлино',\n",
       "       'посёлок Мичуринское', 'посёлок городского типа имени Морозова',\n",
       "       'посёлок Песочный', 'посёлок Сосново', 'деревня Аро',\n",
       "       'поселок Ильичёво', 'посёлок городского типа Тайцы',\n",
       "       'деревня Малое Верево', 'деревня Извара', 'поселок станции Вещево',\n",
       "       'село Паша', 'деревня Калитино',\n",
       "       'посёлок городского типа Ульяновка', 'деревня Чудской Бор',\n",
       "       'поселок городского типа Дубровка', 'деревня Мины',\n",
       "       'поселок Войсковицы', 'посёлок городского типа имени Свердлова',\n",
       "       'деревня Коркино', 'посёлок Ропша',\n",
       "       'поселок городского типа Приладожский', 'посёлок Щеглово',\n",
       "       'посёлок Гаврилово', 'Лодейное Поле', 'деревня Рабитицы',\n",
       "       'поселок городского типа Никольский', 'деревня Кузьмолово',\n",
       "       'деревня Малые Колпаны', 'поселок Тельмана',\n",
       "       'посёлок Петро-Славянка', 'городской посёлок Назия',\n",
       "       'посёлок Репино', 'посёлок Ильичёво', 'поселок Углово',\n",
       "       'поселок Старая Малукса', 'садовое товарищество Рахья',\n",
       "       'поселок Аннино', 'поселок Победа', 'деревня Меньково',\n",
       "       'деревня Старые Бегуницы', 'посёлок Сапёрный', 'поселок Семрино',\n",
       "       'поселок Гаврилово', 'поселок Глажево', 'поселок Кобринское',\n",
       "       'деревня Гарболово', 'деревня Юкки',\n",
       "       'поселок станции Приветнинское', 'деревня Мануйлово',\n",
       "       'деревня Пчева', 'поселок Поляны', 'поселок Цвылёво',\n",
       "       'поселок Мельниково', 'посёлок Пудость', 'посёлок Усть-Луга',\n",
       "       'Светогорск', 'Любань', 'поселок Селезнёво',\n",
       "       'поселок городского типа Рябово', 'Каменногорск', 'деревня Кривко',\n",
       "       'поселок Глебычево', 'деревня Парицы', 'поселок Жилпосёлок',\n",
       "       'посёлок городского типа Мга', 'городской поселок Янино-1',\n",
       "       'посёлок Войскорово', 'село Никольское', 'посёлок Терволово',\n",
       "       'поселок Стеклянный', 'посёлок городского типа Важины',\n",
       "       'посёлок Мыза-Ивановка', 'село Русско-Высоцкое',\n",
       "       'поселок городского типа Лебяжье',\n",
       "       'поселок городского типа Форносово', 'село Старая Ладога',\n",
       "       'поселок Житково', 'городской посёлок Виллози', 'деревня Лампово',\n",
       "       'деревня Шпаньково', 'деревня Лаврики', 'посёлок Сумино',\n",
       "       'посёлок Возрождение', 'деревня Старосиверская',\n",
       "       'посёлок Кикерино', 'поселок Возрождение',\n",
       "       'деревня Старое Хинколово', 'посёлок Пригородный',\n",
       "       'посёлок Торфяное', 'городской посёлок Будогощь',\n",
       "       'поселок Суходолье', 'поселок Красная Долина', 'деревня Хапо-Ое',\n",
       "       'поселок городского типа Дружная Горка', 'поселок Лисий Нос',\n",
       "       'деревня Яльгелево', 'посёлок Стеклянный', 'село Рождествено',\n",
       "       'деревня Старополье', 'посёлок Левашово', 'деревня Сяськелево',\n",
       "       'деревня Камышовка',\n",
       "       'садоводческое некоммерческое товарищество Лесная Поляна',\n",
       "       'деревня Хязельки', 'поселок Жилгородок',\n",
       "       'посёлок городского типа Павлово', 'деревня Ялгино',\n",
       "       'поселок Новый Учхоз', 'городской посёлок Рощино',\n",
       "       'поселок Гончарово', 'поселок Почап', 'посёлок Сапёрное',\n",
       "       'посёлок Платформа 69-й километр', 'поселок Каложицы',\n",
       "       'деревня Фалилеево', 'деревня Пельгора',\n",
       "       'поселок городского типа Лесогорский', 'деревня Торошковичи',\n",
       "       'посёлок Белоостров', 'посёлок Алексеевка', 'поселок Серебрянский',\n",
       "       'поселок Лукаши', 'поселок Петровское', 'деревня Щеглово',\n",
       "       'поселок Мичуринское', 'деревня Тарасово', 'поселок Кингисеппский',\n",
       "       'посёлок при железнодорожной станции Вещево', 'поселок Ушаки',\n",
       "       'деревня Котлы', 'деревня Сижно', 'деревня Торосово',\n",
       "       'посёлок Форт Красная Горка', 'поселок городского типа Токсово',\n",
       "       'деревня Новолисино', 'посёлок станции Громово', 'деревня Глинка',\n",
       "       'посёлок Мельниково', 'поселок городского типа Назия',\n",
       "       'деревня Старая Пустошь', 'поселок Коммунары', 'поселок Починок',\n",
       "       'посёлок городского типа Вознесенье', 'деревня Разбегаево',\n",
       "       'посёлок городского типа Рябово', 'поселок Гладкое',\n",
       "       'посёлок при железнодорожной станции Приветнинское',\n",
       "       'поселок Тёсово-4', 'посёлок Жилгородок', 'деревня Бор',\n",
       "       'посёлок Коробицыно', 'деревня Большая Вруда', 'деревня Курковицы',\n",
       "       'посёлок Лисий Нос', 'городской посёлок Советский',\n",
       "       'посёлок Кобралово', 'деревня Суоранда', 'поселок Кобралово',\n",
       "       'поселок городского типа Кондратьево',\n",
       "       'коттеджный поселок Счастье', 'поселок Любань', 'деревня Реброво',\n",
       "       'деревня Зимитицы', 'деревня Тойворово', 'поселок Семиозерье',\n",
       "       'поселок Лесное', 'поселок Совхозный', 'поселок Усть-Луга',\n",
       "       'посёлок Ленинское', 'посёлок Суйда',\n",
       "       'посёлок городского типа Форносово', 'деревня Нижние Осельки',\n",
       "       'посёлок станции Свирь', 'поселок Перово', 'Высоцк',\n",
       "       'поселок Гарболово', 'село Шум', 'поселок Котельский',\n",
       "       'поселок станции Лужайка', 'деревня Большая Пустомержа',\n",
       "       'поселок Красносельское', 'деревня Вахнова Кара', 'деревня Пижма',\n",
       "       'коттеджный поселок Кивеннапа Север', 'поселок Коробицыно',\n",
       "       'поселок Ромашки', 'посёлок Перово', 'деревня Каськово',\n",
       "       'деревня Куровицы', 'посёлок Плоское', 'поселок Сумино',\n",
       "       'поселок городского типа Большая Ижора', 'поселок Кирпичное',\n",
       "       'деревня Ям-Тесово', 'деревня Раздолье', 'деревня Терпилицы',\n",
       "       'посёлок Шугозеро', 'деревня Ваганово', 'поселок Пушное',\n",
       "       'садовое товарищество Садко', 'посёлок Усть-Ижора',\n",
       "       'деревня Выскатка', 'городской посёлок Свирьстрой',\n",
       "       'поселок Громово', 'деревня Кисельня', 'посёлок Старая Малукса',\n",
       "       'деревня Трубников Бор', 'поселок Калитино',\n",
       "       'посёлок Высокоключевой', 'садовое товарищество Приладожский',\n",
       "       'посёлок Пансионат Зелёный Бор', 'деревня Ненимяки',\n",
       "       'поселок Пансионат Зелёный Бор', 'деревня Снегирёвка',\n",
       "       'деревня Рапполово', 'деревня Пустынка', 'поселок Рабитицы',\n",
       "       'деревня Большой Сабск', 'деревня Русско', 'деревня Лупполово',\n",
       "       'деревня Большое Рейзино', 'деревня Малая Романовка',\n",
       "       'поселок Дружноселье', 'поселок Пчевжа', 'поселок Володарское',\n",
       "       'деревня Нижняя', 'коттеджный посёлок Лесное', 'деревня Тихковицы',\n",
       "       'деревня Борисова Грива', 'посёлок Дзержинского'], dtype=object)"
      ]
     },
     "execution_count": 21,
     "metadata": {},
     "output_type": "execute_result"
    }
   ],
   "source": [
    "data['locality_name'].unique()"
   ]
  },
  {
   "cell_type": "code",
   "execution_count": 22,
   "metadata": {},
   "outputs": [
    {
     "data": {
      "text/plain": [
       "365"
      ]
     },
     "execution_count": 22,
     "metadata": {},
     "output_type": "execute_result"
    }
   ],
   "source": [
    "len(data['locality_name'].unique())"
   ]
  },
  {
   "cell_type": "markdown",
   "metadata": {},
   "source": [
    "Создадим новый столбец, в котором будем обрабатывать текст из столбца `locality_name`.\n",
    "\n",
    "Поскольку значений достаточно много, вручную их обработать не удастся.\n",
    "В таком случае, во-первых, приведем все наименования к нижнему регистру. \n",
    "Далее обработаем то, что бросается в глаза: в некоторых наименованиях буква `ё` заменена на букву `е`. Избавимся от буквы `ё` и оставим везде только букву `е.`"
   ]
  },
  {
   "cell_type": "code",
   "execution_count": 23,
   "metadata": {},
   "outputs": [
    {
     "data": {
      "text/plain": [
       "365"
      ]
     },
     "execution_count": 23,
     "metadata": {},
     "output_type": "execute_result"
    }
   ],
   "source": [
    "data['location'] = data['locality_name'].str.lower()\n",
    "len(data['location'].unique())"
   ]
  },
  {
   "cell_type": "code",
   "execution_count": 24,
   "metadata": {},
   "outputs": [
    {
     "data": {
      "text/plain": [
       "331"
      ]
     },
     "execution_count": 24,
     "metadata": {},
     "output_type": "execute_result"
    }
   ],
   "source": [
    "data['location'] = data['location'].str.replace('ё', 'е')\n",
    "len(data['location'].unique())"
   ]
  },
  {
   "cell_type": "markdown",
   "metadata": {},
   "source": []
  },
  {
   "cell_type": "markdown",
   "metadata": {},
   "source": [
    "Проблем с регистром не было, но приведение к нижнему регистру в принципе не будет лишним. При замене букв `ё` на букву `е` число уникальных значений сократилось с 365 до 331. Посмотрим снова на уникальные значения:"
   ]
  },
  {
   "cell_type": "code",
   "execution_count": 25,
   "metadata": {},
   "outputs": [
    {
     "data": {
      "text/plain": [
       "array(['санкт-петербург', 'поселок шушары', 'городской поселок янино-1',\n",
       "       'поселок парголово', 'поселок мурино', 'ломоносов', 'сертолово',\n",
       "       'петергоф', 'пушкин', 'деревня кудрово', 'коммунар', 'колпино',\n",
       "       'поселок городского типа красный бор', 'гатчина',\n",
       "       'деревня федоровское', 'выборг', 'кронштадт', 'кировск',\n",
       "       'деревня новое девяткино', 'поселок металлострой',\n",
       "       'поселок городского типа лебяжье',\n",
       "       'поселок городского типа сиверский', 'поселок молодцово',\n",
       "       'поселок городского типа кузьмоловский',\n",
       "       'садовое товарищество новая ропша', 'павловск',\n",
       "       'деревня пикколово', 'всеволожск', 'волхов', 'кингисепп',\n",
       "       'приозерск', 'сестрорецк', 'деревня куттузи', 'поселок аннино',\n",
       "       'поселок городского типа ефимовский', 'поселок плодовое',\n",
       "       'деревня заклинье', 'поселок торковичи', 'поселок первомайское',\n",
       "       'красное село', 'поселок понтонный', 'сясьстрой', 'деревня старая',\n",
       "       'деревня лесколово', 'поселок новый свет', 'сланцы',\n",
       "       'село путилово', 'ивангород', 'мурино', 'шлиссельбург',\n",
       "       'никольское', 'зеленогорск', 'сосновый бор', 'деревня оржицы',\n",
       "       'деревня кальтино', 'кудрово', 'поселок романовка',\n",
       "       'поселок бугры', 'поселок городского типа рощино', 'кириши',\n",
       "       'луга', 'волосово', 'отрадное', 'село павлово', 'поселок оредеж',\n",
       "       'село копорье', 'поселок молодежное', 'тихвин', 'поселок победа',\n",
       "       'деревня нурма', 'поселок городского типа синявино', 'тосно',\n",
       "       'поселок стрельна', 'бокситогорск', 'поселок александровская',\n",
       "       'деревня лопухинка', 'пикалево', 'поселок терволово',\n",
       "       'поселок городского типа советский', 'подпорожье',\n",
       "       'поселок петровское', 'поселок городского типа токсово',\n",
       "       'поселок сельцо', 'поселок городского типа вырица',\n",
       "       'деревня кипень', 'деревня келози', 'деревня вартемяги',\n",
       "       'поселок тельмана', 'поселок севастьяново',\n",
       "       'городской поселок большая ижора', nan,\n",
       "       'городской поселок павлово', 'деревня агалатово',\n",
       "       'поселок новогорелово', 'городской поселок лесогорский',\n",
       "       'деревня лаголово', 'поселок цвелодубово',\n",
       "       'поселок городского типа рахья', 'деревня белогорка',\n",
       "       'поселок заводской', 'городской поселок новоселье',\n",
       "       'деревня большие колпаны', 'деревня горбунки', 'деревня батово',\n",
       "       'деревня заневка', 'деревня иссад', 'приморск',\n",
       "       'городской поселок федоровское', 'деревня мистолово',\n",
       "       'новая ладога', 'поселок зимитицы', 'поселок барышево',\n",
       "       'деревня разметелево', 'поселок городского типа имени свердлова',\n",
       "       'деревня пеники', 'поселок рябово', 'деревня пудомяги',\n",
       "       'поселок станции корнево', 'деревня низино', 'деревня бегуницы',\n",
       "       'поселок поляны', 'городской поселок мга', 'поселок елизаветино',\n",
       "       'поселок городского типа кузнечное', 'деревня колтуши',\n",
       "       'поселок запорожское', 'деревня гостилицы',\n",
       "       'деревня малое карлино', 'поселок мичуринское',\n",
       "       'поселок городского типа имени морозова', 'поселок песочный',\n",
       "       'поселок сосново', 'деревня аро', 'поселок ильичево',\n",
       "       'поселок городского типа тайцы', 'деревня малое верево',\n",
       "       'деревня извара', 'поселок станции вещево', 'село паша',\n",
       "       'деревня калитино', 'поселок городского типа ульяновка',\n",
       "       'деревня чудской бор', 'поселок городского типа дубровка',\n",
       "       'деревня мины', 'поселок войсковицы', 'деревня коркино',\n",
       "       'поселок ропша', 'поселок городского типа приладожский',\n",
       "       'поселок щеглово', 'поселок гаврилово', 'лодейное поле',\n",
       "       'деревня рабитицы', 'поселок городского типа никольский',\n",
       "       'деревня кузьмолово', 'деревня малые колпаны',\n",
       "       'поселок петро-славянка', 'городской поселок назия',\n",
       "       'поселок репино', 'поселок углово', 'поселок старая малукса',\n",
       "       'садовое товарищество рахья', 'деревня меньково',\n",
       "       'деревня старые бегуницы', 'поселок саперный', 'поселок семрино',\n",
       "       'поселок глажево', 'поселок кобринское', 'деревня гарболово',\n",
       "       'деревня юкки', 'поселок станции приветнинское',\n",
       "       'деревня мануйлово', 'деревня пчева', 'поселок цвылево',\n",
       "       'поселок мельниково', 'поселок пудость', 'поселок усть-луга',\n",
       "       'светогорск', 'любань', 'поселок селезнево',\n",
       "       'поселок городского типа рябово', 'каменногорск', 'деревня кривко',\n",
       "       'поселок глебычево', 'деревня парицы', 'поселок жилпоселок',\n",
       "       'поселок городского типа мга', 'поселок войскорово',\n",
       "       'село никольское', 'поселок стеклянный',\n",
       "       'поселок городского типа важины', 'поселок мыза-ивановка',\n",
       "       'село русско-высоцкое', 'поселок городского типа форносово',\n",
       "       'село старая ладога', 'поселок житково',\n",
       "       'городской поселок виллози', 'деревня лампово',\n",
       "       'деревня шпаньково', 'деревня лаврики', 'поселок сумино',\n",
       "       'поселок возрождение', 'деревня старосиверская',\n",
       "       'поселок кикерино', 'деревня старое хинколово',\n",
       "       'поселок пригородный', 'поселок торфяное',\n",
       "       'городской поселок будогощь', 'поселок суходолье',\n",
       "       'поселок красная долина', 'деревня хапо-ое',\n",
       "       'поселок городского типа дружная горка', 'поселок лисий нос',\n",
       "       'деревня яльгелево', 'село рождествено', 'деревня старополье',\n",
       "       'поселок левашово', 'деревня сяськелево', 'деревня камышовка',\n",
       "       'садоводческое некоммерческое товарищество лесная поляна',\n",
       "       'деревня хязельки', 'поселок жилгородок',\n",
       "       'поселок городского типа павлово', 'деревня ялгино',\n",
       "       'поселок новый учхоз', 'городской поселок рощино',\n",
       "       'поселок гончарово', 'поселок почап', 'поселок саперное',\n",
       "       'поселок платформа 69-й километр', 'поселок каложицы',\n",
       "       'деревня фалилеево', 'деревня пельгора',\n",
       "       'поселок городского типа лесогорский', 'деревня торошковичи',\n",
       "       'поселок белоостров', 'поселок алексеевка', 'поселок серебрянский',\n",
       "       'поселок лукаши', 'деревня щеглово', 'деревня тарасово',\n",
       "       'поселок кингисеппский',\n",
       "       'поселок при железнодорожной станции вещево', 'поселок ушаки',\n",
       "       'деревня котлы', 'деревня сижно', 'деревня торосово',\n",
       "       'поселок форт красная горка', 'деревня новолисино',\n",
       "       'поселок станции громово', 'деревня глинка',\n",
       "       'поселок городского типа назия', 'деревня старая пустошь',\n",
       "       'поселок коммунары', 'поселок починок',\n",
       "       'поселок городского типа вознесенье', 'деревня разбегаево',\n",
       "       'поселок гладкое',\n",
       "       'поселок при железнодорожной станции приветнинское',\n",
       "       'поселок тесово-4', 'деревня бор', 'поселок коробицыно',\n",
       "       'деревня большая вруда', 'деревня курковицы',\n",
       "       'городской поселок советский', 'поселок кобралово',\n",
       "       'деревня суоранда', 'поселок городского типа кондратьево',\n",
       "       'коттеджный поселок счастье', 'поселок любань', 'деревня реброво',\n",
       "       'деревня зимитицы', 'деревня тойворово', 'поселок семиозерье',\n",
       "       'поселок лесное', 'поселок совхозный', 'поселок ленинское',\n",
       "       'поселок суйда', 'деревня нижние осельки', 'поселок станции свирь',\n",
       "       'поселок перово', 'высоцк', 'поселок гарболово', 'село шум',\n",
       "       'поселок котельский', 'поселок станции лужайка',\n",
       "       'деревня большая пустомержа', 'поселок красносельское',\n",
       "       'деревня вахнова кара', 'деревня пижма',\n",
       "       'коттеджный поселок кивеннапа север', 'поселок ромашки',\n",
       "       'деревня каськово', 'деревня куровицы', 'поселок плоское',\n",
       "       'поселок городского типа большая ижора', 'поселок кирпичное',\n",
       "       'деревня ям-тесово', 'деревня раздолье', 'деревня терпилицы',\n",
       "       'поселок шугозеро', 'деревня ваганово', 'поселок пушное',\n",
       "       'садовое товарищество садко', 'поселок усть-ижора',\n",
       "       'деревня выскатка', 'городской поселок свирьстрой',\n",
       "       'поселок громово', 'деревня кисельня', 'деревня трубников бор',\n",
       "       'поселок калитино', 'поселок высокоключевой',\n",
       "       'садовое товарищество приладожский',\n",
       "       'поселок пансионат зеленый бор', 'деревня ненимяки',\n",
       "       'деревня снегиревка', 'деревня рапполово', 'деревня пустынка',\n",
       "       'поселок рабитицы', 'деревня большой сабск', 'деревня русско',\n",
       "       'деревня лупполово', 'деревня большое рейзино',\n",
       "       'деревня малая романовка', 'поселок дружноселье', 'поселок пчевжа',\n",
       "       'поселок володарское', 'деревня нижняя',\n",
       "       'коттеджный поселок лесное', 'деревня тихковицы',\n",
       "       'деревня борисова грива', 'поселок дзержинского'], dtype=object)"
      ]
     },
     "execution_count": 25,
     "metadata": {},
     "output_type": "execute_result"
    }
   ],
   "source": [
    "data['location'].unique()"
   ]
  },
  {
   "cell_type": "code",
   "execution_count": 26,
   "metadata": {},
   "outputs": [
    {
     "data": {
      "text/plain": [
       "331"
      ]
     },
     "execution_count": 26,
     "metadata": {},
     "output_type": "execute_result"
    }
   ],
   "source": [
    "# избавимся от двойных пробелов, которые могут быть вставлены по ошибке\n",
    "data['location'] = data['location'].str.replace('  ', ' ')\n",
    "data['location'] = data['location'].str.replace('   ', ' ')\n",
    "len(data['location'].unique())"
   ]
  },
  {
   "cell_type": "markdown",
   "metadata": {},
   "source": [
    "Ошибочно вставленных двойных или тройных пробелов в тексте не оказалось.\n",
    "Заметим, что в данных могут встречаться значения типа `поселок Рябово` и `поселок городского типа Рябово`. Избавимся в от формулировок `поселок городского типа`, `поселок`, `городской `, `коттеджный `, `деревня `, `село`. "
   ]
  },
  {
   "cell_type": "code",
   "execution_count": 27,
   "metadata": {},
   "outputs": [
    {
     "data": {
      "text/plain": [
       "320"
      ]
     },
     "execution_count": 27,
     "metadata": {},
     "output_type": "execute_result"
    }
   ],
   "source": [
    "data['location'] = data['location'].str.replace('поселок городского типа ', '')\n",
    "data['location'] = data['location'].str.replace('поселок ', '')\n",
    "data['location'] = data['location'].str.replace('городской ', '')\n",
    "data['location'] = data['location'].str.replace('коттеджный ', '')\n",
    "\n",
    "len(data['location'].unique())"
   ]
  },
  {
   "cell_type": "code",
   "execution_count": 28,
   "metadata": {},
   "outputs": [
    {
     "data": {
      "text/plain": [
       "311"
      ]
     },
     "execution_count": 28,
     "metadata": {},
     "output_type": "execute_result"
    }
   ],
   "source": [
    "data['location'] = data['location'].str.replace('деревня ', '')\n",
    "data['location'] = data['location'].str.replace('село ', '')\n",
    "\n",
    "len(data['location'].unique())"
   ]
  },
  {
   "cell_type": "code",
   "execution_count": 29,
   "metadata": {
    "scrolled": true
   },
   "outputs": [
    {
     "data": {
      "text/plain": [
       "array(['санкт-петербург', 'шушары', 'янино-1', 'парголово', 'мурино',\n",
       "       'ломоносов', 'сертолово', 'петергоф', 'пушкин', 'кудрово',\n",
       "       'коммунар', 'колпино', 'красный бор', 'гатчина', 'федоровское',\n",
       "       'выборг', 'кронштадт', 'кировск', 'новое девяткино',\n",
       "       'металлострой', 'лебяжье', 'сиверский', 'молодцово',\n",
       "       'кузьмоловский', 'садовое товарищество новая ропша', 'павловск',\n",
       "       'пикколово', 'всеволожск', 'волхов', 'кингисепп', 'приозерск',\n",
       "       'сестрорецк', 'куттузи', 'аннино', 'ефимовский', 'плодовое',\n",
       "       'заклинье', 'торковичи', 'первомайское', 'красное село',\n",
       "       'понтонный', 'сясьстрой', 'старая', 'лесколово', 'новый свет',\n",
       "       'сланцы', 'путилово', 'ивангород', 'шлиссельбург', 'никольское',\n",
       "       'зеленогорск', 'сосновый бор', 'оржицы', 'кальтино', 'романовка',\n",
       "       'бугры', 'рощино', 'кириши', 'луга', 'волосово', 'отрадное',\n",
       "       'павлово', 'оредеж', 'копорье', 'молодежное', 'тихвин', 'победа',\n",
       "       'нурма', 'синявино', 'тосно', 'стрельна', 'бокситогорск',\n",
       "       'александровская', 'лопухинка', 'пикалево', 'терволово',\n",
       "       'советский', 'подпорожье', 'петровское', 'токсово', 'сельцо',\n",
       "       'вырица', 'кипень', 'келози', 'вартемяги', 'тельмана',\n",
       "       'севастьяново', 'большая ижора', nan, 'агалатово', 'новогорелово',\n",
       "       'лесогорский', 'лаголово', 'цвелодубово', 'рахья', 'белогорка',\n",
       "       'заводской', 'новоселье', 'большие колпаны', 'горбунки', 'батово',\n",
       "       'заневка', 'иссад', 'приморск', 'мистолово', 'новая ладога',\n",
       "       'зимитицы', 'барышево', 'разметелево', 'имени свердлова', 'пеники',\n",
       "       'рябово', 'пудомяги', 'станции корнево', 'низино', 'бегуницы',\n",
       "       'поляны', 'мга', 'елизаветино', 'кузнечное', 'колтуши',\n",
       "       'запорожское', 'гостилицы', 'малое карлино', 'мичуринское',\n",
       "       'имени морозова', 'песочный', 'сосново', 'аро', 'ильичево',\n",
       "       'тайцы', 'малое верево', 'извара', 'станции вещево', 'паша',\n",
       "       'калитино', 'ульяновка', 'чудской бор', 'дубровка', 'мины',\n",
       "       'войсковицы', 'коркино', 'ропша', 'приладожский', 'щеглово',\n",
       "       'гаврилово', 'лодейное поле', 'рабитицы', 'никольский',\n",
       "       'кузьмолово', 'малые колпаны', 'петро-славянка', 'назия', 'репино',\n",
       "       'углово', 'старая малукса', 'садовое товарищество рахья',\n",
       "       'меньково', 'старые бегуницы', 'саперный', 'семрино', 'глажево',\n",
       "       'кобринское', 'гарболово', 'юкки', 'станции приветнинское',\n",
       "       'мануйлово', 'пчева', 'цвылево', 'мельниково', 'пудость',\n",
       "       'усть-луга', 'светогорск', 'любань', 'селезнево', 'каменногорск',\n",
       "       'кривко', 'глебычево', 'парицы', 'жилпоселок', 'войскорово',\n",
       "       'стеклянный', 'важины', 'мыза-ивановка', 'русско-высоцкое',\n",
       "       'форносово', 'старая ладога', 'житково', 'виллози', 'лампово',\n",
       "       'шпаньково', 'лаврики', 'сумино', 'возрождение', 'старосиверская',\n",
       "       'кикерино', 'старое хинколово', 'пригородный', 'торфяное',\n",
       "       'будогощь', 'суходолье', 'красная долина', 'хапо-ое',\n",
       "       'дружная горка', 'лисий нос', 'яльгелево', 'рождествено',\n",
       "       'старополье', 'левашово', 'сяськелево', 'камышовка',\n",
       "       'садоводческое некоммерческое товарищество лесная поляна',\n",
       "       'хязельки', 'жилгородок', 'ялгино', 'новый учхоз', 'гончарово',\n",
       "       'почап', 'саперное', 'платформа 69-й километр', 'каложицы',\n",
       "       'фалилеево', 'пельгора', 'торошковичи', 'белоостров', 'алексеевка',\n",
       "       'серебрянский', 'лукаши', 'тарасово', 'кингисеппский',\n",
       "       'при железнодорожной станции вещево', 'ушаки', 'котлы', 'сижно',\n",
       "       'торосово', 'форт красная горка', 'новолисино', 'станции громово',\n",
       "       'глинка', 'старая пустошь', 'коммунары', 'починок', 'вознесенье',\n",
       "       'разбегаево', 'гладкое',\n",
       "       'при железнодорожной станции приветнинское', 'тесово-4', 'бор',\n",
       "       'коробицыно', 'большая вруда', 'курковицы', 'кобралово',\n",
       "       'суоранда', 'кондратьево', 'счастье', 'реброво', 'тойворово',\n",
       "       'семиозерье', 'лесное', 'совхозный', 'ленинское', 'суйда',\n",
       "       'нижние осельки', 'станции свирь', 'перово', 'высоцк', 'шум',\n",
       "       'котельский', 'станции лужайка', 'большая пустомержа',\n",
       "       'красносельское', 'вахнова кара', 'пижма', 'кивеннапа север',\n",
       "       'ромашки', 'каськово', 'куровицы', 'плоское', 'кирпичное',\n",
       "       'ям-тесово', 'раздолье', 'терпилицы', 'шугозеро', 'ваганово',\n",
       "       'пушное', 'садовое товарищество садко', 'усть-ижора', 'выскатка',\n",
       "       'свирьстрой', 'громово', 'кисельня', 'трубников бор',\n",
       "       'высокоключевой', 'садовое товарищество приладожский',\n",
       "       'пансионат зеленый бор', 'ненимяки', 'снегиревка', 'рапполово',\n",
       "       'пустынка', 'большой сабск', 'русско', 'лупполово',\n",
       "       'большое рейзино', 'малая романовка', 'дружноселье', 'пчевжа',\n",
       "       'володарское', 'нижняя', 'тихковицы', 'борисова грива',\n",
       "       'дзержинского'], dtype=object)"
      ]
     },
     "execution_count": 29,
     "metadata": {},
     "output_type": "execute_result"
    }
   ],
   "source": [
    "data['location'].unique()"
   ]
  },
  {
   "cell_type": "markdown",
   "metadata": {},
   "source": [
    "Заметим, что остались формулировки \"при железнодорожной станции \", \"садоводческое некоммерческое товарищество \", \"садовое товарищество \". Избавимся от них тоже:"
   ]
  },
  {
   "cell_type": "code",
   "execution_count": 30,
   "metadata": {},
   "outputs": [
    {
     "data": {
      "text/plain": [
       "309"
      ]
     },
     "execution_count": 30,
     "metadata": {},
     "output_type": "execute_result"
    }
   ],
   "source": [
    "data['location'] = data['location'].str.replace('при железнодорожной станции ', '')\n",
    "data['location'] = data['location'].str.replace('садоводческое некоммерческое товарищество ', '')\n",
    "data['location'] = data['location'].str.replace('садовое товарищество ', '')\n",
    "len(data['location'].unique())"
   ]
  },
  {
   "cell_type": "code",
   "execution_count": 31,
   "metadata": {
    "scrolled": true
   },
   "outputs": [
    {
     "data": {
      "text/plain": [
       "array(['санкт-петербург', 'шушары', 'янино-1', 'парголово', 'мурино',\n",
       "       'ломоносов', 'сертолово', 'петергоф', 'пушкин', 'кудрово',\n",
       "       'коммунар', 'колпино', 'красный бор', 'гатчина', 'федоровское',\n",
       "       'выборг', 'кронштадт', 'кировск', 'новое девяткино',\n",
       "       'металлострой', 'лебяжье', 'сиверский', 'молодцово',\n",
       "       'кузьмоловский', 'новая ропша', 'павловск', 'пикколово',\n",
       "       'всеволожск', 'волхов', 'кингисепп', 'приозерск', 'сестрорецк',\n",
       "       'куттузи', 'аннино', 'ефимовский', 'плодовое', 'заклинье',\n",
       "       'торковичи', 'первомайское', 'красное село', 'понтонный',\n",
       "       'сясьстрой', 'старая', 'лесколово', 'новый свет', 'сланцы',\n",
       "       'путилово', 'ивангород', 'шлиссельбург', 'никольское',\n",
       "       'зеленогорск', 'сосновый бор', 'оржицы', 'кальтино', 'романовка',\n",
       "       'бугры', 'рощино', 'кириши', 'луга', 'волосово', 'отрадное',\n",
       "       'павлово', 'оредеж', 'копорье', 'молодежное', 'тихвин', 'победа',\n",
       "       'нурма', 'синявино', 'тосно', 'стрельна', 'бокситогорск',\n",
       "       'александровская', 'лопухинка', 'пикалево', 'терволово',\n",
       "       'советский', 'подпорожье', 'петровское', 'токсово', 'сельцо',\n",
       "       'вырица', 'кипень', 'келози', 'вартемяги', 'тельмана',\n",
       "       'севастьяново', 'большая ижора', nan, 'агалатово', 'новогорелово',\n",
       "       'лесогорский', 'лаголово', 'цвелодубово', 'рахья', 'белогорка',\n",
       "       'заводской', 'новоселье', 'большие колпаны', 'горбунки', 'батово',\n",
       "       'заневка', 'иссад', 'приморск', 'мистолово', 'новая ладога',\n",
       "       'зимитицы', 'барышево', 'разметелево', 'имени свердлова', 'пеники',\n",
       "       'рябово', 'пудомяги', 'станции корнево', 'низино', 'бегуницы',\n",
       "       'поляны', 'мга', 'елизаветино', 'кузнечное', 'колтуши',\n",
       "       'запорожское', 'гостилицы', 'малое карлино', 'мичуринское',\n",
       "       'имени морозова', 'песочный', 'сосново', 'аро', 'ильичево',\n",
       "       'тайцы', 'малое верево', 'извара', 'станции вещево', 'паша',\n",
       "       'калитино', 'ульяновка', 'чудской бор', 'дубровка', 'мины',\n",
       "       'войсковицы', 'коркино', 'ропша', 'приладожский', 'щеглово',\n",
       "       'гаврилово', 'лодейное поле', 'рабитицы', 'никольский',\n",
       "       'кузьмолово', 'малые колпаны', 'петро-славянка', 'назия', 'репино',\n",
       "       'углово', 'старая малукса', 'меньково', 'старые бегуницы',\n",
       "       'саперный', 'семрино', 'глажево', 'кобринское', 'гарболово',\n",
       "       'юкки', 'станции приветнинское', 'мануйлово', 'пчева', 'цвылево',\n",
       "       'мельниково', 'пудость', 'усть-луга', 'светогорск', 'любань',\n",
       "       'селезнево', 'каменногорск', 'кривко', 'глебычево', 'парицы',\n",
       "       'жилпоселок', 'войскорово', 'стеклянный', 'важины',\n",
       "       'мыза-ивановка', 'русско-высоцкое', 'форносово', 'старая ладога',\n",
       "       'житково', 'виллози', 'лампово', 'шпаньково', 'лаврики', 'сумино',\n",
       "       'возрождение', 'старосиверская', 'кикерино', 'старое хинколово',\n",
       "       'пригородный', 'торфяное', 'будогощь', 'суходолье',\n",
       "       'красная долина', 'хапо-ое', 'дружная горка', 'лисий нос',\n",
       "       'яльгелево', 'рождествено', 'старополье', 'левашово', 'сяськелево',\n",
       "       'камышовка', 'лесная поляна', 'хязельки', 'жилгородок', 'ялгино',\n",
       "       'новый учхоз', 'гончарово', 'почап', 'саперное',\n",
       "       'платформа 69-й километр', 'каложицы', 'фалилеево', 'пельгора',\n",
       "       'торошковичи', 'белоостров', 'алексеевка', 'серебрянский',\n",
       "       'лукаши', 'тарасово', 'кингисеппский', 'вещево', 'ушаки', 'котлы',\n",
       "       'сижно', 'торосово', 'форт красная горка', 'новолисино',\n",
       "       'станции громово', 'глинка', 'старая пустошь', 'коммунары',\n",
       "       'починок', 'вознесенье', 'разбегаево', 'гладкое', 'приветнинское',\n",
       "       'тесово-4', 'бор', 'коробицыно', 'большая вруда', 'курковицы',\n",
       "       'кобралово', 'суоранда', 'кондратьево', 'счастье', 'реброво',\n",
       "       'тойворово', 'семиозерье', 'лесное', 'совхозный', 'ленинское',\n",
       "       'суйда', 'нижние осельки', 'станции свирь', 'перово', 'высоцк',\n",
       "       'шум', 'котельский', 'станции лужайка', 'большая пустомержа',\n",
       "       'красносельское', 'вахнова кара', 'пижма', 'кивеннапа север',\n",
       "       'ромашки', 'каськово', 'куровицы', 'плоское', 'кирпичное',\n",
       "       'ям-тесово', 'раздолье', 'терпилицы', 'шугозеро', 'ваганово',\n",
       "       'пушное', 'садко', 'усть-ижора', 'выскатка', 'свирьстрой',\n",
       "       'громово', 'кисельня', 'трубников бор', 'высокоключевой',\n",
       "       'пансионат зеленый бор', 'ненимяки', 'снегиревка', 'рапполово',\n",
       "       'пустынка', 'большой сабск', 'русско', 'лупполово',\n",
       "       'большое рейзино', 'малая романовка', 'дружноселье', 'пчевжа',\n",
       "       'володарское', 'нижняя', 'тихковицы', 'борисова грива',\n",
       "       'дзержинского'], dtype=object)"
      ]
     },
     "execution_count": 31,
     "metadata": {},
     "output_type": "execute_result"
    }
   ],
   "source": [
    "data['location'].unique()"
   ]
  },
  {
   "cell_type": "markdown",
   "metadata": {},
   "source": [
    "Больше неявных дубликатов в строке `location` не заметно. Мы сократили число уникальных значений с 365 до 309."
   ]
  },
  {
   "cell_type": "markdown",
   "metadata": {},
   "source": [
    "#### Обработка редких и выбивающихся значений"
   ]
  },
  {
   "cell_type": "markdown",
   "metadata": {},
   "source": [
    "***Найдите и устраните редкие и выбивающиеся значения. Например, в столбце ceiling_height может быть указана высота потолков 25 м и 32 м. Логично предположить, что на самом деле это вещественные значения: 2.5 м и 3.2 м. Попробуйте обработать аномалии в этом и других столбцах.***"
   ]
  },
  {
   "cell_type": "markdown",
   "metadata": {},
   "source": [
    "Сегодня минимальной нормой в России считается высота потолка 2.4 метра. Проверим есть ли у нас значения меньше. Отбросим значения меньше 2.4 метров."
   ]
  },
  {
   "cell_type": "code",
   "execution_count": 32,
   "metadata": {},
   "outputs": [
    {
     "data": {
      "text/html": [
       "<div>\n",
       "<style scoped>\n",
       "    .dataframe tbody tr th:only-of-type {\n",
       "        vertical-align: middle;\n",
       "    }\n",
       "\n",
       "    .dataframe tbody tr th {\n",
       "        vertical-align: top;\n",
       "    }\n",
       "\n",
       "    .dataframe thead th {\n",
       "        text-align: right;\n",
       "    }\n",
       "</style>\n",
       "<table border=\"1\" class=\"dataframe\">\n",
       "  <thead>\n",
       "    <tr style=\"text-align: right;\">\n",
       "      <th></th>\n",
       "      <th>total_images</th>\n",
       "      <th>last_price</th>\n",
       "      <th>total_area</th>\n",
       "      <th>first_day_exposition</th>\n",
       "      <th>rooms</th>\n",
       "      <th>ceiling_height</th>\n",
       "      <th>floors_total</th>\n",
       "      <th>living_area</th>\n",
       "      <th>floor</th>\n",
       "      <th>is_apartment</th>\n",
       "      <th>...</th>\n",
       "      <th>balcony</th>\n",
       "      <th>locality_name</th>\n",
       "      <th>airports_nearest</th>\n",
       "      <th>cityCenters_nearest</th>\n",
       "      <th>parks_around3000</th>\n",
       "      <th>parks_nearest</th>\n",
       "      <th>ponds_around3000</th>\n",
       "      <th>ponds_nearest</th>\n",
       "      <th>days_exposition</th>\n",
       "      <th>location</th>\n",
       "    </tr>\n",
       "  </thead>\n",
       "  <tbody>\n",
       "    <tr>\n",
       "      <th>227</th>\n",
       "      <td>13</td>\n",
       "      <td>2200000.0</td>\n",
       "      <td>47.00</td>\n",
       "      <td>2018-01-12</td>\n",
       "      <td>3</td>\n",
       "      <td>2.34</td>\n",
       "      <td>5.0</td>\n",
       "      <td>NaN</td>\n",
       "      <td>1</td>\n",
       "      <td>0</td>\n",
       "      <td>...</td>\n",
       "      <td>0</td>\n",
       "      <td>посёлок Новый Свет</td>\n",
       "      <td>NaN</td>\n",
       "      <td>NaN</td>\n",
       "      <td>NaN</td>\n",
       "      <td>NaN</td>\n",
       "      <td>NaN</td>\n",
       "      <td>NaN</td>\n",
       "      <td>45.0</td>\n",
       "      <td>новый свет</td>\n",
       "    </tr>\n",
       "    <tr>\n",
       "      <th>552</th>\n",
       "      <td>11</td>\n",
       "      <td>2999000.0</td>\n",
       "      <td>33.50</td>\n",
       "      <td>2017-03-30</td>\n",
       "      <td>1</td>\n",
       "      <td>2.00</td>\n",
       "      <td>15.0</td>\n",
       "      <td>17.500000</td>\n",
       "      <td>6</td>\n",
       "      <td>0</td>\n",
       "      <td>...</td>\n",
       "      <td>0</td>\n",
       "      <td>Санкт-Петербург</td>\n",
       "      <td>33972.0</td>\n",
       "      <td>11746.0</td>\n",
       "      <td>1.0</td>\n",
       "      <td>520.0</td>\n",
       "      <td>1.0</td>\n",
       "      <td>949.0</td>\n",
       "      <td>270.0</td>\n",
       "      <td>санкт-петербург</td>\n",
       "    </tr>\n",
       "    <tr>\n",
       "      <th>1582</th>\n",
       "      <td>4</td>\n",
       "      <td>4100000.0</td>\n",
       "      <td>45.60</td>\n",
       "      <td>2016-01-13</td>\n",
       "      <td>2</td>\n",
       "      <td>2.30</td>\n",
       "      <td>9.0</td>\n",
       "      <td>28.400000</td>\n",
       "      <td>8</td>\n",
       "      <td>False</td>\n",
       "      <td>...</td>\n",
       "      <td>2</td>\n",
       "      <td>Санкт-Петербург</td>\n",
       "      <td>49152.0</td>\n",
       "      <td>14977.0</td>\n",
       "      <td>1.0</td>\n",
       "      <td>489.0</td>\n",
       "      <td>1.0</td>\n",
       "      <td>525.0</td>\n",
       "      <td>329.0</td>\n",
       "      <td>санкт-петербург</td>\n",
       "    </tr>\n",
       "    <tr>\n",
       "      <th>2572</th>\n",
       "      <td>4</td>\n",
       "      <td>2400000.0</td>\n",
       "      <td>62.00</td>\n",
       "      <td>2018-12-27</td>\n",
       "      <td>3</td>\n",
       "      <td>2.00</td>\n",
       "      <td>5.0</td>\n",
       "      <td>40.000000</td>\n",
       "      <td>4</td>\n",
       "      <td>0</td>\n",
       "      <td>...</td>\n",
       "      <td>1</td>\n",
       "      <td>Луга</td>\n",
       "      <td>NaN</td>\n",
       "      <td>NaN</td>\n",
       "      <td>NaN</td>\n",
       "      <td>NaN</td>\n",
       "      <td>NaN</td>\n",
       "      <td>NaN</td>\n",
       "      <td>NaN</td>\n",
       "      <td>луга</td>\n",
       "    </tr>\n",
       "    <tr>\n",
       "      <th>4212</th>\n",
       "      <td>1</td>\n",
       "      <td>2120000.0</td>\n",
       "      <td>35.43</td>\n",
       "      <td>2017-12-18</td>\n",
       "      <td>1</td>\n",
       "      <td>2.00</td>\n",
       "      <td>18.0</td>\n",
       "      <td>16.600000</td>\n",
       "      <td>9</td>\n",
       "      <td>0</td>\n",
       "      <td>...</td>\n",
       "      <td>2</td>\n",
       "      <td>Тосно</td>\n",
       "      <td>NaN</td>\n",
       "      <td>NaN</td>\n",
       "      <td>NaN</td>\n",
       "      <td>NaN</td>\n",
       "      <td>NaN</td>\n",
       "      <td>NaN</td>\n",
       "      <td>36.0</td>\n",
       "      <td>тосно</td>\n",
       "    </tr>\n",
       "    <tr>\n",
       "      <th>5498</th>\n",
       "      <td>17</td>\n",
       "      <td>2200000.0</td>\n",
       "      <td>56.00</td>\n",
       "      <td>2018-04-02</td>\n",
       "      <td>2</td>\n",
       "      <td>2.30</td>\n",
       "      <td>5.0</td>\n",
       "      <td>45.000000</td>\n",
       "      <td>1</td>\n",
       "      <td>0</td>\n",
       "      <td>...</td>\n",
       "      <td>2</td>\n",
       "      <td>Сясьстрой</td>\n",
       "      <td>NaN</td>\n",
       "      <td>NaN</td>\n",
       "      <td>NaN</td>\n",
       "      <td>NaN</td>\n",
       "      <td>NaN</td>\n",
       "      <td>NaN</td>\n",
       "      <td>55.0</td>\n",
       "      <td>сясьстрой</td>\n",
       "    </tr>\n",
       "    <tr>\n",
       "      <th>5712</th>\n",
       "      <td>5</td>\n",
       "      <td>1500000.0</td>\n",
       "      <td>42.80</td>\n",
       "      <td>2017-08-14</td>\n",
       "      <td>2</td>\n",
       "      <td>1.20</td>\n",
       "      <td>2.0</td>\n",
       "      <td>27.500000</td>\n",
       "      <td>1</td>\n",
       "      <td>0</td>\n",
       "      <td>...</td>\n",
       "      <td>0</td>\n",
       "      <td>городской посёлок Мга</td>\n",
       "      <td>NaN</td>\n",
       "      <td>NaN</td>\n",
       "      <td>NaN</td>\n",
       "      <td>NaN</td>\n",
       "      <td>NaN</td>\n",
       "      <td>NaN</td>\n",
       "      <td>248.0</td>\n",
       "      <td>мга</td>\n",
       "    </tr>\n",
       "    <tr>\n",
       "      <th>5850</th>\n",
       "      <td>9</td>\n",
       "      <td>1650000.0</td>\n",
       "      <td>35.50</td>\n",
       "      <td>2018-05-29</td>\n",
       "      <td>1</td>\n",
       "      <td>2.00</td>\n",
       "      <td>5.0</td>\n",
       "      <td>NaN</td>\n",
       "      <td>5</td>\n",
       "      <td>0</td>\n",
       "      <td>...</td>\n",
       "      <td>0</td>\n",
       "      <td>Луга</td>\n",
       "      <td>NaN</td>\n",
       "      <td>NaN</td>\n",
       "      <td>NaN</td>\n",
       "      <td>NaN</td>\n",
       "      <td>NaN</td>\n",
       "      <td>NaN</td>\n",
       "      <td>100.0</td>\n",
       "      <td>луга</td>\n",
       "    </tr>\n",
       "    <tr>\n",
       "      <th>11352</th>\n",
       "      <td>4</td>\n",
       "      <td>3300000.0</td>\n",
       "      <td>36.00</td>\n",
       "      <td>2017-06-18</td>\n",
       "      <td>1</td>\n",
       "      <td>2.00</td>\n",
       "      <td>17.0</td>\n",
       "      <td>15.200000</td>\n",
       "      <td>12</td>\n",
       "      <td>0</td>\n",
       "      <td>...</td>\n",
       "      <td>0</td>\n",
       "      <td>посёлок Металлострой</td>\n",
       "      <td>25268.0</td>\n",
       "      <td>26980.0</td>\n",
       "      <td>0.0</td>\n",
       "      <td>NaN</td>\n",
       "      <td>0.0</td>\n",
       "      <td>NaN</td>\n",
       "      <td>53.0</td>\n",
       "      <td>металлострой</td>\n",
       "    </tr>\n",
       "    <tr>\n",
       "      <th>12755</th>\n",
       "      <td>2</td>\n",
       "      <td>1400000.0</td>\n",
       "      <td>22.50</td>\n",
       "      <td>2017-09-21</td>\n",
       "      <td>1</td>\n",
       "      <td>2.20</td>\n",
       "      <td>2.0</td>\n",
       "      <td>18.000000</td>\n",
       "      <td>2</td>\n",
       "      <td>0</td>\n",
       "      <td>...</td>\n",
       "      <td>1</td>\n",
       "      <td>село Копорье</td>\n",
       "      <td>NaN</td>\n",
       "      <td>NaN</td>\n",
       "      <td>NaN</td>\n",
       "      <td>NaN</td>\n",
       "      <td>NaN</td>\n",
       "      <td>NaN</td>\n",
       "      <td>45.0</td>\n",
       "      <td>копорье</td>\n",
       "    </tr>\n",
       "    <tr>\n",
       "      <th>16446</th>\n",
       "      <td>6</td>\n",
       "      <td>12300000.0</td>\n",
       "      <td>88.30</td>\n",
       "      <td>2019-03-12</td>\n",
       "      <td>3</td>\n",
       "      <td>2.00</td>\n",
       "      <td>5.0</td>\n",
       "      <td>63.900000</td>\n",
       "      <td>2</td>\n",
       "      <td>0</td>\n",
       "      <td>...</td>\n",
       "      <td>0</td>\n",
       "      <td>Санкт-Петербург</td>\n",
       "      <td>38415.0</td>\n",
       "      <td>7675.0</td>\n",
       "      <td>1.0</td>\n",
       "      <td>568.0</td>\n",
       "      <td>1.0</td>\n",
       "      <td>154.0</td>\n",
       "      <td>NaN</td>\n",
       "      <td>санкт-петербург</td>\n",
       "    </tr>\n",
       "    <tr>\n",
       "      <th>16884</th>\n",
       "      <td>0</td>\n",
       "      <td>1500000.0</td>\n",
       "      <td>33.00</td>\n",
       "      <td>2018-10-03</td>\n",
       "      <td>1</td>\n",
       "      <td>2.00</td>\n",
       "      <td>5.0</td>\n",
       "      <td>20.000000</td>\n",
       "      <td>5</td>\n",
       "      <td>False</td>\n",
       "      <td>...</td>\n",
       "      <td>0</td>\n",
       "      <td>Выборг</td>\n",
       "      <td>NaN</td>\n",
       "      <td>NaN</td>\n",
       "      <td>NaN</td>\n",
       "      <td>NaN</td>\n",
       "      <td>NaN</td>\n",
       "      <td>NaN</td>\n",
       "      <td>6.0</td>\n",
       "      <td>выборг</td>\n",
       "    </tr>\n",
       "    <tr>\n",
       "      <th>16934</th>\n",
       "      <td>5</td>\n",
       "      <td>4100000.0</td>\n",
       "      <td>40.00</td>\n",
       "      <td>2017-10-17</td>\n",
       "      <td>1</td>\n",
       "      <td>1.75</td>\n",
       "      <td>37.0</td>\n",
       "      <td>17.400000</td>\n",
       "      <td>5</td>\n",
       "      <td>0</td>\n",
       "      <td>...</td>\n",
       "      <td>0</td>\n",
       "      <td>Санкт-Петербург</td>\n",
       "      <td>18732.0</td>\n",
       "      <td>20444.0</td>\n",
       "      <td>0.0</td>\n",
       "      <td>NaN</td>\n",
       "      <td>3.0</td>\n",
       "      <td>80.0</td>\n",
       "      <td>71.0</td>\n",
       "      <td>санкт-петербург</td>\n",
       "    </tr>\n",
       "    <tr>\n",
       "      <th>17762</th>\n",
       "      <td>20</td>\n",
       "      <td>2300000.0</td>\n",
       "      <td>54.30</td>\n",
       "      <td>2018-06-28</td>\n",
       "      <td>3</td>\n",
       "      <td>2.30</td>\n",
       "      <td>5.0</td>\n",
       "      <td>39.000000</td>\n",
       "      <td>2</td>\n",
       "      <td>0</td>\n",
       "      <td>...</td>\n",
       "      <td>1</td>\n",
       "      <td>деревня Бегуницы</td>\n",
       "      <td>NaN</td>\n",
       "      <td>NaN</td>\n",
       "      <td>NaN</td>\n",
       "      <td>NaN</td>\n",
       "      <td>NaN</td>\n",
       "      <td>NaN</td>\n",
       "      <td>189.0</td>\n",
       "      <td>бегуницы</td>\n",
       "    </tr>\n",
       "    <tr>\n",
       "      <th>17794</th>\n",
       "      <td>1</td>\n",
       "      <td>2300000.0</td>\n",
       "      <td>58.60</td>\n",
       "      <td>2016-05-12</td>\n",
       "      <td>3</td>\n",
       "      <td>2.25</td>\n",
       "      <td>5.0</td>\n",
       "      <td>44.100002</td>\n",
       "      <td>3</td>\n",
       "      <td>False</td>\n",
       "      <td>...</td>\n",
       "      <td>1</td>\n",
       "      <td>деревня Бегуницы</td>\n",
       "      <td>NaN</td>\n",
       "      <td>NaN</td>\n",
       "      <td>NaN</td>\n",
       "      <td>NaN</td>\n",
       "      <td>NaN</td>\n",
       "      <td>NaN</td>\n",
       "      <td>45.0</td>\n",
       "      <td>бегуницы</td>\n",
       "    </tr>\n",
       "    <tr>\n",
       "      <th>19098</th>\n",
       "      <td>7</td>\n",
       "      <td>2700000.0</td>\n",
       "      <td>56.00</td>\n",
       "      <td>2018-02-04</td>\n",
       "      <td>3</td>\n",
       "      <td>2.00</td>\n",
       "      <td>5.0</td>\n",
       "      <td>46.000000</td>\n",
       "      <td>1</td>\n",
       "      <td>0</td>\n",
       "      <td>...</td>\n",
       "      <td>0</td>\n",
       "      <td>Выборг</td>\n",
       "      <td>NaN</td>\n",
       "      <td>NaN</td>\n",
       "      <td>NaN</td>\n",
       "      <td>NaN</td>\n",
       "      <td>NaN</td>\n",
       "      <td>NaN</td>\n",
       "      <td>282.0</td>\n",
       "      <td>выборг</td>\n",
       "    </tr>\n",
       "    <tr>\n",
       "      <th>19329</th>\n",
       "      <td>5</td>\n",
       "      <td>1700000.0</td>\n",
       "      <td>40.00</td>\n",
       "      <td>2018-07-15</td>\n",
       "      <td>2</td>\n",
       "      <td>2.00</td>\n",
       "      <td>9.0</td>\n",
       "      <td>NaN</td>\n",
       "      <td>8</td>\n",
       "      <td>0</td>\n",
       "      <td>...</td>\n",
       "      <td>0</td>\n",
       "      <td>Сосновый Бор</td>\n",
       "      <td>NaN</td>\n",
       "      <td>NaN</td>\n",
       "      <td>NaN</td>\n",
       "      <td>NaN</td>\n",
       "      <td>NaN</td>\n",
       "      <td>NaN</td>\n",
       "      <td>45.0</td>\n",
       "      <td>сосновый бор</td>\n",
       "    </tr>\n",
       "    <tr>\n",
       "      <th>20520</th>\n",
       "      <td>9</td>\n",
       "      <td>3600000.0</td>\n",
       "      <td>38.00</td>\n",
       "      <td>2018-07-05</td>\n",
       "      <td>1</td>\n",
       "      <td>2.00</td>\n",
       "      <td>12.0</td>\n",
       "      <td>15.000000</td>\n",
       "      <td>9</td>\n",
       "      <td>0</td>\n",
       "      <td>...</td>\n",
       "      <td>1</td>\n",
       "      <td>Кудрово</td>\n",
       "      <td>NaN</td>\n",
       "      <td>NaN</td>\n",
       "      <td>NaN</td>\n",
       "      <td>NaN</td>\n",
       "      <td>NaN</td>\n",
       "      <td>NaN</td>\n",
       "      <td>62.0</td>\n",
       "      <td>кудрово</td>\n",
       "    </tr>\n",
       "    <tr>\n",
       "      <th>22590</th>\n",
       "      <td>16</td>\n",
       "      <td>6000000.0</td>\n",
       "      <td>55.00</td>\n",
       "      <td>2018-10-31</td>\n",
       "      <td>2</td>\n",
       "      <td>1.00</td>\n",
       "      <td>12.0</td>\n",
       "      <td>32.400000</td>\n",
       "      <td>7</td>\n",
       "      <td>0</td>\n",
       "      <td>...</td>\n",
       "      <td>0</td>\n",
       "      <td>Санкт-Петербург</td>\n",
       "      <td>33053.0</td>\n",
       "      <td>14217.0</td>\n",
       "      <td>2.0</td>\n",
       "      <td>293.0</td>\n",
       "      <td>2.0</td>\n",
       "      <td>289.0</td>\n",
       "      <td>13.0</td>\n",
       "      <td>санкт-петербург</td>\n",
       "    </tr>\n",
       "    <tr>\n",
       "      <th>22960</th>\n",
       "      <td>17</td>\n",
       "      <td>2300000.0</td>\n",
       "      <td>53.60</td>\n",
       "      <td>2018-10-18</td>\n",
       "      <td>2</td>\n",
       "      <td>2.00</td>\n",
       "      <td>2.0</td>\n",
       "      <td>19.000000</td>\n",
       "      <td>1</td>\n",
       "      <td>0</td>\n",
       "      <td>...</td>\n",
       "      <td>0</td>\n",
       "      <td>Всеволожск</td>\n",
       "      <td>NaN</td>\n",
       "      <td>NaN</td>\n",
       "      <td>NaN</td>\n",
       "      <td>NaN</td>\n",
       "      <td>NaN</td>\n",
       "      <td>NaN</td>\n",
       "      <td>NaN</td>\n",
       "      <td>всеволожск</td>\n",
       "    </tr>\n",
       "    <tr>\n",
       "      <th>23498</th>\n",
       "      <td>7</td>\n",
       "      <td>1600000.0</td>\n",
       "      <td>54.00</td>\n",
       "      <td>2016-12-26</td>\n",
       "      <td>2</td>\n",
       "      <td>2.30</td>\n",
       "      <td>1.0</td>\n",
       "      <td>33.000000</td>\n",
       "      <td>1</td>\n",
       "      <td>False</td>\n",
       "      <td>...</td>\n",
       "      <td>0</td>\n",
       "      <td>Высоцк</td>\n",
       "      <td>NaN</td>\n",
       "      <td>NaN</td>\n",
       "      <td>NaN</td>\n",
       "      <td>NaN</td>\n",
       "      <td>NaN</td>\n",
       "      <td>NaN</td>\n",
       "      <td>281.0</td>\n",
       "      <td>высоцк</td>\n",
       "    </tr>\n",
       "  </tbody>\n",
       "</table>\n",
       "<p>21 rows × 23 columns</p>\n",
       "</div>"
      ],
      "text/plain": [
       "       total_images  last_price  total_area first_day_exposition  rooms  \\\n",
       "227              13   2200000.0       47.00           2018-01-12      3   \n",
       "552              11   2999000.0       33.50           2017-03-30      1   \n",
       "1582              4   4100000.0       45.60           2016-01-13      2   \n",
       "2572              4   2400000.0       62.00           2018-12-27      3   \n",
       "4212              1   2120000.0       35.43           2017-12-18      1   \n",
       "5498             17   2200000.0       56.00           2018-04-02      2   \n",
       "5712              5   1500000.0       42.80           2017-08-14      2   \n",
       "5850              9   1650000.0       35.50           2018-05-29      1   \n",
       "11352             4   3300000.0       36.00           2017-06-18      1   \n",
       "12755             2   1400000.0       22.50           2017-09-21      1   \n",
       "16446             6  12300000.0       88.30           2019-03-12      3   \n",
       "16884             0   1500000.0       33.00           2018-10-03      1   \n",
       "16934             5   4100000.0       40.00           2017-10-17      1   \n",
       "17762            20   2300000.0       54.30           2018-06-28      3   \n",
       "17794             1   2300000.0       58.60           2016-05-12      3   \n",
       "19098             7   2700000.0       56.00           2018-02-04      3   \n",
       "19329             5   1700000.0       40.00           2018-07-15      2   \n",
       "20520             9   3600000.0       38.00           2018-07-05      1   \n",
       "22590            16   6000000.0       55.00           2018-10-31      2   \n",
       "22960            17   2300000.0       53.60           2018-10-18      2   \n",
       "23498             7   1600000.0       54.00           2016-12-26      2   \n",
       "\n",
       "       ceiling_height  floors_total  living_area  floor is_apartment  ...  \\\n",
       "227              2.34           5.0          NaN      1            0  ...   \n",
       "552              2.00          15.0    17.500000      6            0  ...   \n",
       "1582             2.30           9.0    28.400000      8        False  ...   \n",
       "2572             2.00           5.0    40.000000      4            0  ...   \n",
       "4212             2.00          18.0    16.600000      9            0  ...   \n",
       "5498             2.30           5.0    45.000000      1            0  ...   \n",
       "5712             1.20           2.0    27.500000      1            0  ...   \n",
       "5850             2.00           5.0          NaN      5            0  ...   \n",
       "11352            2.00          17.0    15.200000     12            0  ...   \n",
       "12755            2.20           2.0    18.000000      2            0  ...   \n",
       "16446            2.00           5.0    63.900000      2            0  ...   \n",
       "16884            2.00           5.0    20.000000      5        False  ...   \n",
       "16934            1.75          37.0    17.400000      5            0  ...   \n",
       "17762            2.30           5.0    39.000000      2            0  ...   \n",
       "17794            2.25           5.0    44.100002      3        False  ...   \n",
       "19098            2.00           5.0    46.000000      1            0  ...   \n",
       "19329            2.00           9.0          NaN      8            0  ...   \n",
       "20520            2.00          12.0    15.000000      9            0  ...   \n",
       "22590            1.00          12.0    32.400000      7            0  ...   \n",
       "22960            2.00           2.0    19.000000      1            0  ...   \n",
       "23498            2.30           1.0    33.000000      1        False  ...   \n",
       "\n",
       "       balcony          locality_name  airports_nearest  cityCenters_nearest  \\\n",
       "227          0     посёлок Новый Свет               NaN                  NaN   \n",
       "552          0        Санкт-Петербург           33972.0              11746.0   \n",
       "1582         2        Санкт-Петербург           49152.0              14977.0   \n",
       "2572         1                   Луга               NaN                  NaN   \n",
       "4212         2                  Тосно               NaN                  NaN   \n",
       "5498         2              Сясьстрой               NaN                  NaN   \n",
       "5712         0  городской посёлок Мга               NaN                  NaN   \n",
       "5850         0                   Луга               NaN                  NaN   \n",
       "11352        0   посёлок Металлострой           25268.0              26980.0   \n",
       "12755        1           село Копорье               NaN                  NaN   \n",
       "16446        0        Санкт-Петербург           38415.0               7675.0   \n",
       "16884        0                 Выборг               NaN                  NaN   \n",
       "16934        0        Санкт-Петербург           18732.0              20444.0   \n",
       "17762        1       деревня Бегуницы               NaN                  NaN   \n",
       "17794        1       деревня Бегуницы               NaN                  NaN   \n",
       "19098        0                 Выборг               NaN                  NaN   \n",
       "19329        0           Сосновый Бор               NaN                  NaN   \n",
       "20520        1                Кудрово               NaN                  NaN   \n",
       "22590        0        Санкт-Петербург           33053.0              14217.0   \n",
       "22960        0             Всеволожск               NaN                  NaN   \n",
       "23498        0                 Высоцк               NaN                  NaN   \n",
       "\n",
       "      parks_around3000  parks_nearest  ponds_around3000  ponds_nearest  \\\n",
       "227                NaN            NaN               NaN            NaN   \n",
       "552                1.0          520.0               1.0          949.0   \n",
       "1582               1.0          489.0               1.0          525.0   \n",
       "2572               NaN            NaN               NaN            NaN   \n",
       "4212               NaN            NaN               NaN            NaN   \n",
       "5498               NaN            NaN               NaN            NaN   \n",
       "5712               NaN            NaN               NaN            NaN   \n",
       "5850               NaN            NaN               NaN            NaN   \n",
       "11352              0.0            NaN               0.0            NaN   \n",
       "12755              NaN            NaN               NaN            NaN   \n",
       "16446              1.0          568.0               1.0          154.0   \n",
       "16884              NaN            NaN               NaN            NaN   \n",
       "16934              0.0            NaN               3.0           80.0   \n",
       "17762              NaN            NaN               NaN            NaN   \n",
       "17794              NaN            NaN               NaN            NaN   \n",
       "19098              NaN            NaN               NaN            NaN   \n",
       "19329              NaN            NaN               NaN            NaN   \n",
       "20520              NaN            NaN               NaN            NaN   \n",
       "22590              2.0          293.0               2.0          289.0   \n",
       "22960              NaN            NaN               NaN            NaN   \n",
       "23498              NaN            NaN               NaN            NaN   \n",
       "\n",
       "       days_exposition         location  \n",
       "227               45.0       новый свет  \n",
       "552              270.0  санкт-петербург  \n",
       "1582             329.0  санкт-петербург  \n",
       "2572               NaN             луга  \n",
       "4212              36.0            тосно  \n",
       "5498              55.0        сясьстрой  \n",
       "5712             248.0              мга  \n",
       "5850             100.0             луга  \n",
       "11352             53.0     металлострой  \n",
       "12755             45.0          копорье  \n",
       "16446              NaN  санкт-петербург  \n",
       "16884              6.0           выборг  \n",
       "16934             71.0  санкт-петербург  \n",
       "17762            189.0         бегуницы  \n",
       "17794             45.0         бегуницы  \n",
       "19098            282.0           выборг  \n",
       "19329             45.0     сосновый бор  \n",
       "20520             62.0          кудрово  \n",
       "22590             13.0  санкт-петербург  \n",
       "22960              NaN       всеволожск  \n",
       "23498            281.0           высоцк  \n",
       "\n",
       "[21 rows x 23 columns]"
      ]
     },
     "execution_count": 32,
     "metadata": {},
     "output_type": "execute_result"
    }
   ],
   "source": [
    "data.query('ceiling_height < 2.4')"
   ]
  },
  {
   "cell_type": "code",
   "execution_count": 33,
   "metadata": {
    "scrolled": false
   },
   "outputs": [
    {
     "data": {
      "text/html": [
       "<div>\n",
       "<style scoped>\n",
       "    .dataframe tbody tr th:only-of-type {\n",
       "        vertical-align: middle;\n",
       "    }\n",
       "\n",
       "    .dataframe tbody tr th {\n",
       "        vertical-align: top;\n",
       "    }\n",
       "\n",
       "    .dataframe thead th {\n",
       "        text-align: right;\n",
       "    }\n",
       "</style>\n",
       "<table border=\"1\" class=\"dataframe\">\n",
       "  <thead>\n",
       "    <tr style=\"text-align: right;\">\n",
       "      <th></th>\n",
       "      <th>total_images</th>\n",
       "      <th>last_price</th>\n",
       "      <th>total_area</th>\n",
       "      <th>first_day_exposition</th>\n",
       "      <th>rooms</th>\n",
       "      <th>ceiling_height</th>\n",
       "      <th>floors_total</th>\n",
       "      <th>living_area</th>\n",
       "      <th>floor</th>\n",
       "      <th>is_apartment</th>\n",
       "      <th>...</th>\n",
       "      <th>balcony</th>\n",
       "      <th>locality_name</th>\n",
       "      <th>airports_nearest</th>\n",
       "      <th>cityCenters_nearest</th>\n",
       "      <th>parks_around3000</th>\n",
       "      <th>parks_nearest</th>\n",
       "      <th>ponds_around3000</th>\n",
       "      <th>ponds_nearest</th>\n",
       "      <th>days_exposition</th>\n",
       "      <th>location</th>\n",
       "    </tr>\n",
       "  </thead>\n",
       "  <tbody>\n",
       "  </tbody>\n",
       "</table>\n",
       "<p>0 rows × 23 columns</p>\n",
       "</div>"
      ],
      "text/plain": [
       "Empty DataFrame\n",
       "Columns: [total_images, last_price, total_area, first_day_exposition, rooms, ceiling_height, floors_total, living_area, floor, is_apartment, studio, open_plan, kitchen_area, balcony, locality_name, airports_nearest, cityCenters_nearest, parks_around3000, parks_nearest, ponds_around3000, ponds_nearest, days_exposition, location]\n",
       "Index: []\n",
       "\n",
       "[0 rows x 23 columns]"
      ]
     },
     "execution_count": 33,
     "metadata": {},
     "output_type": "execute_result"
    }
   ],
   "source": [
    "# отбросим высоту потолков меньше 2.4 м\n",
    "data = data.query('ceiling_height >= 2.4')\n",
    "# проверка\n",
    "data.query('ceiling_height < 2.4')"
   ]
  },
  {
   "cell_type": "markdown",
   "metadata": {},
   "source": [
    "Посмотрим, какой максимальной высоты потолки встречаются в датасете."
   ]
  },
  {
   "cell_type": "code",
   "execution_count": 34,
   "metadata": {
    "scrolled": true
   },
   "outputs": [
    {
     "data": {
      "text/plain": [
       "array([100.  ,  32.  ,  27.5 ,  27.  ,  26.  ,  25.  ,  24.  ,  22.6 ,\n",
       "        20.  ,  14.  ,  10.3 ,   8.3 ,   8.  ,   6.  ,   5.8 ,   5.6 ,\n",
       "         5.5 ,   5.3 ,   5.2 ,   5.  ,   4.9 ,   4.8 ,   4.7 ,   4.65,\n",
       "         4.5 ,   4.45,   4.4 ,   4.37,   4.3 ,   4.25,   4.2 ,   4.19,\n",
       "         4.15,   4.14,   4.1 ,   4.06,   4.  ,   3.98,   3.95,   3.93,\n",
       "         3.9 ,   3.88,   3.87,   3.86,   3.85,   3.84,   3.83,   3.82,\n",
       "         3.8 ,   3.78,   3.76,   3.75,   3.7 ,   3.69,   3.68,   3.67,\n",
       "         3.66,   3.65,   3.63,   3.62,   3.6 ,   3.59,   3.58,   3.57,\n",
       "         3.56,   3.55,   3.54,   3.53,   3.52,   3.51,   3.5 ,   3.49,\n",
       "         3.48,   3.47,   3.46,   3.45,   3.44,   3.43,   3.42,   3.4 ,\n",
       "         3.39,   3.38,   3.37,   3.36,   3.35,   3.34,   3.33,   3.32,\n",
       "         3.31,   3.3 ,   3.29,   3.28,   3.27,   3.26,   3.25,   3.24,\n",
       "         3.23,   3.22,   3.21,   3.2 ,   3.18,   3.17,   3.16,   3.15,\n",
       "         3.14,   3.13,   3.12,   3.11,   3.1 ,   3.09,   3.08,   3.07,\n",
       "         3.06,   3.05,   3.04,   3.03,   3.02,   3.01,   3.  ,   2.99,\n",
       "         2.98,   2.97,   2.96,   2.95,   2.94,   2.93,   2.92,   2.91,\n",
       "         2.9 ,   2.89,   2.88,   2.87,   2.86,   2.85,   2.84,   2.83,\n",
       "         2.82,   2.81,   2.8 ,   2.79,   2.78,   2.77,   2.76,   2.75,\n",
       "         2.74,   2.73,   2.72,   2.71,   2.7 ,   2.69,   2.68,   2.67,\n",
       "         2.66,   2.65,   2.64,   2.63,   2.62,   2.61,   2.6 ,   2.59,\n",
       "         2.58,   2.57,   2.56,   2.55,   2.54,   2.53,   2.52,   2.51,\n",
       "         2.5 ,   2.49,   2.48,   2.47,   2.46,   2.45,   2.4 ])"
      ]
     },
     "execution_count": 34,
     "metadata": {},
     "output_type": "execute_result"
    }
   ],
   "source": [
    "data['ceiling_height'].sort_values(ascending=False).unique()"
   ]
  },
  {
   "cell_type": "markdown",
   "metadata": {},
   "source": [
    "Будем считать высоту потолков больше 10 метров ошибкой. Посмотрим, сколько таких значений в таблице."
   ]
  },
  {
   "cell_type": "code",
   "execution_count": 35,
   "metadata": {
    "scrolled": false
   },
   "outputs": [
    {
     "data": {
      "text/plain": [
       "25"
      ]
     },
     "execution_count": 35,
     "metadata": {},
     "output_type": "execute_result"
    }
   ],
   "source": [
    "data.query('ceiling_height > 10').shape[0]"
   ]
  },
  {
   "cell_type": "markdown",
   "metadata": {},
   "source": [
    "Вероятно, потолки выше 24 м могут быть 2.4м (забыли поставить точку между целой и дробной частью). Исправим это и отбросим оставшиеся значения больше 10 м, тк потолки такой высоты не встречаются даже в пентхаусах в СПб, но при этом как-то исправить аномалию мы не можем. "
   ]
  },
  {
   "cell_type": "code",
   "execution_count": 36,
   "metadata": {},
   "outputs": [
    {
     "name": "stderr",
     "output_type": "stream",
     "text": [
      "/opt/conda/lib/python3.9/site-packages/pandas/core/indexing.py:1676: SettingWithCopyWarning: \n",
      "A value is trying to be set on a copy of a slice from a DataFrame.\n",
      "Try using .loc[row_indexer,col_indexer] = value instead\n",
      "\n",
      "See the caveats in the documentation: https://pandas.pydata.org/pandas-docs/stable/user_guide/indexing.html#returning-a-view-versus-a-copy\n",
      "  self._setitem_single_column(ilocs[0], value, pi)\n"
     ]
    },
    {
     "data": {
      "text/plain": [
       "array([10.  ,  8.3 ,  8.  ,  6.  ,  5.8 ,  5.6 ,  5.5 ,  5.3 ,  5.2 ,\n",
       "        5.  ,  4.9 ,  4.8 ,  4.7 ,  4.65,  4.5 ,  4.45,  4.4 ,  4.37,\n",
       "        4.3 ,  4.25,  4.2 ,  4.19,  4.15,  4.14,  4.1 ,  4.06,  4.  ,\n",
       "        3.98,  3.95,  3.93,  3.9 ,  3.88,  3.87,  3.86,  3.85,  3.84,\n",
       "        3.83,  3.82,  3.8 ,  3.78,  3.76,  3.75,  3.7 ,  3.69,  3.68,\n",
       "        3.67,  3.66,  3.65,  3.63,  3.62,  3.6 ,  3.59,  3.58,  3.57,\n",
       "        3.56,  3.55,  3.54,  3.53,  3.52,  3.51,  3.5 ,  3.49,  3.48,\n",
       "        3.47,  3.46,  3.45,  3.44,  3.43,  3.42,  3.4 ,  3.39,  3.38,\n",
       "        3.37,  3.36,  3.35,  3.34,  3.33,  3.32,  3.31,  3.3 ,  3.29,\n",
       "        3.28,  3.27,  3.26,  3.25,  3.24,  3.23,  3.22,  3.21,  3.2 ,\n",
       "        3.18,  3.17,  3.16,  3.15,  3.14,  3.13,  3.12,  3.11,  3.1 ,\n",
       "        3.09,  3.08,  3.07,  3.06,  3.05,  3.04,  3.03,  3.02,  3.01,\n",
       "        3.  ,  2.99,  2.98,  2.97,  2.96,  2.95,  2.94,  2.93,  2.92,\n",
       "        2.91,  2.9 ,  2.89,  2.88,  2.87,  2.86,  2.85,  2.84,  2.83,\n",
       "        2.82,  2.81,  2.8 ,  2.79,  2.78,  2.77,  2.76,  2.75,  2.74,\n",
       "        2.73,  2.72,  2.71,  2.7 ,  2.69,  2.68,  2.67,  2.66,  2.65,\n",
       "        2.64,  2.63,  2.62,  2.61,  2.6 ,  2.59,  2.58,  2.57,  2.56,\n",
       "        2.55,  2.54,  2.53,  2.52,  2.51,  2.5 ,  2.49,  2.48,  2.47,\n",
       "        2.46,  2.45,  2.4 ])"
      ]
     },
     "execution_count": 36,
     "metadata": {},
     "output_type": "execute_result"
    }
   ],
   "source": [
    "data.loc[data['ceiling_height'] >= 24, 'ceiling_height'] =\\\n",
    "data.loc[data['ceiling_height'] >= 24, 'ceiling_height'] / 10\n",
    "\n",
    "data = data.query('ceiling_height <= 10')\n",
    "\n",
    "# проверка\n",
    "data['ceiling_height'].sort_values(ascending=False).unique()"
   ]
  },
  {
   "cell_type": "markdown",
   "metadata": {},
   "source": [
    "Проверим, какие минимальные значения принимает `last_price`."
   ]
  },
  {
   "cell_type": "code",
   "execution_count": 37,
   "metadata": {},
   "outputs": [
    {
     "data": {
      "text/plain": [
       "array([1.219e+04, 4.300e+05, 4.400e+05, ..., 4.013e+08, 4.200e+08,\n",
       "       7.630e+08])"
      ]
     },
     "execution_count": 37,
     "metadata": {},
     "output_type": "execute_result"
    }
   ],
   "source": [
    "data['last_price'].sort_values().unique()"
   ]
  },
  {
   "cell_type": "markdown",
   "metadata": {},
   "source": [
    "Значение цены квартиры меньше 100 000 кажется странным. Взглянем на него:"
   ]
  },
  {
   "cell_type": "code",
   "execution_count": 38,
   "metadata": {},
   "outputs": [
    {
     "data": {
      "text/html": [
       "<div>\n",
       "<style scoped>\n",
       "    .dataframe tbody tr th:only-of-type {\n",
       "        vertical-align: middle;\n",
       "    }\n",
       "\n",
       "    .dataframe tbody tr th {\n",
       "        vertical-align: top;\n",
       "    }\n",
       "\n",
       "    .dataframe thead th {\n",
       "        text-align: right;\n",
       "    }\n",
       "</style>\n",
       "<table border=\"1\" class=\"dataframe\">\n",
       "  <thead>\n",
       "    <tr style=\"text-align: right;\">\n",
       "      <th></th>\n",
       "      <th>total_images</th>\n",
       "      <th>last_price</th>\n",
       "      <th>total_area</th>\n",
       "      <th>first_day_exposition</th>\n",
       "      <th>rooms</th>\n",
       "      <th>ceiling_height</th>\n",
       "      <th>floors_total</th>\n",
       "      <th>living_area</th>\n",
       "      <th>floor</th>\n",
       "      <th>is_apartment</th>\n",
       "      <th>...</th>\n",
       "      <th>balcony</th>\n",
       "      <th>locality_name</th>\n",
       "      <th>airports_nearest</th>\n",
       "      <th>cityCenters_nearest</th>\n",
       "      <th>parks_around3000</th>\n",
       "      <th>parks_nearest</th>\n",
       "      <th>ponds_around3000</th>\n",
       "      <th>ponds_nearest</th>\n",
       "      <th>days_exposition</th>\n",
       "      <th>location</th>\n",
       "    </tr>\n",
       "  </thead>\n",
       "  <tbody>\n",
       "    <tr>\n",
       "      <th>8793</th>\n",
       "      <td>7</td>\n",
       "      <td>12190.0</td>\n",
       "      <td>109.0</td>\n",
       "      <td>2019-03-20</td>\n",
       "      <td>2</td>\n",
       "      <td>2.75</td>\n",
       "      <td>25.0</td>\n",
       "      <td>32.0</td>\n",
       "      <td>25</td>\n",
       "      <td>0</td>\n",
       "      <td>...</td>\n",
       "      <td>0</td>\n",
       "      <td>Санкт-Петербург</td>\n",
       "      <td>36421.0</td>\n",
       "      <td>9176.0</td>\n",
       "      <td>1.0</td>\n",
       "      <td>805.0</td>\n",
       "      <td>0.0</td>\n",
       "      <td>NaN</td>\n",
       "      <td>8.0</td>\n",
       "      <td>санкт-петербург</td>\n",
       "    </tr>\n",
       "  </tbody>\n",
       "</table>\n",
       "<p>1 rows × 23 columns</p>\n",
       "</div>"
      ],
      "text/plain": [
       "      total_images  last_price  total_area first_day_exposition  rooms  \\\n",
       "8793             7     12190.0       109.0           2019-03-20      2   \n",
       "\n",
       "      ceiling_height  floors_total  living_area  floor is_apartment  ...  \\\n",
       "8793            2.75          25.0         32.0     25            0  ...   \n",
       "\n",
       "      balcony    locality_name  airports_nearest  cityCenters_nearest  \\\n",
       "8793        0  Санкт-Петербург           36421.0               9176.0   \n",
       "\n",
       "     parks_around3000  parks_nearest  ponds_around3000  ponds_nearest  \\\n",
       "8793              1.0          805.0               0.0            NaN   \n",
       "\n",
       "      days_exposition         location  \n",
       "8793              8.0  санкт-петербург  \n",
       "\n",
       "[1 rows x 23 columns]"
      ]
     },
     "execution_count": 38,
     "metadata": {},
     "output_type": "execute_result"
    }
   ],
   "source": [
    "data.query('last_price < 100000')"
   ]
  },
  {
   "cell_type": "markdown",
   "metadata": {},
   "source": [
    "Поскольку речь идет о двухкомнатной квартире в СПб площадью 109 кв.м на 2 этаже 25-этажного дома, стоимость в 12190 выглядит очень сомнительно. Исключим данный кейс."
   ]
  },
  {
   "cell_type": "code",
   "execution_count": 39,
   "metadata": {},
   "outputs": [
    {
     "data": {
      "text/plain": [
       "array([4.300e+05, 4.400e+05, 4.500e+05, ..., 4.013e+08, 4.200e+08,\n",
       "       7.630e+08])"
      ]
     },
     "execution_count": 39,
     "metadata": {},
     "output_type": "execute_result"
    }
   ],
   "source": [
    "data = data.query('last_price > 100000')\n",
    "# проверка \n",
    "data['last_price'].sort_values().unique()"
   ]
  },
  {
   "cell_type": "markdown",
   "metadata": {},
   "source": [
    "Проверим, какие минимальные значения принимает переменная `total_area`. "
   ]
  },
  {
   "cell_type": "code",
   "execution_count": 40,
   "metadata": {},
   "outputs": [
    {
     "data": {
      "text/plain": [
       "array([ 12. ,  13. ,  13.2, ..., 631. , 631.2, 900. ])"
      ]
     },
     "execution_count": 40,
     "metadata": {},
     "output_type": "execute_result"
    }
   ],
   "source": [
    "data['total_area'].sort_values().unique()"
   ]
  },
  {
   "cell_type": "markdown",
   "metadata": {},
   "source": [
    "Диапазоны кажутся вполне адекватными: могут продаваться как маленькие студии 12 кв.м, так и большие квартиры по 900 кв.м. <br/><br/>\n",
    "Проверим также в каких диапазонах находится количество этажей в доме."
   ]
  },
  {
   "cell_type": "code",
   "execution_count": 41,
   "metadata": {},
   "outputs": [
    {
     "data": {
      "text/plain": [
       "array([ 1.,  2.,  3.,  4.,  5.,  6.,  7.,  8.,  9., 10., 11., 12., 13.,\n",
       "       14., 15., 16., 17., 18., 19., 20., 21., 22., 23., 24., 25., 26.,\n",
       "       27., 28., 29., 33., 34., 35., 36., 52., 60., nan])"
      ]
     },
     "execution_count": 41,
     "metadata": {},
     "output_type": "execute_result"
    }
   ],
   "source": [
    "data['floors_total'].sort_values().unique()"
   ]
  },
  {
   "cell_type": "markdown",
   "metadata": {},
   "source": [
    "Тут тоже кажется всё вполне адекватным. Больше переменных, в которых могут быть \"странные\" значения, нет."
   ]
  },
  {
   "cell_type": "code",
   "execution_count": 42,
   "metadata": {},
   "outputs": [
    {
     "data": {
      "text/plain": [
       "0"
      ]
     },
     "execution_count": 42,
     "metadata": {},
     "output_type": "execute_result"
    }
   ],
   "source": [
    "# проверим, сколько в таблице явных дубликатов\n",
    "data.duplicated().sum()"
   ]
  },
  {
   "cell_type": "markdown",
   "metadata": {},
   "source": [
    "В таблице отсутствуют явные дубликаты."
   ]
  },
  {
   "cell_type": "markdown",
   "metadata": {},
   "source": [
    "### Посчитайте и добавьте в таблицу новые столбцы"
   ]
  },
  {
   "cell_type": "markdown",
   "metadata": {},
   "source": [
    "Добавим в таблицу новые столбцы со следующими параметрами:\n",
    "* цена одного квадратного метра;\n",
    "* день недели публикации объявления (0 — понедельник, 1 — вторник и так далее);\n",
    "* месяц публикации объявления;\n",
    "* год публикации объявления;\n",
    "* тип этажа квартиры (значения — «‎первый», «последний», «другой»);\n",
    "* расстояние до центра города в километрах (переведите из м в км и округлите до целых значений)."
   ]
  },
  {
   "cell_type": "code",
   "execution_count": 43,
   "metadata": {},
   "outputs": [],
   "source": [
    "# цена 1 кв.м\n",
    "data['price_per_m2'] = data['last_price'] / data['total_area']"
   ]
  },
  {
   "cell_type": "code",
   "execution_count": 44,
   "metadata": {
    "scrolled": true
   },
   "outputs": [],
   "source": [
    "# день недели публикации объявления\n",
    "data['weekday'] = pd.DatetimeIndex(data['first_day_exposition']).weekday\n",
    "# месяц публикации объявления\n",
    "data['month'] = pd.DatetimeIndex(data['first_day_exposition']).month\n",
    "# год публикации объявления\n",
    "data['year'] = pd.DatetimeIndex(data['first_day_exposition']).year"
   ]
  },
  {
   "cell_type": "code",
   "execution_count": 45,
   "metadata": {},
   "outputs": [],
   "source": [
    "# тип этажа квартиры (значения — «первый», «последний», «другой»)\n",
    "\n",
    "# зададим функцию, определяющую тип этажа квартиры\n",
    "def floor_type(row):\n",
    "    if row['floor'] == 1:\n",
    "        return 'первый'\n",
    "    elif row['floor'] == row['floors_total']:\n",
    "        return 'последний'\n",
    "    return 'другой'\n",
    "\n",
    "# применим эту функцию, создав столбец floor_type:\n",
    "data['floor_type'] = data.apply(floor_type, axis=1)"
   ]
  },
  {
   "cell_type": "code",
   "execution_count": 46,
   "metadata": {},
   "outputs": [],
   "source": [
    "# расстояние до центра города в километрах, округленное до целых значений\n",
    "data['city_center_km'] = data['cityCenters_nearest'] / 1000\n",
    "data['city_center_km'] = data['city_center_km'].round()"
   ]
  },
  {
   "cell_type": "code",
   "execution_count": 47,
   "metadata": {},
   "outputs": [
    {
     "data": {
      "text/html": [
       "<div>\n",
       "<style scoped>\n",
       "    .dataframe tbody tr th:only-of-type {\n",
       "        vertical-align: middle;\n",
       "    }\n",
       "\n",
       "    .dataframe tbody tr th {\n",
       "        vertical-align: top;\n",
       "    }\n",
       "\n",
       "    .dataframe thead th {\n",
       "        text-align: right;\n",
       "    }\n",
       "</style>\n",
       "<table border=\"1\" class=\"dataframe\">\n",
       "  <thead>\n",
       "    <tr style=\"text-align: right;\">\n",
       "      <th></th>\n",
       "      <th>total_images</th>\n",
       "      <th>last_price</th>\n",
       "      <th>total_area</th>\n",
       "      <th>first_day_exposition</th>\n",
       "      <th>rooms</th>\n",
       "      <th>ceiling_height</th>\n",
       "      <th>floors_total</th>\n",
       "      <th>living_area</th>\n",
       "      <th>floor</th>\n",
       "      <th>is_apartment</th>\n",
       "      <th>...</th>\n",
       "      <th>ponds_around3000</th>\n",
       "      <th>ponds_nearest</th>\n",
       "      <th>days_exposition</th>\n",
       "      <th>location</th>\n",
       "      <th>price_per_m2</th>\n",
       "      <th>weekday</th>\n",
       "      <th>month</th>\n",
       "      <th>year</th>\n",
       "      <th>floor_type</th>\n",
       "      <th>city_center_km</th>\n",
       "    </tr>\n",
       "  </thead>\n",
       "  <tbody>\n",
       "    <tr>\n",
       "      <th>0</th>\n",
       "      <td>20</td>\n",
       "      <td>13000000.0</td>\n",
       "      <td>108.0</td>\n",
       "      <td>2019-03-07</td>\n",
       "      <td>3</td>\n",
       "      <td>2.70</td>\n",
       "      <td>16.0</td>\n",
       "      <td>51.0</td>\n",
       "      <td>8</td>\n",
       "      <td>0</td>\n",
       "      <td>...</td>\n",
       "      <td>2.0</td>\n",
       "      <td>755.0</td>\n",
       "      <td>NaN</td>\n",
       "      <td>санкт-петербург</td>\n",
       "      <td>120370.370370</td>\n",
       "      <td>3</td>\n",
       "      <td>3</td>\n",
       "      <td>2019</td>\n",
       "      <td>другой</td>\n",
       "      <td>16.0</td>\n",
       "    </tr>\n",
       "    <tr>\n",
       "      <th>1</th>\n",
       "      <td>7</td>\n",
       "      <td>3350000.0</td>\n",
       "      <td>40.4</td>\n",
       "      <td>2018-12-04</td>\n",
       "      <td>1</td>\n",
       "      <td>2.65</td>\n",
       "      <td>11.0</td>\n",
       "      <td>18.6</td>\n",
       "      <td>1</td>\n",
       "      <td>0</td>\n",
       "      <td>...</td>\n",
       "      <td>0.0</td>\n",
       "      <td>NaN</td>\n",
       "      <td>81.0</td>\n",
       "      <td>шушары</td>\n",
       "      <td>82920.792079</td>\n",
       "      <td>1</td>\n",
       "      <td>12</td>\n",
       "      <td>2018</td>\n",
       "      <td>первый</td>\n",
       "      <td>19.0</td>\n",
       "    </tr>\n",
       "    <tr>\n",
       "      <th>2</th>\n",
       "      <td>10</td>\n",
       "      <td>5196000.0</td>\n",
       "      <td>56.0</td>\n",
       "      <td>2015-08-20</td>\n",
       "      <td>2</td>\n",
       "      <td>2.65</td>\n",
       "      <td>5.0</td>\n",
       "      <td>34.3</td>\n",
       "      <td>4</td>\n",
       "      <td>0</td>\n",
       "      <td>...</td>\n",
       "      <td>2.0</td>\n",
       "      <td>574.0</td>\n",
       "      <td>558.0</td>\n",
       "      <td>санкт-петербург</td>\n",
       "      <td>92785.714286</td>\n",
       "      <td>3</td>\n",
       "      <td>8</td>\n",
       "      <td>2015</td>\n",
       "      <td>другой</td>\n",
       "      <td>14.0</td>\n",
       "    </tr>\n",
       "    <tr>\n",
       "      <th>3</th>\n",
       "      <td>0</td>\n",
       "      <td>64900000.0</td>\n",
       "      <td>159.0</td>\n",
       "      <td>2015-07-24</td>\n",
       "      <td>3</td>\n",
       "      <td>2.65</td>\n",
       "      <td>14.0</td>\n",
       "      <td>NaN</td>\n",
       "      <td>9</td>\n",
       "      <td>0</td>\n",
       "      <td>...</td>\n",
       "      <td>3.0</td>\n",
       "      <td>234.0</td>\n",
       "      <td>424.0</td>\n",
       "      <td>санкт-петербург</td>\n",
       "      <td>408176.100629</td>\n",
       "      <td>4</td>\n",
       "      <td>7</td>\n",
       "      <td>2015</td>\n",
       "      <td>другой</td>\n",
       "      <td>7.0</td>\n",
       "    </tr>\n",
       "    <tr>\n",
       "      <th>4</th>\n",
       "      <td>2</td>\n",
       "      <td>10000000.0</td>\n",
       "      <td>100.0</td>\n",
       "      <td>2018-06-19</td>\n",
       "      <td>2</td>\n",
       "      <td>3.03</td>\n",
       "      <td>14.0</td>\n",
       "      <td>32.0</td>\n",
       "      <td>13</td>\n",
       "      <td>0</td>\n",
       "      <td>...</td>\n",
       "      <td>1.0</td>\n",
       "      <td>48.0</td>\n",
       "      <td>121.0</td>\n",
       "      <td>санкт-петербург</td>\n",
       "      <td>100000.000000</td>\n",
       "      <td>1</td>\n",
       "      <td>6</td>\n",
       "      <td>2018</td>\n",
       "      <td>другой</td>\n",
       "      <td>8.0</td>\n",
       "    </tr>\n",
       "  </tbody>\n",
       "</table>\n",
       "<p>5 rows × 29 columns</p>\n",
       "</div>"
      ],
      "text/plain": [
       "   total_images  last_price  total_area first_day_exposition  rooms  \\\n",
       "0            20  13000000.0       108.0           2019-03-07      3   \n",
       "1             7   3350000.0        40.4           2018-12-04      1   \n",
       "2            10   5196000.0        56.0           2015-08-20      2   \n",
       "3             0  64900000.0       159.0           2015-07-24      3   \n",
       "4             2  10000000.0       100.0           2018-06-19      2   \n",
       "\n",
       "   ceiling_height  floors_total  living_area  floor is_apartment  ...  \\\n",
       "0            2.70          16.0         51.0      8            0  ...   \n",
       "1            2.65          11.0         18.6      1            0  ...   \n",
       "2            2.65           5.0         34.3      4            0  ...   \n",
       "3            2.65          14.0          NaN      9            0  ...   \n",
       "4            3.03          14.0         32.0     13            0  ...   \n",
       "\n",
       "   ponds_around3000  ponds_nearest  days_exposition         location  \\\n",
       "0               2.0          755.0              NaN  санкт-петербург   \n",
       "1               0.0            NaN             81.0           шушары   \n",
       "2               2.0          574.0            558.0  санкт-петербург   \n",
       "3               3.0          234.0            424.0  санкт-петербург   \n",
       "4               1.0           48.0            121.0  санкт-петербург   \n",
       "\n",
       "    price_per_m2  weekday  month  year  floor_type  city_center_km  \n",
       "0  120370.370370        3      3  2019      другой            16.0  \n",
       "1   82920.792079        1     12  2018      первый            19.0  \n",
       "2   92785.714286        3      8  2015      другой            14.0  \n",
       "3  408176.100629        4      7  2015      другой             7.0  \n",
       "4  100000.000000        1      6  2018      другой             8.0  \n",
       "\n",
       "[5 rows x 29 columns]"
      ]
     },
     "execution_count": 47,
     "metadata": {},
     "output_type": "execute_result"
    }
   ],
   "source": [
    "# проверка\n",
    "data.head()"
   ]
  },
  {
   "cell_type": "markdown",
   "metadata": {},
   "source": [
    "**Вывод:** <br/>\n",
    "В данном разделе мы добавили в нашу таблицу 6 новых переменных: \n",
    "1) цену 1 квадратного метра;\n",
    "2) день недели публикации объявления;\n",
    "3) месяц публикации объявления;\n",
    "4) год публикации объявления;\n",
    "5) тип этажа квартиры;\n",
    "6) расстояние до центра города в километрах."
   ]
  },
  {
   "cell_type": "markdown",
   "metadata": {},
   "source": [
    "### Проведите исследовательский анализ данных"
   ]
  },
  {
   "cell_type": "markdown",
   "metadata": {},
   "source": [
    "#### Изучение параметров объектов"
   ]
  },
  {
   "cell_type": "markdown",
   "metadata": {},
   "source": [
    "Изучим следующие параметры объектов:\n",
    "* общая площадь;\n",
    "* жилая площадь;\n",
    "* площадь кухни;\n",
    "* цена объекта;\n",
    "* количество комнат;\n",
    "* высота потолков;\n",
    "* этаж квартиры;\n",
    "* тип этажа квартиры («первый», «последний», «другой»);\n",
    "* общее количество этажей в доме;\n",
    "* расстояние до центра города в метрах;\n",
    "* расстояние до ближайшего аэропорта;\n",
    "* расстояние до ближайшего парка;\n",
    "* день и месяц публикации объявления."
   ]
  },
  {
   "cell_type": "markdown",
   "metadata": {},
   "source": [
    "Изучим общую площадь квартир при помощи гистограмм."
   ]
  },
  {
   "cell_type": "code",
   "execution_count": 48,
   "metadata": {},
   "outputs": [
    {
     "data": {
      "text/plain": [
       "<AxesSubplot:>"
      ]
     },
     "execution_count": 48,
     "metadata": {},
     "output_type": "execute_result"
    },
    {
     "data": {
      "image/png": "[encoded data removed]",
      "text/plain": [
       "<Figure size 432x288 with 1 Axes>"
      ]
     },
     "metadata": {
      "needs_background": "light"
     },
     "output_type": "display_data"
    }
   ],
   "source": [
    "data['total_area'].hist(bins=20, figsize=(6, 4))"
   ]
  },
  {
   "cell_type": "markdown",
   "metadata": {},
   "source": [
    "Большая часть площадей квартир составляет меньше 100 $м^2$. Площади квартир больше 400 метров, судя по гистограмме, являются выбросами. Посмотрим на укрупненную диаграмму в диапазоне площадей квартир до 200 $м^2$. "
   ]
  },
  {
   "cell_type": "code",
   "execution_count": 49,
   "metadata": {},
   "outputs": [
    {
     "data": {
      "text/plain": [
       "<AxesSubplot:>"
      ]
     },
     "execution_count": 49,
     "metadata": {},
     "output_type": "execute_result"
    },
    {
     "data": {
      "image/png": "[encoded data removed]",
      "text/plain": [
       "<Figure size 432x288 with 1 Axes>"
      ]
     },
     "metadata": {
      "needs_background": "light"
     },
     "output_type": "display_data"
    }
   ],
   "source": [
    "data['total_area'].hist(bins=20, figsize=(6, 4), range=(0, 200))"
   ]
  },
  {
   "cell_type": "markdown",
   "metadata": {},
   "source": [
    "Из диаграммы выше становится очевидно, что большинство квартир имеют площадь от 25 до 100 $м^2$."
   ]
  },
  {
   "cell_type": "markdown",
   "metadata": {},
   "source": [
    "Изучим жилую площадь квартир при помощи гистограмм."
   ]
  },
  {
   "cell_type": "code",
   "execution_count": 50,
   "metadata": {},
   "outputs": [
    {
     "data": {
      "text/plain": [
       "<AxesSubplot:>"
      ]
     },
     "execution_count": 50,
     "metadata": {},
     "output_type": "execute_result"
    },
    {
     "data": {
      "image/png": "[encoded data removed]",
      "text/plain": [
       "<Figure size 432x288 with 1 Axes>"
      ]
     },
     "metadata": {
      "needs_background": "light"
     },
     "output_type": "display_data"
    }
   ],
   "source": [
    "data['living_area'].hist(bins=20, figsize=(6, 4))"
   ]
  },
  {
   "cell_type": "code",
   "execution_count": 51,
   "metadata": {},
   "outputs": [
    {
     "data": {
      "text/plain": [
       "<AxesSubplot:>"
      ]
     },
     "execution_count": 51,
     "metadata": {},
     "output_type": "execute_result"
    },
    {
     "data": {
      "image/png": "[encoded data removed]",
      "text/plain": [
       "<Figure size 432x288 with 1 Axes>"
      ]
     },
     "metadata": {
      "needs_background": "light"
     },
     "output_type": "display_data"
    }
   ],
   "source": [
    "data['living_area'].hist(bins=20, figsize=(6, 4), range=(0, 130))"
   ]
  },
  {
   "cell_type": "markdown",
   "metadata": {},
   "source": [
    "Большая часть жилых площадей квартир находится в диапазоне от 10 до 60 $м^2$. Квартиры с жилплощадями больше 200 $м^2$ можно считать выбросами."
   ]
  },
  {
   "cell_type": "markdown",
   "metadata": {},
   "source": [
    "Изучим площади кухонь в квартирах."
   ]
  },
  {
   "cell_type": "code",
   "execution_count": 52,
   "metadata": {
    "scrolled": false
   },
   "outputs": [
    {
     "data": {
      "text/plain": [
       "<AxesSubplot:>"
      ]
     },
     "execution_count": 52,
     "metadata": {},
     "output_type": "execute_result"
    },
    {
     "data": {
      "image/png": "[encoded data removed]",
      "text/plain": [
       "<Figure size 432x288 with 1 Axes>"
      ]
     },
     "metadata": {
      "needs_background": "light"
     },
     "output_type": "display_data"
    }
   ],
   "source": [
    "data['kitchen_area'].hist(bins=20, figsize=(6, 4))"
   ]
  },
  {
   "cell_type": "code",
   "execution_count": 53,
   "metadata": {},
   "outputs": [
    {
     "data": {
      "text/plain": [
       "<AxesSubplot:>"
      ]
     },
     "execution_count": 53,
     "metadata": {},
     "output_type": "execute_result"
    },
    {
     "data": {
      "image/png": "[encoded data removed]",
      "text/plain": [
       "<Figure size 432x288 with 1 Axes>"
      ]
     },
     "metadata": {
      "needs_background": "light"
     },
     "output_type": "display_data"
    }
   ],
   "source": [
    "data['kitchen_area'].hist(bins=20, figsize=(6, 4), range=(0, 40))"
   ]
  },
  {
   "cell_type": "markdown",
   "metadata": {},
   "source": [
    "Здесь большая часть площадей кухонь составляет от 4-5 до 15 $м^2$. Площади кухонь больше 60 $м^2$ можно считать выбросами."
   ]
  },
  {
   "cell_type": "markdown",
   "metadata": {},
   "source": [
    "Изучим гистограммы цен на жилье. Из гистограммы ниже очевидно, что есть выбросы и необходимо менять масштаб гистограммы. Посмотрим на распределение цен квартир меньше 20 млн. "
   ]
  },
  {
   "cell_type": "code",
   "execution_count": 54,
   "metadata": {},
   "outputs": [
    {
     "data": {
      "text/plain": [
       "<AxesSubplot:>"
      ]
     },
     "execution_count": 54,
     "metadata": {},
     "output_type": "execute_result"
    },
    {
     "data": {
      "image/png": "[encoded data removed]",
      "text/plain": [
       "<Figure size 432x288 with 1 Axes>"
      ]
     },
     "metadata": {
      "needs_background": "light"
     },
     "output_type": "display_data"
    }
   ],
   "source": [
    "data['last_price'].hist(bins=10, figsize=(6, 4))"
   ]
  },
  {
   "cell_type": "code",
   "execution_count": 55,
   "metadata": {},
   "outputs": [
    {
     "data": {
      "text/plain": [
       "<AxesSubplot:>"
      ]
     },
     "execution_count": 55,
     "metadata": {},
     "output_type": "execute_result"
    },
    {
     "data": {
      "image/png": "[encoded data removed]",
      "text/plain": [
       "<Figure size 432x288 with 1 Axes>"
      ]
     },
     "metadata": {
      "needs_background": "light"
     },
     "output_type": "display_data"
    }
   ],
   "source": [
    "data['last_price'].hist(bins=10, figsize=(6, 4), range=(0, 20000000))"
   ]
  },
  {
   "cell_type": "markdown",
   "metadata": {},
   "source": [
    "Из гистограммы выше следует, что цены на большинство кватир находятся в диапазоне от 2.5 до 1 млн рублей. Цены выше 20-30 млн в данной выборке можно считать выбросами."
   ]
  },
  {
   "cell_type": "markdown",
   "metadata": {},
   "source": [
    "Изучим общее число комнат в квартирах. В данном случае квартиры, в которых больше 8 комнат, можно считать выбросами. "
   ]
  },
  {
   "cell_type": "code",
   "execution_count": 56,
   "metadata": {},
   "outputs": [
    {
     "data": {
      "text/plain": [
       "<AxesSubplot:>"
      ]
     },
     "execution_count": 56,
     "metadata": {},
     "output_type": "execute_result"
    },
    {
     "data": {
      "image/png": "[encoded data removed]",
      "text/plain": [
       "<Figure size 432x288 with 1 Axes>"
      ]
     },
     "metadata": {
      "needs_background": "light"
     },
     "output_type": "display_data"
    }
   ],
   "source": [
    "data['rooms'].hist(figsize=(6, 4))"
   ]
  },
  {
   "cell_type": "code",
   "execution_count": 57,
   "metadata": {},
   "outputs": [
    {
     "data": {
      "text/plain": [
       "<AxesSubplot:>"
      ]
     },
     "execution_count": 57,
     "metadata": {},
     "output_type": "execute_result"
    },
    {
     "data": {
      "image/png": "[encoded data removed]",
      "text/plain": [
       "<Figure size 432x288 with 1 Axes>"
      ]
     },
     "metadata": {
      "needs_background": "light"
     },
     "output_type": "display_data"
    }
   ],
   "source": [
    "data['rooms'].hist(bins=8, figsize=(6, 4), range=(0, 8))"
   ]
  },
  {
   "cell_type": "markdown",
   "metadata": {},
   "source": [
    "Из гистогараммы выше следует, что больше всего в выборке 1-комнатных и 2-комнатных квартир, далее по частоте идут 3-комнатные квартиры, следом 4-комнатные. Квартир остальных видов меньше 1000 по каждому отдельно взятому числу комнат."
   ]
  },
  {
   "cell_type": "markdown",
   "metadata": {},
   "source": [
    "Изучим высоту потолков в квартирах. Здесь квартиры, в которых высота потолков больше 4 м, скорее являются выбросами. "
   ]
  },
  {
   "cell_type": "code",
   "execution_count": 58,
   "metadata": {},
   "outputs": [
    {
     "data": {
      "text/plain": [
       "<AxesSubplot:>"
      ]
     },
     "execution_count": 58,
     "metadata": {},
     "output_type": "execute_result"
    },
    {
     "data": {
      "image/png": "[encoded data removed]",
      "text/plain": [
       "<Figure size 432x288 with 1 Axes>"
      ]
     },
     "metadata": {
      "needs_background": "light"
     },
     "output_type": "display_data"
    }
   ],
   "source": [
    "data['ceiling_height'].hist(bins=20, figsize=(6, 4))"
   ]
  },
  {
   "cell_type": "code",
   "execution_count": 59,
   "metadata": {
    "scrolled": false
   },
   "outputs": [
    {
     "data": {
      "text/plain": [
       "<AxesSubplot:>"
      ]
     },
     "execution_count": 59,
     "metadata": {},
     "output_type": "execute_result"
    },
    {
     "data": {
      "image/png": "[encoded data removed]",
      "text/plain": [
       "<Figure size 432x288 with 1 Axes>"
      ]
     },
     "metadata": {
      "needs_background": "light"
     },
     "output_type": "display_data"
    }
   ],
   "source": [
    "data['ceiling_height'].hist(bins=20, figsize=(6, 4), range=(2.4, 4))"
   ]
  },
  {
   "cell_type": "markdown",
   "metadata": {},
   "source": [
    "У большинства квартир высота потолков около 2.7 м, далее идут квартиры с потолками около 2.5 м."
   ]
  },
  {
   "cell_type": "markdown",
   "metadata": {},
   "source": [
    "Изучим то, на каком этаже находятся продаваемые квартиры. Многие из продаваемых квартир находятся на 1-4 этажах, далее как правило (но не всегда) число продаваемых квартир убывает с увеличением этажа.\n"
   ]
  },
  {
   "cell_type": "code",
   "execution_count": 60,
   "metadata": {},
   "outputs": [
    {
     "data": {
      "text/plain": [
       "<AxesSubplot:>"
      ]
     },
     "execution_count": 60,
     "metadata": {},
     "output_type": "execute_result"
    },
    {
     "data": {
      "image/png": "[encoded data removed]",
      "text/plain": [
       "<Figure size 432x288 with 1 Axes>"
      ]
     },
     "metadata": {
      "needs_background": "light"
     },
     "output_type": "display_data"
    }
   ],
   "source": [
    "data['floor'].hist(bins=20, figsize=(6, 4))"
   ]
  },
  {
   "cell_type": "markdown",
   "metadata": {},
   "source": [
    "Посмотрим на гистограмму, определяющую, какие этажи в доме обычно продаются. Как правило люди продают квартиры не на первом и не на последнем этаже – таких в выборке большинство."
   ]
  },
  {
   "cell_type": "code",
   "execution_count": 61,
   "metadata": {},
   "outputs": [
    {
     "data": {
      "text/plain": [
       "<AxesSubplot:>"
      ]
     },
     "execution_count": 61,
     "metadata": {},
     "output_type": "execute_result"
    },
    {
     "data": {
      "image/png": "[encoded data removed]",
      "text/plain": [
       "<Figure size 432x288 with 1 Axes>"
      ]
     },
     "metadata": {
      "needs_background": "light"
     },
     "output_type": "display_data"
    }
   ],
   "source": [
    "data['floor_type'].hist(figsize=(6, 4))"
   ]
  },
  {
   "cell_type": "markdown",
   "metadata": {},
   "source": [
    "Изучим общее количество этажей в домах, где продаются квартиры. Дома с более чем 30 этажами можно считать выбросами."
   ]
  },
  {
   "cell_type": "markdown",
   "metadata": {},
   "source": [
    "<div class=\"alert alert-block alert-success\">✔️\n",
    "    \n",
    "\n",
    "__Комментарий от ревьюера №1__\n",
    "\n",
    "Полученные данные соответствуют реалиям\n",
    "</div>"
   ]
  },
  {
   "cell_type": "code",
   "execution_count": 62,
   "metadata": {},
   "outputs": [
    {
     "data": {
      "text/plain": [
       "<AxesSubplot:>"
      ]
     },
     "execution_count": 62,
     "metadata": {},
     "output_type": "execute_result"
    },
    {
     "data": {
      "image/png": "[encoded data removed]",
      "text/plain": [
       "<Figure size 432x288 with 1 Axes>"
      ]
     },
     "metadata": {
      "needs_background": "light"
     },
     "output_type": "display_data"
    }
   ],
   "source": [
    "data['floors_total'].hist(bins=20, figsize=(6, 4))"
   ]
  },
  {
   "cell_type": "code",
   "execution_count": 63,
   "metadata": {
    "scrolled": false
   },
   "outputs": [
    {
     "data": {
      "text/plain": [
       "<AxesSubplot:>"
      ]
     },
     "execution_count": 63,
     "metadata": {},
     "output_type": "execute_result"
    },
    {
     "data": {
      "image/png": "[encoded data removed]",
      "text/plain": [
       "<Figure size 432x288 with 1 Axes>"
      ]
     },
     "metadata": {
      "needs_background": "light"
     },
     "output_type": "display_data"
    }
   ],
   "source": [
    "data['floors_total'].hist(bins=20, figsize=(6, 4), range=(0, 30))"
   ]
  },
  {
   "cell_type": "markdown",
   "metadata": {},
   "source": [
    "Очень многие из продаваемых квартир расположены в 5- и 10-этажных домах. Большое количество 5-этажных домов можно объяснить большим количеством хрущовок в СПб: хрущовки строились пятиэтажными. 10-этажные дома – это, наиболее вероятно, сталинки или уже постройки после 90х годов. "
   ]
  },
  {
   "cell_type": "markdown",
   "metadata": {},
   "source": [
    "Изучим распределение расстояния от центра до продаваемых квартир (в метрах). Большинство квартир находится на растоянии до 20 км от центра. Отдельно встречаются выбросы по квартирам, находящимся далее, чем в 40 км от центра. Скорее всего это уже квартиры в Ленобласти. "
   ]
  },
  {
   "cell_type": "code",
   "execution_count": 64,
   "metadata": {},
   "outputs": [
    {
     "data": {
      "text/plain": [
       "<AxesSubplot:>"
      ]
     },
     "execution_count": 64,
     "metadata": {},
     "output_type": "execute_result"
    },
    {
     "data": {
      "image/png": "[encoded data removed]",
      "text/plain": [
       "<Figure size 432x288 with 1 Axes>"
      ]
     },
     "metadata": {
      "needs_background": "light"
     },
     "output_type": "display_data"
    }
   ],
   "source": [
    "data['cityCenters_nearest'].hist(bins=20, figsize=(6, 4))"
   ]
  },
  {
   "cell_type": "markdown",
   "metadata": {},
   "source": [
    "Изучим распределение расстояния от аэропорта до продаваемых квартир (в метрах). Большинство квартир находится на расстоянии от 10 до 55 км от аэропорта. "
   ]
  },
  {
   "cell_type": "code",
   "execution_count": 65,
   "metadata": {},
   "outputs": [
    {
     "data": {
      "text/plain": [
       "<AxesSubplot:>"
      ]
     },
     "execution_count": 65,
     "metadata": {},
     "output_type": "execute_result"
    },
    {
     "data": {
      "image/png": "[encoded data removed]",
      "text/plain": [
       "<Figure size 432x288 with 1 Axes>"
      ]
     },
     "metadata": {
      "needs_background": "light"
     },
     "output_type": "display_data"
    }
   ],
   "source": [
    "data['airports_nearest'].hist(bins=20, figsize=(6, 4))"
   ]
  },
  {
   "cell_type": "markdown",
   "metadata": {},
   "source": [
    "Изучим расстояние до ближайшего парка. Большинство квартир находятся на расстоянии меньше, чем 1 км, до парка."
   ]
  },
  {
   "cell_type": "code",
   "execution_count": 66,
   "metadata": {},
   "outputs": [
    {
     "data": {
      "text/plain": [
       "<AxesSubplot:>"
      ]
     },
     "execution_count": 66,
     "metadata": {},
     "output_type": "execute_result"
    },
    {
     "data": {
      "image/png": "[encoded data removed]",
      "text/plain": [
       "<Figure size 432x288 with 1 Axes>"
      ]
     },
     "metadata": {
      "needs_background": "light"
     },
     "output_type": "display_data"
    }
   ],
   "source": [
    "data['parks_nearest'].hist(bins=20, figsize=(6, 4))"
   ]
  },
  {
   "cell_type": "markdown",
   "metadata": {},
   "source": [
    "Изучим распределение публикаций по дням недели и месяцам. Объявления чаще размещались по будням, нежели по выходным. Если говорить о месяцах, то квартиры чаще выставляли в феврале-апреле; реже всего квартиры выставлялись в мае (видимо из-за майских праздников); летом квартиры также реже выставляли на продажу. Осенью выставляют уже чаще чем летом. Спад наблюдается в декабре-январе (видимо, из-за предновогодней суеты и новогодних праздников)."
   ]
  },
  {
   "cell_type": "code",
   "execution_count": 67,
   "metadata": {},
   "outputs": [
    {
     "data": {
      "text/plain": [
       "<AxesSubplot:>"
      ]
     },
     "execution_count": 67,
     "metadata": {},
     "output_type": "execute_result"
    },
    {
     "data": {
      "image/png": "[encoded data removed]",
      "text/plain": [
       "<Figure size 432x288 with 1 Axes>"
      ]
     },
     "metadata": {
      "needs_background": "light"
     },
     "output_type": "display_data"
    }
   ],
   "source": [
    "data['weekday'].hist(bins=7, figsize=(6, 4))"
   ]
  },
  {
   "cell_type": "code",
   "execution_count": 68,
   "metadata": {
    "scrolled": true
   },
   "outputs": [
    {
     "data": {
      "text/plain": [
       "<AxesSubplot:>"
      ]
     },
     "execution_count": 68,
     "metadata": {},
     "output_type": "execute_result"
    },
    {
     "data": {
      "image/png": "[encoded data removed]",
      "text/plain": [
       "<Figure size 432x288 with 1 Axes>"
      ]
     },
     "metadata": {
      "needs_background": "light"
     },
     "output_type": "display_data"
    }
   ],
   "source": [
    "data['month'].hist(bins=12, figsize=(6, 4))"
   ]
  },
  {
   "cell_type": "markdown",
   "metadata": {},
   "source": [
    "#### Изучение быстроты продажи квартир"
   ]
  },
  {
   "cell_type": "markdown",
   "metadata": {},
   "source": [
    "Изучим то, как быстро продавались квартиры на основе параметра `days_exposition`. Посмотрим на гистограмму."
   ]
  },
  {
   "cell_type": "code",
   "execution_count": 69,
   "metadata": {},
   "outputs": [
    {
     "data": {
      "text/plain": [
       "<AxesSubplot:>"
      ]
     },
     "execution_count": 69,
     "metadata": {},
     "output_type": "execute_result"
    },
    {
     "data": {
      "image/png": "[encoded data removed]",
      "text/plain": [
       "<Figure size 432x288 with 1 Axes>"
      ]
     },
     "metadata": {
      "needs_background": "light"
     },
     "output_type": "display_data"
    }
   ],
   "source": [
    "data['days_exposition'].hist()"
   ]
  },
  {
   "cell_type": "markdown",
   "metadata": {},
   "source": [
    "Большинство квартир продавались менее чем за 200 дней, однако есть и те, что были выставлены более 4 лет. Увеличив масштаб для большей детализации, можем заметить, что многие квартиры продавались менее, чем за полгода."
   ]
  },
  {
   "cell_type": "code",
   "execution_count": 70,
   "metadata": {},
   "outputs": [
    {
     "data": {
      "text/plain": [
       "<AxesSubplot:>"
      ]
     },
     "execution_count": 70,
     "metadata": {},
     "output_type": "execute_result"
    },
    {
     "data": {
      "image/png": "[encoded data removed]",
      "text/plain": [
       "<Figure size 432x288 with 1 Axes>"
      ]
     },
     "metadata": {
      "needs_background": "light"
     },
     "output_type": "display_data"
    }
   ],
   "source": [
    "data['days_exposition'].hist(range=(0, 600))"
   ]
  },
  {
   "cell_type": "markdown",
   "metadata": {},
   "source": [
    "Посчитаем медиану и среднее. Среднее в два раза превышает медиану, видимо, из-за выбросов в виде редких случаев, когда квартира была выставлена более 3-4 лет. Медиана же отражает более адекватную ситуацию: половина квартира была продана менее, чем за 95 дней, остальная половина была продана более, чем за 95 дней."
   ]
  },
  {
   "cell_type": "code",
   "execution_count": 71,
   "metadata": {},
   "outputs": [
    {
     "data": {
      "text/plain": [
       "180.95233216237315"
      ]
     },
     "execution_count": 71,
     "metadata": {},
     "output_type": "execute_result"
    }
   ],
   "source": [
    "# среднее\n",
    "data['days_exposition'].mean()"
   ]
  },
  {
   "cell_type": "code",
   "execution_count": 72,
   "metadata": {
    "scrolled": true
   },
   "outputs": [
    {
     "data": {
      "text/plain": [
       "95.0"
      ]
     },
     "execution_count": 72,
     "metadata": {},
     "output_type": "execute_result"
    }
   ],
   "source": [
    "# медиана\n",
    "data['days_exposition'].median()"
   ]
  },
  {
   "cell_type": "markdown",
   "metadata": {},
   "source": [
    "Для оценки того, какие продажи можно считать быстрыми, а какие необычно долгими, построим диаграмму размаха. "
   ]
  },
  {
   "cell_type": "code",
   "execution_count": 73,
   "metadata": {},
   "outputs": [
    {
     "data": {
      "text/plain": [
       "(-10.0, 600.0)"
      ]
     },
     "execution_count": 73,
     "metadata": {},
     "output_type": "execute_result"
    },
    {
     "data": {
      "image/png": "[encoded data removed]",
      "text/plain": [
       "<Figure size 432x288 with 1 Axes>"
      ]
     },
     "metadata": {
      "needs_background": "light"
     },
     "output_type": "display_data"
    }
   ],
   "source": [
    "data.boxplot(column='days_exposition')\n",
    "plt.ylim(-10, 600)"
   ]
  },
  {
   "cell_type": "markdown",
   "metadata": {},
   "source": [
    "Размахом длительности продаж можно считать межквартирльный размах: от 0 до 500 дней (приблизительно). Продажи, которые длятся больше 500 дней можно считать необычно долгими. Просто быстрыми продажами можно считать продажи в первом квартиле, т.е. продажи длившиеся до 1.5 месяцев:"
   ]
  },
  {
   "cell_type": "code",
   "execution_count": 74,
   "metadata": {},
   "outputs": [
    {
     "data": {
      "text/plain": [
       "45.0"
      ]
     },
     "execution_count": 74,
     "metadata": {},
     "output_type": "execute_result"
    }
   ],
   "source": [
    "data['days_exposition'].quantile(q=0.25).round()"
   ]
  },
  {
   "cell_type": "markdown",
   "metadata": {},
   "source": [
    "#### Изучение влияния факторов на общую стоимость квартиры"
   ]
  },
  {
   "cell_type": "markdown",
   "metadata": {},
   "source": [
    "Изучим то, какие факторы больше всего влияют на общую стоимость квартиры. Построим диаграммы рассеяния для следующих параметров: \n",
    "* общей площади;\n",
    "* жилой площади;\n",
    "* площади кухни;\n",
    "* количества комнат;\n",
    "* этажа, на котором расположена квартира (первый, последний, другой);\n",
    "* даты размещения (день недели, месяц, год). <br/>"
   ]
  },
  {
   "cell_type": "code",
   "execution_count": 75,
   "metadata": {},
   "outputs": [],
   "source": [
    "import warnings\n",
    "warnings.filterwarnings('ignore')"
   ]
  },
  {
   "cell_type": "code",
   "execution_count": 76,
   "metadata": {
    "scrolled": false
   },
   "outputs": [
    {
     "data": {
      "image/png": "[encoded data removed]",
      "text/plain": [
       "<Figure size 1080x1440 with 8 Axes>"
      ]
     },
     "metadata": {
      "needs_background": "light"
     },
     "output_type": "display_data"
    }
   ],
   "source": [
    "# На одном полотне 4 на 2 построим 8 диаграмм рассеяния для указанных выше параметров \n",
    "fig, axes = plt.subplots(nrows=4, ncols=2, figsize=(15, 20))\n",
    "\n",
    "# список рассматриваемых регрессоров как названий столбцов\n",
    "list_of_factors = [\n",
    "    ['total_area', 'living_area'], \n",
    "    ['kitchen_area', 'rooms'], \n",
    "    ['floor_type', 'weekday'], \n",
    "    ['month', 'year']\n",
    "]\n",
    "# список названий столбцов\n",
    "list_of_titles = [\n",
    "    ['Зависимость цены квартиры и общей площади',\n",
    "    'Зависимость цены квартиры и жилой площади'], \n",
    "    ['Зависимость цены квартиры и площади кухни',\n",
    "    'Зависимость цены квартиры и числа комнат'],\n",
    "    ['Зависимость цены квартиры и типа этажа',\n",
    "    'Зависимость цены квартиры и дня недели публикации'],\n",
    "    ['Зависимость цены квартиры и месяца публикации',\n",
    "    'Зависимость цены квартиры и года публикации']\n",
    "]\n",
    "# список цветов для диаграмм \n",
    "list_of_colors = ['purple', 'b', 'c', 'm']\n",
    "\n",
    "ylabel = 'Цена квартиры'\n",
    "\n",
    "# Запустим цикл, строящий диаграммы рассеяния\n",
    "for i in range(4):\n",
    "    for j in range(2):\n",
    "        data.plot(\n",
    "            ax=axes[i, j], \n",
    "            x=list_of_factors[i][j], \n",
    "            y='last_price', \n",
    "            kind='scatter', \n",
    "            c=list_of_colors[i], \n",
    "            title=list_of_titles[i][j],\n",
    "            xlabel=list_of_factors[i][j],\n",
    "            ylabel=ylabel\n",
    "        )"
   ]
  },
  {
   "cell_type": "markdown",
   "metadata": {},
   "source": [
    "Про первые три диаграммы рассеяния можно сказать, что наблюдается увеличение цены квартиры при увеличении соответствующего графика. Наверняка если мы будем строить корелляционную матрицу, то для данных показателей корреляция будет положительной. <br/>\n",
    "\n",
    "Про остальные диаграммы рассеяния сложно что-то конкретное сказать, будем смотреть на диаграммы по сгруппированным данным.\n",
    "\n",
    "Построим ниже диаграммы на основе группировок данных:"
   ]
  },
  {
   "cell_type": "code",
   "execution_count": 77,
   "metadata": {},
   "outputs": [
    {
     "data": {
      "text/plain": [
       "<AxesSubplot:title={'center':'Зависимость цены квартиры и общей площади'}, xlabel='total_area'>"
      ]
     },
     "metadata": {},
     "output_type": "display_data"
    },
    {
     "data": {
      "image/png": "[encoded data removed]",
      "text/plain": [
       "<Figure size 360x216 with 1 Axes>"
      ]
     },
     "metadata": {
      "needs_background": "light"
     },
     "output_type": "display_data"
    },
    {
     "data": {
      "text/plain": [
       "<AxesSubplot:title={'center':'Зависимость цены квартиры и жилой площади'}, xlabel='living_area'>"
      ]
     },
     "metadata": {},
     "output_type": "display_data"
    },
    {
     "data": {
      "image/png": "[encoded data removed]",
      "text/plain": [
       "<Figure size 360x216 with 1 Axes>"
      ]
     },
     "metadata": {
      "needs_background": "light"
     },
     "output_type": "display_data"
    },
    {
     "data": {
      "text/plain": [
       "<AxesSubplot:title={'center':'Зависимость цены квартиры и площади кухни'}, xlabel='kitchen_area'>"
      ]
     },
     "metadata": {},
     "output_type": "display_data"
    },
    {
     "data": {
      "image/png": "[encoded data removed]",
      "text/plain": [
       "<Figure size 360x216 with 1 Axes>"
      ]
     },
     "metadata": {
      "needs_background": "light"
     },
     "output_type": "display_data"
    },
    {
     "data": {
      "text/plain": [
       "<AxesSubplot:title={'center':'Зависимость цены квартиры и числа комнат'}, xlabel='rooms'>"
      ]
     },
     "metadata": {},
     "output_type": "display_data"
    },
    {
     "data": {
      "image/png": "[encoded data removed]",
      "text/plain": [
       "<Figure size 360x216 with 1 Axes>"
      ]
     },
     "metadata": {
      "needs_background": "light"
     },
     "output_type": "display_data"
    },
    {
     "data": {
      "text/plain": [
       "<AxesSubplot:title={'center':'Зависимость цены квартиры и типа этажа'}, xlabel='floor_type'>"
      ]
     },
     "metadata": {},
     "output_type": "display_data"
    },
    {
     "data": {
      "image/png": "[encoded data removed]",
      "text/plain": [
       "<Figure size 360x216 with 1 Axes>"
      ]
     },
     "metadata": {
      "needs_background": "light"
     },
     "output_type": "display_data"
    },
    {
     "data": {
      "text/plain": [
       "<AxesSubplot:title={'center':'Зависимость цены квартиры и дня недели публикации'}, xlabel='weekday'>"
      ]
     },
     "metadata": {},
     "output_type": "display_data"
    },
    {
     "data": {
      "image/png": "[encoded data removed]",
      "text/plain": [
       "<Figure size 360x216 with 1 Axes>"
      ]
     },
     "metadata": {
      "needs_background": "light"
     },
     "output_type": "display_data"
    },
    {
     "data": {
      "text/plain": [
       "<AxesSubplot:title={'center':'Зависимость цены квартиры и месяца публикации'}, xlabel='month'>"
      ]
     },
     "metadata": {},
     "output_type": "display_data"
    },
    {
     "data": {
      "image/png": "[encoded data removed]",
      "text/plain": [
       "<Figure size 360x216 with 1 Axes>"
      ]
     },
     "metadata": {
      "needs_background": "light"
     },
     "output_type": "display_data"
    },
    {
     "data": {
      "text/plain": [
       "<AxesSubplot:title={'center':'Зависимость цены квартиры и года публикации'}, xlabel='year'>"
      ]
     },
     "metadata": {},
     "output_type": "display_data"
    },
    {
     "data": {
      "image/png": "[encoded data removed]",
      "text/plain": [
       "<Figure size 360x216 with 1 Axes>"
      ]
     },
     "metadata": {
      "needs_background": "light"
     },
     "output_type": "display_data"
    }
   ],
   "source": [
    "# список рассматриваемых регрессоров как названий столбцов\n",
    "list_of_factors_pivot = [\n",
    "    'total_area', \n",
    "    'living_area', \n",
    "    'kitchen_area', \n",
    "    'rooms', \n",
    "    'floor_type', \n",
    "    'weekday', \n",
    "    'month', \n",
    "    'year'\n",
    "]\n",
    "\n",
    "# список названий столбцов\n",
    "list_of_titles_pivot = [\n",
    "    'Зависимость цены квартиры и общей площади',\n",
    "    'Зависимость цены квартиры и жилой площади', \n",
    "    'Зависимость цены квартиры и площади кухни',\n",
    "    'Зависимость цены квартиры и числа комнат',\n",
    "    'Зависимость цены квартиры и типа этажа',\n",
    "    'Зависимость цены квартиры и дня недели публикации',\n",
    "    'Зависимость цены квартиры и месяца публикации',\n",
    "    'Зависимость цены квартиры и года публикации']\n",
    "    \n",
    "# список цветов для диаграмм     \n",
    "list_of_colors_pivot = ['purple', 'b', 'c', 'm', 'purple', 'b', 'c', 'm']\n",
    "    \n",
    "# Запустим цикл, строящий диаграммы\n",
    "for i in range(len(list_of_factors_pivot)):\n",
    "    display(\n",
    "        data\n",
    "        .pivot_table(index=list_of_factors_pivot[i], values='last_price', aggfunc='median')\n",
    "        .plot(\n",
    "            grid=True, \n",
    "            style='o', \n",
    "            figsize=(5, 3), \n",
    "            title=list_of_titles_pivot[i], \n",
    "            color=list_of_colors_pivot[i]\n",
    "        )\n",
    "    )\n",
    "    plt.show()"
   ]
  },
  {
   "cell_type": "markdown",
   "metadata": {},
   "source": [
    "Вывод для первых трех диаграмм остается прежним: с ростом фактора цена квартиры увеличивается. <br/>\n",
    "К связи числа комнат и цены мы вернемся чуть позднее. <br/>\n",
    "Медианная цена квартиры не на первом и не на последнем этаже выше, чем цена квартиры на последнем этаже. Дешевле всего стоят квартиры на первом этаже.<br/>\n",
    "Дороже всего продаются квартиры, выставленные во вторник. Далее цена плавно снижается. Дешевле всего продаются квартиры, выставленные в пт-сб.<br/>\n",
    "По месяцам дешевле всего уходят квартиры, выставленные в мае, дороже всего – в апреле.<br/>\n",
    "По годам дороже всего квартиры продавались в 2014 году, далее пошел спад. Самые низкие цены были в 2017 году, далее снова начался рост цен на недвижимость. \n",
    "\n",
    "Что касается количества комнат: в среднем с ростом числа комнат также цена увеличивается. Однако мы можем наблюдать сильный выброс в случае, видимо, какой-то 12-комнатной квартиры.\n",
    "Посмотрим, что это за квартира:"
   ]
  },
  {
   "cell_type": "code",
   "execution_count": 78,
   "metadata": {},
   "outputs": [
    {
     "data": {
      "text/html": [
       "<div>\n",
       "<style scoped>\n",
       "    .dataframe tbody tr th:only-of-type {\n",
       "        vertical-align: middle;\n",
       "    }\n",
       "\n",
       "    .dataframe tbody tr th {\n",
       "        vertical-align: top;\n",
       "    }\n",
       "\n",
       "    .dataframe thead th {\n",
       "        text-align: right;\n",
       "    }\n",
       "</style>\n",
       "<table border=\"1\" class=\"dataframe\">\n",
       "  <thead>\n",
       "    <tr style=\"text-align: right;\">\n",
       "      <th></th>\n",
       "      <th>total_images</th>\n",
       "      <th>last_price</th>\n",
       "      <th>total_area</th>\n",
       "      <th>first_day_exposition</th>\n",
       "      <th>rooms</th>\n",
       "      <th>ceiling_height</th>\n",
       "      <th>floors_total</th>\n",
       "      <th>living_area</th>\n",
       "      <th>floor</th>\n",
       "      <th>is_apartment</th>\n",
       "      <th>...</th>\n",
       "      <th>ponds_around3000</th>\n",
       "      <th>ponds_nearest</th>\n",
       "      <th>days_exposition</th>\n",
       "      <th>location</th>\n",
       "      <th>price_per_m2</th>\n",
       "      <th>weekday</th>\n",
       "      <th>month</th>\n",
       "      <th>year</th>\n",
       "      <th>floor_type</th>\n",
       "      <th>city_center_km</th>\n",
       "    </tr>\n",
       "  </thead>\n",
       "  <tbody>\n",
       "    <tr>\n",
       "      <th>19540</th>\n",
       "      <td>8</td>\n",
       "      <td>420000000.0</td>\n",
       "      <td>900.0</td>\n",
       "      <td>2017-12-06</td>\n",
       "      <td>12</td>\n",
       "      <td>2.8</td>\n",
       "      <td>25.0</td>\n",
       "      <td>409.7</td>\n",
       "      <td>25</td>\n",
       "      <td>0</td>\n",
       "      <td>...</td>\n",
       "      <td>2.0</td>\n",
       "      <td>318.0</td>\n",
       "      <td>106.0</td>\n",
       "      <td>санкт-петербург</td>\n",
       "      <td>466666.666667</td>\n",
       "      <td>2</td>\n",
       "      <td>12</td>\n",
       "      <td>2017</td>\n",
       "      <td>последний</td>\n",
       "      <td>8.0</td>\n",
       "    </tr>\n",
       "  </tbody>\n",
       "</table>\n",
       "<p>1 rows × 29 columns</p>\n",
       "</div>"
      ],
      "text/plain": [
       "       total_images   last_price  total_area first_day_exposition  rooms  \\\n",
       "19540             8  420000000.0       900.0           2017-12-06     12   \n",
       "\n",
       "       ceiling_height  floors_total  living_area  floor is_apartment  ...  \\\n",
       "19540             2.8          25.0        409.7     25            0  ...   \n",
       "\n",
       "       ponds_around3000  ponds_nearest  days_exposition         location  \\\n",
       "19540               2.0          318.0            106.0  санкт-петербург   \n",
       "\n",
       "        price_per_m2  weekday  month  year  floor_type  city_center_km  \n",
       "19540  466666.666667        2     12  2017   последний             8.0  \n",
       "\n",
       "[1 rows x 29 columns]"
      ]
     },
     "execution_count": 78,
     "metadata": {},
     "output_type": "execute_result"
    }
   ],
   "source": [
    "data.query('rooms == 12')"
   ]
  },
  {
   "cell_type": "markdown",
   "metadata": {},
   "source": [
    "Действительно, в данных есть одна квартира стоимостью 420 млн рублей с общей площадью 900 $м^2$ и имеющая 12 комнат. В нашей выборке данная квартира является выбросом, поэтому отбросим ее:"
   ]
  },
  {
   "cell_type": "code",
   "execution_count": 79,
   "metadata": {},
   "outputs": [],
   "source": [
    "data = data.query('rooms != 12')"
   ]
  },
  {
   "cell_type": "markdown",
   "metadata": {},
   "source": [
    "Посмотрим еще раз на диаграмму для числа комнат:"
   ]
  },
  {
   "cell_type": "code",
   "execution_count": 80,
   "metadata": {},
   "outputs": [
    {
     "data": {
      "text/plain": [
       "<AxesSubplot:title={'center':'Зависимость цены квартиры и числа комнат'}, xlabel='rooms'>"
      ]
     },
     "execution_count": 80,
     "metadata": {},
     "output_type": "execute_result"
    },
    {
     "data": {
      "image/png": "[encoded data removed]",
      "text/plain": [
       "<Figure size 360x216 with 1 Axes>"
      ]
     },
     "metadata": {
      "needs_background": "light"
     },
     "output_type": "display_data"
    }
   ],
   "source": [
    "# фактор \"число комнат\" ранее был четвертым (т.е. третьим) в списке:\n",
    "i = 3\n",
    "\n",
    "(data\n",
    " .pivot_table(index=list_of_factors_pivot[i], values='last_price', aggfunc='median')\n",
    " .plot(\n",
    "     grid=True, \n",
    "     style='o', \n",
    "     figsize=(5, 3), \n",
    "     title=list_of_titles_pivot[i], \n",
    "     color=list_of_colors_pivot[i]\n",
    " )\n",
    ")"
   ]
  },
  {
   "cell_type": "markdown",
   "metadata": {},
   "source": [
    "Действительно, наблюдается рост цены квартиры при увеличении числа комнат.\n",
    "\n",
    "Посчитаем коэффициенты корреляции Пирсона:"
   ]
  },
  {
   "cell_type": "code",
   "execution_count": 81,
   "metadata": {},
   "outputs": [
    {
     "name": "stdout",
     "output_type": "stream",
     "text": [
      "Коэффициент корреляции Пирсона факторов last_price и total_area: 0.64\n",
      "Коэффициент корреляции Пирсона факторов last_price и living_area: 0.56\n",
      "Коэффициент корреляции Пирсона факторов last_price и kitchen_area: 0.51\n",
      "Коэффициент корреляции Пирсона факторов last_price и rooms: 0.36\n"
     ]
    }
   ],
   "source": [
    "# Для количественных переменных рассчитает коэффициент корреляции Пирсона:\n",
    "for k in range(len(list_of_factors_pivot[:4])):\n",
    "    corr = data['last_price'].corr(data[list_of_factors_pivot[k]]).round(2)\n",
    "    print(f'Коэффициент корреляции Пирсона факторов last_price и {list_of_factors_pivot[k]}: {corr}')"
   ]
  },
  {
   "cell_type": "markdown",
   "metadata": {},
   "source": [
    "Действительно, как и ожидалось, коэффициент корреляции положителен и больше 0.5, следовательно, мы можем утверждать о наличии положительной корреляции между переменными. Больше всего на цену квартиры, видимо, влияет фактор с наибольшем к-том корреляции - общая площадь. В целом все указанные в ячейке выше факторы сильно влияют на цену квартиры."
   ]
  },
  {
   "cell_type": "markdown",
   "metadata": {},
   "source": [
    "#### Расчет средней цены квадратного метра в населенных пунктах"
   ]
  },
  {
   "cell_type": "markdown",
   "metadata": {},
   "source": [
    "Рассчитаем среднюю цену квадратного метра в топ-10 по количеству объявлений населенным пунктам."
   ]
  },
  {
   "cell_type": "code",
   "execution_count": 82,
   "metadata": {},
   "outputs": [
    {
     "data": {
      "text/html": [
       "<div>\n",
       "<style scoped>\n",
       "    .dataframe tbody tr th:only-of-type {\n",
       "        vertical-align: middle;\n",
       "    }\n",
       "\n",
       "    .dataframe tbody tr th {\n",
       "        vertical-align: top;\n",
       "    }\n",
       "\n",
       "    .dataframe thead th {\n",
       "        text-align: right;\n",
       "    }\n",
       "</style>\n",
       "<table border=\"1\" class=\"dataframe\">\n",
       "  <thead>\n",
       "    <tr style=\"text-align: right;\">\n",
       "      <th></th>\n",
       "      <th>last_price</th>\n",
       "    </tr>\n",
       "    <tr>\n",
       "      <th>location</th>\n",
       "      <th></th>\n",
       "    </tr>\n",
       "  </thead>\n",
       "  <tbody>\n",
       "    <tr>\n",
       "      <th>санкт-петербург</th>\n",
       "      <td>15710</td>\n",
       "    </tr>\n",
       "    <tr>\n",
       "      <th>мурино</th>\n",
       "      <td>590</td>\n",
       "    </tr>\n",
       "    <tr>\n",
       "      <th>кудрово</th>\n",
       "      <td>471</td>\n",
       "    </tr>\n",
       "    <tr>\n",
       "      <th>шушары</th>\n",
       "      <td>440</td>\n",
       "    </tr>\n",
       "    <tr>\n",
       "      <th>всеволожск</th>\n",
       "      <td>397</td>\n",
       "    </tr>\n",
       "    <tr>\n",
       "      <th>пушкин</th>\n",
       "      <td>369</td>\n",
       "    </tr>\n",
       "    <tr>\n",
       "      <th>колпино</th>\n",
       "      <td>338</td>\n",
       "    </tr>\n",
       "    <tr>\n",
       "      <th>парголово</th>\n",
       "      <td>327</td>\n",
       "    </tr>\n",
       "    <tr>\n",
       "      <th>гатчина</th>\n",
       "      <td>307</td>\n",
       "    </tr>\n",
       "    <tr>\n",
       "      <th>выборг</th>\n",
       "      <td>235</td>\n",
       "    </tr>\n",
       "  </tbody>\n",
       "</table>\n",
       "</div>"
      ],
      "text/plain": [
       "                 last_price\n",
       "location                   \n",
       "санкт-петербург       15710\n",
       "мурино                  590\n",
       "кудрово                 471\n",
       "шушары                  440\n",
       "всеволожск              397\n",
       "пушкин                  369\n",
       "колпино                 338\n",
       "парголово               327\n",
       "гатчина                 307\n",
       "выборг                  235"
      ]
     },
     "execution_count": 82,
     "metadata": {},
     "output_type": "execute_result"
    }
   ],
   "source": [
    "# Выделим топ-10 населенных пунктов по количеству объявлений\n",
    "data_top_10 = (data\n",
    "               .pivot_table(index='location', values='last_price', aggfunc='count')\n",
    "               .sort_values(by='last_price', ascending=False)\n",
    "               .head(10)\n",
    "              )\n",
    "data_top_10"
   ]
  },
  {
   "cell_type": "code",
   "execution_count": 83,
   "metadata": {},
   "outputs": [
    {
     "data": {
      "text/html": [
       "<div>\n",
       "<style scoped>\n",
       "    .dataframe tbody tr th:only-of-type {\n",
       "        vertical-align: middle;\n",
       "    }\n",
       "\n",
       "    .dataframe tbody tr th {\n",
       "        vertical-align: top;\n",
       "    }\n",
       "\n",
       "    .dataframe thead th {\n",
       "        text-align: right;\n",
       "    }\n",
       "</style>\n",
       "<table border=\"1\" class=\"dataframe\">\n",
       "  <thead>\n",
       "    <tr style=\"text-align: right;\">\n",
       "      <th></th>\n",
       "      <th>price_per_m2</th>\n",
       "    </tr>\n",
       "    <tr>\n",
       "      <th>location</th>\n",
       "      <th></th>\n",
       "    </tr>\n",
       "  </thead>\n",
       "  <tbody>\n",
       "    <tr>\n",
       "      <th>агалатово</th>\n",
       "      <td>71214.470963</td>\n",
       "    </tr>\n",
       "    <tr>\n",
       "      <th>александровская</th>\n",
       "      <td>70262.807084</td>\n",
       "    </tr>\n",
       "    <tr>\n",
       "      <th>алексеевка</th>\n",
       "      <td>22222.222222</td>\n",
       "    </tr>\n",
       "    <tr>\n",
       "      <th>аннино</th>\n",
       "      <td>63322.637137</td>\n",
       "    </tr>\n",
       "    <tr>\n",
       "      <th>аро</th>\n",
       "      <td>51412.421933</td>\n",
       "    </tr>\n",
       "  </tbody>\n",
       "</table>\n",
       "</div>"
      ],
      "text/plain": [
       "                 price_per_m2\n",
       "location                     \n",
       "агалатово        71214.470963\n",
       "александровская  70262.807084\n",
       "алексеевка       22222.222222\n",
       "аннино           63322.637137\n",
       "аро              51412.421933"
      ]
     },
     "execution_count": 83,
     "metadata": {},
     "output_type": "execute_result"
    }
   ],
   "source": [
    "# Соберем сводную таблицу со средними ценами квадртного метра в разных населенных пунктах\n",
    "data_ave_m2price = data.pivot_table(index='location', values='price_per_m2')\n",
    "data_ave_m2price.head()"
   ]
  },
  {
   "cell_type": "code",
   "execution_count": 84,
   "metadata": {
    "scrolled": true
   },
   "outputs": [
    {
     "data": {
      "text/html": [
       "<div>\n",
       "<style scoped>\n",
       "    .dataframe tbody tr th:only-of-type {\n",
       "        vertical-align: middle;\n",
       "    }\n",
       "\n",
       "    .dataframe tbody tr th {\n",
       "        vertical-align: top;\n",
       "    }\n",
       "\n",
       "    .dataframe thead th {\n",
       "        text-align: right;\n",
       "    }\n",
       "</style>\n",
       "<table border=\"1\" class=\"dataframe\">\n",
       "  <thead>\n",
       "    <tr style=\"text-align: right;\">\n",
       "      <th></th>\n",
       "      <th>last_price</th>\n",
       "      <th>price_per_m2</th>\n",
       "    </tr>\n",
       "    <tr>\n",
       "      <th>location</th>\n",
       "      <th></th>\n",
       "      <th></th>\n",
       "    </tr>\n",
       "  </thead>\n",
       "  <tbody>\n",
       "    <tr>\n",
       "      <th>санкт-петербург</th>\n",
       "      <td>15710</td>\n",
       "      <td>114841.235489</td>\n",
       "    </tr>\n",
       "    <tr>\n",
       "      <th>мурино</th>\n",
       "      <td>590</td>\n",
       "      <td>86087.512050</td>\n",
       "    </tr>\n",
       "    <tr>\n",
       "      <th>кудрово</th>\n",
       "      <td>471</td>\n",
       "      <td>95326.179139</td>\n",
       "    </tr>\n",
       "    <tr>\n",
       "      <th>шушары</th>\n",
       "      <td>440</td>\n",
       "      <td>78677.364217</td>\n",
       "    </tr>\n",
       "    <tr>\n",
       "      <th>всеволожск</th>\n",
       "      <td>397</td>\n",
       "      <td>68719.320400</td>\n",
       "    </tr>\n",
       "    <tr>\n",
       "      <th>пушкин</th>\n",
       "      <td>369</td>\n",
       "      <td>103125.819291</td>\n",
       "    </tr>\n",
       "    <tr>\n",
       "      <th>колпино</th>\n",
       "      <td>338</td>\n",
       "      <td>75424.579098</td>\n",
       "    </tr>\n",
       "    <tr>\n",
       "      <th>парголово</th>\n",
       "      <td>327</td>\n",
       "      <td>90175.913458</td>\n",
       "    </tr>\n",
       "    <tr>\n",
       "      <th>гатчина</th>\n",
       "      <td>307</td>\n",
       "      <td>68746.146763</td>\n",
       "    </tr>\n",
       "    <tr>\n",
       "      <th>выборг</th>\n",
       "      <td>235</td>\n",
       "      <td>58238.143141</td>\n",
       "    </tr>\n",
       "  </tbody>\n",
       "</table>\n",
       "</div>"
      ],
      "text/plain": [
       "                 last_price   price_per_m2\n",
       "location                                  \n",
       "санкт-петербург       15710  114841.235489\n",
       "мурино                  590   86087.512050\n",
       "кудрово                 471   95326.179139\n",
       "шушары                  440   78677.364217\n",
       "всеволожск              397   68719.320400\n",
       "пушкин                  369  103125.819291\n",
       "колпино                 338   75424.579098\n",
       "парголово               327   90175.913458\n",
       "гатчина                 307   68746.146763\n",
       "выборг                  235   58238.143141"
      ]
     },
     "execution_count": 84,
     "metadata": {},
     "output_type": "execute_result"
    }
   ],
   "source": [
    "# Объединим имеющуюся таблицу с топ-10 локациями с таблицей со средней стоимостью квадратного метра\n",
    "data_top_10.merge(data_ave_m2price, on='location')"
   ]
  },
  {
   "cell_type": "markdown",
   "metadata": {},
   "source": [
    "Таким образом, мы можем заметить, что среди населенных пунктов, в которых продавалось больше всего квартир, самая дорогая недвижимость в Санкт-Петербурге. Следом идет город Пушкин. В остальнвх населенных пунктах недвижимость дешевле 100 тыс. руб. за $м^2$. Самая низкая цена за $1 м^2$ в данном списке в Выборее."
   ]
  },
  {
   "cell_type": "code",
   "execution_count": 85,
   "metadata": {
    "scrolled": true
   },
   "outputs": [
    {
     "data": {
      "text/html": [
       "<div>\n",
       "<style scoped>\n",
       "    .dataframe tbody tr th:only-of-type {\n",
       "        vertical-align: middle;\n",
       "    }\n",
       "\n",
       "    .dataframe tbody tr th {\n",
       "        vertical-align: top;\n",
       "    }\n",
       "\n",
       "    .dataframe thead th {\n",
       "        text-align: right;\n",
       "    }\n",
       "</style>\n",
       "<table border=\"1\" class=\"dataframe\">\n",
       "  <thead>\n",
       "    <tr style=\"text-align: right;\">\n",
       "      <th></th>\n",
       "      <th>balcony</th>\n",
       "      <th>last_price</th>\n",
       "    </tr>\n",
       "    <tr>\n",
       "      <th>locality_name</th>\n",
       "      <th></th>\n",
       "      <th></th>\n",
       "    </tr>\n",
       "  </thead>\n",
       "  <tbody>\n",
       "    <tr>\n",
       "      <th>Санкт-Петербург</th>\n",
       "      <td>15710</td>\n",
       "      <td>5500000.0</td>\n",
       "    </tr>\n",
       "    <tr>\n",
       "      <th>посёлок Мурино</th>\n",
       "      <td>522</td>\n",
       "      <td>3400000.0</td>\n",
       "    </tr>\n",
       "    <tr>\n",
       "      <th>посёлок Шушары</th>\n",
       "      <td>440</td>\n",
       "      <td>3950000.0</td>\n",
       "    </tr>\n",
       "    <tr>\n",
       "      <th>Всеволожск</th>\n",
       "      <td>397</td>\n",
       "      <td>3450000.0</td>\n",
       "    </tr>\n",
       "    <tr>\n",
       "      <th>Пушкин</th>\n",
       "      <td>369</td>\n",
       "      <td>5180000.0</td>\n",
       "    </tr>\n",
       "    <tr>\n",
       "      <th>Колпино</th>\n",
       "      <td>338</td>\n",
       "      <td>3600000.0</td>\n",
       "    </tr>\n",
       "    <tr>\n",
       "      <th>посёлок Парголово</th>\n",
       "      <td>327</td>\n",
       "      <td>4100000.0</td>\n",
       "    </tr>\n",
       "    <tr>\n",
       "      <th>Гатчина</th>\n",
       "      <td>307</td>\n",
       "      <td>3100000.0</td>\n",
       "    </tr>\n",
       "    <tr>\n",
       "      <th>деревня Кудрово</th>\n",
       "      <td>299</td>\n",
       "      <td>3790000.0</td>\n",
       "    </tr>\n",
       "    <tr>\n",
       "      <th>Выборг</th>\n",
       "      <td>235</td>\n",
       "      <td>2900000.0</td>\n",
       "    </tr>\n",
       "  </tbody>\n",
       "</table>\n",
       "</div>"
      ],
      "text/plain": [
       "                   balcony  last_price\n",
       "locality_name                         \n",
       "Санкт-Петербург      15710   5500000.0\n",
       "посёлок Мурино         522   3400000.0\n",
       "посёлок Шушары         440   3950000.0\n",
       "Всеволожск             397   3450000.0\n",
       "Пушкин                 369   5180000.0\n",
       "Колпино                338   3600000.0\n",
       "посёлок Парголово      327   4100000.0\n",
       "Гатчина                307   3100000.0\n",
       "деревня Кудрово        299   3790000.0\n",
       "Выборг                 235   2900000.0"
      ]
     },
     "execution_count": 85,
     "metadata": {},
     "output_type": "execute_result"
    }
   ],
   "source": [
    "data.groupby('locality_name').agg({'balcony':'count', 'last_price':'median'}) \\\n",
    "    .sort_values(by = 'balcony', ascending = False) \\\n",
    "    .head(10)"
   ]
  },
  {
   "cell_type": "markdown",
   "metadata": {},
   "source": [
    "####  Расчет средней цены стоимости километров от центра Петербурга"
   ]
  },
  {
   "cell_type": "markdown",
   "metadata": {},
   "source": [
    "Ранее вы посчитали расстояние до центра в километрах. Теперь выделите квартиры в Санкт-Петербурге с помощью столбца `locality_name` и вычислите среднюю цену каждого километра. Опишите, как стоимость объектов зависит от расстояния до центра города."
   ]
  },
  {
   "cell_type": "code",
   "execution_count": 86,
   "metadata": {},
   "outputs": [],
   "source": [
    "# Средняя цена каждого километра в исходной таблице\n",
    "data['km_price'] = data['last_price'] / data['city_center_km']"
   ]
  },
  {
   "cell_type": "code",
   "execution_count": 87,
   "metadata": {},
   "outputs": [
    {
     "data": {
      "image/png": "[encoded data removed]",
      "text/plain": [
       "<Figure size 360x216 with 1 Axes>"
      ]
     },
     "metadata": {
      "needs_background": "light"
     },
     "output_type": "display_data"
    }
   ],
   "source": [
    "# Построим диаграмму, описывающую зависимость цены квартиры от расстояния до центра города\n",
    "(data\n",
    " .query('location == \"санкт-петербург\"')\n",
    " .pivot_table(index='city_center_km', values='last_price', aggfunc='median')\n",
    " .plot(\n",
    "     grid=True, \n",
    "     style='o', \n",
    "     figsize=(5, 3),\n",
    "     title = 'Зависимость цены квартиры от \\n расстояния до центра города'\n",
    " )\n",
    ");"
   ]
  },
  {
   "cell_type": "code",
   "execution_count": 88,
   "metadata": {},
   "outputs": [
    {
     "data": {
      "text/plain": [
       "-0.21"
      ]
     },
     "execution_count": 88,
     "metadata": {},
     "output_type": "execute_result"
    }
   ],
   "source": [
    "# коэффициент корреляции\n",
    "data['city_center_km'].corr(data['last_price']).round(2)"
   ]
  },
  {
   "cell_type": "markdown",
   "metadata": {},
   "source": [
    "Можем заметить, что чем больше удаленность квартиры от центра, тем, как правило, ниже её цена."
   ]
  },
  {
   "cell_type": "markdown",
   "metadata": {},
   "source": [
    "**Вывод:**\n",
    "Таким образом, в данном разделе в целом мы пришли к следующим выводам. \n",
    "* В среднем квартиры продавались за 3 месяца, однако есть и те, что продавались быстро – за месяц, а есть и те, что были выставлены по 3, 4, 5 лет.\n",
    "* На общую стоимость квартир больше всего влияет общая площадь. В целом сильно влияет жилая площадь, площадь кухни и количество комнат. \n",
    "* Квартиры не на 1 и не на последнем этаже продаются дороже остальных. \n",
    "* Самая дорогая недвижимость в Ленобласти среди населенных пунктов с наибольшим количеством размещенных объявлений – в Санкт-Петербурге, самая дешевая – в Выборге.\n",
    "* Чем дальше квартира расположена от центра, тем ниже её стоимость. "
   ]
  },
  {
   "cell_type": "markdown",
   "metadata": {},
   "source": [
    "### Общий вывод"
   ]
  },
  {
   "cell_type": "markdown",
   "metadata": {},
   "source": [
    "Целью данного проекта являлась предобработка данных и изучение интересных особенностей и зависимостей, которые существуют на рынке недвижимости.\n",
    "\n",
    "На вход мы получили таблицу с 23699 строками.\n",
    "Изначально нам удалось выяснить природу около 5.5 тысяч пропусков в исходных данных: порядка 5500 квартир, выставленных на продажу, находятся достаточно далеко от аэропортов, центра города, парков и прудов, поэтому в таблице возникает столько пропущенных значений. \n",
    "Пропуски в столбцах `ceiling_height`, `balcony`, `is_apartment` были обработаны, остальные пропуски были оставлены как есть.\n",
    "Также была предпринята попытка объяснить возможные причины возникновения пропусков в столбцах.\n",
    "\n",
    "Далее были обработаны типы данных, в частности, приведен формату даты-времени столбец с датой появления объявления на сайте. Также мы обработали текстовый столбец с наименованиями населенных пунктов, получив в новом столбце уникальные значения. \n",
    "\n",
    "Мы изучили аномалии в данных и исключили их. \n",
    "\n",
    "В ходе предобработки в таблицу были добавлены новые столбцы: \n",
    "1) цену 1 квадратного метра;\n",
    "2) день недели публикации объявления;\n",
    "3) месяц публикации объявления;\n",
    "4) год публикации объявления;\n",
    "5) тип этажа квартиры;\n",
    "6) расстояние до центра города в километрах.\n",
    "\n",
    "Также было обнаружено следующее: \n",
    "* Большинство квартир имеют площадь от 25 до 100 $м^2$. Большая часть жилых площадей квартир находится в диапазоне от 10 до 60 $м^2$. Большая часть площадей кухонь составляет от 4-5 до 15 $м^2$.\n",
    "* Цены на большинство кватир находятся в диапазоне от 2.5 до 1 млн рублей. Цены выше 20-30 млн в данной выборке можно считать выбросами.\n",
    "* Больше всего в выборке 1-комнатных и 2-комнатных квартир, далее по частоте идут 3-комнатные квартиры, следом 4-комнатные. \n",
    "* У большинства квартир высота потолков около 2.7 м, далее по частоте идут квартиры с потолками около 2.5 м.\n",
    "* Как правило люди продают квартиры не на первом и не на последнем этаже – таких в выборке большинство.\n",
    "* Очень многие из продаваемых квартир расположены в 5- и 10-этажных домах. \n",
    "* Большинство квартир находится на растоянии до 20 км от центра. Отдельно встречаются выбросы по квартирам, находящимся далее, чем в 40 км от центра (вероятно, это квартиры в Ленобласти).\n",
    "* Большинство квартир находится на расстоянии от 10 до 55 км от аэропорта.\n",
    "* Большинство квартир находятся на расстоянии меньше, чем 1 км, до парка.\n",
    "* Объявления чаще размещались по будням, нежели по выходным. \n",
    "* По месяцам квартиры чаще выставляли в феврале-апреле; реже всего квартиры выставлялись в мае.\n",
    "\n",
    "Большинство квартир продавались менее чем за 200 дней, однако есть и те, что были выставлены более 4 лет. Медианный срок продажи квартиры составил 95 дней. Продажи, которые длятся больше 500 дней можно считать необычно долгими. Быстрыми же продажами можно считать продажи, длившиеся до 1.5 месяцев.\n",
    "\n",
    "На общую стоимость квартир больше всего влияют общая площадь, жилая площадь, площадь кухни и количество комнат. Также на нее влияет то, на каком этаже расположена квартира: на первом, последнем или другом этаже. Дороже остальных продаются квартиры на *другом* этаже. \n",
    "\n",
    "Еще одним факторов, влияющим на цену на жилье, является населенный пункт. <br/> Если составить рейтинг топ-10 населенных пунктов Ленинградской области по количеству объявлений, то самая дорогая недвижимость будет в Санкт-Петербурге, самая дешевая – в Выборге. Также достаточно дорогая недвижимость в городе Пушкин (больше 100 тыс. руб. за $м^2$, однако это дешевле, чем в СПб). И, конечно же, на стоимость влияет удаленность квартиры от центра: чем дальше квартира расположена от центра, тем ниже её стоимость. "
   ]
  }
 ],
 "metadata": {
  "ExecuteTimeLog": [
   {
    "duration": 528,
    "start_time": "2023-02-06T21:53:04.221Z"
   },
   {
    "duration": 62,
    "start_time": "2023-02-06T21:53:04.751Z"
   },
   {
    "duration": 3,
    "start_time": "2023-02-06T21:53:04.815Z"
   },
   {
    "duration": 30,
    "start_time": "2023-02-06T21:53:04.820Z"
   },
   {
    "duration": 2620,
    "start_time": "2023-02-06T21:53:04.852Z"
   },
   {
    "duration": 23,
    "start_time": "2023-02-06T21:53:07.474Z"
   },
   {
    "duration": 19,
    "start_time": "2023-02-06T21:53:07.498Z"
   },
   {
    "duration": 8,
    "start_time": "2023-02-06T21:53:07.519Z"
   },
   {
    "duration": 12,
    "start_time": "2023-02-06T21:53:07.528Z"
   },
   {
    "duration": 9,
    "start_time": "2023-02-06T21:53:07.543Z"
   },
   {
    "duration": 8,
    "start_time": "2023-02-06T21:53:07.553Z"
   },
   {
    "duration": 30,
    "start_time": "2023-02-06T21:53:07.563Z"
   },
   {
    "duration": 9,
    "start_time": "2023-02-06T21:53:07.594Z"
   },
   {
    "duration": 13,
    "start_time": "2023-02-06T21:53:07.605Z"
   },
   {
    "duration": 25,
    "start_time": "2023-02-06T21:53:07.619Z"
   },
   {
    "duration": 47,
    "start_time": "2023-02-06T21:53:07.645Z"
   },
   {
    "duration": 37,
    "start_time": "2023-02-06T21:53:07.694Z"
   },
   {
    "duration": 13,
    "start_time": "2023-02-06T21:53:07.733Z"
   },
   {
    "duration": 6,
    "start_time": "2023-02-06T21:53:07.748Z"
   },
   {
    "duration": 6,
    "start_time": "2023-02-06T21:53:07.756Z"
   },
   {
    "duration": 16,
    "start_time": "2023-02-06T21:53:07.792Z"
   },
   {
    "duration": 38,
    "start_time": "2023-02-06T21:53:07.810Z"
   },
   {
    "duration": 20,
    "start_time": "2023-02-06T21:53:07.850Z"
   },
   {
    "duration": 46,
    "start_time": "2023-02-06T21:53:07.872Z"
   },
   {
    "duration": 55,
    "start_time": "2023-02-06T21:53:07.920Z"
   },
   {
    "duration": 43,
    "start_time": "2023-02-06T21:53:07.977Z"
   },
   {
    "duration": 7,
    "start_time": "2023-02-06T21:53:08.021Z"
   },
   {
    "duration": 59,
    "start_time": "2023-02-06T21:53:08.033Z"
   },
   {
    "duration": 7,
    "start_time": "2023-02-06T21:53:08.094Z"
   },
   {
    "duration": 63,
    "start_time": "2023-02-06T21:53:08.102Z"
   },
   {
    "duration": 45,
    "start_time": "2023-02-06T21:53:08.167Z"
   },
   {
    "duration": 9,
    "start_time": "2023-02-06T21:53:08.214Z"
   },
   {
    "duration": 8,
    "start_time": "2023-02-06T21:53:08.225Z"
   },
   {
    "duration": 17,
    "start_time": "2023-02-06T21:53:08.235Z"
   },
   {
    "duration": 7,
    "start_time": "2023-02-06T21:53:08.254Z"
   },
   {
    "duration": 54,
    "start_time": "2023-02-06T21:53:08.262Z"
   },
   {
    "duration": 19,
    "start_time": "2023-02-06T21:53:08.318Z"
   },
   {
    "duration": 7,
    "start_time": "2023-02-06T21:53:08.339Z"
   },
   {
    "duration": 21,
    "start_time": "2023-02-06T21:53:08.348Z"
   },
   {
    "duration": 21,
    "start_time": "2023-02-06T21:53:08.371Z"
   },
   {
    "duration": 12,
    "start_time": "2023-02-06T21:53:08.394Z"
   },
   {
    "duration": 336,
    "start_time": "2023-02-06T21:53:08.407Z"
   },
   {
    "duration": 5,
    "start_time": "2023-02-06T21:53:08.745Z"
   },
   {
    "duration": 33,
    "start_time": "2023-02-06T21:53:08.752Z"
   },
   {
    "duration": 204,
    "start_time": "2023-02-06T21:53:08.792Z"
   },
   {
    "duration": 146,
    "start_time": "2023-02-06T21:53:08.998Z"
   },
   {
    "duration": 152,
    "start_time": "2023-02-06T21:53:09.146Z"
   },
   {
    "duration": 226,
    "start_time": "2023-02-06T21:53:09.299Z"
   },
   {
    "duration": 138,
    "start_time": "2023-02-06T21:53:09.527Z"
   },
   {
    "duration": 152,
    "start_time": "2023-02-06T21:53:09.667Z"
   },
   {
    "duration": 135,
    "start_time": "2023-02-06T21:53:09.821Z"
   },
   {
    "duration": 155,
    "start_time": "2023-02-06T21:53:09.958Z"
   },
   {
    "duration": 145,
    "start_time": "2023-02-06T21:53:10.115Z"
   },
   {
    "duration": 160,
    "start_time": "2023-02-06T21:53:10.261Z"
   },
   {
    "duration": 184,
    "start_time": "2023-02-06T21:53:10.423Z"
   },
   {
    "duration": 153,
    "start_time": "2023-02-06T21:53:10.609Z"
   },
   {
    "duration": 156,
    "start_time": "2023-02-06T21:53:10.764Z"
   },
   {
    "duration": 140,
    "start_time": "2023-02-06T21:53:10.922Z"
   },
   {
    "duration": 164,
    "start_time": "2023-02-06T21:53:11.064Z"
   },
   {
    "duration": 263,
    "start_time": "2023-02-06T21:53:11.229Z"
   },
   {
    "duration": 151,
    "start_time": "2023-02-06T21:53:11.494Z"
   },
   {
    "duration": 151,
    "start_time": "2023-02-06T21:53:11.647Z"
   },
   {
    "duration": 173,
    "start_time": "2023-02-06T21:53:11.800Z"
   },
   {
    "duration": 136,
    "start_time": "2023-02-06T21:53:11.975Z"
   },
   {
    "duration": 133,
    "start_time": "2023-02-06T21:53:12.112Z"
   },
   {
    "duration": 159,
    "start_time": "2023-02-06T21:53:12.246Z"
   },
   {
    "duration": 160,
    "start_time": "2023-02-06T21:53:12.407Z"
   },
   {
    "duration": 4,
    "start_time": "2023-02-06T21:53:12.569Z"
   },
   {
    "duration": 19,
    "start_time": "2023-02-06T21:53:12.575Z"
   },
   {
    "duration": 3,
    "start_time": "2023-02-06T21:53:12.595Z"
   },
   {
    "duration": 128,
    "start_time": "2023-02-06T21:53:12.600Z"
   },
   {
    "duration": 7,
    "start_time": "2023-02-06T21:53:12.729Z"
   },
   {
    "duration": 7,
    "start_time": "2023-02-06T21:53:12.738Z"
   },
   {
    "duration": 1630,
    "start_time": "2023-02-06T21:53:12.747Z"
   },
   {
    "duration": 1219,
    "start_time": "2023-02-06T21:53:14.379Z"
   },
   {
    "duration": 25,
    "start_time": "2023-02-06T21:53:15.600Z"
   },
   {
    "duration": 9,
    "start_time": "2023-02-06T21:53:15.627Z"
   },
   {
    "duration": 162,
    "start_time": "2023-02-06T21:53:15.637Z"
   },
   {
    "duration": 8,
    "start_time": "2023-02-06T21:53:15.801Z"
   },
   {
    "duration": 20,
    "start_time": "2023-02-06T21:53:15.812Z"
   },
   {
    "duration": 20,
    "start_time": "2023-02-06T21:53:15.833Z"
   },
   {
    "duration": 38,
    "start_time": "2023-02-06T21:53:15.860Z"
   },
   {
    "duration": 4,
    "start_time": "2023-02-06T21:53:15.900Z"
   },
   {
    "duration": 160,
    "start_time": "2023-02-06T21:53:15.906Z"
   },
   {
    "duration": 5,
    "start_time": "2023-02-06T21:53:16.068Z"
   },
   {
    "duration": 21,
    "start_time": "2023-02-06T21:54:19.829Z"
   },
   {
    "duration": 12,
    "start_time": "2023-02-06T21:57:20.490Z"
   },
   {
    "duration": 133,
    "start_time": "2023-02-06T21:57:41.909Z"
   },
   {
    "duration": 885,
    "start_time": "2023-02-07T12:15:57.111Z"
   },
   {
    "duration": 42,
    "start_time": "2023-02-07T12:15:57.999Z"
   },
   {
    "duration": 4,
    "start_time": "2023-02-07T12:15:58.043Z"
   },
   {
    "duration": 43,
    "start_time": "2023-02-07T12:15:58.051Z"
   },
   {
    "duration": 279,
    "start_time": "2023-02-07T12:15:58.097Z"
   },
   {
    "duration": 2227,
    "start_time": "2023-02-07T12:15:58.378Z"
   },
   {
    "duration": 11,
    "start_time": "2023-02-07T12:16:00.607Z"
   },
   {
    "duration": 94,
    "start_time": "2023-02-07T12:16:00.620Z"
   },
   {
    "duration": 9,
    "start_time": "2023-02-07T12:16:00.716Z"
   },
   {
    "duration": 53,
    "start_time": "2023-02-07T12:16:00.727Z"
   },
   {
    "duration": 37,
    "start_time": "2023-02-07T12:16:00.782Z"
   },
   {
    "duration": 25,
    "start_time": "2023-02-07T12:16:00.821Z"
   },
   {
    "duration": 79,
    "start_time": "2023-02-07T12:16:00.848Z"
   },
   {
    "duration": 24,
    "start_time": "2023-02-07T12:16:00.930Z"
   },
   {
    "duration": 61,
    "start_time": "2023-02-07T12:16:00.955Z"
   },
   {
    "duration": 76,
    "start_time": "2023-02-07T12:16:01.018Z"
   },
   {
    "duration": 51,
    "start_time": "2023-02-07T12:16:01.096Z"
   },
   {
    "duration": 56,
    "start_time": "2023-02-07T12:16:01.153Z"
   },
   {
    "duration": 61,
    "start_time": "2023-02-07T12:16:01.211Z"
   },
   {
    "duration": 24,
    "start_time": "2023-02-07T12:16:01.274Z"
   },
   {
    "duration": 27,
    "start_time": "2023-02-07T12:16:01.300Z"
   },
   {
    "duration": 70,
    "start_time": "2023-02-07T12:16:01.329Z"
   },
   {
    "duration": 62,
    "start_time": "2023-02-07T12:16:01.401Z"
   },
   {
    "duration": 56,
    "start_time": "2023-02-07T12:16:01.467Z"
   },
   {
    "duration": 34,
    "start_time": "2023-02-07T12:16:01.525Z"
   },
   {
    "duration": 76,
    "start_time": "2023-02-07T12:16:01.560Z"
   },
   {
    "duration": 93,
    "start_time": "2023-02-07T12:16:01.639Z"
   },
   {
    "duration": 46,
    "start_time": "2023-02-07T12:16:01.733Z"
   },
   {
    "duration": 27,
    "start_time": "2023-02-07T12:16:01.782Z"
   },
   {
    "duration": 85,
    "start_time": "2023-02-07T12:16:01.811Z"
   },
   {
    "duration": 9,
    "start_time": "2023-02-07T12:16:01.898Z"
   },
   {
    "duration": 61,
    "start_time": "2023-02-07T12:16:01.910Z"
   },
   {
    "duration": 35,
    "start_time": "2023-02-07T12:16:01.973Z"
   },
   {
    "duration": 11,
    "start_time": "2023-02-07T12:16:02.010Z"
   },
   {
    "duration": 39,
    "start_time": "2023-02-07T12:16:02.023Z"
   },
   {
    "duration": 36,
    "start_time": "2023-02-07T12:16:02.063Z"
   },
   {
    "duration": 8,
    "start_time": "2023-02-07T12:16:02.101Z"
   },
   {
    "duration": 32,
    "start_time": "2023-02-07T12:16:02.111Z"
   },
   {
    "duration": 27,
    "start_time": "2023-02-07T12:16:02.146Z"
   },
   {
    "duration": 13,
    "start_time": "2023-02-07T12:16:02.175Z"
   },
   {
    "duration": 8,
    "start_time": "2023-02-07T12:16:02.195Z"
   },
   {
    "duration": 25,
    "start_time": "2023-02-07T12:16:02.205Z"
   },
   {
    "duration": 25,
    "start_time": "2023-02-07T12:16:02.232Z"
   },
   {
    "duration": 41,
    "start_time": "2023-02-07T12:16:02.259Z"
   },
   {
    "duration": 411,
    "start_time": "2023-02-07T12:16:02.302Z"
   },
   {
    "duration": 6,
    "start_time": "2023-02-07T12:16:02.716Z"
   },
   {
    "duration": 50,
    "start_time": "2023-02-07T12:16:02.724Z"
   },
   {
    "duration": 157,
    "start_time": "2023-02-07T12:16:02.776Z"
   },
   {
    "duration": 180,
    "start_time": "2023-02-07T12:16:02.935Z"
   },
   {
    "duration": 280,
    "start_time": "2023-02-07T12:16:03.117Z"
   },
   {
    "duration": 198,
    "start_time": "2023-02-07T12:16:03.399Z"
   },
   {
    "duration": 185,
    "start_time": "2023-02-07T12:16:03.599Z"
   },
   {
    "duration": 219,
    "start_time": "2023-02-07T12:16:03.788Z"
   },
   {
    "duration": 167,
    "start_time": "2023-02-07T12:16:04.009Z"
   },
   {
    "duration": 176,
    "start_time": "2023-02-07T12:16:04.178Z"
   },
   {
    "duration": 211,
    "start_time": "2023-02-07T12:16:04.356Z"
   },
   {
    "duration": 166,
    "start_time": "2023-02-07T12:16:04.570Z"
   },
   {
    "duration": 187,
    "start_time": "2023-02-07T12:16:04.738Z"
   },
   {
    "duration": 199,
    "start_time": "2023-02-07T12:16:04.927Z"
   },
   {
    "duration": 186,
    "start_time": "2023-02-07T12:16:05.127Z"
   },
   {
    "duration": 214,
    "start_time": "2023-02-07T12:16:05.315Z"
   },
   {
    "duration": 261,
    "start_time": "2023-02-07T12:16:05.531Z"
   },
   {
    "duration": 176,
    "start_time": "2023-02-07T12:16:05.794Z"
   },
   {
    "duration": 161,
    "start_time": "2023-02-07T12:16:05.972Z"
   },
   {
    "duration": 195,
    "start_time": "2023-02-07T12:16:06.135Z"
   },
   {
    "duration": 241,
    "start_time": "2023-02-07T12:16:06.333Z"
   },
   {
    "duration": 185,
    "start_time": "2023-02-07T12:16:06.576Z"
   },
   {
    "duration": 216,
    "start_time": "2023-02-07T12:16:06.766Z"
   },
   {
    "duration": 188,
    "start_time": "2023-02-07T12:16:06.984Z"
   },
   {
    "duration": 165,
    "start_time": "2023-02-07T12:16:07.174Z"
   },
   {
    "duration": 21,
    "start_time": "2023-02-07T12:16:07.341Z"
   },
   {
    "duration": 12,
    "start_time": "2023-02-07T12:16:07.368Z"
   },
   {
    "duration": 140,
    "start_time": "2023-02-07T12:16:07.382Z"
   },
   {
    "duration": 7,
    "start_time": "2023-02-07T12:16:07.524Z"
   },
   {
    "duration": 8,
    "start_time": "2023-02-07T12:16:07.533Z"
   },
   {
    "duration": 2126,
    "start_time": "2023-02-07T12:16:07.552Z"
   },
   {
    "duration": 1798,
    "start_time": "2023-02-07T12:16:09.680Z"
   },
   {
    "duration": 39,
    "start_time": "2023-02-07T12:16:11.481Z"
   },
   {
    "duration": 29,
    "start_time": "2023-02-07T12:16:11.523Z"
   },
   {
    "duration": 227,
    "start_time": "2023-02-07T12:16:11.559Z"
   },
   {
    "duration": 12,
    "start_time": "2023-02-07T12:16:11.789Z"
   },
   {
    "duration": 35,
    "start_time": "2023-02-07T12:16:11.804Z"
   },
   {
    "duration": 34,
    "start_time": "2023-02-07T12:16:11.841Z"
   },
   {
    "duration": 28,
    "start_time": "2023-02-07T12:16:11.878Z"
   },
   {
    "duration": 23,
    "start_time": "2023-02-07T12:16:11.910Z"
   },
   {
    "duration": 8,
    "start_time": "2023-02-07T12:16:11.935Z"
   },
   {
    "duration": 376,
    "start_time": "2023-02-07T12:16:11.945Z"
   },
   {
    "duration": 12,
    "start_time": "2023-02-07T12:16:12.323Z"
   }
  ],
  "kernelspec": {
   "display_name": "Python 3 (ipykernel)",
   "language": "python",
   "name": "python3"
  },
  "language_info": {
   "codemirror_mode": {
    "name": "ipython",
    "version": 3
   },
   "file_extension": ".py",
   "mimetype": "text/x-python",
   "name": "python",
   "nbconvert_exporter": "python",
   "pygments_lexer": "ipython3",
   "version": "3.9.5"
  },
  "toc": {
   "base_numbering": 1,
   "nav_menu": {},
   "number_sections": true,
   "sideBar": true,
   "skip_h1_title": true,
   "title_cell": "Table of Contents",
   "title_sidebar": "Contents",
   "toc_cell": false,
   "toc_position": {
    "height": "calc(100% - 180px)",
    "left": "10px",
    "top": "150px",
    "width": "330.992645px"
   },
   "toc_section_display": true,
   "toc_window_display": true
  }
 },
 "nbformat": 4,
 "nbformat_minor": 2
}
